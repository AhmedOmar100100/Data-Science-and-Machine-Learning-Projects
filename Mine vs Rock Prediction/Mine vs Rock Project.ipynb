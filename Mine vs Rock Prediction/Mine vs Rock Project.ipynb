{
 "cells": [
  {
   "cell_type": "markdown",
   "id": "af764ce5",
   "metadata": {},
   "source": [
    "# Table of Contents\n",
    "<a id=\"toc\"></a>\n",
    "- [1. Project Description](#1)\n",
    "- [2. Import Necssaries Libraries](#2)\n",
    "- [3. Data Analysis](#3)\n",
    "    - [3.1 Shape of the data](#3.1)\n",
    "    - [3.2 Visualization](#3.2)\n",
    "- [4. Feature Engineering](#4)\n",
    "- [5. Assigning Feature and target variables](#5)\n",
    "- [6. Feature Scaling](#6)\n",
    "- [7. Spliting the data into Training and Testing Data](#7)\n",
    "- [8. Modeling](#8)\n",
    "    - [8.1 tpot autoML](#8.1)\n",
    "    - [8.2 Accuracy of the tpot model](#8.2)\n",
    "    - [8.3 TPOT to export the corresponding Python code for the optimized pipeline to a text file](#8.3)\n",
    "- [9. Report](#9)\n",
    "    - [9.1 Classification Report](#9.1)\n",
    "    - [9.2 Confusion Matrix](#9.2)"
   ]
  },
  {
   "cell_type": "markdown",
   "id": "6a3098ed",
   "metadata": {},
   "source": [
    "<a id='1'></a>\n",
    "# Project Describtion\n",
    "\n",
    "consider that is the submarine so there is a war going on between 2 countries, submarine of a country is going in underwater to another country and the enemy country have planted some mines in the ocean (mines are the explosives that explodes when some object comes in contant with it, so there can be also rocks in the water so the submarine needs to predict whether it is crossing a mine or a rock, so our job is to make a system that can predict whether the object beneath the submarine is a mine or a rock, submarine sends a Sonar sends sound signals and reviews switchbacks so this signals is processed to detect whether the object is a mine or rock"
   ]
  },
  {
   "cell_type": "markdown",
   "id": "21ed4de8",
   "metadata": {},
   "source": [
    "<a href=\"#toc\" role=\"button\" aria-pressed=\"true\" >⬆️Back to Table of Contents ⬆️</a>"
   ]
  },
  {
   "cell_type": "markdown",
   "id": "1257fa81",
   "metadata": {},
   "source": [
    "<a id='2'></a>\n",
    "# Import Necssaries Libraries"
   ]
  },
  {
   "cell_type": "code",
   "execution_count": 7,
   "id": "3f679e75",
   "metadata": {
    "ExecuteTime": {
     "end_time": "2021-12-15T13:40:32.239539Z",
     "start_time": "2021-12-15T13:40:32.222334Z"
    }
   },
   "outputs": [],
   "source": [
    "import numpy as np\n",
    "import pandas as pd\n",
    "from matplotlib import pyplot as plt\n",
    "%matplotlib inline\n",
    "import seaborn as sns\n",
    "\n",
    "from sklearn.model_selection import train_test_split\n",
    "from sklearn.preprocessing import StandardScaler\n",
    "from sklearn.metrics import make_scorer, confusion_matrix, classification_report\n",
    "from tpot import TPOTClassifier"
   ]
  },
  {
   "cell_type": "code",
   "execution_count": null,
   "id": "483b0c8c",
   "metadata": {
    "ExecuteTime": {
     "end_time": "2021-12-15T14:34:53.573769Z",
     "start_time": "2021-12-15T14:17:29.140Z"
    }
   },
   "outputs": [],
   "source": [
    "<a href=\"#toc\" role=\"button\" aria-pressed=\"true\" >⬆️Back to Table of Contents ⬆️</a>"
   ]
  },
  {
   "cell_type": "markdown",
   "id": "0343b1ab",
   "metadata": {},
   "source": [
    "<a id='3'></a>\n",
    "# Data Analysis"
   ]
  },
  {
   "cell_type": "code",
   "execution_count": 8,
   "id": "13a3e916",
   "metadata": {
    "ExecuteTime": {
     "end_time": "2021-12-15T13:40:32.975899Z",
     "start_time": "2021-12-15T13:40:32.906203Z"
    }
   },
   "outputs": [
    {
     "data": {
      "text/html": [
       "<div>\n",
       "<style scoped>\n",
       "    .dataframe tbody tr th:only-of-type {\n",
       "        vertical-align: middle;\n",
       "    }\n",
       "\n",
       "    .dataframe tbody tr th {\n",
       "        vertical-align: top;\n",
       "    }\n",
       "\n",
       "    .dataframe thead th {\n",
       "        text-align: right;\n",
       "    }\n",
       "</style>\n",
       "<table border=\"1\" class=\"dataframe\">\n",
       "  <thead>\n",
       "    <tr style=\"text-align: right;\">\n",
       "      <th></th>\n",
       "      <th>0</th>\n",
       "      <th>1</th>\n",
       "      <th>2</th>\n",
       "      <th>3</th>\n",
       "      <th>4</th>\n",
       "      <th>5</th>\n",
       "      <th>6</th>\n",
       "      <th>7</th>\n",
       "      <th>8</th>\n",
       "      <th>9</th>\n",
       "      <th>...</th>\n",
       "      <th>51</th>\n",
       "      <th>52</th>\n",
       "      <th>53</th>\n",
       "      <th>54</th>\n",
       "      <th>55</th>\n",
       "      <th>56</th>\n",
       "      <th>57</th>\n",
       "      <th>58</th>\n",
       "      <th>59</th>\n",
       "      <th>60</th>\n",
       "    </tr>\n",
       "  </thead>\n",
       "  <tbody>\n",
       "    <tr>\n",
       "      <th>0</th>\n",
       "      <td>0.0200</td>\n",
       "      <td>0.0371</td>\n",
       "      <td>0.0428</td>\n",
       "      <td>0.0207</td>\n",
       "      <td>0.0954</td>\n",
       "      <td>0.0986</td>\n",
       "      <td>0.1539</td>\n",
       "      <td>0.1601</td>\n",
       "      <td>0.3109</td>\n",
       "      <td>0.2111</td>\n",
       "      <td>...</td>\n",
       "      <td>0.0027</td>\n",
       "      <td>0.0065</td>\n",
       "      <td>0.0159</td>\n",
       "      <td>0.0072</td>\n",
       "      <td>0.0167</td>\n",
       "      <td>0.0180</td>\n",
       "      <td>0.0084</td>\n",
       "      <td>0.0090</td>\n",
       "      <td>0.0032</td>\n",
       "      <td>R</td>\n",
       "    </tr>\n",
       "    <tr>\n",
       "      <th>1</th>\n",
       "      <td>0.0453</td>\n",
       "      <td>0.0523</td>\n",
       "      <td>0.0843</td>\n",
       "      <td>0.0689</td>\n",
       "      <td>0.1183</td>\n",
       "      <td>0.2583</td>\n",
       "      <td>0.2156</td>\n",
       "      <td>0.3481</td>\n",
       "      <td>0.3337</td>\n",
       "      <td>0.2872</td>\n",
       "      <td>...</td>\n",
       "      <td>0.0084</td>\n",
       "      <td>0.0089</td>\n",
       "      <td>0.0048</td>\n",
       "      <td>0.0094</td>\n",
       "      <td>0.0191</td>\n",
       "      <td>0.0140</td>\n",
       "      <td>0.0049</td>\n",
       "      <td>0.0052</td>\n",
       "      <td>0.0044</td>\n",
       "      <td>R</td>\n",
       "    </tr>\n",
       "    <tr>\n",
       "      <th>2</th>\n",
       "      <td>0.0262</td>\n",
       "      <td>0.0582</td>\n",
       "      <td>0.1099</td>\n",
       "      <td>0.1083</td>\n",
       "      <td>0.0974</td>\n",
       "      <td>0.2280</td>\n",
       "      <td>0.2431</td>\n",
       "      <td>0.3771</td>\n",
       "      <td>0.5598</td>\n",
       "      <td>0.6194</td>\n",
       "      <td>...</td>\n",
       "      <td>0.0232</td>\n",
       "      <td>0.0166</td>\n",
       "      <td>0.0095</td>\n",
       "      <td>0.0180</td>\n",
       "      <td>0.0244</td>\n",
       "      <td>0.0316</td>\n",
       "      <td>0.0164</td>\n",
       "      <td>0.0095</td>\n",
       "      <td>0.0078</td>\n",
       "      <td>R</td>\n",
       "    </tr>\n",
       "    <tr>\n",
       "      <th>3</th>\n",
       "      <td>0.0100</td>\n",
       "      <td>0.0171</td>\n",
       "      <td>0.0623</td>\n",
       "      <td>0.0205</td>\n",
       "      <td>0.0205</td>\n",
       "      <td>0.0368</td>\n",
       "      <td>0.1098</td>\n",
       "      <td>0.1276</td>\n",
       "      <td>0.0598</td>\n",
       "      <td>0.1264</td>\n",
       "      <td>...</td>\n",
       "      <td>0.0121</td>\n",
       "      <td>0.0036</td>\n",
       "      <td>0.0150</td>\n",
       "      <td>0.0085</td>\n",
       "      <td>0.0073</td>\n",
       "      <td>0.0050</td>\n",
       "      <td>0.0044</td>\n",
       "      <td>0.0040</td>\n",
       "      <td>0.0117</td>\n",
       "      <td>R</td>\n",
       "    </tr>\n",
       "    <tr>\n",
       "      <th>4</th>\n",
       "      <td>0.0762</td>\n",
       "      <td>0.0666</td>\n",
       "      <td>0.0481</td>\n",
       "      <td>0.0394</td>\n",
       "      <td>0.0590</td>\n",
       "      <td>0.0649</td>\n",
       "      <td>0.1209</td>\n",
       "      <td>0.2467</td>\n",
       "      <td>0.3564</td>\n",
       "      <td>0.4459</td>\n",
       "      <td>...</td>\n",
       "      <td>0.0031</td>\n",
       "      <td>0.0054</td>\n",
       "      <td>0.0105</td>\n",
       "      <td>0.0110</td>\n",
       "      <td>0.0015</td>\n",
       "      <td>0.0072</td>\n",
       "      <td>0.0048</td>\n",
       "      <td>0.0107</td>\n",
       "      <td>0.0094</td>\n",
       "      <td>R</td>\n",
       "    </tr>\n",
       "  </tbody>\n",
       "</table>\n",
       "<p>5 rows × 61 columns</p>\n",
       "</div>"
      ],
      "text/plain": [
       "       0       1       2       3       4       5       6       7       8   \\\n",
       "0  0.0200  0.0371  0.0428  0.0207  0.0954  0.0986  0.1539  0.1601  0.3109   \n",
       "1  0.0453  0.0523  0.0843  0.0689  0.1183  0.2583  0.2156  0.3481  0.3337   \n",
       "2  0.0262  0.0582  0.1099  0.1083  0.0974  0.2280  0.2431  0.3771  0.5598   \n",
       "3  0.0100  0.0171  0.0623  0.0205  0.0205  0.0368  0.1098  0.1276  0.0598   \n",
       "4  0.0762  0.0666  0.0481  0.0394  0.0590  0.0649  0.1209  0.2467  0.3564   \n",
       "\n",
       "       9   ...      51      52      53      54      55      56      57  \\\n",
       "0  0.2111  ...  0.0027  0.0065  0.0159  0.0072  0.0167  0.0180  0.0084   \n",
       "1  0.2872  ...  0.0084  0.0089  0.0048  0.0094  0.0191  0.0140  0.0049   \n",
       "2  0.6194  ...  0.0232  0.0166  0.0095  0.0180  0.0244  0.0316  0.0164   \n",
       "3  0.1264  ...  0.0121  0.0036  0.0150  0.0085  0.0073  0.0050  0.0044   \n",
       "4  0.4459  ...  0.0031  0.0054  0.0105  0.0110  0.0015  0.0072  0.0048   \n",
       "\n",
       "       58      59  60  \n",
       "0  0.0090  0.0032   R  \n",
       "1  0.0052  0.0044   R  \n",
       "2  0.0095  0.0078   R  \n",
       "3  0.0040  0.0117   R  \n",
       "4  0.0107  0.0094   R  \n",
       "\n",
       "[5 rows x 61 columns]"
      ]
     },
     "execution_count": 8,
     "metadata": {},
     "output_type": "execute_result"
    }
   ],
   "source": [
    "df = pd.read_csv('Copy of sonar data.csv', header=None)\n",
    "df.head()"
   ]
  },
  {
   "cell_type": "markdown",
   "id": "3173cdf1",
   "metadata": {},
   "source": [
    "<a id='3.1'></a>\n",
    "***Shape of the data***"
   ]
  },
  {
   "cell_type": "code",
   "execution_count": 9,
   "id": "4081f2ee",
   "metadata": {
    "ExecuteTime": {
     "end_time": "2021-12-15T13:40:33.691606Z",
     "start_time": "2021-12-15T13:40:33.678305Z"
    }
   },
   "outputs": [
    {
     "data": {
      "text/plain": [
       "(208, 61)"
      ]
     },
     "execution_count": 9,
     "metadata": {},
     "output_type": "execute_result"
    }
   ],
   "source": [
    "df.shape #Diminsions of the data (208 rows and 61 columns)"
   ]
  },
  {
   "cell_type": "code",
   "execution_count": 10,
   "id": "7b1808d4",
   "metadata": {
    "ExecuteTime": {
     "end_time": "2021-12-15T13:40:34.154340Z",
     "start_time": "2021-12-15T13:40:34.105096Z"
    }
   },
   "outputs": [
    {
     "data": {
      "text/html": [
       "<div>\n",
       "<style scoped>\n",
       "    .dataframe tbody tr th:only-of-type {\n",
       "        vertical-align: middle;\n",
       "    }\n",
       "\n",
       "    .dataframe tbody tr th {\n",
       "        vertical-align: top;\n",
       "    }\n",
       "\n",
       "    .dataframe thead th {\n",
       "        text-align: right;\n",
       "    }\n",
       "</style>\n",
       "<table border=\"1\" class=\"dataframe\">\n",
       "  <thead>\n",
       "    <tr style=\"text-align: right;\">\n",
       "      <th></th>\n",
       "      <th>0</th>\n",
       "      <th>1</th>\n",
       "      <th>2</th>\n",
       "      <th>3</th>\n",
       "      <th>4</th>\n",
       "      <th>5</th>\n",
       "      <th>6</th>\n",
       "      <th>7</th>\n",
       "      <th>8</th>\n",
       "      <th>9</th>\n",
       "      <th>...</th>\n",
       "      <th>51</th>\n",
       "      <th>52</th>\n",
       "      <th>53</th>\n",
       "      <th>54</th>\n",
       "      <th>55</th>\n",
       "      <th>56</th>\n",
       "      <th>57</th>\n",
       "      <th>58</th>\n",
       "      <th>59</th>\n",
       "      <th>60</th>\n",
       "    </tr>\n",
       "  </thead>\n",
       "  <tbody>\n",
       "    <tr>\n",
       "      <th>203</th>\n",
       "      <td>0.0187</td>\n",
       "      <td>0.0346</td>\n",
       "      <td>0.0168</td>\n",
       "      <td>0.0177</td>\n",
       "      <td>0.0393</td>\n",
       "      <td>0.1630</td>\n",
       "      <td>0.2028</td>\n",
       "      <td>0.1694</td>\n",
       "      <td>0.2328</td>\n",
       "      <td>0.2684</td>\n",
       "      <td>...</td>\n",
       "      <td>0.0116</td>\n",
       "      <td>0.0098</td>\n",
       "      <td>0.0199</td>\n",
       "      <td>0.0033</td>\n",
       "      <td>0.0101</td>\n",
       "      <td>0.0065</td>\n",
       "      <td>0.0115</td>\n",
       "      <td>0.0193</td>\n",
       "      <td>0.0157</td>\n",
       "      <td>M</td>\n",
       "    </tr>\n",
       "    <tr>\n",
       "      <th>204</th>\n",
       "      <td>0.0323</td>\n",
       "      <td>0.0101</td>\n",
       "      <td>0.0298</td>\n",
       "      <td>0.0564</td>\n",
       "      <td>0.0760</td>\n",
       "      <td>0.0958</td>\n",
       "      <td>0.0990</td>\n",
       "      <td>0.1018</td>\n",
       "      <td>0.1030</td>\n",
       "      <td>0.2154</td>\n",
       "      <td>...</td>\n",
       "      <td>0.0061</td>\n",
       "      <td>0.0093</td>\n",
       "      <td>0.0135</td>\n",
       "      <td>0.0063</td>\n",
       "      <td>0.0063</td>\n",
       "      <td>0.0034</td>\n",
       "      <td>0.0032</td>\n",
       "      <td>0.0062</td>\n",
       "      <td>0.0067</td>\n",
       "      <td>M</td>\n",
       "    </tr>\n",
       "    <tr>\n",
       "      <th>205</th>\n",
       "      <td>0.0522</td>\n",
       "      <td>0.0437</td>\n",
       "      <td>0.0180</td>\n",
       "      <td>0.0292</td>\n",
       "      <td>0.0351</td>\n",
       "      <td>0.1171</td>\n",
       "      <td>0.1257</td>\n",
       "      <td>0.1178</td>\n",
       "      <td>0.1258</td>\n",
       "      <td>0.2529</td>\n",
       "      <td>...</td>\n",
       "      <td>0.0160</td>\n",
       "      <td>0.0029</td>\n",
       "      <td>0.0051</td>\n",
       "      <td>0.0062</td>\n",
       "      <td>0.0089</td>\n",
       "      <td>0.0140</td>\n",
       "      <td>0.0138</td>\n",
       "      <td>0.0077</td>\n",
       "      <td>0.0031</td>\n",
       "      <td>M</td>\n",
       "    </tr>\n",
       "    <tr>\n",
       "      <th>206</th>\n",
       "      <td>0.0303</td>\n",
       "      <td>0.0353</td>\n",
       "      <td>0.0490</td>\n",
       "      <td>0.0608</td>\n",
       "      <td>0.0167</td>\n",
       "      <td>0.1354</td>\n",
       "      <td>0.1465</td>\n",
       "      <td>0.1123</td>\n",
       "      <td>0.1945</td>\n",
       "      <td>0.2354</td>\n",
       "      <td>...</td>\n",
       "      <td>0.0086</td>\n",
       "      <td>0.0046</td>\n",
       "      <td>0.0126</td>\n",
       "      <td>0.0036</td>\n",
       "      <td>0.0035</td>\n",
       "      <td>0.0034</td>\n",
       "      <td>0.0079</td>\n",
       "      <td>0.0036</td>\n",
       "      <td>0.0048</td>\n",
       "      <td>M</td>\n",
       "    </tr>\n",
       "    <tr>\n",
       "      <th>207</th>\n",
       "      <td>0.0260</td>\n",
       "      <td>0.0363</td>\n",
       "      <td>0.0136</td>\n",
       "      <td>0.0272</td>\n",
       "      <td>0.0214</td>\n",
       "      <td>0.0338</td>\n",
       "      <td>0.0655</td>\n",
       "      <td>0.1400</td>\n",
       "      <td>0.1843</td>\n",
       "      <td>0.2354</td>\n",
       "      <td>...</td>\n",
       "      <td>0.0146</td>\n",
       "      <td>0.0129</td>\n",
       "      <td>0.0047</td>\n",
       "      <td>0.0039</td>\n",
       "      <td>0.0061</td>\n",
       "      <td>0.0040</td>\n",
       "      <td>0.0036</td>\n",
       "      <td>0.0061</td>\n",
       "      <td>0.0115</td>\n",
       "      <td>M</td>\n",
       "    </tr>\n",
       "  </tbody>\n",
       "</table>\n",
       "<p>5 rows × 61 columns</p>\n",
       "</div>"
      ],
      "text/plain": [
       "         0       1       2       3       4       5       6       7       8   \\\n",
       "203  0.0187  0.0346  0.0168  0.0177  0.0393  0.1630  0.2028  0.1694  0.2328   \n",
       "204  0.0323  0.0101  0.0298  0.0564  0.0760  0.0958  0.0990  0.1018  0.1030   \n",
       "205  0.0522  0.0437  0.0180  0.0292  0.0351  0.1171  0.1257  0.1178  0.1258   \n",
       "206  0.0303  0.0353  0.0490  0.0608  0.0167  0.1354  0.1465  0.1123  0.1945   \n",
       "207  0.0260  0.0363  0.0136  0.0272  0.0214  0.0338  0.0655  0.1400  0.1843   \n",
       "\n",
       "         9   ...      51      52      53      54      55      56      57  \\\n",
       "203  0.2684  ...  0.0116  0.0098  0.0199  0.0033  0.0101  0.0065  0.0115   \n",
       "204  0.2154  ...  0.0061  0.0093  0.0135  0.0063  0.0063  0.0034  0.0032   \n",
       "205  0.2529  ...  0.0160  0.0029  0.0051  0.0062  0.0089  0.0140  0.0138   \n",
       "206  0.2354  ...  0.0086  0.0046  0.0126  0.0036  0.0035  0.0034  0.0079   \n",
       "207  0.2354  ...  0.0146  0.0129  0.0047  0.0039  0.0061  0.0040  0.0036   \n",
       "\n",
       "         58      59  60  \n",
       "203  0.0193  0.0157   M  \n",
       "204  0.0062  0.0067   M  \n",
       "205  0.0077  0.0031   M  \n",
       "206  0.0036  0.0048   M  \n",
       "207  0.0061  0.0115   M  \n",
       "\n",
       "[5 rows x 61 columns]"
      ]
     },
     "execution_count": 10,
     "metadata": {},
     "output_type": "execute_result"
    }
   ],
   "source": [
    "df.tail()"
   ]
  },
  {
   "cell_type": "code",
   "execution_count": 11,
   "id": "8fce944f",
   "metadata": {
    "ExecuteTime": {
     "end_time": "2021-12-15T13:40:34.617844Z",
     "start_time": "2021-12-15T13:40:34.579926Z"
    }
   },
   "outputs": [
    {
     "name": "stdout",
     "output_type": "stream",
     "text": [
      "<class 'pandas.core.frame.DataFrame'>\n",
      "RangeIndex: 208 entries, 0 to 207\n",
      "Data columns (total 61 columns):\n",
      " #   Column  Non-Null Count  Dtype  \n",
      "---  ------  --------------  -----  \n",
      " 0   0       208 non-null    float64\n",
      " 1   1       208 non-null    float64\n",
      " 2   2       208 non-null    float64\n",
      " 3   3       208 non-null    float64\n",
      " 4   4       208 non-null    float64\n",
      " 5   5       208 non-null    float64\n",
      " 6   6       208 non-null    float64\n",
      " 7   7       208 non-null    float64\n",
      " 8   8       208 non-null    float64\n",
      " 9   9       208 non-null    float64\n",
      " 10  10      208 non-null    float64\n",
      " 11  11      208 non-null    float64\n",
      " 12  12      208 non-null    float64\n",
      " 13  13      208 non-null    float64\n",
      " 14  14      208 non-null    float64\n",
      " 15  15      208 non-null    float64\n",
      " 16  16      208 non-null    float64\n",
      " 17  17      208 non-null    float64\n",
      " 18  18      208 non-null    float64\n",
      " 19  19      208 non-null    float64\n",
      " 20  20      208 non-null    float64\n",
      " 21  21      208 non-null    float64\n",
      " 22  22      208 non-null    float64\n",
      " 23  23      208 non-null    float64\n",
      " 24  24      208 non-null    float64\n",
      " 25  25      208 non-null    float64\n",
      " 26  26      208 non-null    float64\n",
      " 27  27      208 non-null    float64\n",
      " 28  28      208 non-null    float64\n",
      " 29  29      208 non-null    float64\n",
      " 30  30      208 non-null    float64\n",
      " 31  31      208 non-null    float64\n",
      " 32  32      208 non-null    float64\n",
      " 33  33      208 non-null    float64\n",
      " 34  34      208 non-null    float64\n",
      " 35  35      208 non-null    float64\n",
      " 36  36      208 non-null    float64\n",
      " 37  37      208 non-null    float64\n",
      " 38  38      208 non-null    float64\n",
      " 39  39      208 non-null    float64\n",
      " 40  40      208 non-null    float64\n",
      " 41  41      208 non-null    float64\n",
      " 42  42      208 non-null    float64\n",
      " 43  43      208 non-null    float64\n",
      " 44  44      208 non-null    float64\n",
      " 45  45      208 non-null    float64\n",
      " 46  46      208 non-null    float64\n",
      " 47  47      208 non-null    float64\n",
      " 48  48      208 non-null    float64\n",
      " 49  49      208 non-null    float64\n",
      " 50  50      208 non-null    float64\n",
      " 51  51      208 non-null    float64\n",
      " 52  52      208 non-null    float64\n",
      " 53  53      208 non-null    float64\n",
      " 54  54      208 non-null    float64\n",
      " 55  55      208 non-null    float64\n",
      " 56  56      208 non-null    float64\n",
      " 57  57      208 non-null    float64\n",
      " 58  58      208 non-null    float64\n",
      " 59  59      208 non-null    float64\n",
      " 60  60      208 non-null    object \n",
      "dtypes: float64(60), object(1)\n",
      "memory usage: 99.2+ KB\n"
     ]
    }
   ],
   "source": [
    "df.info()"
   ]
  },
  {
   "cell_type": "code",
   "execution_count": 12,
   "id": "bb2ac114",
   "metadata": {
    "ExecuteTime": {
     "end_time": "2021-12-15T13:40:35.484428Z",
     "start_time": "2021-12-15T13:40:35.170071Z"
    }
   },
   "outputs": [
    {
     "data": {
      "text/html": [
       "<div>\n",
       "<style scoped>\n",
       "    .dataframe tbody tr th:only-of-type {\n",
       "        vertical-align: middle;\n",
       "    }\n",
       "\n",
       "    .dataframe tbody tr th {\n",
       "        vertical-align: top;\n",
       "    }\n",
       "\n",
       "    .dataframe thead th {\n",
       "        text-align: right;\n",
       "    }\n",
       "</style>\n",
       "<table border=\"1\" class=\"dataframe\">\n",
       "  <thead>\n",
       "    <tr style=\"text-align: right;\">\n",
       "      <th></th>\n",
       "      <th>0</th>\n",
       "      <th>1</th>\n",
       "      <th>2</th>\n",
       "      <th>3</th>\n",
       "      <th>4</th>\n",
       "      <th>5</th>\n",
       "      <th>6</th>\n",
       "      <th>7</th>\n",
       "      <th>8</th>\n",
       "      <th>9</th>\n",
       "      <th>...</th>\n",
       "      <th>50</th>\n",
       "      <th>51</th>\n",
       "      <th>52</th>\n",
       "      <th>53</th>\n",
       "      <th>54</th>\n",
       "      <th>55</th>\n",
       "      <th>56</th>\n",
       "      <th>57</th>\n",
       "      <th>58</th>\n",
       "      <th>59</th>\n",
       "    </tr>\n",
       "  </thead>\n",
       "  <tbody>\n",
       "    <tr>\n",
       "      <th>count</th>\n",
       "      <td>208.000000</td>\n",
       "      <td>208.000000</td>\n",
       "      <td>208.000000</td>\n",
       "      <td>208.000000</td>\n",
       "      <td>208.000000</td>\n",
       "      <td>208.000000</td>\n",
       "      <td>208.000000</td>\n",
       "      <td>208.000000</td>\n",
       "      <td>208.000000</td>\n",
       "      <td>208.000000</td>\n",
       "      <td>...</td>\n",
       "      <td>208.000000</td>\n",
       "      <td>208.000000</td>\n",
       "      <td>208.000000</td>\n",
       "      <td>208.000000</td>\n",
       "      <td>208.000000</td>\n",
       "      <td>208.000000</td>\n",
       "      <td>208.000000</td>\n",
       "      <td>208.000000</td>\n",
       "      <td>208.000000</td>\n",
       "      <td>208.000000</td>\n",
       "    </tr>\n",
       "    <tr>\n",
       "      <th>mean</th>\n",
       "      <td>0.029164</td>\n",
       "      <td>0.038437</td>\n",
       "      <td>0.043832</td>\n",
       "      <td>0.053892</td>\n",
       "      <td>0.075202</td>\n",
       "      <td>0.104570</td>\n",
       "      <td>0.121747</td>\n",
       "      <td>0.134799</td>\n",
       "      <td>0.178003</td>\n",
       "      <td>0.208259</td>\n",
       "      <td>...</td>\n",
       "      <td>0.016069</td>\n",
       "      <td>0.013420</td>\n",
       "      <td>0.010709</td>\n",
       "      <td>0.010941</td>\n",
       "      <td>0.009290</td>\n",
       "      <td>0.008222</td>\n",
       "      <td>0.007820</td>\n",
       "      <td>0.007949</td>\n",
       "      <td>0.007941</td>\n",
       "      <td>0.006507</td>\n",
       "    </tr>\n",
       "    <tr>\n",
       "      <th>std</th>\n",
       "      <td>0.022991</td>\n",
       "      <td>0.032960</td>\n",
       "      <td>0.038428</td>\n",
       "      <td>0.046528</td>\n",
       "      <td>0.055552</td>\n",
       "      <td>0.059105</td>\n",
       "      <td>0.061788</td>\n",
       "      <td>0.085152</td>\n",
       "      <td>0.118387</td>\n",
       "      <td>0.134416</td>\n",
       "      <td>...</td>\n",
       "      <td>0.012008</td>\n",
       "      <td>0.009634</td>\n",
       "      <td>0.007060</td>\n",
       "      <td>0.007301</td>\n",
       "      <td>0.007088</td>\n",
       "      <td>0.005736</td>\n",
       "      <td>0.005785</td>\n",
       "      <td>0.006470</td>\n",
       "      <td>0.006181</td>\n",
       "      <td>0.005031</td>\n",
       "    </tr>\n",
       "    <tr>\n",
       "      <th>min</th>\n",
       "      <td>0.001500</td>\n",
       "      <td>0.000600</td>\n",
       "      <td>0.001500</td>\n",
       "      <td>0.005800</td>\n",
       "      <td>0.006700</td>\n",
       "      <td>0.010200</td>\n",
       "      <td>0.003300</td>\n",
       "      <td>0.005500</td>\n",
       "      <td>0.007500</td>\n",
       "      <td>0.011300</td>\n",
       "      <td>...</td>\n",
       "      <td>0.000000</td>\n",
       "      <td>0.000800</td>\n",
       "      <td>0.000500</td>\n",
       "      <td>0.001000</td>\n",
       "      <td>0.000600</td>\n",
       "      <td>0.000400</td>\n",
       "      <td>0.000300</td>\n",
       "      <td>0.000300</td>\n",
       "      <td>0.000100</td>\n",
       "      <td>0.000600</td>\n",
       "    </tr>\n",
       "    <tr>\n",
       "      <th>25%</th>\n",
       "      <td>0.013350</td>\n",
       "      <td>0.016450</td>\n",
       "      <td>0.018950</td>\n",
       "      <td>0.024375</td>\n",
       "      <td>0.038050</td>\n",
       "      <td>0.067025</td>\n",
       "      <td>0.080900</td>\n",
       "      <td>0.080425</td>\n",
       "      <td>0.097025</td>\n",
       "      <td>0.111275</td>\n",
       "      <td>...</td>\n",
       "      <td>0.008425</td>\n",
       "      <td>0.007275</td>\n",
       "      <td>0.005075</td>\n",
       "      <td>0.005375</td>\n",
       "      <td>0.004150</td>\n",
       "      <td>0.004400</td>\n",
       "      <td>0.003700</td>\n",
       "      <td>0.003600</td>\n",
       "      <td>0.003675</td>\n",
       "      <td>0.003100</td>\n",
       "    </tr>\n",
       "    <tr>\n",
       "      <th>50%</th>\n",
       "      <td>0.022800</td>\n",
       "      <td>0.030800</td>\n",
       "      <td>0.034300</td>\n",
       "      <td>0.044050</td>\n",
       "      <td>0.062500</td>\n",
       "      <td>0.092150</td>\n",
       "      <td>0.106950</td>\n",
       "      <td>0.112100</td>\n",
       "      <td>0.152250</td>\n",
       "      <td>0.182400</td>\n",
       "      <td>...</td>\n",
       "      <td>0.013900</td>\n",
       "      <td>0.011400</td>\n",
       "      <td>0.009550</td>\n",
       "      <td>0.009300</td>\n",
       "      <td>0.007500</td>\n",
       "      <td>0.006850</td>\n",
       "      <td>0.005950</td>\n",
       "      <td>0.005800</td>\n",
       "      <td>0.006400</td>\n",
       "      <td>0.005300</td>\n",
       "    </tr>\n",
       "    <tr>\n",
       "      <th>75%</th>\n",
       "      <td>0.035550</td>\n",
       "      <td>0.047950</td>\n",
       "      <td>0.057950</td>\n",
       "      <td>0.064500</td>\n",
       "      <td>0.100275</td>\n",
       "      <td>0.134125</td>\n",
       "      <td>0.154000</td>\n",
       "      <td>0.169600</td>\n",
       "      <td>0.233425</td>\n",
       "      <td>0.268700</td>\n",
       "      <td>...</td>\n",
       "      <td>0.020825</td>\n",
       "      <td>0.016725</td>\n",
       "      <td>0.014900</td>\n",
       "      <td>0.014500</td>\n",
       "      <td>0.012100</td>\n",
       "      <td>0.010575</td>\n",
       "      <td>0.010425</td>\n",
       "      <td>0.010350</td>\n",
       "      <td>0.010325</td>\n",
       "      <td>0.008525</td>\n",
       "    </tr>\n",
       "    <tr>\n",
       "      <th>max</th>\n",
       "      <td>0.137100</td>\n",
       "      <td>0.233900</td>\n",
       "      <td>0.305900</td>\n",
       "      <td>0.426400</td>\n",
       "      <td>0.401000</td>\n",
       "      <td>0.382300</td>\n",
       "      <td>0.372900</td>\n",
       "      <td>0.459000</td>\n",
       "      <td>0.682800</td>\n",
       "      <td>0.710600</td>\n",
       "      <td>...</td>\n",
       "      <td>0.100400</td>\n",
       "      <td>0.070900</td>\n",
       "      <td>0.039000</td>\n",
       "      <td>0.035200</td>\n",
       "      <td>0.044700</td>\n",
       "      <td>0.039400</td>\n",
       "      <td>0.035500</td>\n",
       "      <td>0.044000</td>\n",
       "      <td>0.036400</td>\n",
       "      <td>0.043900</td>\n",
       "    </tr>\n",
       "  </tbody>\n",
       "</table>\n",
       "<p>8 rows × 60 columns</p>\n",
       "</div>"
      ],
      "text/plain": [
       "               0           1           2           3           4           5   \\\n",
       "count  208.000000  208.000000  208.000000  208.000000  208.000000  208.000000   \n",
       "mean     0.029164    0.038437    0.043832    0.053892    0.075202    0.104570   \n",
       "std      0.022991    0.032960    0.038428    0.046528    0.055552    0.059105   \n",
       "min      0.001500    0.000600    0.001500    0.005800    0.006700    0.010200   \n",
       "25%      0.013350    0.016450    0.018950    0.024375    0.038050    0.067025   \n",
       "50%      0.022800    0.030800    0.034300    0.044050    0.062500    0.092150   \n",
       "75%      0.035550    0.047950    0.057950    0.064500    0.100275    0.134125   \n",
       "max      0.137100    0.233900    0.305900    0.426400    0.401000    0.382300   \n",
       "\n",
       "               6           7           8           9   ...          50  \\\n",
       "count  208.000000  208.000000  208.000000  208.000000  ...  208.000000   \n",
       "mean     0.121747    0.134799    0.178003    0.208259  ...    0.016069   \n",
       "std      0.061788    0.085152    0.118387    0.134416  ...    0.012008   \n",
       "min      0.003300    0.005500    0.007500    0.011300  ...    0.000000   \n",
       "25%      0.080900    0.080425    0.097025    0.111275  ...    0.008425   \n",
       "50%      0.106950    0.112100    0.152250    0.182400  ...    0.013900   \n",
       "75%      0.154000    0.169600    0.233425    0.268700  ...    0.020825   \n",
       "max      0.372900    0.459000    0.682800    0.710600  ...    0.100400   \n",
       "\n",
       "               51          52          53          54          55          56  \\\n",
       "count  208.000000  208.000000  208.000000  208.000000  208.000000  208.000000   \n",
       "mean     0.013420    0.010709    0.010941    0.009290    0.008222    0.007820   \n",
       "std      0.009634    0.007060    0.007301    0.007088    0.005736    0.005785   \n",
       "min      0.000800    0.000500    0.001000    0.000600    0.000400    0.000300   \n",
       "25%      0.007275    0.005075    0.005375    0.004150    0.004400    0.003700   \n",
       "50%      0.011400    0.009550    0.009300    0.007500    0.006850    0.005950   \n",
       "75%      0.016725    0.014900    0.014500    0.012100    0.010575    0.010425   \n",
       "max      0.070900    0.039000    0.035200    0.044700    0.039400    0.035500   \n",
       "\n",
       "               57          58          59  \n",
       "count  208.000000  208.000000  208.000000  \n",
       "mean     0.007949    0.007941    0.006507  \n",
       "std      0.006470    0.006181    0.005031  \n",
       "min      0.000300    0.000100    0.000600  \n",
       "25%      0.003600    0.003675    0.003100  \n",
       "50%      0.005800    0.006400    0.005300  \n",
       "75%      0.010350    0.010325    0.008525  \n",
       "max      0.044000    0.036400    0.043900  \n",
       "\n",
       "[8 rows x 60 columns]"
      ]
     },
     "execution_count": 12,
     "metadata": {},
     "output_type": "execute_result"
    }
   ],
   "source": [
    "df.describe()"
   ]
  },
  {
   "cell_type": "code",
   "execution_count": 13,
   "id": "456d8eaa",
   "metadata": {
    "ExecuteTime": {
     "end_time": "2021-12-15T13:40:36.246990Z",
     "start_time": "2021-12-15T13:40:36.231427Z"
    }
   },
   "outputs": [],
   "source": [
    "df.rename(columns={60 : 'Target'}, inplace=True)"
   ]
  },
  {
   "cell_type": "code",
   "execution_count": 14,
   "id": "4097c77b",
   "metadata": {
    "ExecuteTime": {
     "end_time": "2021-12-15T13:40:37.919220Z",
     "start_time": "2021-12-15T13:40:37.903214Z"
    }
   },
   "outputs": [
    {
     "data": {
      "text/plain": [
       "M    111\n",
       "R     97\n",
       "Name: Target, dtype: int64"
      ]
     },
     "execution_count": 14,
     "metadata": {},
     "output_type": "execute_result"
    }
   ],
   "source": [
    "df.Target.value_counts() # 111 Mines and 97 Rocks"
   ]
  },
  {
   "cell_type": "markdown",
   "id": "39d52a6b",
   "metadata": {},
   "source": [
    "M -> Mines<br>\n",
    "R -> Rock"
   ]
  },
  {
   "cell_type": "code",
   "execution_count": 15,
   "id": "4d6ce296",
   "metadata": {
    "ExecuteTime": {
     "end_time": "2021-12-15T13:40:38.886227Z",
     "start_time": "2021-12-15T13:40:38.871004Z"
    }
   },
   "outputs": [
    {
     "data": {
      "text/plain": [
       "Index([], dtype='object')"
      ]
     },
     "execution_count": 15,
     "metadata": {},
     "output_type": "execute_result"
    }
   ],
   "source": [
    "df.columns[df.isna().any()] # no null values"
   ]
  },
  {
   "cell_type": "code",
   "execution_count": 16,
   "id": "8964e866",
   "metadata": {
    "ExecuteTime": {
     "end_time": "2021-12-15T13:40:39.565896Z",
     "start_time": "2021-12-15T13:40:39.505679Z"
    }
   },
   "outputs": [
    {
     "data": {
      "text/html": [
       "<div>\n",
       "<style scoped>\n",
       "    .dataframe tbody tr th:only-of-type {\n",
       "        vertical-align: middle;\n",
       "    }\n",
       "\n",
       "    .dataframe tbody tr th {\n",
       "        vertical-align: top;\n",
       "    }\n",
       "\n",
       "    .dataframe thead th {\n",
       "        text-align: right;\n",
       "    }\n",
       "</style>\n",
       "<table border=\"1\" class=\"dataframe\">\n",
       "  <thead>\n",
       "    <tr style=\"text-align: right;\">\n",
       "      <th></th>\n",
       "      <th>0</th>\n",
       "      <th>1</th>\n",
       "      <th>2</th>\n",
       "      <th>3</th>\n",
       "      <th>4</th>\n",
       "      <th>5</th>\n",
       "      <th>6</th>\n",
       "      <th>7</th>\n",
       "      <th>8</th>\n",
       "      <th>9</th>\n",
       "      <th>...</th>\n",
       "      <th>50</th>\n",
       "      <th>51</th>\n",
       "      <th>52</th>\n",
       "      <th>53</th>\n",
       "      <th>54</th>\n",
       "      <th>55</th>\n",
       "      <th>56</th>\n",
       "      <th>57</th>\n",
       "      <th>58</th>\n",
       "      <th>59</th>\n",
       "    </tr>\n",
       "    <tr>\n",
       "      <th>Target</th>\n",
       "      <th></th>\n",
       "      <th></th>\n",
       "      <th></th>\n",
       "      <th></th>\n",
       "      <th></th>\n",
       "      <th></th>\n",
       "      <th></th>\n",
       "      <th></th>\n",
       "      <th></th>\n",
       "      <th></th>\n",
       "      <th></th>\n",
       "      <th></th>\n",
       "      <th></th>\n",
       "      <th></th>\n",
       "      <th></th>\n",
       "      <th></th>\n",
       "      <th></th>\n",
       "      <th></th>\n",
       "      <th></th>\n",
       "      <th></th>\n",
       "      <th></th>\n",
       "    </tr>\n",
       "  </thead>\n",
       "  <tbody>\n",
       "    <tr>\n",
       "      <th>M</th>\n",
       "      <td>0.034989</td>\n",
       "      <td>0.045544</td>\n",
       "      <td>0.050720</td>\n",
       "      <td>0.064768</td>\n",
       "      <td>0.086715</td>\n",
       "      <td>0.111864</td>\n",
       "      <td>0.128359</td>\n",
       "      <td>0.149832</td>\n",
       "      <td>0.213492</td>\n",
       "      <td>0.251022</td>\n",
       "      <td>...</td>\n",
       "      <td>0.019352</td>\n",
       "      <td>0.016014</td>\n",
       "      <td>0.011643</td>\n",
       "      <td>0.012185</td>\n",
       "      <td>0.009923</td>\n",
       "      <td>0.008914</td>\n",
       "      <td>0.007825</td>\n",
       "      <td>0.009060</td>\n",
       "      <td>0.008695</td>\n",
       "      <td>0.006930</td>\n",
       "    </tr>\n",
       "    <tr>\n",
       "      <th>R</th>\n",
       "      <td>0.022498</td>\n",
       "      <td>0.030303</td>\n",
       "      <td>0.035951</td>\n",
       "      <td>0.041447</td>\n",
       "      <td>0.062028</td>\n",
       "      <td>0.096224</td>\n",
       "      <td>0.114180</td>\n",
       "      <td>0.117596</td>\n",
       "      <td>0.137392</td>\n",
       "      <td>0.159325</td>\n",
       "      <td>...</td>\n",
       "      <td>0.012311</td>\n",
       "      <td>0.010453</td>\n",
       "      <td>0.009640</td>\n",
       "      <td>0.009518</td>\n",
       "      <td>0.008567</td>\n",
       "      <td>0.007430</td>\n",
       "      <td>0.007814</td>\n",
       "      <td>0.006677</td>\n",
       "      <td>0.007078</td>\n",
       "      <td>0.006024</td>\n",
       "    </tr>\n",
       "  </tbody>\n",
       "</table>\n",
       "<p>2 rows × 60 columns</p>\n",
       "</div>"
      ],
      "text/plain": [
       "              0         1         2         3         4         5         6   \\\n",
       "Target                                                                         \n",
       "M       0.034989  0.045544  0.050720  0.064768  0.086715  0.111864  0.128359   \n",
       "R       0.022498  0.030303  0.035951  0.041447  0.062028  0.096224  0.114180   \n",
       "\n",
       "              7         8         9   ...        50        51        52  \\\n",
       "Target                                ...                                 \n",
       "M       0.149832  0.213492  0.251022  ...  0.019352  0.016014  0.011643   \n",
       "R       0.117596  0.137392  0.159325  ...  0.012311  0.010453  0.009640   \n",
       "\n",
       "              53        54        55        56        57        58        59  \n",
       "Target                                                                        \n",
       "M       0.012185  0.009923  0.008914  0.007825  0.009060  0.008695  0.006930  \n",
       "R       0.009518  0.008567  0.007430  0.007814  0.006677  0.007078  0.006024  \n",
       "\n",
       "[2 rows x 60 columns]"
      ]
     },
     "execution_count": 16,
     "metadata": {},
     "output_type": "execute_result"
    }
   ],
   "source": [
    "df.groupby('Target').mean()"
   ]
  },
  {
   "cell_type": "markdown",
   "id": "61d70e16",
   "metadata": {},
   "source": [
    "so it looks like that the coordinates of the Mine is always higher than the rock"
   ]
  },
  {
   "cell_type": "markdown",
   "id": "b0ff72f7",
   "metadata": {},
   "source": [
    "<a id='3.2'></a>\n",
    "***Visualization***"
   ]
  },
  {
   "cell_type": "code",
   "execution_count": 17,
   "id": "5e4d4039",
   "metadata": {
    "ExecuteTime": {
     "end_time": "2021-12-15T13:40:42.332217Z",
     "start_time": "2021-12-15T13:40:41.567714Z"
    }
   },
   "outputs": [
    {
     "data": {
      "image/png": "[encoded data removed]",
      "text/plain": [
       "<Figure size 1440x864 with 2 Axes>"
      ]
     },
     "metadata": {
      "needs_background": "light"
     },
     "output_type": "display_data"
    }
   ],
   "source": [
    "plt.figure(figsize=(20,12))\n",
    "\n",
    "plt.subplot(2,2,1)\n",
    "sns.countplot(x='Target', data=df, palette='autumn')\n",
    "\n",
    "plt.subplot(2,2,2)\n",
    "Mine = df.Target[df.Target == 'M'].count()\n",
    "Rock = df.Target[df.Target == 'R'].count()\n",
    "plt.pie([Mine, Rock], labels=['Mine', 'Rock'], explode=[0.01,0.01], autopct='%.2f%%', colors=['yellow', 'lightgreen'])\n",
    "plt.legend()\n",
    "plt.show()"
   ]
  },
  {
   "cell_type": "markdown",
   "id": "75abdd6b",
   "metadata": {},
   "source": [
    "53.37% Mine<br>\n",
    "46.63% Rock"
   ]
  },
  {
   "cell_type": "code",
   "execution_count": 18,
   "id": "bc2e9796",
   "metadata": {
    "ExecuteTime": {
     "end_time": "2021-12-15T13:40:43.264350Z",
     "start_time": "2021-12-15T13:40:43.246905Z"
    }
   },
   "outputs": [
    {
     "data": {
      "text/plain": [
       "0    0\n",
       "1    0\n",
       "2    0\n",
       "3    0\n",
       "4    0\n",
       "Name: Target, dtype: int64"
      ]
     },
     "execution_count": 18,
     "metadata": {},
     "output_type": "execute_result"
    }
   ],
   "source": [
    "df.Target = df.Target.apply(lambda x: 1 if x == 'M' else 0)\n",
    "df.Target.head()"
   ]
  },
  {
   "cell_type": "code",
   "execution_count": 19,
   "id": "6d69ad3b",
   "metadata": {
    "ExecuteTime": {
     "end_time": "2021-12-15T13:40:43.832606Z",
     "start_time": "2021-12-15T13:40:43.821854Z"
    }
   },
   "outputs": [
    {
     "data": {
      "text/plain": [
       "203    1\n",
       "204    1\n",
       "205    1\n",
       "206    1\n",
       "207    1\n",
       "Name: Target, dtype: int64"
      ]
     },
     "execution_count": 19,
     "metadata": {},
     "output_type": "execute_result"
    }
   ],
   "source": [
    "df.Target.tail()"
   ]
  },
  {
   "cell_type": "code",
   "execution_count": 20,
   "id": "2e412482",
   "metadata": {
    "ExecuteTime": {
     "end_time": "2021-12-15T13:40:44.893692Z",
     "start_time": "2021-12-15T13:40:44.517320Z"
    }
   },
   "outputs": [
    {
     "data": {
      "text/html": [
       "<div>\n",
       "<style scoped>\n",
       "    .dataframe tbody tr th:only-of-type {\n",
       "        vertical-align: middle;\n",
       "    }\n",
       "\n",
       "    .dataframe tbody tr th {\n",
       "        vertical-align: top;\n",
       "    }\n",
       "\n",
       "    .dataframe thead th {\n",
       "        text-align: right;\n",
       "    }\n",
       "</style>\n",
       "<table border=\"1\" class=\"dataframe\">\n",
       "  <thead>\n",
       "    <tr style=\"text-align: right;\">\n",
       "      <th></th>\n",
       "      <th>0</th>\n",
       "      <th>1</th>\n",
       "      <th>2</th>\n",
       "      <th>3</th>\n",
       "      <th>4</th>\n",
       "      <th>5</th>\n",
       "      <th>6</th>\n",
       "      <th>7</th>\n",
       "      <th>8</th>\n",
       "      <th>9</th>\n",
       "      <th>...</th>\n",
       "      <th>51</th>\n",
       "      <th>52</th>\n",
       "      <th>53</th>\n",
       "      <th>54</th>\n",
       "      <th>55</th>\n",
       "      <th>56</th>\n",
       "      <th>57</th>\n",
       "      <th>58</th>\n",
       "      <th>59</th>\n",
       "      <th>Target</th>\n",
       "    </tr>\n",
       "  </thead>\n",
       "  <tbody>\n",
       "    <tr>\n",
       "      <th>count</th>\n",
       "      <td>208.000000</td>\n",
       "      <td>208.000000</td>\n",
       "      <td>208.000000</td>\n",
       "      <td>208.000000</td>\n",
       "      <td>208.000000</td>\n",
       "      <td>208.000000</td>\n",
       "      <td>208.000000</td>\n",
       "      <td>208.000000</td>\n",
       "      <td>208.000000</td>\n",
       "      <td>208.000000</td>\n",
       "      <td>...</td>\n",
       "      <td>208.000000</td>\n",
       "      <td>208.000000</td>\n",
       "      <td>208.000000</td>\n",
       "      <td>208.000000</td>\n",
       "      <td>208.000000</td>\n",
       "      <td>208.000000</td>\n",
       "      <td>208.000000</td>\n",
       "      <td>208.000000</td>\n",
       "      <td>208.000000</td>\n",
       "      <td>208.000000</td>\n",
       "    </tr>\n",
       "    <tr>\n",
       "      <th>mean</th>\n",
       "      <td>0.029164</td>\n",
       "      <td>0.038437</td>\n",
       "      <td>0.043832</td>\n",
       "      <td>0.053892</td>\n",
       "      <td>0.075202</td>\n",
       "      <td>0.104570</td>\n",
       "      <td>0.121747</td>\n",
       "      <td>0.134799</td>\n",
       "      <td>0.178003</td>\n",
       "      <td>0.208259</td>\n",
       "      <td>...</td>\n",
       "      <td>0.013420</td>\n",
       "      <td>0.010709</td>\n",
       "      <td>0.010941</td>\n",
       "      <td>0.009290</td>\n",
       "      <td>0.008222</td>\n",
       "      <td>0.007820</td>\n",
       "      <td>0.007949</td>\n",
       "      <td>0.007941</td>\n",
       "      <td>0.006507</td>\n",
       "      <td>0.533654</td>\n",
       "    </tr>\n",
       "    <tr>\n",
       "      <th>std</th>\n",
       "      <td>0.022991</td>\n",
       "      <td>0.032960</td>\n",
       "      <td>0.038428</td>\n",
       "      <td>0.046528</td>\n",
       "      <td>0.055552</td>\n",
       "      <td>0.059105</td>\n",
       "      <td>0.061788</td>\n",
       "      <td>0.085152</td>\n",
       "      <td>0.118387</td>\n",
       "      <td>0.134416</td>\n",
       "      <td>...</td>\n",
       "      <td>0.009634</td>\n",
       "      <td>0.007060</td>\n",
       "      <td>0.007301</td>\n",
       "      <td>0.007088</td>\n",
       "      <td>0.005736</td>\n",
       "      <td>0.005785</td>\n",
       "      <td>0.006470</td>\n",
       "      <td>0.006181</td>\n",
       "      <td>0.005031</td>\n",
       "      <td>0.500070</td>\n",
       "    </tr>\n",
       "    <tr>\n",
       "      <th>min</th>\n",
       "      <td>0.001500</td>\n",
       "      <td>0.000600</td>\n",
       "      <td>0.001500</td>\n",
       "      <td>0.005800</td>\n",
       "      <td>0.006700</td>\n",
       "      <td>0.010200</td>\n",
       "      <td>0.003300</td>\n",
       "      <td>0.005500</td>\n",
       "      <td>0.007500</td>\n",
       "      <td>0.011300</td>\n",
       "      <td>...</td>\n",
       "      <td>0.000800</td>\n",
       "      <td>0.000500</td>\n",
       "      <td>0.001000</td>\n",
       "      <td>0.000600</td>\n",
       "      <td>0.000400</td>\n",
       "      <td>0.000300</td>\n",
       "      <td>0.000300</td>\n",
       "      <td>0.000100</td>\n",
       "      <td>0.000600</td>\n",
       "      <td>0.000000</td>\n",
       "    </tr>\n",
       "    <tr>\n",
       "      <th>25%</th>\n",
       "      <td>0.013350</td>\n",
       "      <td>0.016450</td>\n",
       "      <td>0.018950</td>\n",
       "      <td>0.024375</td>\n",
       "      <td>0.038050</td>\n",
       "      <td>0.067025</td>\n",
       "      <td>0.080900</td>\n",
       "      <td>0.080425</td>\n",
       "      <td>0.097025</td>\n",
       "      <td>0.111275</td>\n",
       "      <td>...</td>\n",
       "      <td>0.007275</td>\n",
       "      <td>0.005075</td>\n",
       "      <td>0.005375</td>\n",
       "      <td>0.004150</td>\n",
       "      <td>0.004400</td>\n",
       "      <td>0.003700</td>\n",
       "      <td>0.003600</td>\n",
       "      <td>0.003675</td>\n",
       "      <td>0.003100</td>\n",
       "      <td>0.000000</td>\n",
       "    </tr>\n",
       "    <tr>\n",
       "      <th>50%</th>\n",
       "      <td>0.022800</td>\n",
       "      <td>0.030800</td>\n",
       "      <td>0.034300</td>\n",
       "      <td>0.044050</td>\n",
       "      <td>0.062500</td>\n",
       "      <td>0.092150</td>\n",
       "      <td>0.106950</td>\n",
       "      <td>0.112100</td>\n",
       "      <td>0.152250</td>\n",
       "      <td>0.182400</td>\n",
       "      <td>...</td>\n",
       "      <td>0.011400</td>\n",
       "      <td>0.009550</td>\n",
       "      <td>0.009300</td>\n",
       "      <td>0.007500</td>\n",
       "      <td>0.006850</td>\n",
       "      <td>0.005950</td>\n",
       "      <td>0.005800</td>\n",
       "      <td>0.006400</td>\n",
       "      <td>0.005300</td>\n",
       "      <td>1.000000</td>\n",
       "    </tr>\n",
       "    <tr>\n",
       "      <th>75%</th>\n",
       "      <td>0.035550</td>\n",
       "      <td>0.047950</td>\n",
       "      <td>0.057950</td>\n",
       "      <td>0.064500</td>\n",
       "      <td>0.100275</td>\n",
       "      <td>0.134125</td>\n",
       "      <td>0.154000</td>\n",
       "      <td>0.169600</td>\n",
       "      <td>0.233425</td>\n",
       "      <td>0.268700</td>\n",
       "      <td>...</td>\n",
       "      <td>0.016725</td>\n",
       "      <td>0.014900</td>\n",
       "      <td>0.014500</td>\n",
       "      <td>0.012100</td>\n",
       "      <td>0.010575</td>\n",
       "      <td>0.010425</td>\n",
       "      <td>0.010350</td>\n",
       "      <td>0.010325</td>\n",
       "      <td>0.008525</td>\n",
       "      <td>1.000000</td>\n",
       "    </tr>\n",
       "    <tr>\n",
       "      <th>max</th>\n",
       "      <td>0.137100</td>\n",
       "      <td>0.233900</td>\n",
       "      <td>0.305900</td>\n",
       "      <td>0.426400</td>\n",
       "      <td>0.401000</td>\n",
       "      <td>0.382300</td>\n",
       "      <td>0.372900</td>\n",
       "      <td>0.459000</td>\n",
       "      <td>0.682800</td>\n",
       "      <td>0.710600</td>\n",
       "      <td>...</td>\n",
       "      <td>0.070900</td>\n",
       "      <td>0.039000</td>\n",
       "      <td>0.035200</td>\n",
       "      <td>0.044700</td>\n",
       "      <td>0.039400</td>\n",
       "      <td>0.035500</td>\n",
       "      <td>0.044000</td>\n",
       "      <td>0.036400</td>\n",
       "      <td>0.043900</td>\n",
       "      <td>1.000000</td>\n",
       "    </tr>\n",
       "  </tbody>\n",
       "</table>\n",
       "<p>8 rows × 61 columns</p>\n",
       "</div>"
      ],
      "text/plain": [
       "                0           1           2           3           4           5  \\\n",
       "count  208.000000  208.000000  208.000000  208.000000  208.000000  208.000000   \n",
       "mean     0.029164    0.038437    0.043832    0.053892    0.075202    0.104570   \n",
       "std      0.022991    0.032960    0.038428    0.046528    0.055552    0.059105   \n",
       "min      0.001500    0.000600    0.001500    0.005800    0.006700    0.010200   \n",
       "25%      0.013350    0.016450    0.018950    0.024375    0.038050    0.067025   \n",
       "50%      0.022800    0.030800    0.034300    0.044050    0.062500    0.092150   \n",
       "75%      0.035550    0.047950    0.057950    0.064500    0.100275    0.134125   \n",
       "max      0.137100    0.233900    0.305900    0.426400    0.401000    0.382300   \n",
       "\n",
       "                6           7           8           9  ...          51  \\\n",
       "count  208.000000  208.000000  208.000000  208.000000  ...  208.000000   \n",
       "mean     0.121747    0.134799    0.178003    0.208259  ...    0.013420   \n",
       "std      0.061788    0.085152    0.118387    0.134416  ...    0.009634   \n",
       "min      0.003300    0.005500    0.007500    0.011300  ...    0.000800   \n",
       "25%      0.080900    0.080425    0.097025    0.111275  ...    0.007275   \n",
       "50%      0.106950    0.112100    0.152250    0.182400  ...    0.011400   \n",
       "75%      0.154000    0.169600    0.233425    0.268700  ...    0.016725   \n",
       "max      0.372900    0.459000    0.682800    0.710600  ...    0.070900   \n",
       "\n",
       "               52          53          54          55          56          57  \\\n",
       "count  208.000000  208.000000  208.000000  208.000000  208.000000  208.000000   \n",
       "mean     0.010709    0.010941    0.009290    0.008222    0.007820    0.007949   \n",
       "std      0.007060    0.007301    0.007088    0.005736    0.005785    0.006470   \n",
       "min      0.000500    0.001000    0.000600    0.000400    0.000300    0.000300   \n",
       "25%      0.005075    0.005375    0.004150    0.004400    0.003700    0.003600   \n",
       "50%      0.009550    0.009300    0.007500    0.006850    0.005950    0.005800   \n",
       "75%      0.014900    0.014500    0.012100    0.010575    0.010425    0.010350   \n",
       "max      0.039000    0.035200    0.044700    0.039400    0.035500    0.044000   \n",
       "\n",
       "               58          59      Target  \n",
       "count  208.000000  208.000000  208.000000  \n",
       "mean     0.007941    0.006507    0.533654  \n",
       "std      0.006181    0.005031    0.500070  \n",
       "min      0.000100    0.000600    0.000000  \n",
       "25%      0.003675    0.003100    0.000000  \n",
       "50%      0.006400    0.005300    1.000000  \n",
       "75%      0.010325    0.008525    1.000000  \n",
       "max      0.036400    0.043900    1.000000  \n",
       "\n",
       "[8 rows x 61 columns]"
      ]
     },
     "execution_count": 20,
     "metadata": {},
     "output_type": "execute_result"
    }
   ],
   "source": [
    "df.describe()"
   ]
  },
  {
   "cell_type": "code",
   "execution_count": 21,
   "id": "821e843b",
   "metadata": {
    "ExecuteTime": {
     "end_time": "2021-12-15T13:41:01.441658Z",
     "start_time": "2021-12-15T13:40:48.861727Z"
    }
   },
   "outputs": [
    {
     "data": {
      "image/png": "[encoded data removed]",
      "text/plain": [
       "<Figure size 864x864 with 64 Axes>"
      ]
     },
     "metadata": {
      "needs_background": "light"
     },
     "output_type": "display_data"
    }
   ],
   "source": [
    "# range of values for all the data columns\n",
    "df.hist(sharex=False, sharey=False, xlabelsize=1, ylabelsize=1, figsize=(12,12))\n",
    "plt.show()"
   ]
  },
  {
   "cell_type": "code",
   "execution_count": 22,
   "id": "11feb13f",
   "metadata": {
    "ExecuteTime": {
     "end_time": "2021-12-15T13:41:11.701069Z",
     "start_time": "2021-12-15T13:41:01.443684Z"
    }
   },
   "outputs": [
    {
     "data": {
      "image/png": "[encoded data removed]",
      "text/plain": [
       "<Figure size 864x864 with 64 Axes>"
      ]
     },
     "metadata": {
      "needs_background": "light"
     },
     "output_type": "display_data"
    }
   ],
   "source": [
    "#Distrbution \n",
    "df.plot(kind='density', subplots=True, layout=(8,8), sharex=False, legend=False, fontsize=1, figsize=(12,12))\n",
    "plt.show()"
   ]
  },
  {
   "cell_type": "code",
   "execution_count": 26,
   "id": "20c195d9",
   "metadata": {
    "ExecuteTime": {
     "end_time": "2021-12-15T13:58:22.910774Z",
     "start_time": "2021-12-15T13:58:22.859153Z"
    }
   },
   "outputs": [],
   "source": [
    "cont_features = [col for col in df.columns if df[col].nunique() >= 10]"
   ]
  },
  {
   "cell_type": "code",
   "execution_count": 27,
   "id": "e1b4424f",
   "metadata": {
    "ExecuteTime": {
     "end_time": "2021-12-15T13:58:24.683629Z",
     "start_time": "2021-12-15T13:58:24.671715Z"
    }
   },
   "outputs": [
    {
     "data": {
      "text/plain": [
       "[0,\n",
       " 1,\n",
       " 2,\n",
       " 3,\n",
       " 4,\n",
       " 5,\n",
       " 6,\n",
       " 7,\n",
       " 8,\n",
       " 9,\n",
       " 10,\n",
       " 11,\n",
       " 12,\n",
       " 13,\n",
       " 14,\n",
       " 15,\n",
       " 16,\n",
       " 17,\n",
       " 18,\n",
       " 19,\n",
       " 20,\n",
       " 21,\n",
       " 22,\n",
       " 23,\n",
       " 24,\n",
       " 25,\n",
       " 26,\n",
       " 27,\n",
       " 28,\n",
       " 29,\n",
       " 30,\n",
       " 31,\n",
       " 32,\n",
       " 33,\n",
       " 34,\n",
       " 35,\n",
       " 36,\n",
       " 37,\n",
       " 38,\n",
       " 39,\n",
       " 40,\n",
       " 41,\n",
       " 42,\n",
       " 43,\n",
       " 44,\n",
       " 45,\n",
       " 46,\n",
       " 47,\n",
       " 48,\n",
       " 49,\n",
       " 50,\n",
       " 51,\n",
       " 52,\n",
       " 53,\n",
       " 54,\n",
       " 55,\n",
       " 56,\n",
       " 57,\n",
       " 58,\n",
       " 59]"
      ]
     },
     "execution_count": 27,
     "metadata": {},
     "output_type": "execute_result"
    }
   ],
   "source": [
    "cont_features"
   ]
  },
  {
   "cell_type": "code",
   "execution_count": 33,
   "id": "629f815a",
   "metadata": {
    "ExecuteTime": {
     "end_time": "2021-12-15T14:02:47.104214Z",
     "start_time": "2021-12-15T14:02:29.005779Z"
    }
   },
   "outputs": [
    {
     "data": {
      "image/png": "[encoded data removed]",
      "text/plain": [
       "<Figure size 1584x720 with 60 Axes>"
      ]
     },
     "metadata": {},
     "output_type": "display_data"
    }
   ],
   "source": [
    "# barplot for all the features of the data (Target on x-axis, features on y-axis)\n",
    "ncols = 10\n",
    "nrows = int(len(cont_features) / ncols + (len(df.columns) % ncols > 0))-1\n",
    "\n",
    "fig, axes = plt.subplots(nrows, ncols, figsize=(22, 10), facecolor='#EAEAF2')\n",
    "\n",
    "for r in range(nrows):\n",
    "    for c in range(ncols):\n",
    "        col = cont_features[r*ncols+c]\n",
    "        sns.barplot(y=df[col], x=df['Target'], ax=axes[r, c], palette='autumn', label='Train data')\n",
    "        axes[r, c].set_ylabel('')\n",
    "        axes[r, c].set_xlabel(col, fontsize=8, fontweight='bold')\n",
    "        axes[r, c].tick_params(labelsize=8, width=0.9)\n",
    "        axes[r, c].xaxis.offsetText.set_fontsize(10)\n",
    "        axes[r, c].yaxis.offsetText.set_fontsize(10)\n",
    "plt.show()"
   ]
  },
  {
   "cell_type": "code",
   "execution_count": 17,
   "id": "cf91f81e",
   "metadata": {
    "ExecuteTime": {
     "end_time": "2021-12-07T16:08:10.366739Z",
     "start_time": "2021-12-07T16:08:10.265444Z"
    }
   },
   "outputs": [
    {
     "data": {
      "text/html": [
       "<div>\n",
       "<style scoped>\n",
       "    .dataframe tbody tr th:only-of-type {\n",
       "        vertical-align: middle;\n",
       "    }\n",
       "\n",
       "    .dataframe tbody tr th {\n",
       "        vertical-align: top;\n",
       "    }\n",
       "\n",
       "    .dataframe thead th {\n",
       "        text-align: right;\n",
       "    }\n",
       "</style>\n",
       "<table border=\"1\" class=\"dataframe\">\n",
       "  <thead>\n",
       "    <tr style=\"text-align: right;\">\n",
       "      <th></th>\n",
       "      <th>0</th>\n",
       "      <th>1</th>\n",
       "      <th>2</th>\n",
       "      <th>3</th>\n",
       "      <th>4</th>\n",
       "      <th>5</th>\n",
       "      <th>6</th>\n",
       "      <th>7</th>\n",
       "      <th>8</th>\n",
       "      <th>9</th>\n",
       "      <th>...</th>\n",
       "      <th>51</th>\n",
       "      <th>52</th>\n",
       "      <th>53</th>\n",
       "      <th>54</th>\n",
       "      <th>55</th>\n",
       "      <th>56</th>\n",
       "      <th>57</th>\n",
       "      <th>58</th>\n",
       "      <th>59</th>\n",
       "      <th>Target</th>\n",
       "    </tr>\n",
       "  </thead>\n",
       "  <tbody>\n",
       "    <tr>\n",
       "      <th>0</th>\n",
       "      <td>1.000000</td>\n",
       "      <td>0.735896</td>\n",
       "      <td>0.571537</td>\n",
       "      <td>0.491438</td>\n",
       "      <td>0.344797</td>\n",
       "      <td>0.238921</td>\n",
       "      <td>0.260815</td>\n",
       "      <td>0.355523</td>\n",
       "      <td>0.353420</td>\n",
       "      <td>0.318276</td>\n",
       "      <td>...</td>\n",
       "      <td>0.355299</td>\n",
       "      <td>0.311729</td>\n",
       "      <td>0.322299</td>\n",
       "      <td>0.312067</td>\n",
       "      <td>0.220642</td>\n",
       "      <td>0.313725</td>\n",
       "      <td>0.368132</td>\n",
       "      <td>0.357116</td>\n",
       "      <td>0.347078</td>\n",
       "      <td>0.271694</td>\n",
       "    </tr>\n",
       "    <tr>\n",
       "      <th>1</th>\n",
       "      <td>0.735896</td>\n",
       "      <td>1.000000</td>\n",
       "      <td>0.779916</td>\n",
       "      <td>0.606684</td>\n",
       "      <td>0.419669</td>\n",
       "      <td>0.332329</td>\n",
       "      <td>0.279040</td>\n",
       "      <td>0.334615</td>\n",
       "      <td>0.316733</td>\n",
       "      <td>0.270782</td>\n",
       "      <td>...</td>\n",
       "      <td>0.434548</td>\n",
       "      <td>0.346076</td>\n",
       "      <td>0.383960</td>\n",
       "      <td>0.380165</td>\n",
       "      <td>0.262263</td>\n",
       "      <td>0.280341</td>\n",
       "      <td>0.353042</td>\n",
       "      <td>0.352200</td>\n",
       "      <td>0.358761</td>\n",
       "      <td>0.231238</td>\n",
       "    </tr>\n",
       "    <tr>\n",
       "      <th>2</th>\n",
       "      <td>0.571537</td>\n",
       "      <td>0.779916</td>\n",
       "      <td>1.000000</td>\n",
       "      <td>0.781786</td>\n",
       "      <td>0.546141</td>\n",
       "      <td>0.346275</td>\n",
       "      <td>0.190434</td>\n",
       "      <td>0.237884</td>\n",
       "      <td>0.252691</td>\n",
       "      <td>0.219637</td>\n",
       "      <td>...</td>\n",
       "      <td>0.394076</td>\n",
       "      <td>0.332914</td>\n",
       "      <td>0.367186</td>\n",
       "      <td>0.289731</td>\n",
       "      <td>0.287661</td>\n",
       "      <td>0.380819</td>\n",
       "      <td>0.334108</td>\n",
       "      <td>0.425047</td>\n",
       "      <td>0.373948</td>\n",
       "      <td>0.192195</td>\n",
       "    </tr>\n",
       "    <tr>\n",
       "      <th>3</th>\n",
       "      <td>0.491438</td>\n",
       "      <td>0.606684</td>\n",
       "      <td>0.781786</td>\n",
       "      <td>1.000000</td>\n",
       "      <td>0.726943</td>\n",
       "      <td>0.352805</td>\n",
       "      <td>0.246440</td>\n",
       "      <td>0.246742</td>\n",
       "      <td>0.247078</td>\n",
       "      <td>0.237769</td>\n",
       "      <td>...</td>\n",
       "      <td>0.374651</td>\n",
       "      <td>0.364772</td>\n",
       "      <td>0.334211</td>\n",
       "      <td>0.284955</td>\n",
       "      <td>0.280938</td>\n",
       "      <td>0.340254</td>\n",
       "      <td>0.344865</td>\n",
       "      <td>0.420266</td>\n",
       "      <td>0.400626</td>\n",
       "      <td>0.250638</td>\n",
       "    </tr>\n",
       "    <tr>\n",
       "      <th>4</th>\n",
       "      <td>0.344797</td>\n",
       "      <td>0.419669</td>\n",
       "      <td>0.546141</td>\n",
       "      <td>0.726943</td>\n",
       "      <td>1.000000</td>\n",
       "      <td>0.597053</td>\n",
       "      <td>0.335422</td>\n",
       "      <td>0.204006</td>\n",
       "      <td>0.177906</td>\n",
       "      <td>0.183219</td>\n",
       "      <td>...</td>\n",
       "      <td>0.266617</td>\n",
       "      <td>0.314985</td>\n",
       "      <td>0.205306</td>\n",
       "      <td>0.196472</td>\n",
       "      <td>0.199323</td>\n",
       "      <td>0.219395</td>\n",
       "      <td>0.238793</td>\n",
       "      <td>0.290982</td>\n",
       "      <td>0.253710</td>\n",
       "      <td>0.222232</td>\n",
       "    </tr>\n",
       "    <tr>\n",
       "      <th>...</th>\n",
       "      <td>...</td>\n",
       "      <td>...</td>\n",
       "      <td>...</td>\n",
       "      <td>...</td>\n",
       "      <td>...</td>\n",
       "      <td>...</td>\n",
       "      <td>...</td>\n",
       "      <td>...</td>\n",
       "      <td>...</td>\n",
       "      <td>...</td>\n",
       "      <td>...</td>\n",
       "      <td>...</td>\n",
       "      <td>...</td>\n",
       "      <td>...</td>\n",
       "      <td>...</td>\n",
       "      <td>...</td>\n",
       "      <td>...</td>\n",
       "      <td>...</td>\n",
       "      <td>...</td>\n",
       "      <td>...</td>\n",
       "      <td>...</td>\n",
       "    </tr>\n",
       "    <tr>\n",
       "      <th>56</th>\n",
       "      <td>0.313725</td>\n",
       "      <td>0.280341</td>\n",
       "      <td>0.380819</td>\n",
       "      <td>0.340254</td>\n",
       "      <td>0.219395</td>\n",
       "      <td>0.161333</td>\n",
       "      <td>0.186324</td>\n",
       "      <td>0.267212</td>\n",
       "      <td>0.193963</td>\n",
       "      <td>0.140327</td>\n",
       "      <td>...</td>\n",
       "      <td>0.191264</td>\n",
       "      <td>0.308197</td>\n",
       "      <td>0.361443</td>\n",
       "      <td>0.387204</td>\n",
       "      <td>0.515154</td>\n",
       "      <td>1.000000</td>\n",
       "      <td>0.509805</td>\n",
       "      <td>0.431295</td>\n",
       "      <td>0.287219</td>\n",
       "      <td>0.000933</td>\n",
       "    </tr>\n",
       "    <tr>\n",
       "      <th>57</th>\n",
       "      <td>0.368132</td>\n",
       "      <td>0.353042</td>\n",
       "      <td>0.334108</td>\n",
       "      <td>0.344865</td>\n",
       "      <td>0.238793</td>\n",
       "      <td>0.203986</td>\n",
       "      <td>0.242646</td>\n",
       "      <td>0.287603</td>\n",
       "      <td>0.231745</td>\n",
       "      <td>0.212277</td>\n",
       "      <td>...</td>\n",
       "      <td>0.309673</td>\n",
       "      <td>0.370764</td>\n",
       "      <td>0.404117</td>\n",
       "      <td>0.503465</td>\n",
       "      <td>0.463659</td>\n",
       "      <td>0.509805</td>\n",
       "      <td>1.000000</td>\n",
       "      <td>0.550235</td>\n",
       "      <td>0.329827</td>\n",
       "      <td>0.184191</td>\n",
       "    </tr>\n",
       "    <tr>\n",
       "      <th>58</th>\n",
       "      <td>0.357116</td>\n",
       "      <td>0.352200</td>\n",
       "      <td>0.425047</td>\n",
       "      <td>0.420266</td>\n",
       "      <td>0.290982</td>\n",
       "      <td>0.220573</td>\n",
       "      <td>0.183578</td>\n",
       "      <td>0.194400</td>\n",
       "      <td>0.097293</td>\n",
       "      <td>0.058273</td>\n",
       "      <td>...</td>\n",
       "      <td>0.298711</td>\n",
       "      <td>0.346095</td>\n",
       "      <td>0.447118</td>\n",
       "      <td>0.453658</td>\n",
       "      <td>0.430804</td>\n",
       "      <td>0.431295</td>\n",
       "      <td>0.550235</td>\n",
       "      <td>1.000000</td>\n",
       "      <td>0.642872</td>\n",
       "      <td>0.130826</td>\n",
       "    </tr>\n",
       "    <tr>\n",
       "      <th>59</th>\n",
       "      <td>0.347078</td>\n",
       "      <td>0.358761</td>\n",
       "      <td>0.373948</td>\n",
       "      <td>0.400626</td>\n",
       "      <td>0.253710</td>\n",
       "      <td>0.178158</td>\n",
       "      <td>0.222493</td>\n",
       "      <td>0.146216</td>\n",
       "      <td>0.095243</td>\n",
       "      <td>0.097358</td>\n",
       "      <td>...</td>\n",
       "      <td>0.195379</td>\n",
       "      <td>0.280780</td>\n",
       "      <td>0.283471</td>\n",
       "      <td>0.264399</td>\n",
       "      <td>0.349449</td>\n",
       "      <td>0.287219</td>\n",
       "      <td>0.329827</td>\n",
       "      <td>0.642872</td>\n",
       "      <td>1.000000</td>\n",
       "      <td>0.090055</td>\n",
       "    </tr>\n",
       "    <tr>\n",
       "      <th>Target</th>\n",
       "      <td>0.271694</td>\n",
       "      <td>0.231238</td>\n",
       "      <td>0.192195</td>\n",
       "      <td>0.250638</td>\n",
       "      <td>0.222232</td>\n",
       "      <td>0.132327</td>\n",
       "      <td>0.114748</td>\n",
       "      <td>0.189314</td>\n",
       "      <td>0.321448</td>\n",
       "      <td>0.341142</td>\n",
       "      <td>...</td>\n",
       "      <td>0.288651</td>\n",
       "      <td>0.141871</td>\n",
       "      <td>0.182687</td>\n",
       "      <td>0.095639</td>\n",
       "      <td>0.129341</td>\n",
       "      <td>0.000933</td>\n",
       "      <td>0.184191</td>\n",
       "      <td>0.130826</td>\n",
       "      <td>0.090055</td>\n",
       "      <td>1.000000</td>\n",
       "    </tr>\n",
       "  </tbody>\n",
       "</table>\n",
       "<p>61 rows × 61 columns</p>\n",
       "</div>"
      ],
      "text/plain": [
       "               0         1         2         3         4         5         6  \\\n",
       "0       1.000000  0.735896  0.571537  0.491438  0.344797  0.238921  0.260815   \n",
       "1       0.735896  1.000000  0.779916  0.606684  0.419669  0.332329  0.279040   \n",
       "2       0.571537  0.779916  1.000000  0.781786  0.546141  0.346275  0.190434   \n",
       "3       0.491438  0.606684  0.781786  1.000000  0.726943  0.352805  0.246440   \n",
       "4       0.344797  0.419669  0.546141  0.726943  1.000000  0.597053  0.335422   \n",
       "...          ...       ...       ...       ...       ...       ...       ...   \n",
       "56      0.313725  0.280341  0.380819  0.340254  0.219395  0.161333  0.186324   \n",
       "57      0.368132  0.353042  0.334108  0.344865  0.238793  0.203986  0.242646   \n",
       "58      0.357116  0.352200  0.425047  0.420266  0.290982  0.220573  0.183578   \n",
       "59      0.347078  0.358761  0.373948  0.400626  0.253710  0.178158  0.222493   \n",
       "Target  0.271694  0.231238  0.192195  0.250638  0.222232  0.132327  0.114748   \n",
       "\n",
       "               7         8         9  ...        51        52        53  \\\n",
       "0       0.355523  0.353420  0.318276  ...  0.355299  0.311729  0.322299   \n",
       "1       0.334615  0.316733  0.270782  ...  0.434548  0.346076  0.383960   \n",
       "2       0.237884  0.252691  0.219637  ...  0.394076  0.332914  0.367186   \n",
       "3       0.246742  0.247078  0.237769  ...  0.374651  0.364772  0.334211   \n",
       "4       0.204006  0.177906  0.183219  ...  0.266617  0.314985  0.205306   \n",
       "...          ...       ...       ...  ...       ...       ...       ...   \n",
       "56      0.267212  0.193963  0.140327  ...  0.191264  0.308197  0.361443   \n",
       "57      0.287603  0.231745  0.212277  ...  0.309673  0.370764  0.404117   \n",
       "58      0.194400  0.097293  0.058273  ...  0.298711  0.346095  0.447118   \n",
       "59      0.146216  0.095243  0.097358  ...  0.195379  0.280780  0.283471   \n",
       "Target  0.189314  0.321448  0.341142  ...  0.288651  0.141871  0.182687   \n",
       "\n",
       "              54        55        56        57        58        59    Target  \n",
       "0       0.312067  0.220642  0.313725  0.368132  0.357116  0.347078  0.271694  \n",
       "1       0.380165  0.262263  0.280341  0.353042  0.352200  0.358761  0.231238  \n",
       "2       0.289731  0.287661  0.380819  0.334108  0.425047  0.373948  0.192195  \n",
       "3       0.284955  0.280938  0.340254  0.344865  0.420266  0.400626  0.250638  \n",
       "4       0.196472  0.199323  0.219395  0.238793  0.290982  0.253710  0.222232  \n",
       "...          ...       ...       ...       ...       ...       ...       ...  \n",
       "56      0.387204  0.515154  1.000000  0.509805  0.431295  0.287219  0.000933  \n",
       "57      0.503465  0.463659  0.509805  1.000000  0.550235  0.329827  0.184191  \n",
       "58      0.453658  0.430804  0.431295  0.550235  1.000000  0.642872  0.130826  \n",
       "59      0.264399  0.349449  0.287219  0.329827  0.642872  1.000000  0.090055  \n",
       "Target  0.095639  0.129341  0.000933  0.184191  0.130826  0.090055  1.000000  \n",
       "\n",
       "[61 rows x 61 columns]"
      ]
     },
     "execution_count": 17,
     "metadata": {},
     "output_type": "execute_result"
    }
   ],
   "source": [
    "df.corr()"
   ]
  },
  {
   "cell_type": "code",
   "execution_count": 18,
   "id": "a402721a",
   "metadata": {
    "ExecuteTime": {
     "end_time": "2021-12-07T16:08:19.411661Z",
     "start_time": "2021-12-07T16:08:10.371717Z"
    },
    "scrolled": true
   },
   "outputs": [
    {
     "data": {
      "image/png": "[encoded data removed]",
      "text/plain": [
       "<Figure size 1800x1800 with 2 Axes>"
      ]
     },
     "metadata": {
      "needs_background": "light"
     },
     "output_type": "display_data"
    }
   ],
   "source": [
    "plt.figure(figsize=(25,25))\n",
    "sns.heatmap(df.corr(), cbar=True)\n",
    "plt.show()"
   ]
  },
  {
   "cell_type": "code",
   "execution_count": 19,
   "id": "7603a409",
   "metadata": {
    "ExecuteTime": {
     "end_time": "2021-12-07T16:08:20.737676Z",
     "start_time": "2021-12-07T16:08:19.417612Z"
    }
   },
   "outputs": [
    {
     "data": {
      "image/png": "[encoded data removed]",
      "text/plain": [
       "<Figure size 1440x288 with 4 Axes>"
      ]
     },
     "metadata": {
      "needs_background": "light"
     },
     "output_type": "display_data"
    }
   ],
   "source": [
    "#plotting some correlation for better understanding\n",
    "f, axes = plt.subplots(ncols=4, figsize=(20,4))\n",
    "\n",
    "sns.boxplot(x=\"Target\", y=10 , data=df, ax=axes[0])\n",
    "axes[0].set_title('10 vs Target Postive Correlation')\n",
    "\n",
    "sns.boxplot(x=\"Target\", y=35, data=df, ax=axes[1])\n",
    "axes[1].set_title('35 vs Target Negative Correlation')\n",
    "\n",
    "\n",
    "sns.boxplot(x=\"Target\", y=47, data=df, ax=axes[2])\n",
    "axes[2].set_title('47 vs Target Postive Correlation')\n",
    "\n",
    "\n",
    "sns.boxplot(x=\"Target\", y=44, data=df, ax=axes[3])\n",
    "axes[3].set_title('44 vs Target Postive Correlation')\n",
    "\n",
    "plt.show()"
   ]
  },
  {
   "cell_type": "markdown",
   "id": "267b35f7",
   "metadata": {},
   "source": [
    "<a href=\"#toc\" role=\"button\" aria-pressed=\"true\" >⬆️Back to Table of Contents ⬆️</a>"
   ]
  },
  {
   "cell_type": "markdown",
   "id": "81827589",
   "metadata": {},
   "source": [
    "<a id='4'></a>\n",
    "# Feature Engineering"
   ]
  },
  {
   "cell_type": "code",
   "execution_count": 34,
   "id": "4f786c88",
   "metadata": {
    "ExecuteTime": {
     "end_time": "2021-12-15T14:06:57.922181Z",
     "start_time": "2021-12-15T14:06:57.899668Z"
    }
   },
   "outputs": [
    {
     "data": {
      "text/plain": [
       "Index([       0,        1,        2,        3,        4,        5,        6,\n",
       "              7,        8,        9,       10,       11,       12,       13,\n",
       "             14,       15,       16,       17,       18,       19,       20,\n",
       "             21,       22,       23,       24,       25,       26,       27,\n",
       "             28,       29,       30,       31,       32,       33,       34,\n",
       "             35,       36,       37,       38,       39,       40,       41,\n",
       "             42,       43,       44,       45,       46,       47,       48,\n",
       "             49,       50,       51,       52,       53,       54,       55,\n",
       "             56,       57,       58,       59, 'Target'],\n",
       "      dtype='object')"
      ]
     },
     "execution_count": 34,
     "metadata": {},
     "output_type": "execute_result"
    }
   ],
   "source": [
    "FEATURES = df.columns\n",
    "FEATURES"
   ]
  },
  {
   "cell_type": "code",
   "execution_count": 35,
   "id": "1c44d975",
   "metadata": {
    "ExecuteTime": {
     "end_time": "2021-12-15T14:07:04.653094Z",
     "start_time": "2021-12-15T14:07:04.629384Z"
    }
   },
   "outputs": [],
   "source": [
    "df[\"mean\"] = df[FEATURES].mean(axis=1)\n",
    "df[\"std\"] = df[FEATURES].std(axis=1)\n",
    "df[\"min\"] = df[FEATURES].min(axis=1)\n",
    "df[\"max\"] = df[FEATURES].max(axis=1)"
   ]
  },
  {
   "cell_type": "code",
   "execution_count": 36,
   "id": "5e87f611",
   "metadata": {
    "ExecuteTime": {
     "end_time": "2021-12-15T14:07:09.524781Z",
     "start_time": "2021-12-15T14:07:09.467956Z"
    }
   },
   "outputs": [
    {
     "data": {
      "text/html": [
       "<div>\n",
       "<style scoped>\n",
       "    .dataframe tbody tr th:only-of-type {\n",
       "        vertical-align: middle;\n",
       "    }\n",
       "\n",
       "    .dataframe tbody tr th {\n",
       "        vertical-align: top;\n",
       "    }\n",
       "\n",
       "    .dataframe thead th {\n",
       "        text-align: right;\n",
       "    }\n",
       "</style>\n",
       "<table border=\"1\" class=\"dataframe\">\n",
       "  <thead>\n",
       "    <tr style=\"text-align: right;\">\n",
       "      <th></th>\n",
       "      <th>0</th>\n",
       "      <th>1</th>\n",
       "      <th>2</th>\n",
       "      <th>3</th>\n",
       "      <th>4</th>\n",
       "      <th>5</th>\n",
       "      <th>6</th>\n",
       "      <th>7</th>\n",
       "      <th>8</th>\n",
       "      <th>9</th>\n",
       "      <th>...</th>\n",
       "      <th>55</th>\n",
       "      <th>56</th>\n",
       "      <th>57</th>\n",
       "      <th>58</th>\n",
       "      <th>59</th>\n",
       "      <th>Target</th>\n",
       "      <th>mean</th>\n",
       "      <th>std</th>\n",
       "      <th>min</th>\n",
       "      <th>max</th>\n",
       "    </tr>\n",
       "  </thead>\n",
       "  <tbody>\n",
       "    <tr>\n",
       "      <th>0</th>\n",
       "      <td>0.0200</td>\n",
       "      <td>0.0371</td>\n",
       "      <td>0.0428</td>\n",
       "      <td>0.0207</td>\n",
       "      <td>0.0954</td>\n",
       "      <td>0.0986</td>\n",
       "      <td>0.1539</td>\n",
       "      <td>0.1601</td>\n",
       "      <td>0.3109</td>\n",
       "      <td>0.2111</td>\n",
       "      <td>...</td>\n",
       "      <td>0.0167</td>\n",
       "      <td>0.0180</td>\n",
       "      <td>0.0084</td>\n",
       "      <td>0.0090</td>\n",
       "      <td>0.0032</td>\n",
       "      <td>0</td>\n",
       "      <td>0.276946</td>\n",
       "      <td>0.260151</td>\n",
       "      <td>0.0</td>\n",
       "      <td>0.8537</td>\n",
       "    </tr>\n",
       "    <tr>\n",
       "      <th>1</th>\n",
       "      <td>0.0453</td>\n",
       "      <td>0.0523</td>\n",
       "      <td>0.0843</td>\n",
       "      <td>0.0689</td>\n",
       "      <td>0.1183</td>\n",
       "      <td>0.2583</td>\n",
       "      <td>0.2156</td>\n",
       "      <td>0.3481</td>\n",
       "      <td>0.3337</td>\n",
       "      <td>0.2872</td>\n",
       "      <td>...</td>\n",
       "      <td>0.0191</td>\n",
       "      <td>0.0140</td>\n",
       "      <td>0.0049</td>\n",
       "      <td>0.0052</td>\n",
       "      <td>0.0044</td>\n",
       "      <td>0</td>\n",
       "      <td>0.272167</td>\n",
       "      <td>0.270919</td>\n",
       "      <td>0.0</td>\n",
       "      <td>1.0000</td>\n",
       "    </tr>\n",
       "    <tr>\n",
       "      <th>2</th>\n",
       "      <td>0.0262</td>\n",
       "      <td>0.0582</td>\n",
       "      <td>0.1099</td>\n",
       "      <td>0.1083</td>\n",
       "      <td>0.0974</td>\n",
       "      <td>0.2280</td>\n",
       "      <td>0.2431</td>\n",
       "      <td>0.3771</td>\n",
       "      <td>0.5598</td>\n",
       "      <td>0.6194</td>\n",
       "      <td>...</td>\n",
       "      <td>0.0244</td>\n",
       "      <td>0.0316</td>\n",
       "      <td>0.0164</td>\n",
       "      <td>0.0095</td>\n",
       "      <td>0.0078</td>\n",
       "      <td>0</td>\n",
       "      <td>0.358230</td>\n",
       "      <td>0.291300</td>\n",
       "      <td>0.0</td>\n",
       "      <td>0.8929</td>\n",
       "    </tr>\n",
       "    <tr>\n",
       "      <th>3</th>\n",
       "      <td>0.0100</td>\n",
       "      <td>0.0171</td>\n",
       "      <td>0.0623</td>\n",
       "      <td>0.0205</td>\n",
       "      <td>0.0205</td>\n",
       "      <td>0.0368</td>\n",
       "      <td>0.1098</td>\n",
       "      <td>0.1276</td>\n",
       "      <td>0.0598</td>\n",
       "      <td>0.1264</td>\n",
       "      <td>...</td>\n",
       "      <td>0.0073</td>\n",
       "      <td>0.0050</td>\n",
       "      <td>0.0044</td>\n",
       "      <td>0.0040</td>\n",
       "      <td>0.0117</td>\n",
       "      <td>0</td>\n",
       "      <td>0.262138</td>\n",
       "      <td>0.254005</td>\n",
       "      <td>0.0</td>\n",
       "      <td>0.9857</td>\n",
       "    </tr>\n",
       "    <tr>\n",
       "      <th>4</th>\n",
       "      <td>0.0762</td>\n",
       "      <td>0.0666</td>\n",
       "      <td>0.0481</td>\n",
       "      <td>0.0394</td>\n",
       "      <td>0.0590</td>\n",
       "      <td>0.0649</td>\n",
       "      <td>0.1209</td>\n",
       "      <td>0.2467</td>\n",
       "      <td>0.3564</td>\n",
       "      <td>0.4459</td>\n",
       "      <td>...</td>\n",
       "      <td>0.0015</td>\n",
       "      <td>0.0072</td>\n",
       "      <td>0.0048</td>\n",
       "      <td>0.0107</td>\n",
       "      <td>0.0094</td>\n",
       "      <td>0</td>\n",
       "      <td>0.261031</td>\n",
       "      <td>0.239668</td>\n",
       "      <td>0.0</td>\n",
       "      <td>1.0000</td>\n",
       "    </tr>\n",
       "  </tbody>\n",
       "</table>\n",
       "<p>5 rows × 65 columns</p>\n",
       "</div>"
      ],
      "text/plain": [
       "        0       1       2       3       4       5       6       7       8  \\\n",
       "0  0.0200  0.0371  0.0428  0.0207  0.0954  0.0986  0.1539  0.1601  0.3109   \n",
       "1  0.0453  0.0523  0.0843  0.0689  0.1183  0.2583  0.2156  0.3481  0.3337   \n",
       "2  0.0262  0.0582  0.1099  0.1083  0.0974  0.2280  0.2431  0.3771  0.5598   \n",
       "3  0.0100  0.0171  0.0623  0.0205  0.0205  0.0368  0.1098  0.1276  0.0598   \n",
       "4  0.0762  0.0666  0.0481  0.0394  0.0590  0.0649  0.1209  0.2467  0.3564   \n",
       "\n",
       "        9  ...      55      56      57      58      59  Target      mean  \\\n",
       "0  0.2111  ...  0.0167  0.0180  0.0084  0.0090  0.0032       0  0.276946   \n",
       "1  0.2872  ...  0.0191  0.0140  0.0049  0.0052  0.0044       0  0.272167   \n",
       "2  0.6194  ...  0.0244  0.0316  0.0164  0.0095  0.0078       0  0.358230   \n",
       "3  0.1264  ...  0.0073  0.0050  0.0044  0.0040  0.0117       0  0.262138   \n",
       "4  0.4459  ...  0.0015  0.0072  0.0048  0.0107  0.0094       0  0.261031   \n",
       "\n",
       "        std  min     max  \n",
       "0  0.260151  0.0  0.8537  \n",
       "1  0.270919  0.0  1.0000  \n",
       "2  0.291300  0.0  0.8929  \n",
       "3  0.254005  0.0  0.9857  \n",
       "4  0.239668  0.0  1.0000  \n",
       "\n",
       "[5 rows x 65 columns]"
      ]
     },
     "execution_count": 36,
     "metadata": {},
     "output_type": "execute_result"
    }
   ],
   "source": [
    "df.head()"
   ]
  },
  {
   "cell_type": "code",
   "execution_count": 37,
   "id": "fee9efb8",
   "metadata": {
    "ExecuteTime": {
     "end_time": "2021-12-15T14:08:00.496353Z",
     "start_time": "2021-12-15T14:08:00.480187Z"
    }
   },
   "outputs": [
    {
     "data": {
      "text/plain": [
       "(208, 65)"
      ]
     },
     "execution_count": 37,
     "metadata": {},
     "output_type": "execute_result"
    }
   ],
   "source": [
    "df.shape"
   ]
  },
  {
   "cell_type": "markdown",
   "id": "74a8497c",
   "metadata": {},
   "source": [
    "<a href=\"#toc\" role=\"button\" aria-pressed=\"true\" >⬆️Back to Table of Contents ⬆️</a>"
   ]
  },
  {
   "cell_type": "markdown",
   "id": "a6e69d81",
   "metadata": {},
   "source": [
    "<a id='5'></a>\n",
    "# Assigning Feature and target variables"
   ]
  },
  {
   "cell_type": "code",
   "execution_count": 38,
   "id": "b9f40b12",
   "metadata": {
    "ExecuteTime": {
     "end_time": "2021-12-15T14:08:10.356086Z",
     "start_time": "2021-12-15T14:08:10.350023Z"
    }
   },
   "outputs": [],
   "source": [
    "X = df.drop('Target', axis=1)\n",
    "y = df.Target"
   ]
  },
  {
   "cell_type": "markdown",
   "id": "bb06fab6",
   "metadata": {},
   "source": [
    "<a href=\"#toc\" role=\"button\" aria-pressed=\"true\" >⬆️Back to Table of Contents ⬆️</a>"
   ]
  },
  {
   "cell_type": "markdown",
   "id": "97faed2a",
   "metadata": {},
   "source": [
    "<a id='6'></a>\n",
    "# Feature Scaling"
   ]
  },
  {
   "cell_type": "code",
   "execution_count": 39,
   "id": "4367dad2",
   "metadata": {
    "ExecuteTime": {
     "end_time": "2021-12-15T14:08:12.379791Z",
     "start_time": "2021-12-15T14:08:12.347866Z"
    }
   },
   "outputs": [
    {
     "data": {
      "text/plain": [
       "array([-0.39955135, -0.04064823, -0.02692565, -0.71510513,  0.36445605,\n",
       "       -0.10125288,  0.52163841,  0.29784323,  1.12527153,  0.02118591,\n",
       "       -0.56738192, -0.65854108, -0.35204302, -1.41437288, -1.24041609,\n",
       "       -0.65141323, -0.40291277, -0.5842021 ,  0.01161165, -0.31809184,\n",
       "       -0.11959712, -0.45902868, -0.85816473, -0.49322534, -0.01769506,\n",
       "       -0.24662866,  0.03364482,  0.48168725,  0.15448626, -0.8865206 ,\n",
       "       -1.75089006, -0.83977659,  0.46054842,  1.52357887,  1.78380502,\n",
       "        1.76803946,  1.27600761,  1.27102447,  0.84846088, -0.20651076,\n",
       "       -1.39574065,  0.03033902,  0.25932835,  1.59077057,  0.44206152,\n",
       "       -0.16488536, -0.20004835,  0.68858804, -0.37997825,  0.87851031,\n",
       "        0.59528304, -1.11543184, -0.59760446,  0.68089736, -0.29564577,\n",
       "        1.4816347 ,  1.76378447,  0.06987027,  0.17167808, -0.65894689,\n",
       "       -0.20554626, -0.91992525, -0.71467091, -3.2819902 ])"
      ]
     },
     "execution_count": 39,
     "metadata": {},
     "output_type": "execute_result"
    }
   ],
   "source": [
    "scaler = StandardScaler()\n",
    "X_scale = scaler.fit_transform(X)\n",
    "X_scale[0]"
   ]
  },
  {
   "cell_type": "markdown",
   "id": "70ef83e0",
   "metadata": {},
   "source": [
    "<a href=\"#toc\" role=\"button\" aria-pressed=\"true\" >⬆️Back to Table of Contents ⬆️</a>"
   ]
  },
  {
   "cell_type": "markdown",
   "id": "c3437d80",
   "metadata": {},
   "source": [
    "<a id='7'></a>\n",
    "# Split the data into Training and Testing Data"
   ]
  },
  {
   "cell_type": "code",
   "execution_count": 40,
   "id": "22e6929f",
   "metadata": {
    "ExecuteTime": {
     "end_time": "2021-12-15T14:08:18.285737Z",
     "start_time": "2021-12-15T14:08:18.277511Z"
    }
   },
   "outputs": [],
   "source": [
    "X_train, X_test, y_train, y_test = train_test_split(X_scale,y,test_size=0.25, random_state=195)"
   ]
  },
  {
   "cell_type": "code",
   "execution_count": 41,
   "id": "a98e7db2",
   "metadata": {
    "ExecuteTime": {
     "end_time": "2021-12-15T14:08:18.887865Z",
     "start_time": "2021-12-15T14:08:18.873832Z"
    }
   },
   "outputs": [
    {
     "data": {
      "text/plain": [
       "156"
      ]
     },
     "execution_count": 41,
     "metadata": {},
     "output_type": "execute_result"
    }
   ],
   "source": [
    "len(X_train)"
   ]
  },
  {
   "cell_type": "code",
   "execution_count": 42,
   "id": "60bed5bd",
   "metadata": {
    "ExecuteTime": {
     "end_time": "2021-12-15T14:08:19.879073Z",
     "start_time": "2021-12-15T14:08:19.867382Z"
    }
   },
   "outputs": [
    {
     "data": {
      "text/plain": [
       "52"
      ]
     },
     "execution_count": 42,
     "metadata": {},
     "output_type": "execute_result"
    }
   ],
   "source": [
    "len(X_test)"
   ]
  },
  {
   "cell_type": "markdown",
   "id": "8d8dec80",
   "metadata": {},
   "source": [
    "<a href=\"#toc\" role=\"button\" aria-pressed=\"true\" >⬆️Back to Table of Contents ⬆️</a>"
   ]
  },
  {
   "cell_type": "markdown",
   "id": "1304fab3",
   "metadata": {},
   "source": [
    "<a id='8'></a>\n",
    "# Modeling"
   ]
  },
  {
   "cell_type": "markdown",
   "id": "6ca95e90",
   "metadata": {},
   "source": [
    "<a id='8.1'></a>\n",
    "***TPOT for autoML***"
   ]
  },
  {
   "cell_type": "markdown",
   "id": "195fd7dc",
   "metadata": {},
   "source": [
    "Using TPOT for Automated Machine Learning that optimizes machine learning pipelines using genetic programming."
   ]
  },
  {
   "cell_type": "code",
   "execution_count": 44,
   "id": "d5f08cc8",
   "metadata": {
    "ExecuteTime": {
     "end_time": "2021-12-15T14:34:52.972425Z",
     "start_time": "2021-12-15T14:11:41.777134Z"
    }
   },
   "outputs": [
    {
     "data": {
      "application/vnd.jupyter.widget-view+json": {
       "model_id": "",
       "version_major": 2,
       "version_minor": 0
      },
      "text/plain": [
       "Optimization Progress:   0%|          | 0/1200 [00:00<?, ?pipeline/s]"
      ]
     },
     "metadata": {},
     "output_type": "display_data"
    },
    {
     "name": "stdout",
     "output_type": "stream",
     "text": [
      "\n",
      "Generation 1 - Current best internal CV score: 0.99375\n",
      "\n",
      "Generation 2 - Current best internal CV score: 0.99375\n",
      "\n",
      "Generation 3 - Current best internal CV score: 0.99375\n",
      "\n",
      "Generation 4 - Current best internal CV score: 0.99375\n",
      "\n",
      "Generation 5 - Current best internal CV score: 0.99375\n",
      "\n",
      "Best pipeline: RandomForestClassifier(input_matrix, bootstrap=True, criterion=gini, max_features=0.9500000000000001, min_samples_leaf=14, min_samples_split=14, n_estimators=100)\n"
     ]
    },
    {
     "data": {
      "text/plain": [
       "TPOTClassifier(cv=10, generations=5, population_size=200, random_state=100,\n",
       "               scoring='accuracy', verbosity=2)"
      ]
     },
     "execution_count": 44,
     "metadata": {},
     "output_type": "execute_result"
    }
   ],
   "source": [
    "model = TPOTClassifier(generations=5, population_size=200, cv=10,\n",
    "                                    random_state=100, verbosity=2, scoring='accuracy')\n",
    "model.fit(X_train, y_train)"
   ]
  },
  {
   "cell_type": "markdown",
   "id": "d8259c25",
   "metadata": {},
   "source": [
    "this is the best pipeline tpot generated:<br>\n",
    "Best pipeline: RandomForestClassifier(input_matrix, bootstrap=True, criterion=gini, max_features=0.9500000000000001, min_samples_leaf=14, min_samples_split=14, n_estimators=100)"
   ]
  },
  {
   "cell_type": "markdown",
   "id": "0b702f70",
   "metadata": {},
   "source": [
    "<a id='8.2'></a>\n",
    "***Accuaracy of the model***"
   ]
  },
  {
   "cell_type": "code",
   "execution_count": 45,
   "id": "3341586f",
   "metadata": {
    "ExecuteTime": {
     "end_time": "2021-12-15T14:34:53.556935Z",
     "start_time": "2021-12-15T14:34:53.526600Z"
    }
   },
   "outputs": [
    {
     "name": "stdout",
     "output_type": "stream",
     "text": [
      "Accuracy of the model on the Testing data: 100.0%\n"
     ]
    }
   ],
   "source": [
    "print(f\"Accuracy of the model on the Testing data: {model.score(X_test, y_test) * 100}%\")"
   ]
  },
  {
   "cell_type": "markdown",
   "id": "89d2df6a",
   "metadata": {},
   "source": [
    "<a id='8.3'></a>\n",
    "***TPOT to export the corresponding Python code for the optimized pipeline to a text file***"
   ]
  },
  {
   "cell_type": "code",
   "execution_count": 52,
   "id": "e89d90ef",
   "metadata": {
    "ExecuteTime": {
     "end_time": "2021-12-15T14:44:50.267270Z",
     "start_time": "2021-12-15T14:44:50.257257Z"
    }
   },
   "outputs": [],
   "source": [
    "model.export('tpot_exported_pipeline.py')"
   ]
  },
  {
   "cell_type": "markdown",
   "id": "d0677c83",
   "metadata": {
    "ExecuteTime": {
     "end_time": "2021-12-15T14:34:53.572733Z",
     "start_time": "2021-12-15T14:34:53.557936Z"
    }
   },
   "source": [
    "<a href=\"#toc\" role=\"button\" aria-pressed=\"true\" >⬆️Back to Table of Contents ⬆️</a>"
   ]
  },
  {
   "cell_type": "code",
   "execution_count": 47,
   "id": "e56871a3",
   "metadata": {
    "ExecuteTime": {
     "end_time": "2021-12-15T14:43:28.457747Z",
     "start_time": "2021-12-15T14:43:28.430890Z"
    }
   },
   "outputs": [
    {
     "data": {
      "text/plain": [
       "array([1, 1, 1, 0, 0, 0, 0, 0, 1, 1, 0, 0, 0, 0, 1, 0, 1, 0, 1, 1, 1, 1,\n",
       "       0, 1, 1, 1, 0, 1, 0, 1, 1, 1, 0, 0, 1, 0, 1, 1, 1, 1, 0, 1, 1, 0,\n",
       "       0, 1, 1, 0, 0, 0, 0, 1], dtype=int64)"
      ]
     },
     "execution_count": 47,
     "metadata": {},
     "output_type": "execute_result"
    }
   ],
   "source": [
    "model.predict(X_test)"
   ]
  },
  {
   "cell_type": "code",
   "execution_count": 48,
   "id": "f61d46bd",
   "metadata": {
    "ExecuteTime": {
     "end_time": "2021-12-15T14:43:51.768945Z",
     "start_time": "2021-12-15T14:43:51.751990Z"
    }
   },
   "outputs": [
    {
     "data": {
      "text/plain": [
       "array([1, 1, 1, 0, 0, 0, 0, 0, 1, 1, 0, 0, 0, 0, 1, 0, 1, 0, 1, 1, 1, 1,\n",
       "       0, 1, 1, 1, 0, 1, 0, 1, 1, 1, 0, 0, 1, 0, 1, 1, 1, 1, 0, 1, 1, 0,\n",
       "       0, 1, 1, 0, 0, 0, 0, 1], dtype=int64)"
      ]
     },
     "execution_count": 48,
     "metadata": {},
     "output_type": "execute_result"
    }
   ],
   "source": [
    "y_test = np.array(y_test)\n",
    "y_test"
   ]
  },
  {
   "cell_type": "markdown",
   "id": "7c1b0207",
   "metadata": {},
   "source": [
    "<a id='9'></a>\n",
    "# Reports"
   ]
  },
  {
   "cell_type": "markdown",
   "id": "99cb6eea",
   "metadata": {},
   "source": [
    "<a id='9.1'></a>\n",
    "***Classification Report***"
   ]
  },
  {
   "cell_type": "code",
   "execution_count": 49,
   "id": "00a13a5b",
   "metadata": {
    "ExecuteTime": {
     "end_time": "2021-12-15T14:44:03.924303Z",
     "start_time": "2021-12-15T14:44:03.896416Z"
    }
   },
   "outputs": [
    {
     "name": "stdout",
     "output_type": "stream",
     "text": [
      "              precision    recall  f1-score   support\n",
      "\n",
      "           0       1.00      1.00      1.00        24\n",
      "           1       1.00      1.00      1.00        28\n",
      "\n",
      "    accuracy                           1.00        52\n",
      "   macro avg       1.00      1.00      1.00        52\n",
      "weighted avg       1.00      1.00      1.00        52\n",
      "\n"
     ]
    }
   ],
   "source": [
    "print(classification_report(y_test, model.predict(X_test)))"
   ]
  },
  {
   "cell_type": "markdown",
   "id": "dad733be",
   "metadata": {},
   "source": [
    "<a id='9.2'></a>\n",
    "***Confusion matrix***"
   ]
  },
  {
   "cell_type": "code",
   "execution_count": 50,
   "id": "1357ba82",
   "metadata": {
    "ExecuteTime": {
     "end_time": "2021-12-15T14:44:08.516351Z",
     "start_time": "2021-12-15T14:44:08.489423Z"
    }
   },
   "outputs": [
    {
     "data": {
      "text/plain": [
       "array([[24,  0],\n",
       "       [ 0, 28]], dtype=int64)"
      ]
     },
     "execution_count": 50,
     "metadata": {},
     "output_type": "execute_result"
    }
   ],
   "source": [
    "cm = confusion_matrix(y_test, model.predict(X_test))\n",
    "cm"
   ]
  },
  {
   "cell_type": "code",
   "execution_count": 51,
   "id": "721acab0",
   "metadata": {
    "ExecuteTime": {
     "end_time": "2021-12-15T14:44:09.719250Z",
     "start_time": "2021-12-15T14:44:09.566563Z"
    }
   },
   "outputs": [
    {
     "data": {
      "image/png": "[encoded data removed]",
      "text/plain": [
       "<Figure size 576x360 with 2 Axes>"
      ]
     },
     "metadata": {
      "needs_background": "light"
     },
     "output_type": "display_data"
    }
   ],
   "source": [
    "plt.figure(figsize=(8,5))\n",
    "sns.heatmap(cm, annot=True);"
   ]
  }
 ],
 "metadata": {
  "kernelspec": {
   "display_name": "Python 3",
   "language": "python",
   "name": "python3"
  },
  "language_info": {
   "codemirror_mode": {
    "name": "ipython",
    "version": 3
   },
   "file_extension": ".py",
   "mimetype": "text/x-python",
   "name": "python",
   "nbconvert_exporter": "python",
   "pygments_lexer": "ipython3",
   "version": "3.8.8"
  },
  "toc": {
   "base_numbering": 1,
   "nav_menu": {},
   "number_sections": true,
   "sideBar": true,
   "skip_h1_title": false,
   "title_cell": "Table of Contents",
   "title_sidebar": "Contents",
   "toc_cell": false,
   "toc_position": {},
   "toc_section_display": true,
   "toc_window_display": false
  }
 },
 "nbformat": 4,
 "nbformat_minor": 5
}
