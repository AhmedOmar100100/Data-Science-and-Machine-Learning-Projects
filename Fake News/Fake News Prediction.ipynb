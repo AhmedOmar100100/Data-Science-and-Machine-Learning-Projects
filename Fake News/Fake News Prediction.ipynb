{
 "cells": [
  {
   "cell_type": "markdown",
   "id": "d18d5d5b",
   "metadata": {},
   "source": [
    "## Fake News\n",
    "Build a system to identify unreliable news articles (InClass Prediction Competition)"
   ]
  },
  {
   "cell_type": "markdown",
   "id": "8b2c7d8f",
   "metadata": {},
   "source": [
    "train.csv: A full training dataset with the following attributes:<br>\n",
    "\n",
    "id: unique id for a news article<br>\n",
    "title: the title of a news article<br>\n",
    "author: author of the news article<br>\n",
    "text: the text of the article; could be incomplete<br>\n",
    "label: a label that marks the article as potentially unreliable<br>\n",
    "1: unreliable<br>\n",
    "0: reliable<br>\n",
    "test.csv: A testing training dataset with all the same attributes at train.csv without the label.<br>\n",
    "submit.csv: A sample submission that you can"
   ]
  },
  {
   "cell_type": "markdown",
   "id": "7af22312",
   "metadata": {},
   "source": [
    "Develop a machine learning program to identify when an article might be fake news. Run by the UTK Machine Learning Club."
   ]
  },
  {
   "cell_type": "markdown",
   "id": "c3fb370b",
   "metadata": {},
   "source": [
    "Submission Format:\n",
    "For every article in the test dataset, submission files should contain two columns: `id` and `label`. The `id` column should refer to a row in the `test.csv` file, and the `label` column should refer it's class of reliable (`0`), or potentially fake (`1`)."
   ]
  },
  {
   "cell_type": "code",
   "execution_count": 77,
   "id": "66d35f51",
   "metadata": {
    "ExecuteTime": {
     "end_time": "2021-11-29T10:36:33.258552Z",
     "start_time": "2021-11-29T10:36:33.252859Z"
    }
   },
   "outputs": [],
   "source": [
    "import pandas as pd\n",
    "import numpy as np\n",
    "import re\n",
    "from nltk.corpus import stopwords\n",
    "from nltk.stem.porter import PorterStemmer\n",
    "from sklearn.feature_extraction.text import CountVectorizer\n",
    "from sklearn.feature_extraction.text import TfidfTransformer\n",
    "from sklearn.model_selection import train_test_split\n",
    "from sklearn.linear_model import LogisticRegression\n",
    "import joblib"
   ]
  },
  {
   "cell_type": "markdown",
   "id": "7dde4f5b",
   "metadata": {},
   "source": [
    "### Exploaring the data"
   ]
  },
  {
   "cell_type": "code",
   "execution_count": 31,
   "id": "7932f926",
   "metadata": {
    "ExecuteTime": {
     "end_time": "2021-11-29T01:52:13.589767Z",
     "start_time": "2021-11-29T01:52:10.763396Z"
    }
   },
   "outputs": [
    {
     "data": {
      "text/html": [
       "<div>\n",
       "<style scoped>\n",
       "    .dataframe tbody tr th:only-of-type {\n",
       "        vertical-align: middle;\n",
       "    }\n",
       "\n",
       "    .dataframe tbody tr th {\n",
       "        vertical-align: top;\n",
       "    }\n",
       "\n",
       "    .dataframe thead th {\n",
       "        text-align: right;\n",
       "    }\n",
       "</style>\n",
       "<table border=\"1\" class=\"dataframe\">\n",
       "  <thead>\n",
       "    <tr style=\"text-align: right;\">\n",
       "      <th></th>\n",
       "      <th>id</th>\n",
       "      <th>title</th>\n",
       "      <th>author</th>\n",
       "      <th>text</th>\n",
       "      <th>label</th>\n",
       "    </tr>\n",
       "  </thead>\n",
       "  <tbody>\n",
       "    <tr>\n",
       "      <th>0</th>\n",
       "      <td>0</td>\n",
       "      <td>House Dem Aide: We Didn’t Even See Comey’s Let...</td>\n",
       "      <td>Darrell Lucus</td>\n",
       "      <td>House Dem Aide: We Didn’t Even See Comey’s Let...</td>\n",
       "      <td>1</td>\n",
       "    </tr>\n",
       "    <tr>\n",
       "      <th>1</th>\n",
       "      <td>1</td>\n",
       "      <td>FLYNN: Hillary Clinton, Big Woman on Campus - ...</td>\n",
       "      <td>Daniel J. Flynn</td>\n",
       "      <td>Ever get the feeling your life circles the rou...</td>\n",
       "      <td>0</td>\n",
       "    </tr>\n",
       "    <tr>\n",
       "      <th>2</th>\n",
       "      <td>2</td>\n",
       "      <td>Why the Truth Might Get You Fired</td>\n",
       "      <td>Consortiumnews.com</td>\n",
       "      <td>Why the Truth Might Get You Fired October 29, ...</td>\n",
       "      <td>1</td>\n",
       "    </tr>\n",
       "    <tr>\n",
       "      <th>3</th>\n",
       "      <td>3</td>\n",
       "      <td>15 Civilians Killed In Single US Airstrike Hav...</td>\n",
       "      <td>Jessica Purkiss</td>\n",
       "      <td>Videos 15 Civilians Killed In Single US Airstr...</td>\n",
       "      <td>1</td>\n",
       "    </tr>\n",
       "    <tr>\n",
       "      <th>4</th>\n",
       "      <td>4</td>\n",
       "      <td>Iranian woman jailed for fictional unpublished...</td>\n",
       "      <td>Howard Portnoy</td>\n",
       "      <td>Print \\nAn Iranian woman has been sentenced to...</td>\n",
       "      <td>1</td>\n",
       "    </tr>\n",
       "  </tbody>\n",
       "</table>\n",
       "</div>"
      ],
      "text/plain": [
       "   id                                              title              author  \\\n",
       "0   0  House Dem Aide: We Didn’t Even See Comey’s Let...       Darrell Lucus   \n",
       "1   1  FLYNN: Hillary Clinton, Big Woman on Campus - ...     Daniel J. Flynn   \n",
       "2   2                  Why the Truth Might Get You Fired  Consortiumnews.com   \n",
       "3   3  15 Civilians Killed In Single US Airstrike Hav...     Jessica Purkiss   \n",
       "4   4  Iranian woman jailed for fictional unpublished...      Howard Portnoy   \n",
       "\n",
       "                                                text  label  \n",
       "0  House Dem Aide: We Didn’t Even See Comey’s Let...      1  \n",
       "1  Ever get the feeling your life circles the rou...      0  \n",
       "2  Why the Truth Might Get You Fired October 29, ...      1  \n",
       "3  Videos 15 Civilians Killed In Single US Airstr...      1  \n",
       "4  Print \\nAn Iranian woman has been sentenced to...      1  "
      ]
     },
     "execution_count": 31,
     "metadata": {},
     "output_type": "execute_result"
    }
   ],
   "source": [
    "train_data= pd.read_csv('train.csv')\n",
    "train_data.head()"
   ]
  },
  {
   "cell_type": "code",
   "execution_count": 32,
   "id": "d27a9a80",
   "metadata": {
    "ExecuteTime": {
     "end_time": "2021-11-29T01:52:14.362208Z",
     "start_time": "2021-11-29T01:52:13.594659Z"
    }
   },
   "outputs": [
    {
     "data": {
      "text/html": [
       "<div>\n",
       "<style scoped>\n",
       "    .dataframe tbody tr th:only-of-type {\n",
       "        vertical-align: middle;\n",
       "    }\n",
       "\n",
       "    .dataframe tbody tr th {\n",
       "        vertical-align: top;\n",
       "    }\n",
       "\n",
       "    .dataframe thead th {\n",
       "        text-align: right;\n",
       "    }\n",
       "</style>\n",
       "<table border=\"1\" class=\"dataframe\">\n",
       "  <thead>\n",
       "    <tr style=\"text-align: right;\">\n",
       "      <th></th>\n",
       "      <th>id</th>\n",
       "      <th>title</th>\n",
       "      <th>author</th>\n",
       "      <th>text</th>\n",
       "    </tr>\n",
       "  </thead>\n",
       "  <tbody>\n",
       "    <tr>\n",
       "      <th>0</th>\n",
       "      <td>20800</td>\n",
       "      <td>Specter of Trump Loosens Tongues, if Not Purse...</td>\n",
       "      <td>David Streitfeld</td>\n",
       "      <td>PALO ALTO, Calif.  —   After years of scorning...</td>\n",
       "    </tr>\n",
       "    <tr>\n",
       "      <th>1</th>\n",
       "      <td>20801</td>\n",
       "      <td>Russian warships ready to strike terrorists ne...</td>\n",
       "      <td>NaN</td>\n",
       "      <td>Russian warships ready to strike terrorists ne...</td>\n",
       "    </tr>\n",
       "    <tr>\n",
       "      <th>2</th>\n",
       "      <td>20802</td>\n",
       "      <td>#NoDAPL: Native American Leaders Vow to Stay A...</td>\n",
       "      <td>Common Dreams</td>\n",
       "      <td>Videos #NoDAPL: Native American Leaders Vow to...</td>\n",
       "    </tr>\n",
       "    <tr>\n",
       "      <th>3</th>\n",
       "      <td>20803</td>\n",
       "      <td>Tim Tebow Will Attempt Another Comeback, This ...</td>\n",
       "      <td>Daniel Victor</td>\n",
       "      <td>If at first you don’t succeed, try a different...</td>\n",
       "    </tr>\n",
       "    <tr>\n",
       "      <th>4</th>\n",
       "      <td>20804</td>\n",
       "      <td>Keiser Report: Meme Wars (E995)</td>\n",
       "      <td>Truth Broadcast Network</td>\n",
       "      <td>42 mins ago 1 Views 0 Comments 0 Likes 'For th...</td>\n",
       "    </tr>\n",
       "  </tbody>\n",
       "</table>\n",
       "</div>"
      ],
      "text/plain": [
       "      id                                              title  \\\n",
       "0  20800  Specter of Trump Loosens Tongues, if Not Purse...   \n",
       "1  20801  Russian warships ready to strike terrorists ne...   \n",
       "2  20802  #NoDAPL: Native American Leaders Vow to Stay A...   \n",
       "3  20803  Tim Tebow Will Attempt Another Comeback, This ...   \n",
       "4  20804                    Keiser Report: Meme Wars (E995)   \n",
       "\n",
       "                    author                                               text  \n",
       "0         David Streitfeld  PALO ALTO, Calif.  —   After years of scorning...  \n",
       "1                      NaN  Russian warships ready to strike terrorists ne...  \n",
       "2            Common Dreams  Videos #NoDAPL: Native American Leaders Vow to...  \n",
       "3            Daniel Victor  If at first you don’t succeed, try a different...  \n",
       "4  Truth Broadcast Network  42 mins ago 1 Views 0 Comments 0 Likes 'For th...  "
      ]
     },
     "execution_count": 32,
     "metadata": {},
     "output_type": "execute_result"
    }
   ],
   "source": [
    "test_data = pd.read_csv('test.csv')\n",
    "test_data.head()"
   ]
  },
  {
   "cell_type": "code",
   "execution_count": 33,
   "id": "bac404f5",
   "metadata": {
    "ExecuteTime": {
     "end_time": "2021-11-29T01:52:14.380523Z",
     "start_time": "2021-11-29T01:52:14.367464Z"
    }
   },
   "outputs": [
    {
     "data": {
      "text/plain": [
       "(20800, 5)"
      ]
     },
     "execution_count": 33,
     "metadata": {},
     "output_type": "execute_result"
    }
   ],
   "source": [
    "train_data.shape"
   ]
  },
  {
   "cell_type": "code",
   "execution_count": 34,
   "id": "ef96cfd4",
   "metadata": {
    "ExecuteTime": {
     "end_time": "2021-11-29T01:52:14.404844Z",
     "start_time": "2021-11-29T01:52:14.388715Z"
    }
   },
   "outputs": [
    {
     "data": {
      "text/plain": [
       "(5200, 4)"
      ]
     },
     "execution_count": 34,
     "metadata": {},
     "output_type": "execute_result"
    }
   ],
   "source": [
    "test_data.shape"
   ]
  },
  {
   "cell_type": "markdown",
   "id": "b31b66b3",
   "metadata": {},
   "source": [
    "stropwords are those words which dosen't add much value to a paragraph or text can be the words such as (the, a , you , where, what ,when, etc...)"
   ]
  },
  {
   "cell_type": "code",
   "execution_count": 35,
   "id": "4864db07",
   "metadata": {
    "ExecuteTime": {
     "end_time": "2021-11-29T01:52:14.430612Z",
     "start_time": "2021-11-29T01:52:14.407961Z"
    }
   },
   "outputs": [
    {
     "name": "stdout",
     "output_type": "stream",
     "text": [
      "['i', 'me', 'my', 'myself', 'we', 'our', 'ours', 'ourselves', 'you', \"you're\", \"you've\", \"you'll\", \"you'd\", 'your', 'yours', 'yourself', 'yourselves', 'he', 'him', 'his', 'himself', 'she', \"she's\", 'her', 'hers', 'herself', 'it', \"it's\", 'its', 'itself', 'they', 'them', 'their', 'theirs', 'themselves', 'what', 'which', 'who', 'whom', 'this', 'that', \"that'll\", 'these', 'those', 'am', 'is', 'are', 'was', 'were', 'be', 'been', 'being', 'have', 'has', 'had', 'having', 'do', 'does', 'did', 'doing', 'a', 'an', 'the', 'and', 'but', 'if', 'or', 'because', 'as', 'until', 'while', 'of', 'at', 'by', 'for', 'with', 'about', 'against', 'between', 'into', 'through', 'during', 'before', 'after', 'above', 'below', 'to', 'from', 'up', 'down', 'in', 'out', 'on', 'off', 'over', 'under', 'again', 'further', 'then', 'once', 'here', 'there', 'when', 'where', 'why', 'how', 'all', 'any', 'both', 'each', 'few', 'more', 'most', 'other', 'some', 'such', 'no', 'nor', 'not', 'only', 'own', 'same', 'so', 'than', 'too', 'very', 's', 't', 'can', 'will', 'just', 'don', \"don't\", 'should', \"should've\", 'now', 'd', 'll', 'm', 'o', 're', 've', 'y', 'ain', 'aren', \"aren't\", 'couldn', \"couldn't\", 'didn', \"didn't\", 'doesn', \"doesn't\", 'hadn', \"hadn't\", 'hasn', \"hasn't\", 'haven', \"haven't\", 'isn', \"isn't\", 'ma', 'mightn', \"mightn't\", 'mustn', \"mustn't\", 'needn', \"needn't\", 'shan', \"shan't\", 'shouldn', \"shouldn't\", 'wasn', \"wasn't\", 'weren', \"weren't\", 'won', \"won't\", 'wouldn', \"wouldn't\"]\n"
     ]
    }
   ],
   "source": [
    "print(stopwords.words('english'))"
   ]
  },
  {
   "cell_type": "code",
   "execution_count": 36,
   "id": "0ea8b442",
   "metadata": {
    "ExecuteTime": {
     "end_time": "2021-11-29T01:52:14.467228Z",
     "start_time": "2021-11-29T01:52:14.436011Z"
    }
   },
   "outputs": [
    {
     "data": {
      "text/plain": [
       "id           0\n",
       "title      558\n",
       "author    1957\n",
       "text        39\n",
       "label        0\n",
       "dtype: int64"
      ]
     },
     "execution_count": 36,
     "metadata": {},
     "output_type": "execute_result"
    }
   ],
   "source": [
    "train_data.isnull().sum()"
   ]
  },
  {
   "cell_type": "code",
   "execution_count": 37,
   "id": "e7eb8522",
   "metadata": {
    "ExecuteTime": {
     "end_time": "2021-11-29T01:52:14.507193Z",
     "start_time": "2021-11-29T01:52:14.468907Z"
    }
   },
   "outputs": [
    {
     "data": {
      "text/plain": [
       "id          0\n",
       "title     122\n",
       "author    503\n",
       "text        7\n",
       "dtype: int64"
      ]
     },
     "execution_count": 37,
     "metadata": {},
     "output_type": "execute_result"
    }
   ],
   "source": [
    "test_data.isnull().sum()"
   ]
  },
  {
   "cell_type": "markdown",
   "id": "d4df1940",
   "metadata": {},
   "source": [
    "### data Preprocessing"
   ]
  },
  {
   "cell_type": "markdown",
   "id": "56e28bfa",
   "metadata": {},
   "source": [
    "#### handling null values"
   ]
  },
  {
   "cell_type": "code",
   "execution_count": 38,
   "id": "fc1f74e7",
   "metadata": {
    "ExecuteTime": {
     "end_time": "2021-11-29T01:52:18.299941Z",
     "start_time": "2021-11-29T01:52:18.237989Z"
    }
   },
   "outputs": [],
   "source": [
    "train_data.fillna(' ', inplace=True)\n",
    "test_data.fillna(' ', inplace=True)\n",
    "\n",
    "test_data['content']=test_data['author']+' '+test_data['title']\n",
    "train_data['content']=train_data['author']+' '+train_data['title']"
   ]
  },
  {
   "cell_type": "code",
   "execution_count": 39,
   "id": "fd80dd04",
   "metadata": {
    "ExecuteTime": {
     "end_time": "2021-11-29T01:52:18.607737Z",
     "start_time": "2021-11-29T01:52:18.590551Z"
    }
   },
   "outputs": [
    {
     "data": {
      "text/html": [
       "<div>\n",
       "<style scoped>\n",
       "    .dataframe tbody tr th:only-of-type {\n",
       "        vertical-align: middle;\n",
       "    }\n",
       "\n",
       "    .dataframe tbody tr th {\n",
       "        vertical-align: top;\n",
       "    }\n",
       "\n",
       "    .dataframe thead th {\n",
       "        text-align: right;\n",
       "    }\n",
       "</style>\n",
       "<table border=\"1\" class=\"dataframe\">\n",
       "  <thead>\n",
       "    <tr style=\"text-align: right;\">\n",
       "      <th></th>\n",
       "      <th>id</th>\n",
       "      <th>title</th>\n",
       "      <th>author</th>\n",
       "      <th>text</th>\n",
       "      <th>label</th>\n",
       "      <th>content</th>\n",
       "    </tr>\n",
       "  </thead>\n",
       "  <tbody>\n",
       "    <tr>\n",
       "      <th>0</th>\n",
       "      <td>0</td>\n",
       "      <td>House Dem Aide: We Didn’t Even See Comey’s Let...</td>\n",
       "      <td>Darrell Lucus</td>\n",
       "      <td>House Dem Aide: We Didn’t Even See Comey’s Let...</td>\n",
       "      <td>1</td>\n",
       "      <td>Darrell Lucus House Dem Aide: We Didn’t Even S...</td>\n",
       "    </tr>\n",
       "    <tr>\n",
       "      <th>1</th>\n",
       "      <td>1</td>\n",
       "      <td>FLYNN: Hillary Clinton, Big Woman on Campus - ...</td>\n",
       "      <td>Daniel J. Flynn</td>\n",
       "      <td>Ever get the feeling your life circles the rou...</td>\n",
       "      <td>0</td>\n",
       "      <td>Daniel J. Flynn FLYNN: Hillary Clinton, Big Wo...</td>\n",
       "    </tr>\n",
       "    <tr>\n",
       "      <th>2</th>\n",
       "      <td>2</td>\n",
       "      <td>Why the Truth Might Get You Fired</td>\n",
       "      <td>Consortiumnews.com</td>\n",
       "      <td>Why the Truth Might Get You Fired October 29, ...</td>\n",
       "      <td>1</td>\n",
       "      <td>Consortiumnews.com Why the Truth Might Get You...</td>\n",
       "    </tr>\n",
       "    <tr>\n",
       "      <th>3</th>\n",
       "      <td>3</td>\n",
       "      <td>15 Civilians Killed In Single US Airstrike Hav...</td>\n",
       "      <td>Jessica Purkiss</td>\n",
       "      <td>Videos 15 Civilians Killed In Single US Airstr...</td>\n",
       "      <td>1</td>\n",
       "      <td>Jessica Purkiss 15 Civilians Killed In Single ...</td>\n",
       "    </tr>\n",
       "    <tr>\n",
       "      <th>4</th>\n",
       "      <td>4</td>\n",
       "      <td>Iranian woman jailed for fictional unpublished...</td>\n",
       "      <td>Howard Portnoy</td>\n",
       "      <td>Print \\nAn Iranian woman has been sentenced to...</td>\n",
       "      <td>1</td>\n",
       "      <td>Howard Portnoy Iranian woman jailed for fictio...</td>\n",
       "    </tr>\n",
       "  </tbody>\n",
       "</table>\n",
       "</div>"
      ],
      "text/plain": [
       "   id                                              title              author  \\\n",
       "0   0  House Dem Aide: We Didn’t Even See Comey’s Let...       Darrell Lucus   \n",
       "1   1  FLYNN: Hillary Clinton, Big Woman on Campus - ...     Daniel J. Flynn   \n",
       "2   2                  Why the Truth Might Get You Fired  Consortiumnews.com   \n",
       "3   3  15 Civilians Killed In Single US Airstrike Hav...     Jessica Purkiss   \n",
       "4   4  Iranian woman jailed for fictional unpublished...      Howard Portnoy   \n",
       "\n",
       "                                                text  label  \\\n",
       "0  House Dem Aide: We Didn’t Even See Comey’s Let...      1   \n",
       "1  Ever get the feeling your life circles the rou...      0   \n",
       "2  Why the Truth Might Get You Fired October 29, ...      1   \n",
       "3  Videos 15 Civilians Killed In Single US Airstr...      1   \n",
       "4  Print \\nAn Iranian woman has been sentenced to...      1   \n",
       "\n",
       "                                             content  \n",
       "0  Darrell Lucus House Dem Aide: We Didn’t Even S...  \n",
       "1  Daniel J. Flynn FLYNN: Hillary Clinton, Big Wo...  \n",
       "2  Consortiumnews.com Why the Truth Might Get You...  \n",
       "3  Jessica Purkiss 15 Civilians Killed In Single ...  \n",
       "4  Howard Portnoy Iranian woman jailed for fictio...  "
      ]
     },
     "execution_count": 39,
     "metadata": {},
     "output_type": "execute_result"
    }
   ],
   "source": [
    "train_data.head()"
   ]
  },
  {
   "cell_type": "code",
   "execution_count": 40,
   "id": "529e3618",
   "metadata": {
    "ExecuteTime": {
     "end_time": "2021-11-29T01:52:21.629961Z",
     "start_time": "2021-11-29T01:52:21.604921Z"
    }
   },
   "outputs": [
    {
     "data": {
      "text/html": [
       "<div>\n",
       "<style scoped>\n",
       "    .dataframe tbody tr th:only-of-type {\n",
       "        vertical-align: middle;\n",
       "    }\n",
       "\n",
       "    .dataframe tbody tr th {\n",
       "        vertical-align: top;\n",
       "    }\n",
       "\n",
       "    .dataframe thead th {\n",
       "        text-align: right;\n",
       "    }\n",
       "</style>\n",
       "<table border=\"1\" class=\"dataframe\">\n",
       "  <thead>\n",
       "    <tr style=\"text-align: right;\">\n",
       "      <th></th>\n",
       "      <th>id</th>\n",
       "      <th>title</th>\n",
       "      <th>author</th>\n",
       "      <th>text</th>\n",
       "      <th>content</th>\n",
       "    </tr>\n",
       "  </thead>\n",
       "  <tbody>\n",
       "    <tr>\n",
       "      <th>0</th>\n",
       "      <td>20800</td>\n",
       "      <td>Specter of Trump Loosens Tongues, if Not Purse...</td>\n",
       "      <td>David Streitfeld</td>\n",
       "      <td>PALO ALTO, Calif.  —   After years of scorning...</td>\n",
       "      <td>David Streitfeld Specter of Trump Loosens Tong...</td>\n",
       "    </tr>\n",
       "    <tr>\n",
       "      <th>1</th>\n",
       "      <td>20801</td>\n",
       "      <td>Russian warships ready to strike terrorists ne...</td>\n",
       "      <td></td>\n",
       "      <td>Russian warships ready to strike terrorists ne...</td>\n",
       "      <td>Russian warships ready to strike terrorists ...</td>\n",
       "    </tr>\n",
       "    <tr>\n",
       "      <th>2</th>\n",
       "      <td>20802</td>\n",
       "      <td>#NoDAPL: Native American Leaders Vow to Stay A...</td>\n",
       "      <td>Common Dreams</td>\n",
       "      <td>Videos #NoDAPL: Native American Leaders Vow to...</td>\n",
       "      <td>Common Dreams #NoDAPL: Native American Leaders...</td>\n",
       "    </tr>\n",
       "    <tr>\n",
       "      <th>3</th>\n",
       "      <td>20803</td>\n",
       "      <td>Tim Tebow Will Attempt Another Comeback, This ...</td>\n",
       "      <td>Daniel Victor</td>\n",
       "      <td>If at first you don’t succeed, try a different...</td>\n",
       "      <td>Daniel Victor Tim Tebow Will Attempt Another C...</td>\n",
       "    </tr>\n",
       "    <tr>\n",
       "      <th>4</th>\n",
       "      <td>20804</td>\n",
       "      <td>Keiser Report: Meme Wars (E995)</td>\n",
       "      <td>Truth Broadcast Network</td>\n",
       "      <td>42 mins ago 1 Views 0 Comments 0 Likes 'For th...</td>\n",
       "      <td>Truth Broadcast Network Keiser Report: Meme Wa...</td>\n",
       "    </tr>\n",
       "  </tbody>\n",
       "</table>\n",
       "</div>"
      ],
      "text/plain": [
       "      id                                              title  \\\n",
       "0  20800  Specter of Trump Loosens Tongues, if Not Purse...   \n",
       "1  20801  Russian warships ready to strike terrorists ne...   \n",
       "2  20802  #NoDAPL: Native American Leaders Vow to Stay A...   \n",
       "3  20803  Tim Tebow Will Attempt Another Comeback, This ...   \n",
       "4  20804                    Keiser Report: Meme Wars (E995)   \n",
       "\n",
       "                    author                                               text  \\\n",
       "0         David Streitfeld  PALO ALTO, Calif.  —   After years of scorning...   \n",
       "1                           Russian warships ready to strike terrorists ne...   \n",
       "2            Common Dreams  Videos #NoDAPL: Native American Leaders Vow to...   \n",
       "3            Daniel Victor  If at first you don’t succeed, try a different...   \n",
       "4  Truth Broadcast Network  42 mins ago 1 Views 0 Comments 0 Likes 'For th...   \n",
       "\n",
       "                                             content  \n",
       "0  David Streitfeld Specter of Trump Loosens Tong...  \n",
       "1    Russian warships ready to strike terrorists ...  \n",
       "2  Common Dreams #NoDAPL: Native American Leaders...  \n",
       "3  Daniel Victor Tim Tebow Will Attempt Another C...  \n",
       "4  Truth Broadcast Network Keiser Report: Meme Wa...  "
      ]
     },
     "execution_count": 40,
     "metadata": {},
     "output_type": "execute_result"
    }
   ],
   "source": [
    "test_data.head()"
   ]
  },
  {
   "cell_type": "markdown",
   "id": "cc144828",
   "metadata": {},
   "source": [
    "#### Stemming"
   ]
  },
  {
   "cell_type": "code",
   "execution_count": 41,
   "id": "0b190308",
   "metadata": {
    "ExecuteTime": {
     "end_time": "2021-11-29T01:52:22.871254Z",
     "start_time": "2021-11-29T01:52:22.856495Z"
    }
   },
   "outputs": [],
   "source": [
    "port_stem = PorterStemmer()"
   ]
  },
  {
   "cell_type": "code",
   "execution_count": 42,
   "id": "df0515d1",
   "metadata": {
    "ExecuteTime": {
     "end_time": "2021-11-29T01:52:23.836695Z",
     "start_time": "2021-11-29T01:52:23.828481Z"
    }
   },
   "outputs": [],
   "source": [
    "def stemming(content):\n",
    "    stemmed_content = re.sub('[^A-z]',' ',content) # this removes everything except Alphabets so it will removes numbers and sympoles and replace them by a space\n",
    "    stemmed_content = stemmed_content.lower() # convert all words into lower case letters\n",
    "    stemmed_content = stemmed_content.split() #Split the words into list\n",
    "    stemmed_content = [port_stem.stem(word) for word in stemmed_content if not word in stopwords.words('english')] # we are steamming this words which taking each word and reducing it to its root word and this case we are removing the stropwords\n",
    "    stemmed_content = ' '.join(stemmed_content) # after finish joining all the words \n",
    "    return stemmed_content"
   ]
  },
  {
   "cell_type": "code",
   "execution_count": 43,
   "id": "e4166f13",
   "metadata": {
    "ExecuteTime": {
     "end_time": "2021-11-29T01:57:33.594820Z",
     "start_time": "2021-11-29T01:52:25.644098Z"
    }
   },
   "outputs": [],
   "source": [
    "train_data['content'] = train_data['content'].apply(stemming)\n",
    "test_data['content'] = test_data['content'].apply(stemming)"
   ]
  },
  {
   "cell_type": "code",
   "execution_count": 44,
   "id": "b82a9558",
   "metadata": {
    "ExecuteTime": {
     "end_time": "2021-11-29T09:38:09.959630Z",
     "start_time": "2021-11-29T09:38:09.943640Z"
    }
   },
   "outputs": [
    {
     "data": {
      "text/plain": [
       "0        darrel lucu hous dem aid even see comey letter...\n",
       "1        daniel j flynn flynn hillari clinton big woman...\n",
       "2                   consortiumnew com truth might get fire\n",
       "3        jessica purkiss civilian kill singl us airstri...\n",
       "4        howard portnoy iranian woman jail fiction unpu...\n",
       "                               ...                        \n",
       "20795    jerom hudson rapper trump poster child white s...\n",
       "20796    benjamin hoffman n f l playoff schedul matchup...\n",
       "20797    michael j de la merc rachel abram maci said re...\n",
       "20798    alex ansari nato russia hold parallel exercis ...\n",
       "20799                            david swanson keep f aliv\n",
       "Name: content, Length: 20800, dtype: object"
      ]
     },
     "execution_count": 44,
     "metadata": {},
     "output_type": "execute_result"
    }
   ],
   "source": [
    "train_data['content']"
   ]
  },
  {
   "cell_type": "code",
   "execution_count": 45,
   "id": "62a7ffbc",
   "metadata": {
    "ExecuteTime": {
     "end_time": "2021-11-29T09:38:16.415415Z",
     "start_time": "2021-11-29T09:38:16.399426Z"
    }
   },
   "outputs": [
    {
     "data": {
      "text/plain": [
       "0       david streitfeld specter trump loosen tongu pu...\n",
       "1       russian warship readi strike terrorist near al...\n",
       "2       common dream nodapl nativ american leader vow ...\n",
       "3       daniel victor tim tebow attempt anoth comeback...\n",
       "4        truth broadcast network keiser report meme war e\n",
       "                              ...                        \n",
       "5195    jodi rosen bangladeshi traffic jam never end n...\n",
       "5196    sheryl gay stolberg john kasich sign one abort...\n",
       "5197    mike mcphate california today exactli sushi ne...\n",
       "5198                us marin deploy russian border norway\n",
       "5199        teddi wayn awkward sex onscreen new york time\n",
       "Name: content, Length: 5200, dtype: object"
      ]
     },
     "execution_count": 45,
     "metadata": {},
     "output_type": "execute_result"
    }
   ],
   "source": [
    "test_data['content']"
   ]
  },
  {
   "cell_type": "code",
   "execution_count": 46,
   "id": "4a2ea09f",
   "metadata": {
    "ExecuteTime": {
     "end_time": "2021-11-29T09:38:26.876120Z",
     "start_time": "2021-11-29T09:38:26.684183Z"
    }
   },
   "outputs": [
    {
     "data": {
      "text/plain": [
       "0        darrel lucu hous dem aid even see comey letter...\n",
       "1        daniel j flynn flynn hillari clinton big woman...\n",
       "2        consortiumnew com truth might get fireWhy the ...\n",
       "3        jessica purkiss civilian kill singl us airstri...\n",
       "4        howard portnoy iranian woman jail fiction unpu...\n",
       "                               ...                        \n",
       "20795    jerom hudson rapper trump poster child white s...\n",
       "20796    benjamin hoffman n f l playoff schedul matchup...\n",
       "20797    michael j de la merc rachel abram maci said re...\n",
       "20798    alex ansari nato russia hold parallel exercis ...\n",
       "20799    david swanson keep f aliv  David Swanson is an...\n",
       "Name: total, Length: 20800, dtype: object"
      ]
     },
     "execution_count": 46,
     "metadata": {},
     "output_type": "execute_result"
    }
   ],
   "source": [
    "train_data['total'] = train_data['content'] + train_data['text']\n",
    "train_data['total']"
   ]
  },
  {
   "cell_type": "code",
   "execution_count": 47,
   "id": "72893f70",
   "metadata": {
    "ExecuteTime": {
     "end_time": "2021-11-29T09:38:35.432858Z",
     "start_time": "2021-11-29T09:38:35.352876Z"
    }
   },
   "outputs": [
    {
     "data": {
      "text/plain": [
       "0       david streitfeld specter trump loosen tongu pu...\n",
       "1       russian warship readi strike terrorist near al...\n",
       "2       common dream nodapl nativ american leader vow ...\n",
       "3       daniel victor tim tebow attempt anoth comeback...\n",
       "4       truth broadcast network keiser report meme war...\n",
       "                              ...                        \n",
       "5195    jodi rosen bangladeshi traffic jam never end n...\n",
       "5196    sheryl gay stolberg john kasich sign one abort...\n",
       "5197    mike mcphate california today exactli sushi ne...\n",
       "5198    us marin deploy russian border norway« Previou...\n",
       "5199    teddi wayn awkward sex onscreen new york timeP...\n",
       "Name: total, Length: 5200, dtype: object"
      ]
     },
     "execution_count": 47,
     "metadata": {},
     "output_type": "execute_result"
    }
   ],
   "source": [
    "test_data['total'] = test_data['content'] + test_data['text']\n",
    "test_data['total']"
   ]
  },
  {
   "cell_type": "markdown",
   "id": "44cf0319",
   "metadata": {},
   "source": [
    "#### converting the textual data to numerical data"
   ]
  },
  {
   "cell_type": "code",
   "execution_count": 48,
   "id": "c741a674",
   "metadata": {
    "ExecuteTime": {
     "end_time": "2021-11-29T09:41:52.266186Z",
     "start_time": "2021-11-29T09:39:48.261380Z"
    }
   },
   "outputs": [],
   "source": [
    "transformer = TfidfTransformer(smooth_idf=False)\n",
    "count_vectorizer = CountVectorizer(ngram_range=(1, 2))\n",
    "counts = count_vectorizer.fit_transform(train_data['total'].values)\n",
    "tfidf = transformer.fit_transform(counts)"
   ]
  },
  {
   "cell_type": "code",
   "execution_count": 49,
   "id": "268e436d",
   "metadata": {
    "ExecuteTime": {
     "end_time": "2021-11-29T09:43:49.750590Z",
     "start_time": "2021-11-29T09:43:27.625488Z"
    }
   },
   "outputs": [
    {
     "name": "stderr",
     "output_type": "stream",
     "text": [
      "C:\\Users\\eyada\\Anaconda3\\lib\\site-packages\\sklearn\\feature_extraction\\text.py:1453: RuntimeWarning: divide by zero encountered in true_divide\n",
      "  idf = np.log(n_samples / df) + 1\n"
     ]
    }
   ],
   "source": [
    "targets = train_data['label'].values\n",
    "test_counts = count_vectorizer.transform(test_data['total'].values)\n",
    "test_tfidf = transformer.fit_transform(test_counts)"
   ]
  },
  {
   "cell_type": "markdown",
   "id": "75c98ecd",
   "metadata": {},
   "source": [
    "#### Assign Training and testing data"
   ]
  },
  {
   "cell_type": "code",
   "execution_count": 68,
   "id": "31ac6696",
   "metadata": {
    "ExecuteTime": {
     "end_time": "2021-11-29T10:09:31.983980Z",
     "start_time": "2021-11-29T10:09:31.764861Z"
    }
   },
   "outputs": [],
   "source": [
    "X_train, X_test, y_train, y_test = train_test_split(tfidf, targets, random_state=50)"
   ]
  },
  {
   "cell_type": "markdown",
   "id": "500e8a88",
   "metadata": {},
   "source": [
    "### Buliding and training the model"
   ]
  },
  {
   "cell_type": "code",
   "execution_count": 69,
   "id": "469f8d02",
   "metadata": {
    "ExecuteTime": {
     "end_time": "2021-11-29T10:12:01.745784Z",
     "start_time": "2021-11-29T10:09:32.454441Z"
    }
   },
   "outputs": [
    {
     "name": "stderr",
     "output_type": "stream",
     "text": [
      "C:\\Users\\eyada\\Anaconda3\\lib\\site-packages\\sklearn\\linear_model\\_logistic.py:763: ConvergenceWarning: lbfgs failed to converge (status=1):\n",
      "STOP: TOTAL NO. of ITERATIONS REACHED LIMIT.\n",
      "\n",
      "Increase the number of iterations (max_iter) or scale the data as shown in:\n",
      "    https://scikit-learn.org/stable/modules/preprocessing.html\n",
      "Please also refer to the documentation for alternative solver options:\n",
      "    https://scikit-learn.org/stable/modules/linear_model.html#logistic-regression\n",
      "  n_iter_i = _check_optimize_result(\n"
     ]
    },
    {
     "data": {
      "text/plain": [
       "LogisticRegression(C=100000.0)"
      ]
     },
     "execution_count": 69,
     "metadata": {},
     "output_type": "execute_result"
    }
   ],
   "source": [
    "model = LogisticRegression(C=1e5)\n",
    "model.fit(X_train, y_train)"
   ]
  },
  {
   "cell_type": "markdown",
   "id": "06649218",
   "metadata": {},
   "source": [
    "### Accuracy of the model"
   ]
  },
  {
   "cell_type": "code",
   "execution_count": 71,
   "id": "d890938c",
   "metadata": {
    "ExecuteTime": {
     "end_time": "2021-11-29T10:13:01.687001Z",
     "start_time": "2021-11-29T10:13:01.422477Z"
    }
   },
   "outputs": [
    {
     "data": {
      "text/plain": [
       "1.0"
      ]
     },
     "execution_count": 71,
     "metadata": {},
     "output_type": "execute_result"
    }
   ],
   "source": [
    "model.score(X_train, y_train)"
   ]
  },
  {
   "cell_type": "code",
   "execution_count": 70,
   "id": "40ee69ec",
   "metadata": {
    "ExecuteTime": {
     "end_time": "2021-11-29T10:12:01.856898Z",
     "start_time": "2021-11-29T10:12:01.748417Z"
    }
   },
   "outputs": [
    {
     "data": {
      "text/plain": [
       "0.9775"
      ]
     },
     "execution_count": 70,
     "metadata": {},
     "output_type": "execute_result"
    }
   ],
   "source": [
    "model.score(X_test, y_test)"
   ]
  },
  {
   "cell_type": "markdown",
   "id": "08df1c9a",
   "metadata": {},
   "source": [
    "### Predict testing data"
   ]
  },
  {
   "cell_type": "code",
   "execution_count": 75,
   "id": "5d9e9304",
   "metadata": {
    "ExecuteTime": {
     "end_time": "2021-11-29T10:27:53.582676Z",
     "start_time": "2021-11-29T10:27:36.549456Z"
    }
   },
   "outputs": [
    {
     "data": {
      "text/html": [
       "<div>\n",
       "<style scoped>\n",
       "    .dataframe tbody tr th:only-of-type {\n",
       "        vertical-align: middle;\n",
       "    }\n",
       "\n",
       "    .dataframe tbody tr th {\n",
       "        vertical-align: top;\n",
       "    }\n",
       "\n",
       "    .dataframe thead th {\n",
       "        text-align: right;\n",
       "    }\n",
       "</style>\n",
       "<table border=\"1\" class=\"dataframe\">\n",
       "  <thead>\n",
       "    <tr style=\"text-align: right;\">\n",
       "      <th></th>\n",
       "      <th>label</th>\n",
       "      <th>id</th>\n",
       "    </tr>\n",
       "  </thead>\n",
       "  <tbody>\n",
       "    <tr>\n",
       "      <th>0</th>\n",
       "      <td>0</td>\n",
       "      <td>20800</td>\n",
       "    </tr>\n",
       "    <tr>\n",
       "      <th>1</th>\n",
       "      <td>0</td>\n",
       "      <td>20801</td>\n",
       "    </tr>\n",
       "    <tr>\n",
       "      <th>2</th>\n",
       "      <td>0</td>\n",
       "      <td>20802</td>\n",
       "    </tr>\n",
       "    <tr>\n",
       "      <th>3</th>\n",
       "      <td>0</td>\n",
       "      <td>20803</td>\n",
       "    </tr>\n",
       "    <tr>\n",
       "      <th>4</th>\n",
       "      <td>0</td>\n",
       "      <td>20804</td>\n",
       "    </tr>\n",
       "    <tr>\n",
       "      <th>...</th>\n",
       "      <td>...</td>\n",
       "      <td>...</td>\n",
       "    </tr>\n",
       "    <tr>\n",
       "      <th>5195</th>\n",
       "      <td>0</td>\n",
       "      <td>25995</td>\n",
       "    </tr>\n",
       "    <tr>\n",
       "      <th>5196</th>\n",
       "      <td>0</td>\n",
       "      <td>25996</td>\n",
       "    </tr>\n",
       "    <tr>\n",
       "      <th>5197</th>\n",
       "      <td>0</td>\n",
       "      <td>25997</td>\n",
       "    </tr>\n",
       "    <tr>\n",
       "      <th>5198</th>\n",
       "      <td>0</td>\n",
       "      <td>25998</td>\n",
       "    </tr>\n",
       "    <tr>\n",
       "      <th>5199</th>\n",
       "      <td>0</td>\n",
       "      <td>25999</td>\n",
       "    </tr>\n",
       "  </tbody>\n",
       "</table>\n",
       "<p>5200 rows × 2 columns</p>\n",
       "</div>"
      ],
      "text/plain": [
       "      label     id\n",
       "0         0  20800\n",
       "1         0  20801\n",
       "2         0  20802\n",
       "3         0  20803\n",
       "4         0  20804\n",
       "...     ...    ...\n",
       "5195      0  25995\n",
       "5196      0  25996\n",
       "5197      0  25997\n",
       "5198      0  25998\n",
       "5199      0  25999\n",
       "\n",
       "[5200 rows x 2 columns]"
      ]
     },
     "execution_count": 75,
     "metadata": {},
     "output_type": "execute_result"
    }
   ],
   "source": [
    "example_counts = count_vectorizer.transform(test_data['total'].values)\n",
    "predictions = model.predict(example_counts)\n",
    "pred=pd.DataFrame(predictions,columns=['label'])\n",
    "pred['id']=test_data['id']\n",
    "pred"
   ]
  },
  {
   "cell_type": "markdown",
   "id": "3eacb6bf",
   "metadata": {},
   "source": [
    "### submission files"
   ]
  },
  {
   "cell_type": "code",
   "execution_count": 76,
   "id": "7c388253",
   "metadata": {
    "ExecuteTime": {
     "end_time": "2021-11-29T10:36:20.830296Z",
     "start_time": "2021-11-29T10:36:20.793083Z"
    }
   },
   "outputs": [],
   "source": [
    "pred.to_csv('Sumbit.csv', index=False)"
   ]
  },
  {
   "cell_type": "markdown",
   "id": "181f4a4c",
   "metadata": {},
   "source": [
    "### save the model"
   ]
  },
  {
   "cell_type": "code",
   "execution_count": 78,
   "id": "ef2f3043",
   "metadata": {
    "ExecuteTime": {
     "end_time": "2021-11-29T10:37:05.443841Z",
     "start_time": "2021-11-29T10:37:04.970556Z"
    }
   },
   "outputs": [
    {
     "data": {
      "text/plain": [
       "['Fake News Detection']"
      ]
     },
     "execution_count": 78,
     "metadata": {},
     "output_type": "execute_result"
    }
   ],
   "source": [
    "joblib.dump(model, 'Fake News Detection')"
   ]
  },
  {
   "cell_type": "code",
   "execution_count": null,
   "id": "bad41daa",
   "metadata": {},
   "outputs": [],
   "source": []
  }
 ],
 "metadata": {
  "kernelspec": {
   "display_name": "Python 3",
   "language": "python",
   "name": "python3"
  },
  "language_info": {
   "codemirror_mode": {
    "name": "ipython",
    "version": 3
   },
   "file_extension": ".py",
   "mimetype": "text/x-python",
   "name": "python",
   "nbconvert_exporter": "python",
   "pygments_lexer": "ipython3",
   "version": "3.8.8"
  },
  "toc": {
   "base_numbering": 1,
   "nav_menu": {},
   "number_sections": true,
   "sideBar": true,
   "skip_h1_title": false,
   "title_cell": "Table of Contents",
   "title_sidebar": "Contents",
   "toc_cell": false,
   "toc_position": {},
   "toc_section_display": true,
   "toc_window_display": false
  }
 },
 "nbformat": 4,
 "nbformat_minor": 5
}
