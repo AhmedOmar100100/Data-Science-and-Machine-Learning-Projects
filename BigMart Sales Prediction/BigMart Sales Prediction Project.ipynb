{
 "cells": [
  {
   "cell_type": "markdown",
   "id": "c8d46952",
   "metadata": {},
   "source": [
    "# Table of Contents\n",
    "<a id=\"toc\"></a>\n",
    "- [1. Project Description](#1)\n",
    "- [2. Import Necssaries Libraries](#2)\n",
    "- [3. Exploaring the Data](#3)\n",
    "    - [3.1 Shape of the data](#3.1)\n",
    "- [4. Data Cleaning](#4)\n",
    "    - [4.1 Handling Missing Values](#4.1)\n",
    "- [5. EDA](#5)\n",
    "- [6. Data Preprocessing](#6)\n",
    "    - [6.1 Label Encoder](#6.1)\n",
    "    - [6.2 One Hot Encoder](#6.2)\n",
    "- [7. Feature Scaling](#7)\n",
    "- [8. Assign Training and Testing Variables](#8)\n",
    "- [9. Spliting the data into Training and Testing Data](#9)\n",
    "- [10. Modeling](#10)\n",
    "    - [10.1 Random Forest Regressor Model](#10.1)\n",
    "    - [10.2 Gradient Boosting Regressor Model](#10.2)\n",
    "    - [10.3 Bagging Regressor model](#10.3)\n",
    "    - [10.4 Linear Regression Model](#10.4)\n",
    "    - [10.5 SVR model](#10.5)\n",
    "    - [10.6 Decision Tree Regressor](#10.6)\n",
    "- [11. Sumbission File](#11)"
   ]
  },
  {
   "cell_type": "markdown",
   "id": "bbb9fcdf",
   "metadata": {},
   "source": [
    "<a id='1'></a>\n",
    "# Project Descriprion"
   ]
  },
  {
   "cell_type": "markdown",
   "id": "b53e493c",
   "metadata": {},
   "source": [
    "The aim is to build a predictive model and find out the sales of each product at a particular store. Using this model, BigMart will try to understand the properties of products and stores which play a key role in increasing sales."
   ]
  },
  {
   "cell_type": "markdown",
   "id": "274642bf",
   "metadata": {},
   "source": [
    "<a href=\"#toc\" role=\"button\" aria-pressed=\"true\" >⬆️Back to Table of Contents ⬆️</a>"
   ]
  },
  {
   "cell_type": "markdown",
   "id": "82f57cf8",
   "metadata": {},
   "source": [
    "<a id='2'></a>\n",
    "# Import Necssaries Libraries"
   ]
  },
  {
   "cell_type": "code",
   "execution_count": 124,
   "id": "4204c221",
   "metadata": {
    "ExecuteTime": {
     "end_time": "2021-12-17T14:44:19.542916Z",
     "start_time": "2021-12-17T14:44:19.517563Z"
    }
   },
   "outputs": [],
   "source": [
    "import pandas as pd\n",
    "import numpy as np\n",
    "from matplotlib import pyplot as plt\n",
    "%matplotlib inline\n",
    "import seaborn as sns\n",
    "\n",
    "from sklearn.preprocessing import LabelEncoder\n",
    "from sklearn.model_selection import train_test_split\n",
    "from sklearn.preprocessing import StandardScaler\n",
    "from sklearn.linear_model import LinearRegression\n",
    "from sklearn.model_selection import cross_val_score\n",
    "from sklearn.ensemble import RandomForestRegressor, GradientBoostingRegressor, BaggingRegressor\n",
    "from sklearn.svm import SVR\n",
    "from sklearn.tree import DecisionTreeRegressor"
   ]
  },
  {
   "cell_type": "markdown",
   "id": "2a49e5c3",
   "metadata": {},
   "source": [
    "<a href=\"#toc\" role=\"button\" aria-pressed=\"true\" >⬆️Back to Table of Contents ⬆️</a>"
   ]
  },
  {
   "cell_type": "markdown",
   "id": "f66a6414",
   "metadata": {},
   "source": [
    "<a id='3'></a>\n",
    "# Exploaring the data"
   ]
  },
  {
   "cell_type": "code",
   "execution_count": 125,
   "id": "1e846605",
   "metadata": {
    "ExecuteTime": {
     "end_time": "2021-12-17T14:44:19.627830Z",
     "start_time": "2021-12-17T14:44:19.548995Z"
    },
    "scrolled": true
   },
   "outputs": [
    {
     "data": {
      "text/html": [
       "<div>\n",
       "<style scoped>\n",
       "    .dataframe tbody tr th:only-of-type {\n",
       "        vertical-align: middle;\n",
       "    }\n",
       "\n",
       "    .dataframe tbody tr th {\n",
       "        vertical-align: top;\n",
       "    }\n",
       "\n",
       "    .dataframe thead th {\n",
       "        text-align: right;\n",
       "    }\n",
       "</style>\n",
       "<table border=\"1\" class=\"dataframe\">\n",
       "  <thead>\n",
       "    <tr style=\"text-align: right;\">\n",
       "      <th></th>\n",
       "      <th>Item_Identifier</th>\n",
       "      <th>Item_Weight</th>\n",
       "      <th>Item_Fat_Content</th>\n",
       "      <th>Item_Visibility</th>\n",
       "      <th>Item_Type</th>\n",
       "      <th>Item_MRP</th>\n",
       "      <th>Outlet_Identifier</th>\n",
       "      <th>Outlet_Establishment_Year</th>\n",
       "      <th>Outlet_Size</th>\n",
       "      <th>Outlet_Location_Type</th>\n",
       "      <th>Outlet_Type</th>\n",
       "      <th>Item_Outlet_Sales</th>\n",
       "    </tr>\n",
       "  </thead>\n",
       "  <tbody>\n",
       "    <tr>\n",
       "      <th>0</th>\n",
       "      <td>FDA15</td>\n",
       "      <td>9.30</td>\n",
       "      <td>Low Fat</td>\n",
       "      <td>0.016047</td>\n",
       "      <td>Dairy</td>\n",
       "      <td>249.8092</td>\n",
       "      <td>OUT049</td>\n",
       "      <td>1999</td>\n",
       "      <td>Medium</td>\n",
       "      <td>Tier 1</td>\n",
       "      <td>Supermarket Type1</td>\n",
       "      <td>3735.1380</td>\n",
       "    </tr>\n",
       "    <tr>\n",
       "      <th>1</th>\n",
       "      <td>DRC01</td>\n",
       "      <td>5.92</td>\n",
       "      <td>Regular</td>\n",
       "      <td>0.019278</td>\n",
       "      <td>Soft Drinks</td>\n",
       "      <td>48.2692</td>\n",
       "      <td>OUT018</td>\n",
       "      <td>2009</td>\n",
       "      <td>Medium</td>\n",
       "      <td>Tier 3</td>\n",
       "      <td>Supermarket Type2</td>\n",
       "      <td>443.4228</td>\n",
       "    </tr>\n",
       "    <tr>\n",
       "      <th>2</th>\n",
       "      <td>FDN15</td>\n",
       "      <td>17.50</td>\n",
       "      <td>Low Fat</td>\n",
       "      <td>0.016760</td>\n",
       "      <td>Meat</td>\n",
       "      <td>141.6180</td>\n",
       "      <td>OUT049</td>\n",
       "      <td>1999</td>\n",
       "      <td>Medium</td>\n",
       "      <td>Tier 1</td>\n",
       "      <td>Supermarket Type1</td>\n",
       "      <td>2097.2700</td>\n",
       "    </tr>\n",
       "    <tr>\n",
       "      <th>3</th>\n",
       "      <td>FDX07</td>\n",
       "      <td>19.20</td>\n",
       "      <td>Regular</td>\n",
       "      <td>0.000000</td>\n",
       "      <td>Fruits and Vegetables</td>\n",
       "      <td>182.0950</td>\n",
       "      <td>OUT010</td>\n",
       "      <td>1998</td>\n",
       "      <td>NaN</td>\n",
       "      <td>Tier 3</td>\n",
       "      <td>Grocery Store</td>\n",
       "      <td>732.3800</td>\n",
       "    </tr>\n",
       "    <tr>\n",
       "      <th>4</th>\n",
       "      <td>NCD19</td>\n",
       "      <td>8.93</td>\n",
       "      <td>Low Fat</td>\n",
       "      <td>0.000000</td>\n",
       "      <td>Household</td>\n",
       "      <td>53.8614</td>\n",
       "      <td>OUT013</td>\n",
       "      <td>1987</td>\n",
       "      <td>High</td>\n",
       "      <td>Tier 3</td>\n",
       "      <td>Supermarket Type1</td>\n",
       "      <td>994.7052</td>\n",
       "    </tr>\n",
       "  </tbody>\n",
       "</table>\n",
       "</div>"
      ],
      "text/plain": [
       "  Item_Identifier  Item_Weight Item_Fat_Content  Item_Visibility  \\\n",
       "0           FDA15         9.30          Low Fat         0.016047   \n",
       "1           DRC01         5.92          Regular         0.019278   \n",
       "2           FDN15        17.50          Low Fat         0.016760   \n",
       "3           FDX07        19.20          Regular         0.000000   \n",
       "4           NCD19         8.93          Low Fat         0.000000   \n",
       "\n",
       "               Item_Type  Item_MRP Outlet_Identifier  \\\n",
       "0                  Dairy  249.8092            OUT049   \n",
       "1            Soft Drinks   48.2692            OUT018   \n",
       "2                   Meat  141.6180            OUT049   \n",
       "3  Fruits and Vegetables  182.0950            OUT010   \n",
       "4              Household   53.8614            OUT013   \n",
       "\n",
       "   Outlet_Establishment_Year Outlet_Size Outlet_Location_Type  \\\n",
       "0                       1999      Medium               Tier 1   \n",
       "1                       2009      Medium               Tier 3   \n",
       "2                       1999      Medium               Tier 1   \n",
       "3                       1998         NaN               Tier 3   \n",
       "4                       1987        High               Tier 3   \n",
       "\n",
       "         Outlet_Type  Item_Outlet_Sales  \n",
       "0  Supermarket Type1          3735.1380  \n",
       "1  Supermarket Type2           443.4228  \n",
       "2  Supermarket Type1          2097.2700  \n",
       "3      Grocery Store           732.3800  \n",
       "4  Supermarket Type1           994.7052  "
      ]
     },
     "execution_count": 125,
     "metadata": {},
     "output_type": "execute_result"
    }
   ],
   "source": [
    "train = pd.read_csv('Train.csv') # read train data\n",
    "train.head()"
   ]
  },
  {
   "cell_type": "code",
   "execution_count": 126,
   "id": "1c523b84",
   "metadata": {
    "ExecuteTime": {
     "end_time": "2021-12-17T14:44:19.696378Z",
     "start_time": "2021-12-17T14:44:19.632659Z"
    }
   },
   "outputs": [
    {
     "data": {
      "text/html": [
       "<div>\n",
       "<style scoped>\n",
       "    .dataframe tbody tr th:only-of-type {\n",
       "        vertical-align: middle;\n",
       "    }\n",
       "\n",
       "    .dataframe tbody tr th {\n",
       "        vertical-align: top;\n",
       "    }\n",
       "\n",
       "    .dataframe thead th {\n",
       "        text-align: right;\n",
       "    }\n",
       "</style>\n",
       "<table border=\"1\" class=\"dataframe\">\n",
       "  <thead>\n",
       "    <tr style=\"text-align: right;\">\n",
       "      <th></th>\n",
       "      <th>Item_Identifier</th>\n",
       "      <th>Item_Weight</th>\n",
       "      <th>Item_Fat_Content</th>\n",
       "      <th>Item_Visibility</th>\n",
       "      <th>Item_Type</th>\n",
       "      <th>Item_MRP</th>\n",
       "      <th>Outlet_Identifier</th>\n",
       "      <th>Outlet_Establishment_Year</th>\n",
       "      <th>Outlet_Size</th>\n",
       "      <th>Outlet_Location_Type</th>\n",
       "      <th>Outlet_Type</th>\n",
       "    </tr>\n",
       "  </thead>\n",
       "  <tbody>\n",
       "    <tr>\n",
       "      <th>0</th>\n",
       "      <td>FDW58</td>\n",
       "      <td>20.750</td>\n",
       "      <td>Low Fat</td>\n",
       "      <td>0.007565</td>\n",
       "      <td>Snack Foods</td>\n",
       "      <td>107.8622</td>\n",
       "      <td>OUT049</td>\n",
       "      <td>1999</td>\n",
       "      <td>Medium</td>\n",
       "      <td>Tier 1</td>\n",
       "      <td>Supermarket Type1</td>\n",
       "    </tr>\n",
       "    <tr>\n",
       "      <th>1</th>\n",
       "      <td>FDW14</td>\n",
       "      <td>8.300</td>\n",
       "      <td>reg</td>\n",
       "      <td>0.038428</td>\n",
       "      <td>Dairy</td>\n",
       "      <td>87.3198</td>\n",
       "      <td>OUT017</td>\n",
       "      <td>2007</td>\n",
       "      <td>NaN</td>\n",
       "      <td>Tier 2</td>\n",
       "      <td>Supermarket Type1</td>\n",
       "    </tr>\n",
       "    <tr>\n",
       "      <th>2</th>\n",
       "      <td>NCN55</td>\n",
       "      <td>14.600</td>\n",
       "      <td>Low Fat</td>\n",
       "      <td>0.099575</td>\n",
       "      <td>Others</td>\n",
       "      <td>241.7538</td>\n",
       "      <td>OUT010</td>\n",
       "      <td>1998</td>\n",
       "      <td>NaN</td>\n",
       "      <td>Tier 3</td>\n",
       "      <td>Grocery Store</td>\n",
       "    </tr>\n",
       "    <tr>\n",
       "      <th>3</th>\n",
       "      <td>FDQ58</td>\n",
       "      <td>7.315</td>\n",
       "      <td>Low Fat</td>\n",
       "      <td>0.015388</td>\n",
       "      <td>Snack Foods</td>\n",
       "      <td>155.0340</td>\n",
       "      <td>OUT017</td>\n",
       "      <td>2007</td>\n",
       "      <td>NaN</td>\n",
       "      <td>Tier 2</td>\n",
       "      <td>Supermarket Type1</td>\n",
       "    </tr>\n",
       "    <tr>\n",
       "      <th>4</th>\n",
       "      <td>FDY38</td>\n",
       "      <td>NaN</td>\n",
       "      <td>Regular</td>\n",
       "      <td>0.118599</td>\n",
       "      <td>Dairy</td>\n",
       "      <td>234.2300</td>\n",
       "      <td>OUT027</td>\n",
       "      <td>1985</td>\n",
       "      <td>Medium</td>\n",
       "      <td>Tier 3</td>\n",
       "      <td>Supermarket Type3</td>\n",
       "    </tr>\n",
       "  </tbody>\n",
       "</table>\n",
       "</div>"
      ],
      "text/plain": [
       "  Item_Identifier  Item_Weight Item_Fat_Content  Item_Visibility    Item_Type  \\\n",
       "0           FDW58       20.750          Low Fat         0.007565  Snack Foods   \n",
       "1           FDW14        8.300              reg         0.038428        Dairy   \n",
       "2           NCN55       14.600          Low Fat         0.099575       Others   \n",
       "3           FDQ58        7.315          Low Fat         0.015388  Snack Foods   \n",
       "4           FDY38          NaN          Regular         0.118599        Dairy   \n",
       "\n",
       "   Item_MRP Outlet_Identifier  Outlet_Establishment_Year Outlet_Size  \\\n",
       "0  107.8622            OUT049                       1999      Medium   \n",
       "1   87.3198            OUT017                       2007         NaN   \n",
       "2  241.7538            OUT010                       1998         NaN   \n",
       "3  155.0340            OUT017                       2007         NaN   \n",
       "4  234.2300            OUT027                       1985      Medium   \n",
       "\n",
       "  Outlet_Location_Type        Outlet_Type  \n",
       "0               Tier 1  Supermarket Type1  \n",
       "1               Tier 2  Supermarket Type1  \n",
       "2               Tier 3      Grocery Store  \n",
       "3               Tier 2  Supermarket Type1  \n",
       "4               Tier 3  Supermarket Type3  "
      ]
     },
     "execution_count": 126,
     "metadata": {},
     "output_type": "execute_result"
    }
   ],
   "source": [
    "test = pd.read_csv('Test.csv') # read test data\n",
    "test.head()"
   ]
  },
  {
   "cell_type": "code",
   "execution_count": 127,
   "id": "5f7eda71",
   "metadata": {
    "ExecuteTime": {
     "end_time": "2021-12-17T14:44:19.710054Z",
     "start_time": "2021-12-17T14:44:19.700781Z"
    }
   },
   "outputs": [
    {
     "data": {
      "text/plain": [
       "(8523, 12)"
      ]
     },
     "execution_count": 127,
     "metadata": {},
     "output_type": "execute_result"
    }
   ],
   "source": [
    "train.shape # in train dataset we have 8523 rows and 12 columns"
   ]
  },
  {
   "cell_type": "code",
   "execution_count": 128,
   "id": "5a29e162",
   "metadata": {
    "ExecuteTime": {
     "end_time": "2021-12-17T14:44:19.728240Z",
     "start_time": "2021-12-17T14:44:19.714050Z"
    }
   },
   "outputs": [
    {
     "data": {
      "text/plain": [
       "(5681, 11)"
      ]
     },
     "execution_count": 128,
     "metadata": {},
     "output_type": "execute_result"
    }
   ],
   "source": [
    "test.shape # in test dataset we have 5681 rows and 11 columns"
   ]
  },
  {
   "cell_type": "code",
   "execution_count": 129,
   "id": "02420db0",
   "metadata": {
    "ExecuteTime": {
     "end_time": "2021-12-17T14:44:19.771627Z",
     "start_time": "2021-12-17T14:44:19.731899Z"
    }
   },
   "outputs": [
    {
     "name": "stdout",
     "output_type": "stream",
     "text": [
      "<class 'pandas.core.frame.DataFrame'>\n",
      "RangeIndex: 8523 entries, 0 to 8522\n",
      "Data columns (total 12 columns):\n",
      " #   Column                     Non-Null Count  Dtype  \n",
      "---  ------                     --------------  -----  \n",
      " 0   Item_Identifier            8523 non-null   object \n",
      " 1   Item_Weight                7060 non-null   float64\n",
      " 2   Item_Fat_Content           8523 non-null   object \n",
      " 3   Item_Visibility            8523 non-null   float64\n",
      " 4   Item_Type                  8523 non-null   object \n",
      " 5   Item_MRP                   8523 non-null   float64\n",
      " 6   Outlet_Identifier          8523 non-null   object \n",
      " 7   Outlet_Establishment_Year  8523 non-null   int64  \n",
      " 8   Outlet_Size                6113 non-null   object \n",
      " 9   Outlet_Location_Type       8523 non-null   object \n",
      " 10  Outlet_Type                8523 non-null   object \n",
      " 11  Item_Outlet_Sales          8523 non-null   float64\n",
      "dtypes: float64(4), int64(1), object(7)\n",
      "memory usage: 799.2+ KB\n"
     ]
    }
   ],
   "source": [
    "train.info() "
   ]
  },
  {
   "cell_type": "code",
   "execution_count": 130,
   "id": "2011c8f0",
   "metadata": {
    "ExecuteTime": {
     "end_time": "2021-12-17T14:44:19.807300Z",
     "start_time": "2021-12-17T14:44:19.775734Z"
    },
    "scrolled": true
   },
   "outputs": [
    {
     "name": "stdout",
     "output_type": "stream",
     "text": [
      "<class 'pandas.core.frame.DataFrame'>\n",
      "RangeIndex: 5681 entries, 0 to 5680\n",
      "Data columns (total 11 columns):\n",
      " #   Column                     Non-Null Count  Dtype  \n",
      "---  ------                     --------------  -----  \n",
      " 0   Item_Identifier            5681 non-null   object \n",
      " 1   Item_Weight                4705 non-null   float64\n",
      " 2   Item_Fat_Content           5681 non-null   object \n",
      " 3   Item_Visibility            5681 non-null   float64\n",
      " 4   Item_Type                  5681 non-null   object \n",
      " 5   Item_MRP                   5681 non-null   float64\n",
      " 6   Outlet_Identifier          5681 non-null   object \n",
      " 7   Outlet_Establishment_Year  5681 non-null   int64  \n",
      " 8   Outlet_Size                4075 non-null   object \n",
      " 9   Outlet_Location_Type       5681 non-null   object \n",
      " 10  Outlet_Type                5681 non-null   object \n",
      "dtypes: float64(3), int64(1), object(7)\n",
      "memory usage: 488.3+ KB\n"
     ]
    }
   ],
   "source": [
    "test.info()"
   ]
  },
  {
   "cell_type": "code",
   "execution_count": 131,
   "id": "a615e0f1",
   "metadata": {
    "ExecuteTime": {
     "end_time": "2021-12-17T14:44:19.862806Z",
     "start_time": "2021-12-17T14:44:19.813611Z"
    }
   },
   "outputs": [
    {
     "data": {
      "text/plain": [
       "Item_Identifier              1559\n",
       "Item_Weight                   415\n",
       "Item_Fat_Content                5\n",
       "Item_Visibility              7880\n",
       "Item_Type                      16\n",
       "Item_MRP                     5938\n",
       "Outlet_Identifier              10\n",
       "Outlet_Establishment_Year       9\n",
       "Outlet_Size                     3\n",
       "Outlet_Location_Type            3\n",
       "Outlet_Type                     4\n",
       "Item_Outlet_Sales            3493\n",
       "dtype: int64"
      ]
     },
     "execution_count": 131,
     "metadata": {},
     "output_type": "execute_result"
    }
   ],
   "source": [
    "train.nunique()"
   ]
  },
  {
   "cell_type": "code",
   "execution_count": 132,
   "id": "3719112e",
   "metadata": {
    "ExecuteTime": {
     "end_time": "2021-12-17T14:44:19.912075Z",
     "start_time": "2021-12-17T14:44:19.867182Z"
    }
   },
   "outputs": [
    {
     "data": {
      "text/plain": [
       "Item_Identifier              1543\n",
       "Item_Weight                   410\n",
       "Item_Fat_Content                5\n",
       "Item_Visibility              5277\n",
       "Item_Type                      16\n",
       "Item_MRP                     4402\n",
       "Outlet_Identifier              10\n",
       "Outlet_Establishment_Year       9\n",
       "Outlet_Size                     3\n",
       "Outlet_Location_Type            3\n",
       "Outlet_Type                     4\n",
       "dtype: int64"
      ]
     },
     "execution_count": 132,
     "metadata": {},
     "output_type": "execute_result"
    }
   ],
   "source": [
    "test.nunique()"
   ]
  },
  {
   "cell_type": "markdown",
   "id": "42ac3257",
   "metadata": {},
   "source": [
    "Categorical Features:\n",
    "\n",
    "Item_Fat_Content<br>\n",
    "Item_Type<br>\n",
    "Outlet_Identifier<br>\n",
    "Outlet_Size<br>\n",
    "Outlet_Location_Type<br>\n",
    "Outlet_Type"
   ]
  },
  {
   "cell_type": "code",
   "execution_count": 133,
   "id": "8d8bce1d",
   "metadata": {
    "ExecuteTime": {
     "end_time": "2021-12-17T14:44:19.941025Z",
     "start_time": "2021-12-17T14:44:19.917103Z"
    }
   },
   "outputs": [
    {
     "data": {
      "text/plain": [
       "Index(['Item_Weight', 'Outlet_Size'], dtype='object')"
      ]
     },
     "execution_count": 133,
     "metadata": {},
     "output_type": "execute_result"
    }
   ],
   "source": [
    "train.columns[train.isna().any()]"
   ]
  },
  {
   "cell_type": "code",
   "execution_count": 134,
   "id": "1b3db7e3",
   "metadata": {
    "ExecuteTime": {
     "end_time": "2021-12-17T14:44:19.976583Z",
     "start_time": "2021-12-17T14:44:19.948327Z"
    }
   },
   "outputs": [
    {
     "data": {
      "text/plain": [
       "Index(['Item_Weight', 'Outlet_Size'], dtype='object')"
      ]
     },
     "execution_count": 134,
     "metadata": {},
     "output_type": "execute_result"
    }
   ],
   "source": [
    "test.columns[test.isna().any()]"
   ]
  },
  {
   "cell_type": "code",
   "execution_count": 135,
   "id": "8d987169",
   "metadata": {
    "ExecuteTime": {
     "end_time": "2021-12-17T14:44:20.015687Z",
     "start_time": "2021-12-17T14:44:19.982819Z"
    }
   },
   "outputs": [
    {
     "data": {
      "text/plain": [
       "Item_Identifier                 0\n",
       "Item_Weight                  1463\n",
       "Item_Fat_Content                0\n",
       "Item_Visibility                 0\n",
       "Item_Type                       0\n",
       "Item_MRP                        0\n",
       "Outlet_Identifier               0\n",
       "Outlet_Establishment_Year       0\n",
       "Outlet_Size                  2410\n",
       "Outlet_Location_Type            0\n",
       "Outlet_Type                     0\n",
       "Item_Outlet_Sales               0\n",
       "dtype: int64"
      ]
     },
     "execution_count": 135,
     "metadata": {},
     "output_type": "execute_result"
    }
   ],
   "source": [
    "train.isnull().sum()"
   ]
  },
  {
   "cell_type": "code",
   "execution_count": 136,
   "id": "bece9594",
   "metadata": {
    "ExecuteTime": {
     "end_time": "2021-12-17T14:44:20.043222Z",
     "start_time": "2021-12-17T14:44:20.019874Z"
    }
   },
   "outputs": [
    {
     "data": {
      "text/plain": [
       "Item_Identifier                 0\n",
       "Item_Weight                   976\n",
       "Item_Fat_Content                0\n",
       "Item_Visibility                 0\n",
       "Item_Type                       0\n",
       "Item_MRP                        0\n",
       "Outlet_Identifier               0\n",
       "Outlet_Establishment_Year       0\n",
       "Outlet_Size                  1606\n",
       "Outlet_Location_Type            0\n",
       "Outlet_Type                     0\n",
       "dtype: int64"
      ]
     },
     "execution_count": 136,
     "metadata": {},
     "output_type": "execute_result"
    }
   ],
   "source": [
    "test.isnull().sum()"
   ]
  },
  {
   "cell_type": "code",
   "execution_count": 137,
   "id": "4618cf3b",
   "metadata": {
    "ExecuteTime": {
     "end_time": "2021-12-17T14:44:20.106297Z",
     "start_time": "2021-12-17T14:44:20.047515Z"
    }
   },
   "outputs": [
    {
     "data": {
      "text/html": [
       "<div>\n",
       "<style scoped>\n",
       "    .dataframe tbody tr th:only-of-type {\n",
       "        vertical-align: middle;\n",
       "    }\n",
       "\n",
       "    .dataframe tbody tr th {\n",
       "        vertical-align: top;\n",
       "    }\n",
       "\n",
       "    .dataframe thead th {\n",
       "        text-align: right;\n",
       "    }\n",
       "</style>\n",
       "<table border=\"1\" class=\"dataframe\">\n",
       "  <thead>\n",
       "    <tr style=\"text-align: right;\">\n",
       "      <th></th>\n",
       "      <th>Item_Weight</th>\n",
       "      <th>Item_Visibility</th>\n",
       "      <th>Item_MRP</th>\n",
       "      <th>Outlet_Establishment_Year</th>\n",
       "      <th>Item_Outlet_Sales</th>\n",
       "    </tr>\n",
       "  </thead>\n",
       "  <tbody>\n",
       "    <tr>\n",
       "      <th>count</th>\n",
       "      <td>7060.000000</td>\n",
       "      <td>8523.000000</td>\n",
       "      <td>8523.000000</td>\n",
       "      <td>8523.000000</td>\n",
       "      <td>8523.000000</td>\n",
       "    </tr>\n",
       "    <tr>\n",
       "      <th>mean</th>\n",
       "      <td>12.857645</td>\n",
       "      <td>0.066132</td>\n",
       "      <td>140.992782</td>\n",
       "      <td>1997.831867</td>\n",
       "      <td>2181.288914</td>\n",
       "    </tr>\n",
       "    <tr>\n",
       "      <th>std</th>\n",
       "      <td>4.643456</td>\n",
       "      <td>0.051598</td>\n",
       "      <td>62.275067</td>\n",
       "      <td>8.371760</td>\n",
       "      <td>1706.499616</td>\n",
       "    </tr>\n",
       "    <tr>\n",
       "      <th>min</th>\n",
       "      <td>4.555000</td>\n",
       "      <td>0.000000</td>\n",
       "      <td>31.290000</td>\n",
       "      <td>1985.000000</td>\n",
       "      <td>33.290000</td>\n",
       "    </tr>\n",
       "    <tr>\n",
       "      <th>25%</th>\n",
       "      <td>8.773750</td>\n",
       "      <td>0.026989</td>\n",
       "      <td>93.826500</td>\n",
       "      <td>1987.000000</td>\n",
       "      <td>834.247400</td>\n",
       "    </tr>\n",
       "    <tr>\n",
       "      <th>50%</th>\n",
       "      <td>12.600000</td>\n",
       "      <td>0.053931</td>\n",
       "      <td>143.012800</td>\n",
       "      <td>1999.000000</td>\n",
       "      <td>1794.331000</td>\n",
       "    </tr>\n",
       "    <tr>\n",
       "      <th>75%</th>\n",
       "      <td>16.850000</td>\n",
       "      <td>0.094585</td>\n",
       "      <td>185.643700</td>\n",
       "      <td>2004.000000</td>\n",
       "      <td>3101.296400</td>\n",
       "    </tr>\n",
       "    <tr>\n",
       "      <th>max</th>\n",
       "      <td>21.350000</td>\n",
       "      <td>0.328391</td>\n",
       "      <td>266.888400</td>\n",
       "      <td>2009.000000</td>\n",
       "      <td>13086.964800</td>\n",
       "    </tr>\n",
       "  </tbody>\n",
       "</table>\n",
       "</div>"
      ],
      "text/plain": [
       "       Item_Weight  Item_Visibility     Item_MRP  Outlet_Establishment_Year  \\\n",
       "count  7060.000000      8523.000000  8523.000000                8523.000000   \n",
       "mean     12.857645         0.066132   140.992782                1997.831867   \n",
       "std       4.643456         0.051598    62.275067                   8.371760   \n",
       "min       4.555000         0.000000    31.290000                1985.000000   \n",
       "25%       8.773750         0.026989    93.826500                1987.000000   \n",
       "50%      12.600000         0.053931   143.012800                1999.000000   \n",
       "75%      16.850000         0.094585   185.643700                2004.000000   \n",
       "max      21.350000         0.328391   266.888400                2009.000000   \n",
       "\n",
       "       Item_Outlet_Sales  \n",
       "count        8523.000000  \n",
       "mean         2181.288914  \n",
       "std          1706.499616  \n",
       "min            33.290000  \n",
       "25%           834.247400  \n",
       "50%          1794.331000  \n",
       "75%          3101.296400  \n",
       "max         13086.964800  "
      ]
     },
     "execution_count": 137,
     "metadata": {},
     "output_type": "execute_result"
    }
   ],
   "source": [
    "train.describe()"
   ]
  },
  {
   "cell_type": "code",
   "execution_count": 138,
   "id": "9d3f6709",
   "metadata": {
    "ExecuteTime": {
     "end_time": "2021-12-17T14:44:20.176607Z",
     "start_time": "2021-12-17T14:44:20.110344Z"
    }
   },
   "outputs": [
    {
     "data": {
      "text/html": [
       "<div>\n",
       "<style scoped>\n",
       "    .dataframe tbody tr th:only-of-type {\n",
       "        vertical-align: middle;\n",
       "    }\n",
       "\n",
       "    .dataframe tbody tr th {\n",
       "        vertical-align: top;\n",
       "    }\n",
       "\n",
       "    .dataframe thead th {\n",
       "        text-align: right;\n",
       "    }\n",
       "</style>\n",
       "<table border=\"1\" class=\"dataframe\">\n",
       "  <thead>\n",
       "    <tr style=\"text-align: right;\">\n",
       "      <th></th>\n",
       "      <th>Item_Weight</th>\n",
       "      <th>Item_Visibility</th>\n",
       "      <th>Item_MRP</th>\n",
       "      <th>Outlet_Establishment_Year</th>\n",
       "    </tr>\n",
       "  </thead>\n",
       "  <tbody>\n",
       "    <tr>\n",
       "      <th>count</th>\n",
       "      <td>4705.000000</td>\n",
       "      <td>5681.000000</td>\n",
       "      <td>5681.000000</td>\n",
       "      <td>5681.000000</td>\n",
       "    </tr>\n",
       "    <tr>\n",
       "      <th>mean</th>\n",
       "      <td>12.695633</td>\n",
       "      <td>0.065684</td>\n",
       "      <td>141.023273</td>\n",
       "      <td>1997.828903</td>\n",
       "    </tr>\n",
       "    <tr>\n",
       "      <th>std</th>\n",
       "      <td>4.664849</td>\n",
       "      <td>0.051252</td>\n",
       "      <td>61.809091</td>\n",
       "      <td>8.372256</td>\n",
       "    </tr>\n",
       "    <tr>\n",
       "      <th>min</th>\n",
       "      <td>4.555000</td>\n",
       "      <td>0.000000</td>\n",
       "      <td>31.990000</td>\n",
       "      <td>1985.000000</td>\n",
       "    </tr>\n",
       "    <tr>\n",
       "      <th>25%</th>\n",
       "      <td>8.645000</td>\n",
       "      <td>0.027047</td>\n",
       "      <td>94.412000</td>\n",
       "      <td>1987.000000</td>\n",
       "    </tr>\n",
       "    <tr>\n",
       "      <th>50%</th>\n",
       "      <td>12.500000</td>\n",
       "      <td>0.054154</td>\n",
       "      <td>141.415400</td>\n",
       "      <td>1999.000000</td>\n",
       "    </tr>\n",
       "    <tr>\n",
       "      <th>75%</th>\n",
       "      <td>16.700000</td>\n",
       "      <td>0.093463</td>\n",
       "      <td>186.026600</td>\n",
       "      <td>2004.000000</td>\n",
       "    </tr>\n",
       "    <tr>\n",
       "      <th>max</th>\n",
       "      <td>21.350000</td>\n",
       "      <td>0.323637</td>\n",
       "      <td>266.588400</td>\n",
       "      <td>2009.000000</td>\n",
       "    </tr>\n",
       "  </tbody>\n",
       "</table>\n",
       "</div>"
      ],
      "text/plain": [
       "       Item_Weight  Item_Visibility     Item_MRP  Outlet_Establishment_Year\n",
       "count  4705.000000      5681.000000  5681.000000                5681.000000\n",
       "mean     12.695633         0.065684   141.023273                1997.828903\n",
       "std       4.664849         0.051252    61.809091                   8.372256\n",
       "min       4.555000         0.000000    31.990000                1985.000000\n",
       "25%       8.645000         0.027047    94.412000                1987.000000\n",
       "50%      12.500000         0.054154   141.415400                1999.000000\n",
       "75%      16.700000         0.093463   186.026600                2004.000000\n",
       "max      21.350000         0.323637   266.588400                2009.000000"
      ]
     },
     "execution_count": 138,
     "metadata": {},
     "output_type": "execute_result"
    }
   ],
   "source": [
    "test.describe()"
   ]
  },
  {
   "cell_type": "markdown",
   "id": "ba2aae9f",
   "metadata": {},
   "source": [
    "<a href=\"#toc\" role=\"button\" aria-pressed=\"true\" >⬆️Back to Table of Contents ⬆️</a>"
   ]
  },
  {
   "cell_type": "markdown",
   "id": "de5fa1fc",
   "metadata": {},
   "source": [
    "<a id='4'></a>\n",
    "# Data Cleaning"
   ]
  },
  {
   "cell_type": "markdown",
   "id": "8b86c8a0",
   "metadata": {
    "ExecuteTime": {
     "end_time": "2021-12-03T23:26:22.342219Z",
     "start_time": "2021-12-03T23:26:22.326771Z"
    }
   },
   "source": [
    "<a id='4.1'></a>\n",
    "***handling Null Values***"
   ]
  },
  {
   "cell_type": "code",
   "execution_count": 139,
   "id": "d0e7487d",
   "metadata": {
    "ExecuteTime": {
     "end_time": "2021-12-17T14:44:20.659575Z",
     "start_time": "2021-12-17T14:44:20.179973Z"
    }
   },
   "outputs": [
    {
     "data": {
      "image/png": "[encoded data removed]",
      "text/plain": [
       "<Figure size 1296x720 with 2 Axes>"
      ]
     },
     "metadata": {
      "needs_background": "light"
     },
     "output_type": "display_data"
    }
   ],
   "source": [
    "plt.figure(figsize=(18,10))\n",
    "\n",
    "plt.subplot(2,2,1)\n",
    "plt.title('Item_Weight in Train dataset')\n",
    "sns.boxplot(x='Item_Weight', data=train)\n",
    "\n",
    "plt.subplot(2,2,2)\n",
    "plt.title('Item_Weight in Test dataset')\n",
    "sns.boxplot(x='Item_Weight', data=test)\n",
    "\n",
    "plt.show()"
   ]
  },
  {
   "cell_type": "markdown",
   "id": "573025e6",
   "metadata": {},
   "source": [
    "from box plot Item Weight dosen't appear to have outliers in both datasets"
   ]
  },
  {
   "cell_type": "code",
   "execution_count": 140,
   "id": "4629c9e9",
   "metadata": {
    "ExecuteTime": {
     "end_time": "2021-12-17T14:44:20.676744Z",
     "start_time": "2021-12-17T14:44:20.662668Z"
    }
   },
   "outputs": [],
   "source": [
    "# Use the mean to replace the null values in Item_Weight feature\n",
    "train.Item_Weight = train.Item_Weight.fillna(train.Item_Weight.mean())\n",
    "test.Item_Weight = test.Item_Weight.fillna(test.Item_Weight.mean())"
   ]
  },
  {
   "cell_type": "code",
   "execution_count": 141,
   "id": "5d5b9898",
   "metadata": {
    "ExecuteTime": {
     "end_time": "2021-12-17T14:44:20.695431Z",
     "start_time": "2021-12-17T14:44:20.680716Z"
    }
   },
   "outputs": [
    {
     "data": {
      "text/plain": [
       "array(['Medium', nan, 'High', 'Small'], dtype=object)"
      ]
     },
     "execution_count": 141,
     "metadata": {},
     "output_type": "execute_result"
    }
   ],
   "source": [
    "train.Outlet_Size.unique()"
   ]
  },
  {
   "cell_type": "code",
   "execution_count": 142,
   "id": "04d2bfa6",
   "metadata": {
    "ExecuteTime": {
     "end_time": "2021-12-17T14:44:20.715906Z",
     "start_time": "2021-12-17T14:44:20.699280Z"
    }
   },
   "outputs": [
    {
     "data": {
      "text/plain": [
       "Medium    2793\n",
       "Small     2388\n",
       "High       932\n",
       "Name: Outlet_Size, dtype: int64"
      ]
     },
     "execution_count": 142,
     "metadata": {},
     "output_type": "execute_result"
    }
   ],
   "source": [
    "train.Outlet_Size.value_counts()"
   ]
  },
  {
   "cell_type": "code",
   "execution_count": 143,
   "id": "465dc1da",
   "metadata": {
    "ExecuteTime": {
     "end_time": "2021-12-17T14:44:20.745680Z",
     "start_time": "2021-12-17T14:44:20.721787Z"
    }
   },
   "outputs": [
    {
     "data": {
      "text/plain": [
       "Medium    1862\n",
       "Small     1592\n",
       "High       621\n",
       "Name: Outlet_Size, dtype: int64"
      ]
     },
     "execution_count": 143,
     "metadata": {},
     "output_type": "execute_result"
    }
   ],
   "source": [
    "test.Outlet_Size.value_counts()"
   ]
  },
  {
   "cell_type": "markdown",
   "id": "1b03a75e",
   "metadata": {},
   "source": [
    "here we can replace the null values with the mode because it is a categorical column"
   ]
  },
  {
   "cell_type": "code",
   "execution_count": 144,
   "id": "bd2ff824",
   "metadata": {
    "ExecuteTime": {
     "end_time": "2021-12-17T14:44:20.770065Z",
     "start_time": "2021-12-17T14:44:20.749710Z"
    }
   },
   "outputs": [],
   "source": [
    "train.Outlet_Size = train.Outlet_Size.fillna(train.Outlet_Size.mode()[0])\n",
    "test.Outlet_Size = test.Outlet_Size.fillna(test.Outlet_Size.mode()[0])"
   ]
  },
  {
   "cell_type": "code",
   "execution_count": 145,
   "id": "ee497f99",
   "metadata": {
    "ExecuteTime": {
     "end_time": "2021-12-17T14:44:20.797592Z",
     "start_time": "2021-12-17T14:44:20.773335Z"
    }
   },
   "outputs": [
    {
     "data": {
      "text/plain": [
       "Item_Identifier              0\n",
       "Item_Weight                  0\n",
       "Item_Fat_Content             0\n",
       "Item_Visibility              0\n",
       "Item_Type                    0\n",
       "Item_MRP                     0\n",
       "Outlet_Identifier            0\n",
       "Outlet_Establishment_Year    0\n",
       "Outlet_Size                  0\n",
       "Outlet_Location_Type         0\n",
       "Outlet_Type                  0\n",
       "Item_Outlet_Sales            0\n",
       "dtype: int64"
      ]
     },
     "execution_count": 145,
     "metadata": {},
     "output_type": "execute_result"
    }
   ],
   "source": [
    "train.isnull().sum()"
   ]
  },
  {
   "cell_type": "code",
   "execution_count": 146,
   "id": "489aa5fb",
   "metadata": {
    "ExecuteTime": {
     "end_time": "2021-12-17T14:44:20.837494Z",
     "start_time": "2021-12-17T14:44:20.809745Z"
    }
   },
   "outputs": [
    {
     "data": {
      "text/plain": [
       "Item_Identifier              0\n",
       "Item_Weight                  0\n",
       "Item_Fat_Content             0\n",
       "Item_Visibility              0\n",
       "Item_Type                    0\n",
       "Item_MRP                     0\n",
       "Outlet_Identifier            0\n",
       "Outlet_Establishment_Year    0\n",
       "Outlet_Size                  0\n",
       "Outlet_Location_Type         0\n",
       "Outlet_Type                  0\n",
       "dtype: int64"
      ]
     },
     "execution_count": 146,
     "metadata": {},
     "output_type": "execute_result"
    }
   ],
   "source": [
    "test.isnull().sum()"
   ]
  },
  {
   "cell_type": "markdown",
   "id": "8804d50c",
   "metadata": {},
   "source": [
    "<a href=\"#toc\" role=\"button\" aria-pressed=\"true\" >⬆️Back to Table of Contents ⬆️</a>"
   ]
  },
  {
   "cell_type": "markdown",
   "id": "7155a349",
   "metadata": {},
   "source": [
    "<a id='5'></a>\n",
    "# EDA"
   ]
  },
  {
   "cell_type": "code",
   "execution_count": 147,
   "id": "c94c1ed6",
   "metadata": {
    "ExecuteTime": {
     "end_time": "2021-12-17T14:44:20.886270Z",
     "start_time": "2021-12-17T14:44:20.843085Z"
    }
   },
   "outputs": [
    {
     "data": {
      "text/plain": [
       "Item_Identifier              1559\n",
       "Item_Weight                   416\n",
       "Item_Fat_Content                5\n",
       "Item_Visibility              7880\n",
       "Item_Type                      16\n",
       "Item_MRP                     5938\n",
       "Outlet_Identifier              10\n",
       "Outlet_Establishment_Year       9\n",
       "Outlet_Size                     3\n",
       "Outlet_Location_Type            3\n",
       "Outlet_Type                     4\n",
       "Item_Outlet_Sales            3493\n",
       "dtype: int64"
      ]
     },
     "execution_count": 147,
     "metadata": {},
     "output_type": "execute_result"
    }
   ],
   "source": [
    "train.nunique()"
   ]
  },
  {
   "cell_type": "code",
   "execution_count": 148,
   "id": "3a9f7d08",
   "metadata": {
    "ExecuteTime": {
     "end_time": "2021-12-17T14:44:20.903157Z",
     "start_time": "2021-12-17T14:44:20.889715Z"
    }
   },
   "outputs": [
    {
     "data": {
      "text/plain": [
       "array(['Low Fat', 'Regular', 'low fat', 'LF', 'reg'], dtype=object)"
      ]
     },
     "execution_count": 148,
     "metadata": {},
     "output_type": "execute_result"
    }
   ],
   "source": [
    "train.Item_Fat_Content.unique()"
   ]
  },
  {
   "cell_type": "code",
   "execution_count": 149,
   "id": "b2810f61",
   "metadata": {
    "ExecuteTime": {
     "end_time": "2021-12-17T14:44:20.921540Z",
     "start_time": "2021-12-17T14:44:20.906385Z"
    }
   },
   "outputs": [
    {
     "data": {
      "text/plain": [
       "Low Fat    5089\n",
       "Regular    2889\n",
       "LF          316\n",
       "reg         117\n",
       "low fat     112\n",
       "Name: Item_Fat_Content, dtype: int64"
      ]
     },
     "execution_count": 149,
     "metadata": {},
     "output_type": "execute_result"
    }
   ],
   "source": [
    "train.Item_Fat_Content.value_counts()"
   ]
  },
  {
   "cell_type": "markdown",
   "id": "4a656962",
   "metadata": {},
   "source": [
    "We see there are some irregularities in the column and it is needed to fix them!<br>\n",
    "for example there is low fat one with upper case and other with lower case and another abbreviated (LF) <br>\n",
    "also Regular and reg <br>\n",
    "so we have 2 types of item fat content Low fat and regular\n"
   ]
  },
  {
   "cell_type": "code",
   "execution_count": 150,
   "id": "29acc82d",
   "metadata": {
    "ExecuteTime": {
     "end_time": "2021-12-17T14:44:20.948578Z",
     "start_time": "2021-12-17T14:44:20.924790Z"
    }
   },
   "outputs": [],
   "source": [
    "train.Item_Fat_Content = train.Item_Fat_Content.replace(to_replace=['low fat', 'LF', 'reg'], value=['Low Fat', 'Low Fat', 'Regular'])"
   ]
  },
  {
   "cell_type": "code",
   "execution_count": 151,
   "id": "104aa0b8",
   "metadata": {
    "ExecuteTime": {
     "end_time": "2021-12-17T14:44:20.965908Z",
     "start_time": "2021-12-17T14:44:20.952101Z"
    }
   },
   "outputs": [
    {
     "data": {
      "text/plain": [
       "Low Fat    5517\n",
       "Regular    3006\n",
       "Name: Item_Fat_Content, dtype: int64"
      ]
     },
     "execution_count": 151,
     "metadata": {},
     "output_type": "execute_result"
    }
   ],
   "source": [
    "train.Item_Fat_Content.value_counts()"
   ]
  },
  {
   "cell_type": "code",
   "execution_count": 152,
   "id": "7585fb78",
   "metadata": {
    "ExecuteTime": {
     "end_time": "2021-12-17T14:44:20.983676Z",
     "start_time": "2021-12-17T14:44:20.969963Z"
    }
   },
   "outputs": [
    {
     "data": {
      "text/plain": [
       "array(['Low Fat', 'reg', 'Regular', 'LF', 'low fat'], dtype=object)"
      ]
     },
     "execution_count": 152,
     "metadata": {},
     "output_type": "execute_result"
    }
   ],
   "source": [
    "test.Item_Fat_Content.unique()"
   ]
  },
  {
   "cell_type": "code",
   "execution_count": 153,
   "id": "1e0867cf",
   "metadata": {
    "ExecuteTime": {
     "end_time": "2021-12-17T14:44:21.000810Z",
     "start_time": "2021-12-17T14:44:20.986364Z"
    }
   },
   "outputs": [
    {
     "data": {
      "text/plain": [
       "Low Fat    3396\n",
       "Regular    1935\n",
       "LF          206\n",
       "reg          78\n",
       "low fat      66\n",
       "Name: Item_Fat_Content, dtype: int64"
      ]
     },
     "execution_count": 153,
     "metadata": {},
     "output_type": "execute_result"
    }
   ],
   "source": [
    "test.Item_Fat_Content.value_counts()"
   ]
  },
  {
   "cell_type": "markdown",
   "id": "16f19a40",
   "metadata": {},
   "source": [
    "same problem in the testing data"
   ]
  },
  {
   "cell_type": "code",
   "execution_count": 154,
   "id": "0aced581",
   "metadata": {
    "ExecuteTime": {
     "end_time": "2021-12-17T14:44:21.031843Z",
     "start_time": "2021-12-17T14:44:21.005163Z"
    }
   },
   "outputs": [],
   "source": [
    "test.Item_Fat_Content = test.Item_Fat_Content.replace(to_replace=['low fat', 'LF', 'reg'], value=['Low Fat', 'Low Fat', 'Regular'])"
   ]
  },
  {
   "cell_type": "code",
   "execution_count": 155,
   "id": "d5cd0e81",
   "metadata": {
    "ExecuteTime": {
     "end_time": "2021-12-17T14:44:21.056411Z",
     "start_time": "2021-12-17T14:44:21.035683Z"
    }
   },
   "outputs": [
    {
     "data": {
      "text/plain": [
       "Low Fat    3668\n",
       "Regular    2013\n",
       "Name: Item_Fat_Content, dtype: int64"
      ]
     },
     "execution_count": 155,
     "metadata": {},
     "output_type": "execute_result"
    }
   ],
   "source": [
    "test.Item_Fat_Content.value_counts()"
   ]
  },
  {
   "cell_type": "code",
   "execution_count": 156,
   "id": "6b344ad0",
   "metadata": {
    "ExecuteTime": {
     "end_time": "2021-12-17T14:44:21.074926Z",
     "start_time": "2021-12-17T14:44:21.061928Z"
    }
   },
   "outputs": [
    {
     "data": {
      "text/plain": [
       "array(['Low Fat', 'Regular'], dtype=object)"
      ]
     },
     "execution_count": 156,
     "metadata": {},
     "output_type": "execute_result"
    }
   ],
   "source": [
    "test.Item_Fat_Content.unique()"
   ]
  },
  {
   "cell_type": "code",
   "execution_count": 157,
   "id": "e68b104c",
   "metadata": {
    "ExecuteTime": {
     "end_time": "2021-12-17T14:44:21.101473Z",
     "start_time": "2021-12-17T14:44:21.079661Z"
    }
   },
   "outputs": [
    {
     "data": {
      "text/plain": [
       "Low Fat    3668\n",
       "Regular    2013\n",
       "Name: Item_Fat_Content, dtype: int64"
      ]
     },
     "execution_count": 157,
     "metadata": {},
     "output_type": "execute_result"
    }
   ],
   "source": [
    "test.Item_Fat_Content.value_counts()"
   ]
  },
  {
   "cell_type": "code",
   "execution_count": 158,
   "id": "8534aff1",
   "metadata": {
    "ExecuteTime": {
     "end_time": "2021-12-17T14:44:21.831029Z",
     "start_time": "2021-12-17T14:44:21.105462Z"
    }
   },
   "outputs": [
    {
     "data": {
      "image/png": "[encoded data removed]",
      "text/plain": [
       "<Figure size 1296x864 with 2 Axes>"
      ]
     },
     "metadata": {
      "needs_background": "light"
     },
     "output_type": "display_data"
    }
   ],
   "source": [
    "plt.figure(figsize=(18,12))\n",
    "\n",
    "plt.subplot(2,2,1)\n",
    "plt.title(\"Item_Fat_Content Count in the Training Data\")\n",
    "sns.countplot(x='Item_Fat_Content', data=train, palette='ocean')\n",
    "\n",
    "plt.subplot(2,2,2)\n",
    "low_fat = train.Item_Fat_Content[train.Item_Fat_Content == 'Low Fat'].count()\n",
    "reg = train.Item_Fat_Content[train.Item_Fat_Content == 'Regular'].count()\n",
    "plt.title(\"Item Content Fat Distrbution in the Training Data\")\n",
    "plt.pie([low_fat, reg], labels=['Low Fat', 'Regular'], explode=[0.01,0.01], autopct=\"%.2f%%\", colors=['lightgreen', 'yellow'], shadow=True)\n",
    "plt.legend()\n",
    "\n",
    "plt.show()"
   ]
  },
  {
   "cell_type": "markdown",
   "id": "38c60c02",
   "metadata": {},
   "source": [
    "**Low Fat has the majority in the data 64.73% but Regular 35.27%**"
   ]
  },
  {
   "cell_type": "code",
   "execution_count": 159,
   "id": "e57c53f7",
   "metadata": {
    "ExecuteTime": {
     "end_time": "2021-12-17T14:44:22.296273Z",
     "start_time": "2021-12-17T14:44:21.834371Z"
    }
   },
   "outputs": [
    {
     "data": {
      "image/png": "[encoded data removed]",
      "text/plain": [
       "<Figure size 1800x576 with 1 Axes>"
      ]
     },
     "metadata": {
      "needs_background": "light"
     },
     "output_type": "display_data"
    }
   ],
   "source": [
    "plt.figure(figsize=(25,8))\n",
    "plt.title(\"Item Type count in the Training data\", {\"fontsize\" : 25})\n",
    "order = train.groupby('Item_Type').count().sort_values(by='Item_Outlet_Sales', ascending=False).index\n",
    "sns.countplot(x='Item_Type', data=train, order=order);"
   ]
  },
  {
   "cell_type": "markdown",
   "id": "f420a6fa",
   "metadata": {},
   "source": [
    "**Fruits and Vegetables are largely sold as people tend to use them on daily purpose.**<br>\n",
    "**Snack Foods too have good sales.**"
   ]
  },
  {
   "cell_type": "code",
   "execution_count": 160,
   "id": "c0b5ba33",
   "metadata": {
    "ExecuteTime": {
     "end_time": "2021-12-17T14:44:22.314137Z",
     "start_time": "2021-12-17T14:44:22.299957Z"
    }
   },
   "outputs": [
    {
     "data": {
      "text/plain": [
       "Medium    5203\n",
       "Small     2388\n",
       "High       932\n",
       "Name: Outlet_Size, dtype: int64"
      ]
     },
     "execution_count": 160,
     "metadata": {},
     "output_type": "execute_result"
    }
   ],
   "source": [
    "train.Outlet_Size.value_counts()"
   ]
  },
  {
   "cell_type": "code",
   "execution_count": 161,
   "id": "82fc1f09",
   "metadata": {
    "ExecuteTime": {
     "end_time": "2021-12-17T14:44:22.974515Z",
     "start_time": "2021-12-17T14:44:22.318801Z"
    }
   },
   "outputs": [
    {
     "data": {
      "image/png": "[encoded data removed]",
      "text/plain": [
       "<Figure size 1296x864 with 2 Axes>"
      ]
     },
     "metadata": {
      "needs_background": "light"
     },
     "output_type": "display_data"
    }
   ],
   "source": [
    "plt.figure(figsize=(18,12))\n",
    "\n",
    "plt.subplot(2,2,1)\n",
    "plt.title(\"The size of the store in terms of ground area covered count\")\n",
    "sns.countplot(x='Outlet_Size', data=train, palette='spring')\n",
    "\n",
    "plt.subplot(2,2,2)\n",
    "medium = train.Outlet_Size[train.Outlet_Size == 'Medium'].count()\n",
    "small = train.Outlet_Size[train.Outlet_Size == 'Small'].count()\n",
    "high = train.Outlet_Size[train.Outlet_Size == 'High'].count()\n",
    "plt.title(\"The size of the store in terms of ground area covered Distrbution\")\n",
    "plt.pie([medium, small, high], labels=['Medium', 'Small', 'High'], autopct=\"%.2f%%\", shadow=True, explode=[0.01,0.01,0.01])\n",
    "my_circle = plt.Circle( (0,0), 0.4, color='white')\n",
    "plt.gcf().gca().add_artist(my_circle)\n",
    "plt.legend()\n",
    "\n",
    "plt.show()"
   ]
  },
  {
   "cell_type": "markdown",
   "id": "e20dff15",
   "metadata": {},
   "source": [
    "Medium Size has the majoirty in the data 61.05%"
   ]
  },
  {
   "cell_type": "code",
   "execution_count": 162,
   "id": "e2d5d7d9",
   "metadata": {
    "ExecuteTime": {
     "end_time": "2021-12-17T14:44:22.992737Z",
     "start_time": "2021-12-17T14:44:22.978167Z"
    }
   },
   "outputs": [
    {
     "data": {
      "text/plain": [
       "array(['Tier 1', 'Tier 3', 'Tier 2'], dtype=object)"
      ]
     },
     "execution_count": 162,
     "metadata": {},
     "output_type": "execute_result"
    }
   ],
   "source": [
    "train.Outlet_Location_Type.unique()"
   ]
  },
  {
   "cell_type": "code",
   "execution_count": 163,
   "id": "ef4b005c",
   "metadata": {
    "ExecuteTime": {
     "end_time": "2021-12-17T14:44:23.011121Z",
     "start_time": "2021-12-17T14:44:22.996628Z"
    }
   },
   "outputs": [
    {
     "data": {
      "text/plain": [
       "Tier 3    3350\n",
       "Tier 2    2785\n",
       "Tier 1    2388\n",
       "Name: Outlet_Location_Type, dtype: int64"
      ]
     },
     "execution_count": 163,
     "metadata": {},
     "output_type": "execute_result"
    }
   ],
   "source": [
    "train.Outlet_Location_Type.value_counts()"
   ]
  },
  {
   "cell_type": "code",
   "execution_count": 164,
   "id": "5c329dbb",
   "metadata": {
    "ExecuteTime": {
     "end_time": "2021-12-17T14:44:23.636857Z",
     "start_time": "2021-12-17T14:44:23.015355Z"
    }
   },
   "outputs": [
    {
     "data": {
      "image/png": "[encoded data removed]",
      "text/plain": [
       "<Figure size 1296x864 with 2 Axes>"
      ]
     },
     "metadata": {
      "needs_background": "light"
     },
     "output_type": "display_data"
    }
   ],
   "source": [
    "plt.figure(figsize=(18,12))\n",
    "\n",
    "plt.subplot(2,2,1)\n",
    "plt.title(\"The type of city in which the store is located\")\n",
    "sns.countplot(x='Outlet_Location_Type', data=train, palette='twilight')\n",
    "\n",
    "plt.subplot(2,2,2)\n",
    "tier_1 = train.Outlet_Location_Type[train.Outlet_Location_Type == 'Tier 1'].count()\n",
    "tier_2 = train.Outlet_Location_Type[train.Outlet_Location_Type == 'Tier 2'].count()\n",
    "tier_3 = train.Outlet_Location_Type[train.Outlet_Location_Type == 'Tier 3'].count()\n",
    "plt.title(\"The type of city in which the store is located Distrbution\")\n",
    "plt.pie([tier_1, tier_2, tier_3], labels=['tier_1', 'tier_2', 'tier_3'], autopct=\"%.2f%%\", shadow=True, explode=[0.05,0.05,0.05])\n",
    "my_circle = plt.Circle( (0,0), 0.4, color='white')\n",
    "plt.gcf().gca().add_artist(my_circle)\n",
    "plt.legend()\n",
    "\n",
    "plt.show()"
   ]
  },
  {
   "cell_type": "markdown",
   "id": "85f06d3d",
   "metadata": {},
   "source": [
    "**The Outlets are maximum in number in Tier 3 Cities.**"
   ]
  },
  {
   "cell_type": "code",
   "execution_count": 165,
   "id": "57522262",
   "metadata": {
    "ExecuteTime": {
     "end_time": "2021-12-17T14:44:23.651211Z",
     "start_time": "2021-12-17T14:44:23.639985Z"
    }
   },
   "outputs": [
    {
     "data": {
      "text/plain": [
       "array(['Supermarket Type1', 'Supermarket Type2', 'Grocery Store',\n",
       "       'Supermarket Type3'], dtype=object)"
      ]
     },
     "execution_count": 165,
     "metadata": {},
     "output_type": "execute_result"
    }
   ],
   "source": [
    "train.Outlet_Type.unique()"
   ]
  },
  {
   "cell_type": "code",
   "execution_count": 166,
   "id": "338ad0d5",
   "metadata": {
    "ExecuteTime": {
     "end_time": "2021-12-17T14:44:23.678344Z",
     "start_time": "2021-12-17T14:44:23.655375Z"
    }
   },
   "outputs": [
    {
     "data": {
      "text/plain": [
       "Supermarket Type1    5577\n",
       "Grocery Store        1083\n",
       "Supermarket Type3     935\n",
       "Supermarket Type2     928\n",
       "Name: Outlet_Type, dtype: int64"
      ]
     },
     "execution_count": 166,
     "metadata": {},
     "output_type": "execute_result"
    }
   ],
   "source": [
    "train.Outlet_Type.value_counts()"
   ]
  },
  {
   "cell_type": "code",
   "execution_count": 167,
   "id": "7527baf0",
   "metadata": {
    "ExecuteTime": {
     "end_time": "2021-12-17T14:44:24.402115Z",
     "start_time": "2021-12-17T14:44:23.682524Z"
    }
   },
   "outputs": [
    {
     "data": {
      "image/png": "[encoded data removed]",
      "text/plain": [
       "<Figure size 1296x864 with 2 Axes>"
      ]
     },
     "metadata": {
      "needs_background": "light"
     },
     "output_type": "display_data"
    }
   ],
   "source": [
    "plt.figure(figsize=(18,12))\n",
    "\n",
    "plt.subplot(2,2,1)\n",
    "plt.title(\"Whether the outlet is just a grocery store or some sort of supermarket count\")\n",
    "sns.countplot(x='Outlet_Type', data=train, palette='autumn')\n",
    "\n",
    "plt.subplot(2,2,2)\n",
    "sup_1 = train.Outlet_Type[train.Outlet_Type == 'Supermarket Type1'].count()\n",
    "goc = train.Outlet_Type[train.Outlet_Type == 'Grocery Store'].count()\n",
    "sup_3 = train.Outlet_Type[train.Outlet_Type == 'Supermarket Type3'].count()\n",
    "sup_2 = train.Outlet_Type[train.Outlet_Type == 'Supermarket Type2'].count()\n",
    "plt.title(\"Whether the outlet is just a grocery store or some sort of supermarket Distrbution\")\n",
    "plt.pie([sup_1, goc, sup_3, sup_2], labels=['Supermarket Type1', 'Grocery Store', 'Supermarket Type3', 'Supermarket Type2'], autopct=\"%.2f%%\", shadow=True, explode=[0.01,0.01,0.01, 0.01])\n",
    "my_circle = plt.Circle( (0,0), 0.4, color='white')\n",
    "plt.gcf().gca().add_artist(my_circle)\n",
    "plt.legend(bbox_to_anchor=(1, 0))\n",
    "\n",
    "plt.show()"
   ]
  },
  {
   "cell_type": "markdown",
   "id": "a9a6b0ce",
   "metadata": {},
   "source": [
    "**The Outlets are more of Supermarket Type1.**\n"
   ]
  },
  {
   "cell_type": "code",
   "execution_count": 168,
   "id": "12213b54",
   "metadata": {
    "ExecuteTime": {
     "end_time": "2021-12-17T14:44:24.414910Z",
     "start_time": "2021-12-17T14:44:24.405313Z"
    }
   },
   "outputs": [
    {
     "data": {
      "text/plain": [
       "array([1999, 2009, 1998, 1987, 1985, 2002, 2007, 1997, 2004], dtype=int64)"
      ]
     },
     "execution_count": 168,
     "metadata": {},
     "output_type": "execute_result"
    }
   ],
   "source": [
    "train.Outlet_Establishment_Year.unique()"
   ]
  },
  {
   "cell_type": "code",
   "execution_count": 169,
   "id": "c3464467",
   "metadata": {
    "ExecuteTime": {
     "end_time": "2021-12-17T14:44:24.439336Z",
     "start_time": "2021-12-17T14:44:24.419559Z"
    }
   },
   "outputs": [],
   "source": [
    "train['Age'] = 2021 - train.Outlet_Establishment_Year\n",
    "test['Age'] = 2021 - test.Outlet_Establishment_Year"
   ]
  },
  {
   "cell_type": "code",
   "execution_count": 170,
   "id": "9bb3691a",
   "metadata": {
    "ExecuteTime": {
     "end_time": "2021-12-17T14:44:24.789276Z",
     "start_time": "2021-12-17T14:44:24.443356Z"
    }
   },
   "outputs": [
    {
     "data": {
      "image/png": "[encoded data removed]",
      "text/plain": [
       "<Figure size 864x432 with 1 Axes>"
      ]
     },
     "metadata": {
      "needs_background": "light"
     },
     "output_type": "display_data"
    }
   ],
   "source": [
    "plt.figure(figsize=(12,6))\n",
    "\n",
    "sns.countplot(x='Age', data=train, palette='autumn');"
   ]
  },
  {
   "cell_type": "markdown",
   "id": "8941bdde",
   "metadata": {},
   "source": [
    "The Outlets are more of established and running from 35 years.\n"
   ]
  },
  {
   "cell_type": "code",
   "execution_count": 171,
   "id": "8cdc7679",
   "metadata": {
    "ExecuteTime": {
     "end_time": "2021-12-17T14:44:24.834547Z",
     "start_time": "2021-12-17T14:44:24.792696Z"
    }
   },
   "outputs": [
    {
     "data": {
      "text/plain": [
       "Item_Identifier              1559\n",
       "Item_Weight                   416\n",
       "Item_Fat_Content                2\n",
       "Item_Visibility              7880\n",
       "Item_Type                      16\n",
       "Item_MRP                     5938\n",
       "Outlet_Identifier              10\n",
       "Outlet_Establishment_Year       9\n",
       "Outlet_Size                     3\n",
       "Outlet_Location_Type            3\n",
       "Outlet_Type                     4\n",
       "Item_Outlet_Sales            3493\n",
       "Age                             9\n",
       "dtype: int64"
      ]
     },
     "execution_count": 171,
     "metadata": {},
     "output_type": "execute_result"
    }
   ],
   "source": [
    "train.nunique()"
   ]
  },
  {
   "cell_type": "code",
   "execution_count": 172,
   "id": "df870aa9",
   "metadata": {
    "ExecuteTime": {
     "end_time": "2021-12-17T14:44:24.909201Z",
     "start_time": "2021-12-17T14:44:24.839987Z"
    }
   },
   "outputs": [],
   "source": [
    "FEATURES = [col for col in train.columns if col not in ['Item_Outlet_Sales', 'Outlet_Identifier']]\n",
    "cat_features = [col for col in FEATURES if train[col].nunique() < 10]\n",
    "cont_features = [col for col in FEATURES if train[col].nunique() >= 10]"
   ]
  },
  {
   "cell_type": "code",
   "execution_count": 173,
   "id": "60123b10",
   "metadata": {
    "ExecuteTime": {
     "end_time": "2021-12-17T14:44:24.933306Z",
     "start_time": "2021-12-17T14:44:24.916181Z"
    }
   },
   "outputs": [
    {
     "data": {
      "text/plain": [
       "['Item_Fat_Content',\n",
       " 'Outlet_Establishment_Year',\n",
       " 'Outlet_Size',\n",
       " 'Outlet_Location_Type',\n",
       " 'Outlet_Type',\n",
       " 'Age']"
      ]
     },
     "execution_count": 173,
     "metadata": {},
     "output_type": "execute_result"
    }
   ],
   "source": [
    "cat_features"
   ]
  },
  {
   "cell_type": "code",
   "execution_count": 174,
   "id": "67278c6f",
   "metadata": {
    "ExecuteTime": {
     "end_time": "2021-12-17T14:44:24.958425Z",
     "start_time": "2021-12-17T14:44:24.940035Z"
    }
   },
   "outputs": [
    {
     "data": {
      "text/plain": [
       "['Item_Identifier', 'Item_Weight', 'Item_Visibility', 'Item_Type', 'Item_MRP']"
      ]
     },
     "execution_count": 174,
     "metadata": {},
     "output_type": "execute_result"
    }
   ],
   "source": [
    "cont_features"
   ]
  },
  {
   "cell_type": "code",
   "execution_count": 175,
   "id": "da6f7806",
   "metadata": {
    "ExecuteTime": {
     "end_time": "2021-12-17T14:44:28.236922Z",
     "start_time": "2021-12-17T14:44:24.967273Z"
    }
   },
   "outputs": [
    {
     "data": {
      "image/png": "[encoded data removed]",
      "text/plain": [
       "<Figure size 1584x720 with 6 Axes>"
      ]
     },
     "metadata": {},
     "output_type": "display_data"
    }
   ],
   "source": [
    "ncols = 3\n",
    "nrows = int(len(cat_features) / ncols + (len(FEATURES) % ncols > 0))-1\n",
    "\n",
    "fig, axes = plt.subplots(nrows, ncols, figsize=(22, 10), facecolor='#EAEAF2')\n",
    "\n",
    "for r in range(nrows):\n",
    "    for c in range(ncols):\n",
    "        col = cat_features[r*ncols+c]\n",
    "        sns.barplot(y=train['Item_Outlet_Sales'], x=train[col], ax=axes[r, c], palette='autumn', label='Train data')\n",
    "        axes[r, c].set_ylabel('')\n",
    "        axes[r, c].set_xlabel(col, fontsize=12, fontweight='bold')\n",
    "        axes[r, c].tick_params(labelsize=10, width=0.5)\n",
    "        axes[r, c].xaxis.offsetText.set_fontsize(6)\n",
    "        axes[r, c].yaxis.offsetText.set_fontsize(6)\n",
    "plt.show()\n"
   ]
  },
  {
   "cell_type": "markdown",
   "id": "4098ede0",
   "metadata": {},
   "source": [
    "- The Item Outles sales are high for both Low Fat and Regular Item types.\n",
    "- The Outlet Sales is maximum for Medium and High sized Outlets.\n",
    "- The Outlets we have is Medium and may be with High size Outlets can improve the Outlet Sales.\n",
    "- The Outlet Sales tend to be high for Tier3 and Tier 2 location types but we have only Tier3 locations maximum Outlets.\n",
    "- Supermarket Type3 sales tends to be high which in Grocery store is very low\n",
    "- It is quiet evident that Outlets established 36 years before is having good Sales margin.<br>\n",
    "- We also have a outlet which was established before 23 years has the lowest sales margin, so established years wouldn't improve the Sales unless the products are sold according to customer's interest."
   ]
  },
  {
   "cell_type": "code",
   "execution_count": 176,
   "id": "50d889f6",
   "metadata": {
    "ExecuteTime": {
     "end_time": "2021-12-17T14:44:29.621821Z",
     "start_time": "2021-12-17T14:44:28.240383Z"
    }
   },
   "outputs": [
    {
     "data": {
      "image/png": "[encoded data removed]",
      "text/plain": [
       "<Figure size 1800x576 with 1 Axes>"
      ]
     },
     "metadata": {
      "needs_background": "light"
     },
     "output_type": "display_data"
    }
   ],
   "source": [
    "plt.figure(figsize=(25,8))\n",
    "\n",
    "order=train.groupby('Item_Type').mean().sort_values(by='Item_Outlet_Sales', ascending=False).index\n",
    "sns.barplot(x='Item_Type',y='Item_Outlet_Sales',data=train,palette='spring', order=order);"
   ]
  },
  {
   "cell_type": "markdown",
   "id": "e23d026c",
   "metadata": {},
   "source": [
    "**The products available were Fruits-Veggies and Snack Foods but the sales of Seafood and Starchy Foods seems higher and hence the sales can be improved with having stock of products that are most bought by customers**"
   ]
  },
  {
   "cell_type": "code",
   "execution_count": 177,
   "id": "634f93da",
   "metadata": {
    "ExecuteTime": {
     "end_time": "2021-12-17T14:44:29.672463Z",
     "start_time": "2021-12-17T14:44:29.624963Z"
    }
   },
   "outputs": [
    {
     "data": {
      "text/plain": [
       "Item_Identifier              1559\n",
       "Item_Weight                   416\n",
       "Item_Fat_Content                2\n",
       "Item_Visibility              7880\n",
       "Item_Type                      16\n",
       "Item_MRP                     5938\n",
       "Outlet_Identifier              10\n",
       "Outlet_Establishment_Year       9\n",
       "Outlet_Size                     3\n",
       "Outlet_Location_Type            3\n",
       "Outlet_Type                     4\n",
       "Item_Outlet_Sales            3493\n",
       "Age                             9\n",
       "dtype: int64"
      ]
     },
     "execution_count": 177,
     "metadata": {},
     "output_type": "execute_result"
    }
   ],
   "source": [
    "train.nunique()"
   ]
  },
  {
   "cell_type": "markdown",
   "id": "752b2f29",
   "metadata": {},
   "source": [
    "Continous Features:\n",
    "\n",
    "- Item_Weight\n",
    "- Item_Visibility\n",
    "- Item_MRP"
   ]
  },
  {
   "cell_type": "code",
   "execution_count": 178,
   "id": "3d299f0d",
   "metadata": {
    "ExecuteTime": {
     "end_time": "2021-12-17T14:44:29.732364Z",
     "start_time": "2021-12-17T14:44:29.677155Z"
    }
   },
   "outputs": [],
   "source": [
    "FEATURES = [col for col in train.columns if col not in ['Item_Outlet_Sales', 'Outlet_Identifier', 'Item_Identifier']]\n",
    "cat_features = [col for col in FEATURES if train[col].nunique() < 25]\n",
    "cont_features = [col for col in FEATURES if train[col].nunique() >= 25]"
   ]
  },
  {
   "cell_type": "code",
   "execution_count": 179,
   "id": "3fc693a6",
   "metadata": {
    "ExecuteTime": {
     "end_time": "2021-12-17T14:44:29.753151Z",
     "start_time": "2021-12-17T14:44:29.736977Z"
    }
   },
   "outputs": [
    {
     "data": {
      "text/plain": [
       "['Item_Weight', 'Item_Visibility', 'Item_MRP']"
      ]
     },
     "execution_count": 179,
     "metadata": {},
     "output_type": "execute_result"
    }
   ],
   "source": [
    "cont_features"
   ]
  },
  {
   "cell_type": "code",
   "execution_count": 180,
   "id": "ba50105a",
   "metadata": {
    "ExecuteTime": {
     "end_time": "2021-12-17T14:44:31.243626Z",
     "start_time": "2021-12-17T14:44:29.757433Z"
    }
   },
   "outputs": [
    {
     "data": {
      "image/png": "[encoded data removed]",
      "text/plain": [
       "<Figure size 720x1440 with 4 Axes>"
      ]
     },
     "metadata": {
      "needs_background": "light"
     },
     "output_type": "display_data"
    }
   ],
   "source": [
    "# distrbution of the continous features\n",
    "plt.figure(figsize=(10,20))\n",
    "plt.subplot(4,1,1)\n",
    "plt.title(\"Item_Weight Distrbution\")\n",
    "sns.kdeplot(x='Item_Weight', data=train)\n",
    "\n",
    "plt.subplot(4,1,2)\n",
    "plt.title(\"Item_Visibility Distrbution\")\n",
    "sns.kdeplot(x='Item_Visibility', data=train);\n",
    "\n",
    "plt.subplot(4,1,3)\n",
    "plt.title(\"Item_MRP Distrbution\")\n",
    "sns.kdeplot(x='Item_MRP', data=train);\n",
    "\n",
    "plt.subplot(4,1,4)\n",
    "plt.title(\"Item_Outlet_Sales\")\n",
    "sns.kdeplot(x='Item_Visibility', data=train);"
   ]
  },
  {
   "cell_type": "code",
   "execution_count": 181,
   "id": "fcbedf5c",
   "metadata": {
    "ExecuteTime": {
     "end_time": "2021-12-17T14:45:59.815507Z",
     "start_time": "2021-12-17T14:44:31.247096Z"
    }
   },
   "outputs": [
    {
     "data": {
      "image/png": "[encoded data removed]",
      "text/plain": [
       "<Figure size 1296x1080 with 3 Axes>"
      ]
     },
     "metadata": {
      "needs_background": "light"
     },
     "output_type": "display_data"
    }
   ],
   "source": [
    "plt.figure(figsize=(18,15))\n",
    "plt.subplot(3,1,1)\n",
    "sns.lineplot(x='Item_Weight', y='Item_Outlet_Sales', data=train);\n",
    "\n",
    "plt.subplot(3,1,2)\n",
    "sns.lineplot(x='Item_Visibility', y='Item_Outlet_Sales', data=train);\n",
    "\n",
    "plt.subplot(3,1,3)\n",
    "sns.lineplot(x='Item_MRP', y='Item_Outlet_Sales', data=train);"
   ]
  },
  {
   "cell_type": "markdown",
   "id": "e4f925c6",
   "metadata": {},
   "source": [
    "Item_Visibility has a minimum value of zero. This makes no practical sense because when a product is being sold in a store, the visibility cannot be 0.\n",
    "Items MRP ranging from 200-250 dollars is having high Sales.\n"
   ]
  },
  {
   "cell_type": "code",
   "execution_count": 182,
   "id": "173af8c2",
   "metadata": {
    "ExecuteTime": {
     "end_time": "2021-12-17T14:46:01.864855Z",
     "start_time": "2021-12-17T14:45:59.819954Z"
    }
   },
   "outputs": [
    {
     "name": "stderr",
     "output_type": "stream",
     "text": [
      "C:\\Users\\eyada\\Anaconda3\\lib\\site-packages\\seaborn\\_decorators.py:36: FutureWarning: Pass the following variables as keyword args: x, y. From version 0.12, the only valid positional argument will be `data`, and passing other arguments without an explicit keyword will result in an error or misinterpretation.\n",
      "  warnings.warn(\n"
     ]
    },
    {
     "data": {
      "image/png": "[encoded data removed]",
      "text/plain": [
       "<Figure size 1800x360 with 1 Axes>"
      ]
     },
     "metadata": {
      "needs_background": "light"
     },
     "output_type": "display_data"
    }
   ],
   "source": [
    "plt.figure(figsize=(25,5))\n",
    "sns.barplot('Item_Type','Item_Outlet_Sales',hue='Item_Fat_Content',data=train,palette='mako')\n",
    "plt.legend();"
   ]
  },
  {
   "cell_type": "markdown",
   "id": "f12c0a61",
   "metadata": {},
   "source": [
    "**Seafood Regular is highest in price**"
   ]
  },
  {
   "cell_type": "code",
   "execution_count": 183,
   "id": "5aa405a4",
   "metadata": {
    "ExecuteTime": {
     "end_time": "2021-12-17T14:46:02.689162Z",
     "start_time": "2021-12-17T14:46:01.870584Z"
    }
   },
   "outputs": [
    {
     "name": "stderr",
     "output_type": "stream",
     "text": [
      "C:\\Users\\eyada\\Anaconda3\\lib\\site-packages\\seaborn\\_decorators.py:36: FutureWarning: Pass the following variables as keyword args: x, y. From version 0.12, the only valid positional argument will be `data`, and passing other arguments without an explicit keyword will result in an error or misinterpretation.\n",
      "  warnings.warn(\n"
     ]
    },
    {
     "data": {
      "image/png": "[encoded data removed]",
      "text/plain": [
       "<Figure size 720x360 with 1 Axes>"
      ]
     },
     "metadata": {
      "needs_background": "light"
     },
     "output_type": "display_data"
    }
   ],
   "source": [
    "plt.figure(figsize=(10,5))\n",
    "sns.barplot('Outlet_Location_Type','Item_Outlet_Sales',hue='Outlet_Type',data=train,palette='magma')\n",
    "plt.legend()\n",
    "plt.show()"
   ]
  },
  {
   "cell_type": "code",
   "execution_count": 184,
   "id": "a661cb3f",
   "metadata": {
    "ExecuteTime": {
     "end_time": "2021-12-17T14:46:02.747108Z",
     "start_time": "2021-12-17T14:46:02.693359Z"
    }
   },
   "outputs": [
    {
     "data": {
      "text/plain": [
       "Item_Identifier              1559\n",
       "Item_Weight                   416\n",
       "Item_Fat_Content                2\n",
       "Item_Visibility              7880\n",
       "Item_Type                      16\n",
       "Item_MRP                     5938\n",
       "Outlet_Identifier              10\n",
       "Outlet_Establishment_Year       9\n",
       "Outlet_Size                     3\n",
       "Outlet_Location_Type            3\n",
       "Outlet_Type                     4\n",
       "Item_Outlet_Sales            3493\n",
       "Age                             9\n",
       "dtype: int64"
      ]
     },
     "execution_count": 184,
     "metadata": {},
     "output_type": "execute_result"
    }
   ],
   "source": [
    "train.nunique()"
   ]
  },
  {
   "cell_type": "code",
   "execution_count": 185,
   "id": "42266d51",
   "metadata": {
    "ExecuteTime": {
     "end_time": "2021-12-17T14:46:03.443909Z",
     "start_time": "2021-12-17T14:46:02.751099Z"
    }
   },
   "outputs": [
    {
     "name": "stderr",
     "output_type": "stream",
     "text": [
      "C:\\Users\\eyada\\Anaconda3\\lib\\site-packages\\seaborn\\_decorators.py:36: FutureWarning: Pass the following variables as keyword args: x, y. From version 0.12, the only valid positional argument will be `data`, and passing other arguments without an explicit keyword will result in an error or misinterpretation.\n",
      "  warnings.warn(\n"
     ]
    },
    {
     "data": {
      "image/png": "[encoded data removed]",
      "text/plain": [
       "<Figure size 720x360 with 1 Axes>"
      ]
     },
     "metadata": {
      "needs_background": "light"
     },
     "output_type": "display_data"
    }
   ],
   "source": [
    "plt.figure(figsize=(10,5))\n",
    "sns.barplot('Item_Fat_Content','Item_Outlet_Sales',hue='Outlet_Size',data=train,palette='autumn')\n",
    "plt.legend()\n",
    "plt.show()"
   ]
  },
  {
   "cell_type": "code",
   "execution_count": 186,
   "id": "8ba68e6e",
   "metadata": {
    "ExecuteTime": {
     "end_time": "2021-12-17T14:46:04.245949Z",
     "start_time": "2021-12-17T14:46:03.447081Z"
    }
   },
   "outputs": [
    {
     "name": "stderr",
     "output_type": "stream",
     "text": [
      "C:\\Users\\eyada\\Anaconda3\\lib\\site-packages\\seaborn\\_decorators.py:36: FutureWarning: Pass the following variables as keyword args: x, y. From version 0.12, the only valid positional argument will be `data`, and passing other arguments without an explicit keyword will result in an error or misinterpretation.\n",
      "  warnings.warn(\n"
     ]
    },
    {
     "data": {
      "image/png": "[encoded data removed]",
      "text/plain": [
       "<Figure size 720x360 with 1 Axes>"
      ]
     },
     "metadata": {
      "needs_background": "light"
     },
     "output_type": "display_data"
    }
   ],
   "source": [
    "plt.figure(figsize=(10,5))\n",
    "sns.barplot('Item_Fat_Content','Item_Outlet_Sales',hue='Outlet_Type',data=train,palette='summer')\n",
    "plt.legend()\n",
    "plt.show()"
   ]
  },
  {
   "cell_type": "markdown",
   "id": "82bab616",
   "metadata": {},
   "source": [
    "The Tier-3 location type has all types of Outlet type and has high sales margin.\n"
   ]
  },
  {
   "cell_type": "markdown",
   "id": "d9f633f4",
   "metadata": {},
   "source": [
    "<a href=\"#toc\" role=\"button\" aria-pressed=\"true\" >⬆️Back to Table of Contents ⬆️</a>"
   ]
  },
  {
   "cell_type": "markdown",
   "id": "92a04d17",
   "metadata": {},
   "source": [
    "<a id='6'></a>\n",
    "# Date PreProcessing"
   ]
  },
  {
   "cell_type": "code",
   "execution_count": 187,
   "id": "191029a7",
   "metadata": {
    "ExecuteTime": {
     "end_time": "2021-12-17T14:46:04.291538Z",
     "start_time": "2021-12-17T14:46:04.250053Z"
    }
   },
   "outputs": [
    {
     "data": {
      "text/plain": [
       "Item_Identifier              1559\n",
       "Item_Weight                   416\n",
       "Item_Fat_Content                2\n",
       "Item_Visibility              7880\n",
       "Item_Type                      16\n",
       "Item_MRP                     5938\n",
       "Outlet_Identifier              10\n",
       "Outlet_Establishment_Year       9\n",
       "Outlet_Size                     3\n",
       "Outlet_Location_Type            3\n",
       "Outlet_Type                     4\n",
       "Item_Outlet_Sales            3493\n",
       "Age                             9\n",
       "dtype: int64"
      ]
     },
     "execution_count": 187,
     "metadata": {},
     "output_type": "execute_result"
    }
   ],
   "source": [
    "train.nunique()"
   ]
  },
  {
   "cell_type": "code",
   "execution_count": 188,
   "id": "5b46aeab",
   "metadata": {
    "ExecuteTime": {
     "end_time": "2021-12-17T14:46:04.319190Z",
     "start_time": "2021-12-17T14:46:04.296000Z"
    }
   },
   "outputs": [
    {
     "data": {
      "text/plain": [
       "Item_Identifier               object\n",
       "Item_Weight                  float64\n",
       "Item_Fat_Content              object\n",
       "Item_Visibility              float64\n",
       "Item_Type                     object\n",
       "Item_MRP                     float64\n",
       "Outlet_Identifier             object\n",
       "Outlet_Establishment_Year      int64\n",
       "Outlet_Size                   object\n",
       "Outlet_Location_Type          object\n",
       "Outlet_Type                   object\n",
       "Item_Outlet_Sales            float64\n",
       "Age                            int64\n",
       "dtype: object"
      ]
     },
     "execution_count": 188,
     "metadata": {},
     "output_type": "execute_result"
    }
   ],
   "source": [
    "train.dtypes"
   ]
  },
  {
   "cell_type": "code",
   "execution_count": 189,
   "id": "ae6c2a54",
   "metadata": {
    "ExecuteTime": {
     "end_time": "2021-12-17T14:46:04.341172Z",
     "start_time": "2021-12-17T14:46:04.324528Z"
    }
   },
   "outputs": [
    {
     "data": {
      "text/plain": [
       "Item_Identifier               object\n",
       "Item_Weight                  float64\n",
       "Item_Fat_Content              object\n",
       "Item_Visibility              float64\n",
       "Item_Type                     object\n",
       "Item_MRP                     float64\n",
       "Outlet_Identifier             object\n",
       "Outlet_Establishment_Year      int64\n",
       "Outlet_Size                   object\n",
       "Outlet_Location_Type          object\n",
       "Outlet_Type                   object\n",
       "Age                            int64\n",
       "dtype: object"
      ]
     },
     "execution_count": 189,
     "metadata": {},
     "output_type": "execute_result"
    }
   ],
   "source": [
    "test.dtypes"
   ]
  },
  {
   "cell_type": "code",
   "execution_count": 190,
   "id": "577f388b",
   "metadata": {
    "ExecuteTime": {
     "end_time": "2021-12-17T14:46:04.383682Z",
     "start_time": "2021-12-17T14:46:04.346880Z"
    }
   },
   "outputs": [
    {
     "data": {
      "text/plain": [
       "Index([], dtype='object')"
      ]
     },
     "execution_count": 190,
     "metadata": {},
     "output_type": "execute_result"
    }
   ],
   "source": [
    "train.columns[train.isna().any()]"
   ]
  },
  {
   "cell_type": "markdown",
   "id": "c980bd0e",
   "metadata": {},
   "source": [
    "<a id='6.1'></a>\n",
    "***Label Encoder***"
   ]
  },
  {
   "cell_type": "code",
   "execution_count": 191,
   "id": "b97fb241",
   "metadata": {
    "ExecuteTime": {
     "end_time": "2021-12-17T14:46:04.480002Z",
     "start_time": "2021-12-17T14:46:04.404452Z"
    }
   },
   "outputs": [],
   "source": [
    "#apply Label Encoder to convert Categorical ordered features to numeric\n",
    "encode = LabelEncoder()\n",
    "list_transform = ['Item_Fat_Content','Outlet_Location_Type','Outlet_Size','Outlet_Type']\n",
    "\n",
    "for i in list_transform:\n",
    "    train[i] = encode.fit_transform(train[i])\n",
    "    \n",
    "for i in list_transform:\n",
    "    test[i] = encode.fit_transform(test[i])"
   ]
  },
  {
   "cell_type": "code",
   "execution_count": 192,
   "id": "a4c8f697",
   "metadata": {
    "ExecuteTime": {
     "end_time": "2021-12-17T14:46:04.515312Z",
     "start_time": "2021-12-17T14:46:04.487247Z"
    }
   },
   "outputs": [
    {
     "data": {
      "text/plain": [
       "Item_Identifier               object\n",
       "Item_Weight                  float64\n",
       "Item_Fat_Content               int32\n",
       "Item_Visibility              float64\n",
       "Item_Type                     object\n",
       "Item_MRP                     float64\n",
       "Outlet_Identifier             object\n",
       "Outlet_Establishment_Year      int64\n",
       "Outlet_Size                    int32\n",
       "Outlet_Location_Type           int32\n",
       "Outlet_Type                    int32\n",
       "Item_Outlet_Sales            float64\n",
       "Age                            int64\n",
       "dtype: object"
      ]
     },
     "execution_count": 192,
     "metadata": {},
     "output_type": "execute_result"
    }
   ],
   "source": [
    "train.dtypes"
   ]
  },
  {
   "cell_type": "code",
   "execution_count": 193,
   "id": "57de5f92",
   "metadata": {
    "ExecuteTime": {
     "end_time": "2021-12-17T14:46:04.540115Z",
     "start_time": "2021-12-17T14:46:04.520588Z"
    }
   },
   "outputs": [
    {
     "data": {
      "text/plain": [
       "Item_Identifier               object\n",
       "Item_Weight                  float64\n",
       "Item_Fat_Content               int32\n",
       "Item_Visibility              float64\n",
       "Item_Type                     object\n",
       "Item_MRP                     float64\n",
       "Outlet_Identifier             object\n",
       "Outlet_Establishment_Year      int64\n",
       "Outlet_Size                    int32\n",
       "Outlet_Location_Type           int32\n",
       "Outlet_Type                    int32\n",
       "Age                            int64\n",
       "dtype: object"
      ]
     },
     "execution_count": 193,
     "metadata": {},
     "output_type": "execute_result"
    }
   ],
   "source": [
    "test.dtypes"
   ]
  },
  {
   "cell_type": "code",
   "execution_count": 194,
   "id": "654f79bc",
   "metadata": {
    "ExecuteTime": {
     "end_time": "2021-12-17T14:46:04.573665Z",
     "start_time": "2021-12-17T14:46:04.546313Z"
    }
   },
   "outputs": [],
   "source": [
    "#drop non needed features\n",
    "train = train.drop(['Item_Identifier','Outlet_Identifier','Outlet_Establishment_Year'],axis=1)\n",
    "test= test.drop(['Item_Identifier','Outlet_Identifier','Outlet_Establishment_Year'],axis=1)"
   ]
  },
  {
   "cell_type": "code",
   "execution_count": 195,
   "id": "aef526e9",
   "metadata": {
    "ExecuteTime": {
     "end_time": "2021-12-17T14:46:04.638798Z",
     "start_time": "2021-12-17T14:46:04.579736Z"
    }
   },
   "outputs": [
    {
     "data": {
      "text/html": [
       "<div>\n",
       "<style scoped>\n",
       "    .dataframe tbody tr th:only-of-type {\n",
       "        vertical-align: middle;\n",
       "    }\n",
       "\n",
       "    .dataframe tbody tr th {\n",
       "        vertical-align: top;\n",
       "    }\n",
       "\n",
       "    .dataframe thead th {\n",
       "        text-align: right;\n",
       "    }\n",
       "</style>\n",
       "<table border=\"1\" class=\"dataframe\">\n",
       "  <thead>\n",
       "    <tr style=\"text-align: right;\">\n",
       "      <th></th>\n",
       "      <th>Item_Weight</th>\n",
       "      <th>Item_Fat_Content</th>\n",
       "      <th>Item_Visibility</th>\n",
       "      <th>Item_MRP</th>\n",
       "      <th>Outlet_Size</th>\n",
       "      <th>Outlet_Location_Type</th>\n",
       "      <th>Outlet_Type</th>\n",
       "      <th>Item_Outlet_Sales</th>\n",
       "      <th>Age</th>\n",
       "    </tr>\n",
       "  </thead>\n",
       "  <tbody>\n",
       "    <tr>\n",
       "      <th>Item_Weight</th>\n",
       "      <td>1.000000</td>\n",
       "      <td>-0.021157</td>\n",
       "      <td>-0.012049</td>\n",
       "      <td>0.024756</td>\n",
       "      <td>-0.007225</td>\n",
       "      <td>0.004088</td>\n",
       "      <td>-0.000566</td>\n",
       "      <td>0.011550</td>\n",
       "      <td>0.008301</td>\n",
       "    </tr>\n",
       "    <tr>\n",
       "      <th>Item_Fat_Content</th>\n",
       "      <td>-0.021157</td>\n",
       "      <td>1.000000</td>\n",
       "      <td>0.047314</td>\n",
       "      <td>0.006063</td>\n",
       "      <td>-0.000622</td>\n",
       "      <td>-0.001598</td>\n",
       "      <td>0.002199</td>\n",
       "      <td>0.018719</td>\n",
       "      <td>-0.003151</td>\n",
       "    </tr>\n",
       "    <tr>\n",
       "      <th>Item_Visibility</th>\n",
       "      <td>-0.012049</td>\n",
       "      <td>0.047314</td>\n",
       "      <td>1.000000</td>\n",
       "      <td>-0.001315</td>\n",
       "      <td>0.069309</td>\n",
       "      <td>-0.028099</td>\n",
       "      <td>-0.173468</td>\n",
       "      <td>-0.128625</td>\n",
       "      <td>0.074834</td>\n",
       "    </tr>\n",
       "    <tr>\n",
       "      <th>Item_MRP</th>\n",
       "      <td>0.024756</td>\n",
       "      <td>0.006063</td>\n",
       "      <td>-0.001315</td>\n",
       "      <td>1.000000</td>\n",
       "      <td>0.006059</td>\n",
       "      <td>0.000232</td>\n",
       "      <td>-0.001975</td>\n",
       "      <td>0.567574</td>\n",
       "      <td>-0.005020</td>\n",
       "    </tr>\n",
       "    <tr>\n",
       "      <th>Outlet_Size</th>\n",
       "      <td>-0.007225</td>\n",
       "      <td>-0.000622</td>\n",
       "      <td>0.069309</td>\n",
       "      <td>0.006059</td>\n",
       "      <td>1.000000</td>\n",
       "      <td>-0.614311</td>\n",
       "      <td>-0.201483</td>\n",
       "      <td>-0.086182</td>\n",
       "      <td>-0.193389</td>\n",
       "    </tr>\n",
       "    <tr>\n",
       "      <th>Outlet_Location_Type</th>\n",
       "      <td>0.004088</td>\n",
       "      <td>-0.001598</td>\n",
       "      <td>-0.028099</td>\n",
       "      <td>0.000232</td>\n",
       "      <td>-0.614311</td>\n",
       "      <td>1.000000</td>\n",
       "      <td>0.467219</td>\n",
       "      <td>0.089367</td>\n",
       "      <td>0.089216</td>\n",
       "    </tr>\n",
       "    <tr>\n",
       "      <th>Outlet_Type</th>\n",
       "      <td>-0.000566</td>\n",
       "      <td>0.002199</td>\n",
       "      <td>-0.173468</td>\n",
       "      <td>-0.001975</td>\n",
       "      <td>-0.201483</td>\n",
       "      <td>0.467219</td>\n",
       "      <td>1.000000</td>\n",
       "      <td>0.401522</td>\n",
       "      <td>0.122304</td>\n",
       "    </tr>\n",
       "    <tr>\n",
       "      <th>Item_Outlet_Sales</th>\n",
       "      <td>0.011550</td>\n",
       "      <td>0.018719</td>\n",
       "      <td>-0.128625</td>\n",
       "      <td>0.567574</td>\n",
       "      <td>-0.086182</td>\n",
       "      <td>0.089367</td>\n",
       "      <td>0.401522</td>\n",
       "      <td>1.000000</td>\n",
       "      <td>0.049135</td>\n",
       "    </tr>\n",
       "    <tr>\n",
       "      <th>Age</th>\n",
       "      <td>0.008301</td>\n",
       "      <td>-0.003151</td>\n",
       "      <td>0.074834</td>\n",
       "      <td>-0.005020</td>\n",
       "      <td>-0.193389</td>\n",
       "      <td>0.089216</td>\n",
       "      <td>0.122304</td>\n",
       "      <td>0.049135</td>\n",
       "      <td>1.000000</td>\n",
       "    </tr>\n",
       "  </tbody>\n",
       "</table>\n",
       "</div>"
      ],
      "text/plain": [
       "                      Item_Weight  Item_Fat_Content  Item_Visibility  \\\n",
       "Item_Weight              1.000000         -0.021157        -0.012049   \n",
       "Item_Fat_Content        -0.021157          1.000000         0.047314   \n",
       "Item_Visibility         -0.012049          0.047314         1.000000   \n",
       "Item_MRP                 0.024756          0.006063        -0.001315   \n",
       "Outlet_Size             -0.007225         -0.000622         0.069309   \n",
       "Outlet_Location_Type     0.004088         -0.001598        -0.028099   \n",
       "Outlet_Type             -0.000566          0.002199        -0.173468   \n",
       "Item_Outlet_Sales        0.011550          0.018719        -0.128625   \n",
       "Age                      0.008301         -0.003151         0.074834   \n",
       "\n",
       "                      Item_MRP  Outlet_Size  Outlet_Location_Type  \\\n",
       "Item_Weight           0.024756    -0.007225              0.004088   \n",
       "Item_Fat_Content      0.006063    -0.000622             -0.001598   \n",
       "Item_Visibility      -0.001315     0.069309             -0.028099   \n",
       "Item_MRP              1.000000     0.006059              0.000232   \n",
       "Outlet_Size           0.006059     1.000000             -0.614311   \n",
       "Outlet_Location_Type  0.000232    -0.614311              1.000000   \n",
       "Outlet_Type          -0.001975    -0.201483              0.467219   \n",
       "Item_Outlet_Sales     0.567574    -0.086182              0.089367   \n",
       "Age                  -0.005020    -0.193389              0.089216   \n",
       "\n",
       "                      Outlet_Type  Item_Outlet_Sales       Age  \n",
       "Item_Weight             -0.000566           0.011550  0.008301  \n",
       "Item_Fat_Content         0.002199           0.018719 -0.003151  \n",
       "Item_Visibility         -0.173468          -0.128625  0.074834  \n",
       "Item_MRP                -0.001975           0.567574 -0.005020  \n",
       "Outlet_Size             -0.201483          -0.086182 -0.193389  \n",
       "Outlet_Location_Type     0.467219           0.089367  0.089216  \n",
       "Outlet_Type              1.000000           0.401522  0.122304  \n",
       "Item_Outlet_Sales        0.401522           1.000000  0.049135  \n",
       "Age                      0.122304           0.049135  1.000000  "
      ]
     },
     "execution_count": 195,
     "metadata": {},
     "output_type": "execute_result"
    }
   ],
   "source": [
    "train.corr()"
   ]
  },
  {
   "cell_type": "code",
   "execution_count": 196,
   "id": "57405060",
   "metadata": {
    "ExecuteTime": {
     "end_time": "2021-12-17T14:46:06.650024Z",
     "start_time": "2021-12-17T14:46:04.643787Z"
    }
   },
   "outputs": [
    {
     "data": {
      "image/png": "[encoded data removed]",
      "text/plain": [
       "<Figure size 1440x720 with 2 Axes>"
      ]
     },
     "metadata": {
      "needs_background": "light"
     },
     "output_type": "display_data"
    }
   ],
   "source": [
    "plt.figure(figsize=(20,10))\n",
    "sns.heatmap(train.corr(), annot=True);"
   ]
  },
  {
   "cell_type": "markdown",
   "id": "e31b7597",
   "metadata": {},
   "source": [
    "<a id='6.2'></a>\n",
    "***one hot encoder***"
   ]
  },
  {
   "cell_type": "code",
   "execution_count": 197,
   "id": "683ebcde",
   "metadata": {
    "ExecuteTime": {
     "end_time": "2021-12-17T14:46:06.682576Z",
     "start_time": "2021-12-17T14:46:06.656046Z"
    }
   },
   "outputs": [],
   "source": [
    "#apply one hot encoder to convert non-order categorical featuers\n",
    "dummies1 = pd.get_dummies(train.Item_Type)\n",
    "dummies2 = pd.get_dummies(test.Item_Type)"
   ]
  },
  {
   "cell_type": "code",
   "execution_count": 198,
   "id": "2344089e",
   "metadata": {
    "ExecuteTime": {
     "end_time": "2021-12-17T14:46:06.725565Z",
     "start_time": "2021-12-17T14:46:06.688662Z"
    }
   },
   "outputs": [
    {
     "data": {
      "text/html": [
       "<div>\n",
       "<style scoped>\n",
       "    .dataframe tbody tr th:only-of-type {\n",
       "        vertical-align: middle;\n",
       "    }\n",
       "\n",
       "    .dataframe tbody tr th {\n",
       "        vertical-align: top;\n",
       "    }\n",
       "\n",
       "    .dataframe thead th {\n",
       "        text-align: right;\n",
       "    }\n",
       "</style>\n",
       "<table border=\"1\" class=\"dataframe\">\n",
       "  <thead>\n",
       "    <tr style=\"text-align: right;\">\n",
       "      <th></th>\n",
       "      <th>Item_Weight</th>\n",
       "      <th>Item_Fat_Content</th>\n",
       "      <th>Item_Visibility</th>\n",
       "      <th>Item_Type</th>\n",
       "      <th>Item_MRP</th>\n",
       "      <th>Outlet_Size</th>\n",
       "      <th>Outlet_Location_Type</th>\n",
       "      <th>Outlet_Type</th>\n",
       "      <th>Item_Outlet_Sales</th>\n",
       "      <th>Age</th>\n",
       "    </tr>\n",
       "  </thead>\n",
       "  <tbody>\n",
       "    <tr>\n",
       "      <th>0</th>\n",
       "      <td>9.30</td>\n",
       "      <td>0</td>\n",
       "      <td>0.016047</td>\n",
       "      <td>Dairy</td>\n",
       "      <td>249.8092</td>\n",
       "      <td>1</td>\n",
       "      <td>0</td>\n",
       "      <td>1</td>\n",
       "      <td>3735.1380</td>\n",
       "      <td>22</td>\n",
       "    </tr>\n",
       "    <tr>\n",
       "      <th>1</th>\n",
       "      <td>5.92</td>\n",
       "      <td>1</td>\n",
       "      <td>0.019278</td>\n",
       "      <td>Soft Drinks</td>\n",
       "      <td>48.2692</td>\n",
       "      <td>1</td>\n",
       "      <td>2</td>\n",
       "      <td>2</td>\n",
       "      <td>443.4228</td>\n",
       "      <td>12</td>\n",
       "    </tr>\n",
       "    <tr>\n",
       "      <th>2</th>\n",
       "      <td>17.50</td>\n",
       "      <td>0</td>\n",
       "      <td>0.016760</td>\n",
       "      <td>Meat</td>\n",
       "      <td>141.6180</td>\n",
       "      <td>1</td>\n",
       "      <td>0</td>\n",
       "      <td>1</td>\n",
       "      <td>2097.2700</td>\n",
       "      <td>22</td>\n",
       "    </tr>\n",
       "    <tr>\n",
       "      <th>3</th>\n",
       "      <td>19.20</td>\n",
       "      <td>1</td>\n",
       "      <td>0.000000</td>\n",
       "      <td>Fruits and Vegetables</td>\n",
       "      <td>182.0950</td>\n",
       "      <td>1</td>\n",
       "      <td>2</td>\n",
       "      <td>0</td>\n",
       "      <td>732.3800</td>\n",
       "      <td>23</td>\n",
       "    </tr>\n",
       "    <tr>\n",
       "      <th>4</th>\n",
       "      <td>8.93</td>\n",
       "      <td>0</td>\n",
       "      <td>0.000000</td>\n",
       "      <td>Household</td>\n",
       "      <td>53.8614</td>\n",
       "      <td>0</td>\n",
       "      <td>2</td>\n",
       "      <td>1</td>\n",
       "      <td>994.7052</td>\n",
       "      <td>34</td>\n",
       "    </tr>\n",
       "  </tbody>\n",
       "</table>\n",
       "</div>"
      ],
      "text/plain": [
       "   Item_Weight  Item_Fat_Content  Item_Visibility              Item_Type  \\\n",
       "0         9.30                 0         0.016047                  Dairy   \n",
       "1         5.92                 1         0.019278            Soft Drinks   \n",
       "2        17.50                 0         0.016760                   Meat   \n",
       "3        19.20                 1         0.000000  Fruits and Vegetables   \n",
       "4         8.93                 0         0.000000              Household   \n",
       "\n",
       "   Item_MRP  Outlet_Size  Outlet_Location_Type  Outlet_Type  \\\n",
       "0  249.8092            1                     0            1   \n",
       "1   48.2692            1                     2            2   \n",
       "2  141.6180            1                     0            1   \n",
       "3  182.0950            1                     2            0   \n",
       "4   53.8614            0                     2            1   \n",
       "\n",
       "   Item_Outlet_Sales  Age  \n",
       "0          3735.1380   22  \n",
       "1           443.4228   12  \n",
       "2          2097.2700   22  \n",
       "3           732.3800   23  \n",
       "4           994.7052   34  "
      ]
     },
     "execution_count": 198,
     "metadata": {},
     "output_type": "execute_result"
    }
   ],
   "source": [
    "train.head()"
   ]
  },
  {
   "cell_type": "code",
   "execution_count": 199,
   "id": "24bb958a",
   "metadata": {
    "ExecuteTime": {
     "end_time": "2021-12-17T14:46:06.777488Z",
     "start_time": "2021-12-17T14:46:06.731549Z"
    }
   },
   "outputs": [
    {
     "data": {
      "text/html": [
       "<div>\n",
       "<style scoped>\n",
       "    .dataframe tbody tr th:only-of-type {\n",
       "        vertical-align: middle;\n",
       "    }\n",
       "\n",
       "    .dataframe tbody tr th {\n",
       "        vertical-align: top;\n",
       "    }\n",
       "\n",
       "    .dataframe thead th {\n",
       "        text-align: right;\n",
       "    }\n",
       "</style>\n",
       "<table border=\"1\" class=\"dataframe\">\n",
       "  <thead>\n",
       "    <tr style=\"text-align: right;\">\n",
       "      <th></th>\n",
       "      <th>Item_Weight</th>\n",
       "      <th>Item_Fat_Content</th>\n",
       "      <th>Item_Visibility</th>\n",
       "      <th>Item_Type</th>\n",
       "      <th>Item_MRP</th>\n",
       "      <th>Outlet_Size</th>\n",
       "      <th>Outlet_Location_Type</th>\n",
       "      <th>Outlet_Type</th>\n",
       "      <th>Age</th>\n",
       "    </tr>\n",
       "  </thead>\n",
       "  <tbody>\n",
       "    <tr>\n",
       "      <th>0</th>\n",
       "      <td>20.750000</td>\n",
       "      <td>0</td>\n",
       "      <td>0.007565</td>\n",
       "      <td>Snack Foods</td>\n",
       "      <td>107.8622</td>\n",
       "      <td>1</td>\n",
       "      <td>0</td>\n",
       "      <td>1</td>\n",
       "      <td>22</td>\n",
       "    </tr>\n",
       "    <tr>\n",
       "      <th>1</th>\n",
       "      <td>8.300000</td>\n",
       "      <td>1</td>\n",
       "      <td>0.038428</td>\n",
       "      <td>Dairy</td>\n",
       "      <td>87.3198</td>\n",
       "      <td>1</td>\n",
       "      <td>1</td>\n",
       "      <td>1</td>\n",
       "      <td>14</td>\n",
       "    </tr>\n",
       "    <tr>\n",
       "      <th>2</th>\n",
       "      <td>14.600000</td>\n",
       "      <td>0</td>\n",
       "      <td>0.099575</td>\n",
       "      <td>Others</td>\n",
       "      <td>241.7538</td>\n",
       "      <td>1</td>\n",
       "      <td>2</td>\n",
       "      <td>0</td>\n",
       "      <td>23</td>\n",
       "    </tr>\n",
       "    <tr>\n",
       "      <th>3</th>\n",
       "      <td>7.315000</td>\n",
       "      <td>0</td>\n",
       "      <td>0.015388</td>\n",
       "      <td>Snack Foods</td>\n",
       "      <td>155.0340</td>\n",
       "      <td>1</td>\n",
       "      <td>1</td>\n",
       "      <td>1</td>\n",
       "      <td>14</td>\n",
       "    </tr>\n",
       "    <tr>\n",
       "      <th>4</th>\n",
       "      <td>12.695633</td>\n",
       "      <td>1</td>\n",
       "      <td>0.118599</td>\n",
       "      <td>Dairy</td>\n",
       "      <td>234.2300</td>\n",
       "      <td>1</td>\n",
       "      <td>2</td>\n",
       "      <td>3</td>\n",
       "      <td>36</td>\n",
       "    </tr>\n",
       "  </tbody>\n",
       "</table>\n",
       "</div>"
      ],
      "text/plain": [
       "   Item_Weight  Item_Fat_Content  Item_Visibility    Item_Type  Item_MRP  \\\n",
       "0    20.750000                 0         0.007565  Snack Foods  107.8622   \n",
       "1     8.300000                 1         0.038428        Dairy   87.3198   \n",
       "2    14.600000                 0         0.099575       Others  241.7538   \n",
       "3     7.315000                 0         0.015388  Snack Foods  155.0340   \n",
       "4    12.695633                 1         0.118599        Dairy  234.2300   \n",
       "\n",
       "   Outlet_Size  Outlet_Location_Type  Outlet_Type  Age  \n",
       "0            1                     0            1   22  \n",
       "1            1                     1            1   14  \n",
       "2            1                     2            0   23  \n",
       "3            1                     1            1   14  \n",
       "4            1                     2            3   36  "
      ]
     },
     "execution_count": 199,
     "metadata": {},
     "output_type": "execute_result"
    }
   ],
   "source": [
    "test.head()"
   ]
  },
  {
   "cell_type": "code",
   "execution_count": 200,
   "id": "8567e4ad",
   "metadata": {
    "ExecuteTime": {
     "end_time": "2021-12-17T14:46:06.801766Z",
     "start_time": "2021-12-17T14:46:06.781754Z"
    }
   },
   "outputs": [],
   "source": [
    "train = pd.concat([train, dummies1], axis=1)\n",
    "test = pd.concat([test, dummies2], axis=1)"
   ]
  },
  {
   "cell_type": "code",
   "execution_count": 201,
   "id": "72ca732e",
   "metadata": {
    "ExecuteTime": {
     "end_time": "2021-12-17T14:46:06.867647Z",
     "start_time": "2021-12-17T14:46:06.805985Z"
    }
   },
   "outputs": [
    {
     "data": {
      "text/html": [
       "<div>\n",
       "<style scoped>\n",
       "    .dataframe tbody tr th:only-of-type {\n",
       "        vertical-align: middle;\n",
       "    }\n",
       "\n",
       "    .dataframe tbody tr th {\n",
       "        vertical-align: top;\n",
       "    }\n",
       "\n",
       "    .dataframe thead th {\n",
       "        text-align: right;\n",
       "    }\n",
       "</style>\n",
       "<table border=\"1\" class=\"dataframe\">\n",
       "  <thead>\n",
       "    <tr style=\"text-align: right;\">\n",
       "      <th></th>\n",
       "      <th>Item_Weight</th>\n",
       "      <th>Item_Fat_Content</th>\n",
       "      <th>Item_Visibility</th>\n",
       "      <th>Item_Type</th>\n",
       "      <th>Item_MRP</th>\n",
       "      <th>Outlet_Size</th>\n",
       "      <th>Outlet_Location_Type</th>\n",
       "      <th>Outlet_Type</th>\n",
       "      <th>Item_Outlet_Sales</th>\n",
       "      <th>Age</th>\n",
       "      <th>...</th>\n",
       "      <th>Fruits and Vegetables</th>\n",
       "      <th>Hard Drinks</th>\n",
       "      <th>Health and Hygiene</th>\n",
       "      <th>Household</th>\n",
       "      <th>Meat</th>\n",
       "      <th>Others</th>\n",
       "      <th>Seafood</th>\n",
       "      <th>Snack Foods</th>\n",
       "      <th>Soft Drinks</th>\n",
       "      <th>Starchy Foods</th>\n",
       "    </tr>\n",
       "  </thead>\n",
       "  <tbody>\n",
       "    <tr>\n",
       "      <th>0</th>\n",
       "      <td>9.30</td>\n",
       "      <td>0</td>\n",
       "      <td>0.016047</td>\n",
       "      <td>Dairy</td>\n",
       "      <td>249.8092</td>\n",
       "      <td>1</td>\n",
       "      <td>0</td>\n",
       "      <td>1</td>\n",
       "      <td>3735.1380</td>\n",
       "      <td>22</td>\n",
       "      <td>...</td>\n",
       "      <td>0</td>\n",
       "      <td>0</td>\n",
       "      <td>0</td>\n",
       "      <td>0</td>\n",
       "      <td>0</td>\n",
       "      <td>0</td>\n",
       "      <td>0</td>\n",
       "      <td>0</td>\n",
       "      <td>0</td>\n",
       "      <td>0</td>\n",
       "    </tr>\n",
       "    <tr>\n",
       "      <th>1</th>\n",
       "      <td>5.92</td>\n",
       "      <td>1</td>\n",
       "      <td>0.019278</td>\n",
       "      <td>Soft Drinks</td>\n",
       "      <td>48.2692</td>\n",
       "      <td>1</td>\n",
       "      <td>2</td>\n",
       "      <td>2</td>\n",
       "      <td>443.4228</td>\n",
       "      <td>12</td>\n",
       "      <td>...</td>\n",
       "      <td>0</td>\n",
       "      <td>0</td>\n",
       "      <td>0</td>\n",
       "      <td>0</td>\n",
       "      <td>0</td>\n",
       "      <td>0</td>\n",
       "      <td>0</td>\n",
       "      <td>0</td>\n",
       "      <td>1</td>\n",
       "      <td>0</td>\n",
       "    </tr>\n",
       "    <tr>\n",
       "      <th>2</th>\n",
       "      <td>17.50</td>\n",
       "      <td>0</td>\n",
       "      <td>0.016760</td>\n",
       "      <td>Meat</td>\n",
       "      <td>141.6180</td>\n",
       "      <td>1</td>\n",
       "      <td>0</td>\n",
       "      <td>1</td>\n",
       "      <td>2097.2700</td>\n",
       "      <td>22</td>\n",
       "      <td>...</td>\n",
       "      <td>0</td>\n",
       "      <td>0</td>\n",
       "      <td>0</td>\n",
       "      <td>0</td>\n",
       "      <td>1</td>\n",
       "      <td>0</td>\n",
       "      <td>0</td>\n",
       "      <td>0</td>\n",
       "      <td>0</td>\n",
       "      <td>0</td>\n",
       "    </tr>\n",
       "    <tr>\n",
       "      <th>3</th>\n",
       "      <td>19.20</td>\n",
       "      <td>1</td>\n",
       "      <td>0.000000</td>\n",
       "      <td>Fruits and Vegetables</td>\n",
       "      <td>182.0950</td>\n",
       "      <td>1</td>\n",
       "      <td>2</td>\n",
       "      <td>0</td>\n",
       "      <td>732.3800</td>\n",
       "      <td>23</td>\n",
       "      <td>...</td>\n",
       "      <td>1</td>\n",
       "      <td>0</td>\n",
       "      <td>0</td>\n",
       "      <td>0</td>\n",
       "      <td>0</td>\n",
       "      <td>0</td>\n",
       "      <td>0</td>\n",
       "      <td>0</td>\n",
       "      <td>0</td>\n",
       "      <td>0</td>\n",
       "    </tr>\n",
       "    <tr>\n",
       "      <th>4</th>\n",
       "      <td>8.93</td>\n",
       "      <td>0</td>\n",
       "      <td>0.000000</td>\n",
       "      <td>Household</td>\n",
       "      <td>53.8614</td>\n",
       "      <td>0</td>\n",
       "      <td>2</td>\n",
       "      <td>1</td>\n",
       "      <td>994.7052</td>\n",
       "      <td>34</td>\n",
       "      <td>...</td>\n",
       "      <td>0</td>\n",
       "      <td>0</td>\n",
       "      <td>0</td>\n",
       "      <td>1</td>\n",
       "      <td>0</td>\n",
       "      <td>0</td>\n",
       "      <td>0</td>\n",
       "      <td>0</td>\n",
       "      <td>0</td>\n",
       "      <td>0</td>\n",
       "    </tr>\n",
       "  </tbody>\n",
       "</table>\n",
       "<p>5 rows × 26 columns</p>\n",
       "</div>"
      ],
      "text/plain": [
       "   Item_Weight  Item_Fat_Content  Item_Visibility              Item_Type  \\\n",
       "0         9.30                 0         0.016047                  Dairy   \n",
       "1         5.92                 1         0.019278            Soft Drinks   \n",
       "2        17.50                 0         0.016760                   Meat   \n",
       "3        19.20                 1         0.000000  Fruits and Vegetables   \n",
       "4         8.93                 0         0.000000              Household   \n",
       "\n",
       "   Item_MRP  Outlet_Size  Outlet_Location_Type  Outlet_Type  \\\n",
       "0  249.8092            1                     0            1   \n",
       "1   48.2692            1                     2            2   \n",
       "2  141.6180            1                     0            1   \n",
       "3  182.0950            1                     2            0   \n",
       "4   53.8614            0                     2            1   \n",
       "\n",
       "   Item_Outlet_Sales  Age  ...  Fruits and Vegetables  Hard Drinks  \\\n",
       "0          3735.1380   22  ...                      0            0   \n",
       "1           443.4228   12  ...                      0            0   \n",
       "2          2097.2700   22  ...                      0            0   \n",
       "3           732.3800   23  ...                      1            0   \n",
       "4           994.7052   34  ...                      0            0   \n",
       "\n",
       "   Health and Hygiene  Household  Meat  Others  Seafood  Snack Foods  \\\n",
       "0                   0          0     0       0        0            0   \n",
       "1                   0          0     0       0        0            0   \n",
       "2                   0          0     1       0        0            0   \n",
       "3                   0          0     0       0        0            0   \n",
       "4                   0          1     0       0        0            0   \n",
       "\n",
       "   Soft Drinks  Starchy Foods  \n",
       "0            0              0  \n",
       "1            1              0  \n",
       "2            0              0  \n",
       "3            0              0  \n",
       "4            0              0  \n",
       "\n",
       "[5 rows x 26 columns]"
      ]
     },
     "execution_count": 201,
     "metadata": {},
     "output_type": "execute_result"
    }
   ],
   "source": [
    "train.head()"
   ]
  },
  {
   "cell_type": "code",
   "execution_count": 202,
   "id": "88d7ec00",
   "metadata": {
    "ExecuteTime": {
     "end_time": "2021-12-17T14:46:06.936809Z",
     "start_time": "2021-12-17T14:46:06.874635Z"
    }
   },
   "outputs": [
    {
     "data": {
      "text/html": [
       "<div>\n",
       "<style scoped>\n",
       "    .dataframe tbody tr th:only-of-type {\n",
       "        vertical-align: middle;\n",
       "    }\n",
       "\n",
       "    .dataframe tbody tr th {\n",
       "        vertical-align: top;\n",
       "    }\n",
       "\n",
       "    .dataframe thead th {\n",
       "        text-align: right;\n",
       "    }\n",
       "</style>\n",
       "<table border=\"1\" class=\"dataframe\">\n",
       "  <thead>\n",
       "    <tr style=\"text-align: right;\">\n",
       "      <th></th>\n",
       "      <th>Item_Weight</th>\n",
       "      <th>Item_Fat_Content</th>\n",
       "      <th>Item_Visibility</th>\n",
       "      <th>Item_Type</th>\n",
       "      <th>Item_MRP</th>\n",
       "      <th>Outlet_Size</th>\n",
       "      <th>Outlet_Location_Type</th>\n",
       "      <th>Outlet_Type</th>\n",
       "      <th>Age</th>\n",
       "      <th>Baking Goods</th>\n",
       "      <th>...</th>\n",
       "      <th>Fruits and Vegetables</th>\n",
       "      <th>Hard Drinks</th>\n",
       "      <th>Health and Hygiene</th>\n",
       "      <th>Household</th>\n",
       "      <th>Meat</th>\n",
       "      <th>Others</th>\n",
       "      <th>Seafood</th>\n",
       "      <th>Snack Foods</th>\n",
       "      <th>Soft Drinks</th>\n",
       "      <th>Starchy Foods</th>\n",
       "    </tr>\n",
       "  </thead>\n",
       "  <tbody>\n",
       "    <tr>\n",
       "      <th>0</th>\n",
       "      <td>20.750000</td>\n",
       "      <td>0</td>\n",
       "      <td>0.007565</td>\n",
       "      <td>Snack Foods</td>\n",
       "      <td>107.8622</td>\n",
       "      <td>1</td>\n",
       "      <td>0</td>\n",
       "      <td>1</td>\n",
       "      <td>22</td>\n",
       "      <td>0</td>\n",
       "      <td>...</td>\n",
       "      <td>0</td>\n",
       "      <td>0</td>\n",
       "      <td>0</td>\n",
       "      <td>0</td>\n",
       "      <td>0</td>\n",
       "      <td>0</td>\n",
       "      <td>0</td>\n",
       "      <td>1</td>\n",
       "      <td>0</td>\n",
       "      <td>0</td>\n",
       "    </tr>\n",
       "    <tr>\n",
       "      <th>1</th>\n",
       "      <td>8.300000</td>\n",
       "      <td>1</td>\n",
       "      <td>0.038428</td>\n",
       "      <td>Dairy</td>\n",
       "      <td>87.3198</td>\n",
       "      <td>1</td>\n",
       "      <td>1</td>\n",
       "      <td>1</td>\n",
       "      <td>14</td>\n",
       "      <td>0</td>\n",
       "      <td>...</td>\n",
       "      <td>0</td>\n",
       "      <td>0</td>\n",
       "      <td>0</td>\n",
       "      <td>0</td>\n",
       "      <td>0</td>\n",
       "      <td>0</td>\n",
       "      <td>0</td>\n",
       "      <td>0</td>\n",
       "      <td>0</td>\n",
       "      <td>0</td>\n",
       "    </tr>\n",
       "    <tr>\n",
       "      <th>2</th>\n",
       "      <td>14.600000</td>\n",
       "      <td>0</td>\n",
       "      <td>0.099575</td>\n",
       "      <td>Others</td>\n",
       "      <td>241.7538</td>\n",
       "      <td>1</td>\n",
       "      <td>2</td>\n",
       "      <td>0</td>\n",
       "      <td>23</td>\n",
       "      <td>0</td>\n",
       "      <td>...</td>\n",
       "      <td>0</td>\n",
       "      <td>0</td>\n",
       "      <td>0</td>\n",
       "      <td>0</td>\n",
       "      <td>0</td>\n",
       "      <td>1</td>\n",
       "      <td>0</td>\n",
       "      <td>0</td>\n",
       "      <td>0</td>\n",
       "      <td>0</td>\n",
       "    </tr>\n",
       "    <tr>\n",
       "      <th>3</th>\n",
       "      <td>7.315000</td>\n",
       "      <td>0</td>\n",
       "      <td>0.015388</td>\n",
       "      <td>Snack Foods</td>\n",
       "      <td>155.0340</td>\n",
       "      <td>1</td>\n",
       "      <td>1</td>\n",
       "      <td>1</td>\n",
       "      <td>14</td>\n",
       "      <td>0</td>\n",
       "      <td>...</td>\n",
       "      <td>0</td>\n",
       "      <td>0</td>\n",
       "      <td>0</td>\n",
       "      <td>0</td>\n",
       "      <td>0</td>\n",
       "      <td>0</td>\n",
       "      <td>0</td>\n",
       "      <td>1</td>\n",
       "      <td>0</td>\n",
       "      <td>0</td>\n",
       "    </tr>\n",
       "    <tr>\n",
       "      <th>4</th>\n",
       "      <td>12.695633</td>\n",
       "      <td>1</td>\n",
       "      <td>0.118599</td>\n",
       "      <td>Dairy</td>\n",
       "      <td>234.2300</td>\n",
       "      <td>1</td>\n",
       "      <td>2</td>\n",
       "      <td>3</td>\n",
       "      <td>36</td>\n",
       "      <td>0</td>\n",
       "      <td>...</td>\n",
       "      <td>0</td>\n",
       "      <td>0</td>\n",
       "      <td>0</td>\n",
       "      <td>0</td>\n",
       "      <td>0</td>\n",
       "      <td>0</td>\n",
       "      <td>0</td>\n",
       "      <td>0</td>\n",
       "      <td>0</td>\n",
       "      <td>0</td>\n",
       "    </tr>\n",
       "  </tbody>\n",
       "</table>\n",
       "<p>5 rows × 25 columns</p>\n",
       "</div>"
      ],
      "text/plain": [
       "   Item_Weight  Item_Fat_Content  Item_Visibility    Item_Type  Item_MRP  \\\n",
       "0    20.750000                 0         0.007565  Snack Foods  107.8622   \n",
       "1     8.300000                 1         0.038428        Dairy   87.3198   \n",
       "2    14.600000                 0         0.099575       Others  241.7538   \n",
       "3     7.315000                 0         0.015388  Snack Foods  155.0340   \n",
       "4    12.695633                 1         0.118599        Dairy  234.2300   \n",
       "\n",
       "   Outlet_Size  Outlet_Location_Type  Outlet_Type  Age  Baking Goods  ...  \\\n",
       "0            1                     0            1   22             0  ...   \n",
       "1            1                     1            1   14             0  ...   \n",
       "2            1                     2            0   23             0  ...   \n",
       "3            1                     1            1   14             0  ...   \n",
       "4            1                     2            3   36             0  ...   \n",
       "\n",
       "   Fruits and Vegetables  Hard Drinks  Health and Hygiene  Household  Meat  \\\n",
       "0                      0            0                   0          0     0   \n",
       "1                      0            0                   0          0     0   \n",
       "2                      0            0                   0          0     0   \n",
       "3                      0            0                   0          0     0   \n",
       "4                      0            0                   0          0     0   \n",
       "\n",
       "   Others  Seafood  Snack Foods  Soft Drinks  Starchy Foods  \n",
       "0       0        0            1            0              0  \n",
       "1       0        0            0            0              0  \n",
       "2       1        0            0            0              0  \n",
       "3       0        0            1            0              0  \n",
       "4       0        0            0            0              0  \n",
       "\n",
       "[5 rows x 25 columns]"
      ]
     },
     "execution_count": 202,
     "metadata": {},
     "output_type": "execute_result"
    }
   ],
   "source": [
    "test.head()"
   ]
  },
  {
   "cell_type": "code",
   "execution_count": 203,
   "id": "debb6ab4",
   "metadata": {
    "ExecuteTime": {
     "end_time": "2021-12-17T14:46:06.973714Z",
     "start_time": "2021-12-17T14:46:06.941798Z"
    }
   },
   "outputs": [],
   "source": [
    "#drop the main feature and one dummy feature\n",
    "train.drop(['Item_Type', 'Starchy Foods'], axis=1, inplace=True)\n",
    "test.drop(['Item_Type', 'Starchy Foods'], axis=1, inplace=True)"
   ]
  },
  {
   "cell_type": "code",
   "execution_count": 204,
   "id": "b713b0cc",
   "metadata": {
    "ExecuteTime": {
     "end_time": "2021-12-17T14:46:07.005535Z",
     "start_time": "2021-12-17T14:46:06.978841Z"
    }
   },
   "outputs": [
    {
     "data": {
      "text/plain": [
       "['Item_Weight', 'Item_Visibility', 'Item_MRP']"
      ]
     },
     "execution_count": 204,
     "metadata": {},
     "output_type": "execute_result"
    }
   ],
   "source": [
    "cont_features"
   ]
  },
  {
   "cell_type": "code",
   "execution_count": 205,
   "id": "d75e316e",
   "metadata": {
    "ExecuteTime": {
     "end_time": "2021-12-17T14:46:07.073746Z",
     "start_time": "2021-12-17T14:46:07.011624Z"
    }
   },
   "outputs": [
    {
     "data": {
      "text/html": [
       "<div>\n",
       "<style scoped>\n",
       "    .dataframe tbody tr th:only-of-type {\n",
       "        vertical-align: middle;\n",
       "    }\n",
       "\n",
       "    .dataframe tbody tr th {\n",
       "        vertical-align: top;\n",
       "    }\n",
       "\n",
       "    .dataframe thead th {\n",
       "        text-align: right;\n",
       "    }\n",
       "</style>\n",
       "<table border=\"1\" class=\"dataframe\">\n",
       "  <thead>\n",
       "    <tr style=\"text-align: right;\">\n",
       "      <th></th>\n",
       "      <th>Item_Weight</th>\n",
       "      <th>Item_Fat_Content</th>\n",
       "      <th>Item_Visibility</th>\n",
       "      <th>Item_MRP</th>\n",
       "      <th>Outlet_Size</th>\n",
       "      <th>Outlet_Location_Type</th>\n",
       "      <th>Outlet_Type</th>\n",
       "      <th>Item_Outlet_Sales</th>\n",
       "      <th>Age</th>\n",
       "      <th>Baking Goods</th>\n",
       "      <th>...</th>\n",
       "      <th>Frozen Foods</th>\n",
       "      <th>Fruits and Vegetables</th>\n",
       "      <th>Hard Drinks</th>\n",
       "      <th>Health and Hygiene</th>\n",
       "      <th>Household</th>\n",
       "      <th>Meat</th>\n",
       "      <th>Others</th>\n",
       "      <th>Seafood</th>\n",
       "      <th>Snack Foods</th>\n",
       "      <th>Soft Drinks</th>\n",
       "    </tr>\n",
       "  </thead>\n",
       "  <tbody>\n",
       "    <tr>\n",
       "      <th>0</th>\n",
       "      <td>9.30</td>\n",
       "      <td>0</td>\n",
       "      <td>0.016047</td>\n",
       "      <td>249.8092</td>\n",
       "      <td>1</td>\n",
       "      <td>0</td>\n",
       "      <td>1</td>\n",
       "      <td>3735.1380</td>\n",
       "      <td>22</td>\n",
       "      <td>0</td>\n",
       "      <td>...</td>\n",
       "      <td>0</td>\n",
       "      <td>0</td>\n",
       "      <td>0</td>\n",
       "      <td>0</td>\n",
       "      <td>0</td>\n",
       "      <td>0</td>\n",
       "      <td>0</td>\n",
       "      <td>0</td>\n",
       "      <td>0</td>\n",
       "      <td>0</td>\n",
       "    </tr>\n",
       "    <tr>\n",
       "      <th>1</th>\n",
       "      <td>5.92</td>\n",
       "      <td>1</td>\n",
       "      <td>0.019278</td>\n",
       "      <td>48.2692</td>\n",
       "      <td>1</td>\n",
       "      <td>2</td>\n",
       "      <td>2</td>\n",
       "      <td>443.4228</td>\n",
       "      <td>12</td>\n",
       "      <td>0</td>\n",
       "      <td>...</td>\n",
       "      <td>0</td>\n",
       "      <td>0</td>\n",
       "      <td>0</td>\n",
       "      <td>0</td>\n",
       "      <td>0</td>\n",
       "      <td>0</td>\n",
       "      <td>0</td>\n",
       "      <td>0</td>\n",
       "      <td>0</td>\n",
       "      <td>1</td>\n",
       "    </tr>\n",
       "    <tr>\n",
       "      <th>2</th>\n",
       "      <td>17.50</td>\n",
       "      <td>0</td>\n",
       "      <td>0.016760</td>\n",
       "      <td>141.6180</td>\n",
       "      <td>1</td>\n",
       "      <td>0</td>\n",
       "      <td>1</td>\n",
       "      <td>2097.2700</td>\n",
       "      <td>22</td>\n",
       "      <td>0</td>\n",
       "      <td>...</td>\n",
       "      <td>0</td>\n",
       "      <td>0</td>\n",
       "      <td>0</td>\n",
       "      <td>0</td>\n",
       "      <td>0</td>\n",
       "      <td>1</td>\n",
       "      <td>0</td>\n",
       "      <td>0</td>\n",
       "      <td>0</td>\n",
       "      <td>0</td>\n",
       "    </tr>\n",
       "    <tr>\n",
       "      <th>3</th>\n",
       "      <td>19.20</td>\n",
       "      <td>1</td>\n",
       "      <td>0.000000</td>\n",
       "      <td>182.0950</td>\n",
       "      <td>1</td>\n",
       "      <td>2</td>\n",
       "      <td>0</td>\n",
       "      <td>732.3800</td>\n",
       "      <td>23</td>\n",
       "      <td>0</td>\n",
       "      <td>...</td>\n",
       "      <td>0</td>\n",
       "      <td>1</td>\n",
       "      <td>0</td>\n",
       "      <td>0</td>\n",
       "      <td>0</td>\n",
       "      <td>0</td>\n",
       "      <td>0</td>\n",
       "      <td>0</td>\n",
       "      <td>0</td>\n",
       "      <td>0</td>\n",
       "    </tr>\n",
       "    <tr>\n",
       "      <th>4</th>\n",
       "      <td>8.93</td>\n",
       "      <td>0</td>\n",
       "      <td>0.000000</td>\n",
       "      <td>53.8614</td>\n",
       "      <td>0</td>\n",
       "      <td>2</td>\n",
       "      <td>1</td>\n",
       "      <td>994.7052</td>\n",
       "      <td>34</td>\n",
       "      <td>0</td>\n",
       "      <td>...</td>\n",
       "      <td>0</td>\n",
       "      <td>0</td>\n",
       "      <td>0</td>\n",
       "      <td>0</td>\n",
       "      <td>1</td>\n",
       "      <td>0</td>\n",
       "      <td>0</td>\n",
       "      <td>0</td>\n",
       "      <td>0</td>\n",
       "      <td>0</td>\n",
       "    </tr>\n",
       "  </tbody>\n",
       "</table>\n",
       "<p>5 rows × 24 columns</p>\n",
       "</div>"
      ],
      "text/plain": [
       "   Item_Weight  Item_Fat_Content  Item_Visibility  Item_MRP  Outlet_Size  \\\n",
       "0         9.30                 0         0.016047  249.8092            1   \n",
       "1         5.92                 1         0.019278   48.2692            1   \n",
       "2        17.50                 0         0.016760  141.6180            1   \n",
       "3        19.20                 1         0.000000  182.0950            1   \n",
       "4         8.93                 0         0.000000   53.8614            0   \n",
       "\n",
       "   Outlet_Location_Type  Outlet_Type  Item_Outlet_Sales  Age  Baking Goods  \\\n",
       "0                     0            1          3735.1380   22             0   \n",
       "1                     2            2           443.4228   12             0   \n",
       "2                     0            1          2097.2700   22             0   \n",
       "3                     2            0           732.3800   23             0   \n",
       "4                     2            1           994.7052   34             0   \n",
       "\n",
       "   ...  Frozen Foods  Fruits and Vegetables  Hard Drinks  Health and Hygiene  \\\n",
       "0  ...             0                      0            0                   0   \n",
       "1  ...             0                      0            0                   0   \n",
       "2  ...             0                      0            0                   0   \n",
       "3  ...             0                      1            0                   0   \n",
       "4  ...             0                      0            0                   0   \n",
       "\n",
       "   Household  Meat  Others  Seafood  Snack Foods  Soft Drinks  \n",
       "0          0     0       0        0            0            0  \n",
       "1          0     0       0        0            0            1  \n",
       "2          0     1       0        0            0            0  \n",
       "3          0     0       0        0            0            0  \n",
       "4          1     0       0        0            0            0  \n",
       "\n",
       "[5 rows x 24 columns]"
      ]
     },
     "execution_count": 205,
     "metadata": {},
     "output_type": "execute_result"
    }
   ],
   "source": [
    "train.head()"
   ]
  },
  {
   "cell_type": "code",
   "execution_count": 206,
   "id": "3e066956",
   "metadata": {
    "ExecuteTime": {
     "end_time": "2021-12-17T14:46:07.152800Z",
     "start_time": "2021-12-17T14:46:07.078811Z"
    }
   },
   "outputs": [
    {
     "data": {
      "text/html": [
       "<div>\n",
       "<style scoped>\n",
       "    .dataframe tbody tr th:only-of-type {\n",
       "        vertical-align: middle;\n",
       "    }\n",
       "\n",
       "    .dataframe tbody tr th {\n",
       "        vertical-align: top;\n",
       "    }\n",
       "\n",
       "    .dataframe thead th {\n",
       "        text-align: right;\n",
       "    }\n",
       "</style>\n",
       "<table border=\"1\" class=\"dataframe\">\n",
       "  <thead>\n",
       "    <tr style=\"text-align: right;\">\n",
       "      <th></th>\n",
       "      <th>Item_Weight</th>\n",
       "      <th>Item_Fat_Content</th>\n",
       "      <th>Item_Visibility</th>\n",
       "      <th>Item_MRP</th>\n",
       "      <th>Outlet_Size</th>\n",
       "      <th>Outlet_Location_Type</th>\n",
       "      <th>Outlet_Type</th>\n",
       "      <th>Age</th>\n",
       "      <th>Baking Goods</th>\n",
       "      <th>Breads</th>\n",
       "      <th>...</th>\n",
       "      <th>Frozen Foods</th>\n",
       "      <th>Fruits and Vegetables</th>\n",
       "      <th>Hard Drinks</th>\n",
       "      <th>Health and Hygiene</th>\n",
       "      <th>Household</th>\n",
       "      <th>Meat</th>\n",
       "      <th>Others</th>\n",
       "      <th>Seafood</th>\n",
       "      <th>Snack Foods</th>\n",
       "      <th>Soft Drinks</th>\n",
       "    </tr>\n",
       "  </thead>\n",
       "  <tbody>\n",
       "    <tr>\n",
       "      <th>0</th>\n",
       "      <td>20.750000</td>\n",
       "      <td>0</td>\n",
       "      <td>0.007565</td>\n",
       "      <td>107.8622</td>\n",
       "      <td>1</td>\n",
       "      <td>0</td>\n",
       "      <td>1</td>\n",
       "      <td>22</td>\n",
       "      <td>0</td>\n",
       "      <td>0</td>\n",
       "      <td>...</td>\n",
       "      <td>0</td>\n",
       "      <td>0</td>\n",
       "      <td>0</td>\n",
       "      <td>0</td>\n",
       "      <td>0</td>\n",
       "      <td>0</td>\n",
       "      <td>0</td>\n",
       "      <td>0</td>\n",
       "      <td>1</td>\n",
       "      <td>0</td>\n",
       "    </tr>\n",
       "    <tr>\n",
       "      <th>1</th>\n",
       "      <td>8.300000</td>\n",
       "      <td>1</td>\n",
       "      <td>0.038428</td>\n",
       "      <td>87.3198</td>\n",
       "      <td>1</td>\n",
       "      <td>1</td>\n",
       "      <td>1</td>\n",
       "      <td>14</td>\n",
       "      <td>0</td>\n",
       "      <td>0</td>\n",
       "      <td>...</td>\n",
       "      <td>0</td>\n",
       "      <td>0</td>\n",
       "      <td>0</td>\n",
       "      <td>0</td>\n",
       "      <td>0</td>\n",
       "      <td>0</td>\n",
       "      <td>0</td>\n",
       "      <td>0</td>\n",
       "      <td>0</td>\n",
       "      <td>0</td>\n",
       "    </tr>\n",
       "    <tr>\n",
       "      <th>2</th>\n",
       "      <td>14.600000</td>\n",
       "      <td>0</td>\n",
       "      <td>0.099575</td>\n",
       "      <td>241.7538</td>\n",
       "      <td>1</td>\n",
       "      <td>2</td>\n",
       "      <td>0</td>\n",
       "      <td>23</td>\n",
       "      <td>0</td>\n",
       "      <td>0</td>\n",
       "      <td>...</td>\n",
       "      <td>0</td>\n",
       "      <td>0</td>\n",
       "      <td>0</td>\n",
       "      <td>0</td>\n",
       "      <td>0</td>\n",
       "      <td>0</td>\n",
       "      <td>1</td>\n",
       "      <td>0</td>\n",
       "      <td>0</td>\n",
       "      <td>0</td>\n",
       "    </tr>\n",
       "    <tr>\n",
       "      <th>3</th>\n",
       "      <td>7.315000</td>\n",
       "      <td>0</td>\n",
       "      <td>0.015388</td>\n",
       "      <td>155.0340</td>\n",
       "      <td>1</td>\n",
       "      <td>1</td>\n",
       "      <td>1</td>\n",
       "      <td>14</td>\n",
       "      <td>0</td>\n",
       "      <td>0</td>\n",
       "      <td>...</td>\n",
       "      <td>0</td>\n",
       "      <td>0</td>\n",
       "      <td>0</td>\n",
       "      <td>0</td>\n",
       "      <td>0</td>\n",
       "      <td>0</td>\n",
       "      <td>0</td>\n",
       "      <td>0</td>\n",
       "      <td>1</td>\n",
       "      <td>0</td>\n",
       "    </tr>\n",
       "    <tr>\n",
       "      <th>4</th>\n",
       "      <td>12.695633</td>\n",
       "      <td>1</td>\n",
       "      <td>0.118599</td>\n",
       "      <td>234.2300</td>\n",
       "      <td>1</td>\n",
       "      <td>2</td>\n",
       "      <td>3</td>\n",
       "      <td>36</td>\n",
       "      <td>0</td>\n",
       "      <td>0</td>\n",
       "      <td>...</td>\n",
       "      <td>0</td>\n",
       "      <td>0</td>\n",
       "      <td>0</td>\n",
       "      <td>0</td>\n",
       "      <td>0</td>\n",
       "      <td>0</td>\n",
       "      <td>0</td>\n",
       "      <td>0</td>\n",
       "      <td>0</td>\n",
       "      <td>0</td>\n",
       "    </tr>\n",
       "  </tbody>\n",
       "</table>\n",
       "<p>5 rows × 23 columns</p>\n",
       "</div>"
      ],
      "text/plain": [
       "   Item_Weight  Item_Fat_Content  Item_Visibility  Item_MRP  Outlet_Size  \\\n",
       "0    20.750000                 0         0.007565  107.8622            1   \n",
       "1     8.300000                 1         0.038428   87.3198            1   \n",
       "2    14.600000                 0         0.099575  241.7538            1   \n",
       "3     7.315000                 0         0.015388  155.0340            1   \n",
       "4    12.695633                 1         0.118599  234.2300            1   \n",
       "\n",
       "   Outlet_Location_Type  Outlet_Type  Age  Baking Goods  Breads  ...  \\\n",
       "0                     0            1   22             0       0  ...   \n",
       "1                     1            1   14             0       0  ...   \n",
       "2                     2            0   23             0       0  ...   \n",
       "3                     1            1   14             0       0  ...   \n",
       "4                     2            3   36             0       0  ...   \n",
       "\n",
       "   Frozen Foods  Fruits and Vegetables  Hard Drinks  Health and Hygiene  \\\n",
       "0             0                      0            0                   0   \n",
       "1             0                      0            0                   0   \n",
       "2             0                      0            0                   0   \n",
       "3             0                      0            0                   0   \n",
       "4             0                      0            0                   0   \n",
       "\n",
       "   Household  Meat  Others  Seafood  Snack Foods  Soft Drinks  \n",
       "0          0     0       0        0            1            0  \n",
       "1          0     0       0        0            0            0  \n",
       "2          0     0       1        0            0            0  \n",
       "3          0     0       0        0            1            0  \n",
       "4          0     0       0        0            0            0  \n",
       "\n",
       "[5 rows x 23 columns]"
      ]
     },
     "execution_count": 206,
     "metadata": {},
     "output_type": "execute_result"
    }
   ],
   "source": [
    "test.head()"
   ]
  },
  {
   "cell_type": "code",
   "execution_count": 207,
   "id": "f1337610",
   "metadata": {
    "ExecuteTime": {
     "end_time": "2021-12-17T14:46:07.190200Z",
     "start_time": "2021-12-17T14:46:07.156806Z"
    }
   },
   "outputs": [
    {
     "data": {
      "text/html": [
       "<div>\n",
       "<style scoped>\n",
       "    .dataframe tbody tr th:only-of-type {\n",
       "        vertical-align: middle;\n",
       "    }\n",
       "\n",
       "    .dataframe tbody tr th {\n",
       "        vertical-align: top;\n",
       "    }\n",
       "\n",
       "    .dataframe thead th {\n",
       "        text-align: right;\n",
       "    }\n",
       "</style>\n",
       "<table border=\"1\" class=\"dataframe\">\n",
       "  <thead>\n",
       "    <tr style=\"text-align: right;\">\n",
       "      <th></th>\n",
       "      <th>Item_Weight</th>\n",
       "      <th>Item_Visibility</th>\n",
       "      <th>Item_MRP</th>\n",
       "    </tr>\n",
       "  </thead>\n",
       "  <tbody>\n",
       "    <tr>\n",
       "      <th>0</th>\n",
       "      <td>9.30</td>\n",
       "      <td>0.016047</td>\n",
       "      <td>249.8092</td>\n",
       "    </tr>\n",
       "    <tr>\n",
       "      <th>1</th>\n",
       "      <td>5.92</td>\n",
       "      <td>0.019278</td>\n",
       "      <td>48.2692</td>\n",
       "    </tr>\n",
       "    <tr>\n",
       "      <th>2</th>\n",
       "      <td>17.50</td>\n",
       "      <td>0.016760</td>\n",
       "      <td>141.6180</td>\n",
       "    </tr>\n",
       "    <tr>\n",
       "      <th>3</th>\n",
       "      <td>19.20</td>\n",
       "      <td>0.000000</td>\n",
       "      <td>182.0950</td>\n",
       "    </tr>\n",
       "    <tr>\n",
       "      <th>4</th>\n",
       "      <td>8.93</td>\n",
       "      <td>0.000000</td>\n",
       "      <td>53.8614</td>\n",
       "    </tr>\n",
       "  </tbody>\n",
       "</table>\n",
       "</div>"
      ],
      "text/plain": [
       "   Item_Weight  Item_Visibility  Item_MRP\n",
       "0         9.30         0.016047  249.8092\n",
       "1         5.92         0.019278   48.2692\n",
       "2        17.50         0.016760  141.6180\n",
       "3        19.20         0.000000  182.0950\n",
       "4         8.93         0.000000   53.8614"
      ]
     },
     "execution_count": 207,
     "metadata": {},
     "output_type": "execute_result"
    }
   ],
   "source": [
    "X = train[cont_features]\n",
    "X.head()"
   ]
  },
  {
   "cell_type": "code",
   "execution_count": 208,
   "id": "378fbe34",
   "metadata": {
    "ExecuteTime": {
     "end_time": "2021-12-17T14:46:07.233268Z",
     "start_time": "2021-12-17T14:46:07.194870Z"
    }
   },
   "outputs": [
    {
     "data": {
      "text/html": [
       "<div>\n",
       "<style scoped>\n",
       "    .dataframe tbody tr th:only-of-type {\n",
       "        vertical-align: middle;\n",
       "    }\n",
       "\n",
       "    .dataframe tbody tr th {\n",
       "        vertical-align: top;\n",
       "    }\n",
       "\n",
       "    .dataframe thead th {\n",
       "        text-align: right;\n",
       "    }\n",
       "</style>\n",
       "<table border=\"1\" class=\"dataframe\">\n",
       "  <thead>\n",
       "    <tr style=\"text-align: right;\">\n",
       "      <th></th>\n",
       "      <th>Item_Weight</th>\n",
       "      <th>Item_Visibility</th>\n",
       "      <th>Item_MRP</th>\n",
       "    </tr>\n",
       "  </thead>\n",
       "  <tbody>\n",
       "    <tr>\n",
       "      <th>0</th>\n",
       "      <td>20.750000</td>\n",
       "      <td>0.007565</td>\n",
       "      <td>107.8622</td>\n",
       "    </tr>\n",
       "    <tr>\n",
       "      <th>1</th>\n",
       "      <td>8.300000</td>\n",
       "      <td>0.038428</td>\n",
       "      <td>87.3198</td>\n",
       "    </tr>\n",
       "    <tr>\n",
       "      <th>2</th>\n",
       "      <td>14.600000</td>\n",
       "      <td>0.099575</td>\n",
       "      <td>241.7538</td>\n",
       "    </tr>\n",
       "    <tr>\n",
       "      <th>3</th>\n",
       "      <td>7.315000</td>\n",
       "      <td>0.015388</td>\n",
       "      <td>155.0340</td>\n",
       "    </tr>\n",
       "    <tr>\n",
       "      <th>4</th>\n",
       "      <td>12.695633</td>\n",
       "      <td>0.118599</td>\n",
       "      <td>234.2300</td>\n",
       "    </tr>\n",
       "  </tbody>\n",
       "</table>\n",
       "</div>"
      ],
      "text/plain": [
       "   Item_Weight  Item_Visibility  Item_MRP\n",
       "0    20.750000         0.007565  107.8622\n",
       "1     8.300000         0.038428   87.3198\n",
       "2    14.600000         0.099575  241.7538\n",
       "3     7.315000         0.015388  155.0340\n",
       "4    12.695633         0.118599  234.2300"
      ]
     },
     "execution_count": 208,
     "metadata": {},
     "output_type": "execute_result"
    }
   ],
   "source": [
    "test2 = test[cont_features]\n",
    "test2.head()"
   ]
  },
  {
   "cell_type": "markdown",
   "id": "cb83529f",
   "metadata": {},
   "source": [
    "<a href=\"#toc\" role=\"button\" aria-pressed=\"true\" >⬆️Back to Table of Contents ⬆️</a>"
   ]
  },
  {
   "cell_type": "markdown",
   "id": "70c28b95",
   "metadata": {},
   "source": [
    "<a id='7'></a>\n",
    "# Feature Scaling"
   ]
  },
  {
   "cell_type": "code",
   "execution_count": 209,
   "id": "e996df41",
   "metadata": {
    "ExecuteTime": {
     "end_time": "2021-12-17T14:46:07.281315Z",
     "start_time": "2021-12-17T14:46:07.239454Z"
    }
   },
   "outputs": [],
   "source": [
    "scaler = StandardScaler()\n",
    "X = scaler.fit_transform(X)\n",
    "test2 = scaler.fit_transform(test2)"
   ]
  },
  {
   "cell_type": "code",
   "execution_count": 210,
   "id": "881a9f03",
   "metadata": {
    "ExecuteTime": {
     "end_time": "2021-12-17T14:46:07.299752Z",
     "start_time": "2021-12-17T14:46:07.286688Z"
    }
   },
   "outputs": [],
   "source": [
    "X = pd.DataFrame(X, columns=cont_features)\n",
    "test2 = pd.DataFrame(test2, columns=cont_features)"
   ]
  },
  {
   "cell_type": "code",
   "execution_count": 211,
   "id": "9c3f6539",
   "metadata": {
    "ExecuteTime": {
     "end_time": "2021-12-17T14:46:07.333261Z",
     "start_time": "2021-12-17T14:46:07.304894Z"
    },
    "scrolled": true
   },
   "outputs": [
    {
     "data": {
      "text/html": [
       "<div>\n",
       "<style scoped>\n",
       "    .dataframe tbody tr th:only-of-type {\n",
       "        vertical-align: middle;\n",
       "    }\n",
       "\n",
       "    .dataframe tbody tr th {\n",
       "        vertical-align: top;\n",
       "    }\n",
       "\n",
       "    .dataframe thead th {\n",
       "        text-align: right;\n",
       "    }\n",
       "</style>\n",
       "<table border=\"1\" class=\"dataframe\">\n",
       "  <thead>\n",
       "    <tr style=\"text-align: right;\">\n",
       "      <th></th>\n",
       "      <th>Item_Weight</th>\n",
       "      <th>Item_Visibility</th>\n",
       "      <th>Item_MRP</th>\n",
       "    </tr>\n",
       "  </thead>\n",
       "  <tbody>\n",
       "    <tr>\n",
       "      <th>0</th>\n",
       "      <td>-0.841872</td>\n",
       "      <td>-0.970732</td>\n",
       "      <td>1.747454</td>\n",
       "    </tr>\n",
       "    <tr>\n",
       "      <th>1</th>\n",
       "      <td>-1.641706</td>\n",
       "      <td>-0.908111</td>\n",
       "      <td>-1.489023</td>\n",
       "    </tr>\n",
       "    <tr>\n",
       "      <th>2</th>\n",
       "      <td>1.098554</td>\n",
       "      <td>-0.956917</td>\n",
       "      <td>0.010040</td>\n",
       "    </tr>\n",
       "    <tr>\n",
       "      <th>3</th>\n",
       "      <td>1.500838</td>\n",
       "      <td>-1.281758</td>\n",
       "      <td>0.660050</td>\n",
       "    </tr>\n",
       "    <tr>\n",
       "      <th>4</th>\n",
       "      <td>-0.929428</td>\n",
       "      <td>-1.281758</td>\n",
       "      <td>-1.399220</td>\n",
       "    </tr>\n",
       "  </tbody>\n",
       "</table>\n",
       "</div>"
      ],
      "text/plain": [
       "   Item_Weight  Item_Visibility  Item_MRP\n",
       "0    -0.841872        -0.970732  1.747454\n",
       "1    -1.641706        -0.908111 -1.489023\n",
       "2     1.098554        -0.956917  0.010040\n",
       "3     1.500838        -1.281758  0.660050\n",
       "4    -0.929428        -1.281758 -1.399220"
      ]
     },
     "execution_count": 211,
     "metadata": {},
     "output_type": "execute_result"
    }
   ],
   "source": [
    "X.head()"
   ]
  },
  {
   "cell_type": "code",
   "execution_count": 212,
   "id": "d0e00ea4",
   "metadata": {
    "ExecuteTime": {
     "end_time": "2021-12-17T14:46:07.365622Z",
     "start_time": "2021-12-17T14:46:07.338467Z"
    }
   },
   "outputs": [
    {
     "data": {
      "text/html": [
       "<div>\n",
       "<style scoped>\n",
       "    .dataframe tbody tr th:only-of-type {\n",
       "        vertical-align: middle;\n",
       "    }\n",
       "\n",
       "    .dataframe tbody tr th {\n",
       "        vertical-align: top;\n",
       "    }\n",
       "\n",
       "    .dataframe thead th {\n",
       "        text-align: right;\n",
       "    }\n",
       "</style>\n",
       "<table border=\"1\" class=\"dataframe\">\n",
       "  <thead>\n",
       "    <tr style=\"text-align: right;\">\n",
       "      <th></th>\n",
       "      <th>Item_Weight</th>\n",
       "      <th>Item_Visibility</th>\n",
       "      <th>Item_MRP</th>\n",
       "    </tr>\n",
       "  </thead>\n",
       "  <tbody>\n",
       "    <tr>\n",
       "      <th>0</th>\n",
       "      <td>1.897460e+00</td>\n",
       "      <td>-1.134077</td>\n",
       "      <td>-0.536555</td>\n",
       "    </tr>\n",
       "    <tr>\n",
       "      <th>1</th>\n",
       "      <td>-1.035530e+00</td>\n",
       "      <td>-0.531850</td>\n",
       "      <td>-0.868937</td>\n",
       "    </tr>\n",
       "    <tr>\n",
       "      <th>2</th>\n",
       "      <td>4.486336e-01</td>\n",
       "      <td>0.661316</td>\n",
       "      <td>1.629848</td>\n",
       "    </tr>\n",
       "    <tr>\n",
       "      <th>3</th>\n",
       "      <td>-1.267578e+00</td>\n",
       "      <td>-0.981416</td>\n",
       "      <td>0.226697</td>\n",
       "    </tr>\n",
       "    <tr>\n",
       "      <th>4</th>\n",
       "      <td>-5.230960e-14</td>\n",
       "      <td>1.032540</td>\n",
       "      <td>1.508110</td>\n",
       "    </tr>\n",
       "  </tbody>\n",
       "</table>\n",
       "</div>"
      ],
      "text/plain": [
       "    Item_Weight  Item_Visibility  Item_MRP\n",
       "0  1.897460e+00        -1.134077 -0.536555\n",
       "1 -1.035530e+00        -0.531850 -0.868937\n",
       "2  4.486336e-01         0.661316  1.629848\n",
       "3 -1.267578e+00        -0.981416  0.226697\n",
       "4 -5.230960e-14         1.032540  1.508110"
      ]
     },
     "execution_count": 212,
     "metadata": {},
     "output_type": "execute_result"
    }
   ],
   "source": [
    "test2.head()"
   ]
  },
  {
   "cell_type": "code",
   "execution_count": 213,
   "id": "1575898a",
   "metadata": {
    "ExecuteTime": {
     "end_time": "2021-12-17T14:46:07.394219Z",
     "start_time": "2021-12-17T14:46:07.371271Z"
    }
   },
   "outputs": [
    {
     "data": {
      "text/plain": [
       "['Item_Weight',\n",
       " 'Item_Fat_Content',\n",
       " 'Item_Visibility',\n",
       " 'Item_MRP',\n",
       " 'Outlet_Size',\n",
       " 'Outlet_Location_Type',\n",
       " 'Outlet_Type',\n",
       " 'Age',\n",
       " 'Baking Goods',\n",
       " 'Breads',\n",
       " 'Breakfast',\n",
       " 'Canned',\n",
       " 'Dairy',\n",
       " 'Frozen Foods',\n",
       " 'Fruits and Vegetables',\n",
       " 'Hard Drinks',\n",
       " 'Health and Hygiene',\n",
       " 'Household',\n",
       " 'Meat',\n",
       " 'Others',\n",
       " 'Seafood',\n",
       " 'Snack Foods',\n",
       " 'Soft Drinks']"
      ]
     },
     "execution_count": 213,
     "metadata": {},
     "output_type": "execute_result"
    }
   ],
   "source": [
    "FEATURES = [col for col in train.columns if col not in ['Item_Outlet_Sales']]\n",
    "FEATURES"
   ]
  },
  {
   "cell_type": "code",
   "execution_count": 214,
   "id": "06ba8671",
   "metadata": {
    "ExecuteTime": {
     "end_time": "2021-12-17T14:46:07.453945Z",
     "start_time": "2021-12-17T14:46:07.399247Z"
    }
   },
   "outputs": [
    {
     "data": {
      "text/plain": [
       "['Item_Fat_Content',\n",
       " 'Outlet_Size',\n",
       " 'Outlet_Location_Type',\n",
       " 'Outlet_Type',\n",
       " 'Age',\n",
       " 'Baking Goods',\n",
       " 'Breads',\n",
       " 'Breakfast',\n",
       " 'Canned',\n",
       " 'Dairy',\n",
       " 'Frozen Foods',\n",
       " 'Fruits and Vegetables',\n",
       " 'Hard Drinks',\n",
       " 'Health and Hygiene',\n",
       " 'Household',\n",
       " 'Meat',\n",
       " 'Others',\n",
       " 'Seafood',\n",
       " 'Snack Foods',\n",
       " 'Soft Drinks']"
      ]
     },
     "execution_count": 214,
     "metadata": {},
     "output_type": "execute_result"
    }
   ],
   "source": [
    "cat_features = [col for col in FEATURES if train[col].nunique() < 25]\n",
    "cat_features"
   ]
  },
  {
   "cell_type": "markdown",
   "id": "c2f43a29",
   "metadata": {},
   "source": [
    "<a href=\"#toc\" role=\"button\" aria-pressed=\"true\" >⬆️Back to Table of Contents ⬆️</a>"
   ]
  },
  {
   "cell_type": "markdown",
   "id": "cb0f9805",
   "metadata": {},
   "source": [
    "<a id= '8'></a>\n",
    "# Assigning Feature and Target Variables"
   ]
  },
  {
   "cell_type": "code",
   "execution_count": 215,
   "id": "ada246d2",
   "metadata": {
    "ExecuteTime": {
     "end_time": "2021-12-17T14:46:07.533506Z",
     "start_time": "2021-12-17T14:46:07.458762Z"
    }
   },
   "outputs": [
    {
     "data": {
      "text/html": [
       "<div>\n",
       "<style scoped>\n",
       "    .dataframe tbody tr th:only-of-type {\n",
       "        vertical-align: middle;\n",
       "    }\n",
       "\n",
       "    .dataframe tbody tr th {\n",
       "        vertical-align: top;\n",
       "    }\n",
       "\n",
       "    .dataframe thead th {\n",
       "        text-align: right;\n",
       "    }\n",
       "</style>\n",
       "<table border=\"1\" class=\"dataframe\">\n",
       "  <thead>\n",
       "    <tr style=\"text-align: right;\">\n",
       "      <th></th>\n",
       "      <th>Item_Weight</th>\n",
       "      <th>Item_Visibility</th>\n",
       "      <th>Item_MRP</th>\n",
       "      <th>Item_Fat_Content</th>\n",
       "      <th>Outlet_Size</th>\n",
       "      <th>Outlet_Location_Type</th>\n",
       "      <th>Outlet_Type</th>\n",
       "      <th>Age</th>\n",
       "      <th>Baking Goods</th>\n",
       "      <th>Breads</th>\n",
       "      <th>...</th>\n",
       "      <th>Frozen Foods</th>\n",
       "      <th>Fruits and Vegetables</th>\n",
       "      <th>Hard Drinks</th>\n",
       "      <th>Health and Hygiene</th>\n",
       "      <th>Household</th>\n",
       "      <th>Meat</th>\n",
       "      <th>Others</th>\n",
       "      <th>Seafood</th>\n",
       "      <th>Snack Foods</th>\n",
       "      <th>Soft Drinks</th>\n",
       "    </tr>\n",
       "  </thead>\n",
       "  <tbody>\n",
       "    <tr>\n",
       "      <th>0</th>\n",
       "      <td>-0.841872</td>\n",
       "      <td>-0.970732</td>\n",
       "      <td>1.747454</td>\n",
       "      <td>0</td>\n",
       "      <td>1</td>\n",
       "      <td>0</td>\n",
       "      <td>1</td>\n",
       "      <td>22</td>\n",
       "      <td>0</td>\n",
       "      <td>0</td>\n",
       "      <td>...</td>\n",
       "      <td>0</td>\n",
       "      <td>0</td>\n",
       "      <td>0</td>\n",
       "      <td>0</td>\n",
       "      <td>0</td>\n",
       "      <td>0</td>\n",
       "      <td>0</td>\n",
       "      <td>0</td>\n",
       "      <td>0</td>\n",
       "      <td>0</td>\n",
       "    </tr>\n",
       "    <tr>\n",
       "      <th>1</th>\n",
       "      <td>-1.641706</td>\n",
       "      <td>-0.908111</td>\n",
       "      <td>-1.489023</td>\n",
       "      <td>1</td>\n",
       "      <td>1</td>\n",
       "      <td>2</td>\n",
       "      <td>2</td>\n",
       "      <td>12</td>\n",
       "      <td>0</td>\n",
       "      <td>0</td>\n",
       "      <td>...</td>\n",
       "      <td>0</td>\n",
       "      <td>0</td>\n",
       "      <td>0</td>\n",
       "      <td>0</td>\n",
       "      <td>0</td>\n",
       "      <td>0</td>\n",
       "      <td>0</td>\n",
       "      <td>0</td>\n",
       "      <td>0</td>\n",
       "      <td>1</td>\n",
       "    </tr>\n",
       "    <tr>\n",
       "      <th>2</th>\n",
       "      <td>1.098554</td>\n",
       "      <td>-0.956917</td>\n",
       "      <td>0.010040</td>\n",
       "      <td>0</td>\n",
       "      <td>1</td>\n",
       "      <td>0</td>\n",
       "      <td>1</td>\n",
       "      <td>22</td>\n",
       "      <td>0</td>\n",
       "      <td>0</td>\n",
       "      <td>...</td>\n",
       "      <td>0</td>\n",
       "      <td>0</td>\n",
       "      <td>0</td>\n",
       "      <td>0</td>\n",
       "      <td>0</td>\n",
       "      <td>1</td>\n",
       "      <td>0</td>\n",
       "      <td>0</td>\n",
       "      <td>0</td>\n",
       "      <td>0</td>\n",
       "    </tr>\n",
       "    <tr>\n",
       "      <th>3</th>\n",
       "      <td>1.500838</td>\n",
       "      <td>-1.281758</td>\n",
       "      <td>0.660050</td>\n",
       "      <td>1</td>\n",
       "      <td>1</td>\n",
       "      <td>2</td>\n",
       "      <td>0</td>\n",
       "      <td>23</td>\n",
       "      <td>0</td>\n",
       "      <td>0</td>\n",
       "      <td>...</td>\n",
       "      <td>0</td>\n",
       "      <td>1</td>\n",
       "      <td>0</td>\n",
       "      <td>0</td>\n",
       "      <td>0</td>\n",
       "      <td>0</td>\n",
       "      <td>0</td>\n",
       "      <td>0</td>\n",
       "      <td>0</td>\n",
       "      <td>0</td>\n",
       "    </tr>\n",
       "    <tr>\n",
       "      <th>4</th>\n",
       "      <td>-0.929428</td>\n",
       "      <td>-1.281758</td>\n",
       "      <td>-1.399220</td>\n",
       "      <td>0</td>\n",
       "      <td>0</td>\n",
       "      <td>2</td>\n",
       "      <td>1</td>\n",
       "      <td>34</td>\n",
       "      <td>0</td>\n",
       "      <td>0</td>\n",
       "      <td>...</td>\n",
       "      <td>0</td>\n",
       "      <td>0</td>\n",
       "      <td>0</td>\n",
       "      <td>0</td>\n",
       "      <td>1</td>\n",
       "      <td>0</td>\n",
       "      <td>0</td>\n",
       "      <td>0</td>\n",
       "      <td>0</td>\n",
       "      <td>0</td>\n",
       "    </tr>\n",
       "  </tbody>\n",
       "</table>\n",
       "<p>5 rows × 23 columns</p>\n",
       "</div>"
      ],
      "text/plain": [
       "   Item_Weight  Item_Visibility  Item_MRP  Item_Fat_Content  Outlet_Size  \\\n",
       "0    -0.841872        -0.970732  1.747454                 0            1   \n",
       "1    -1.641706        -0.908111 -1.489023                 1            1   \n",
       "2     1.098554        -0.956917  0.010040                 0            1   \n",
       "3     1.500838        -1.281758  0.660050                 1            1   \n",
       "4    -0.929428        -1.281758 -1.399220                 0            0   \n",
       "\n",
       "   Outlet_Location_Type  Outlet_Type  Age  Baking Goods  Breads  ...  \\\n",
       "0                     0            1   22             0       0  ...   \n",
       "1                     2            2   12             0       0  ...   \n",
       "2                     0            1   22             0       0  ...   \n",
       "3                     2            0   23             0       0  ...   \n",
       "4                     2            1   34             0       0  ...   \n",
       "\n",
       "   Frozen Foods  Fruits and Vegetables  Hard Drinks  Health and Hygiene  \\\n",
       "0             0                      0            0                   0   \n",
       "1             0                      0            0                   0   \n",
       "2             0                      0            0                   0   \n",
       "3             0                      1            0                   0   \n",
       "4             0                      0            0                   0   \n",
       "\n",
       "   Household  Meat  Others  Seafood  Snack Foods  Soft Drinks  \n",
       "0          0     0       0        0            0            0  \n",
       "1          0     0       0        0            0            1  \n",
       "2          0     1       0        0            0            0  \n",
       "3          0     0       0        0            0            0  \n",
       "4          1     0       0        0            0            0  \n",
       "\n",
       "[5 rows x 23 columns]"
      ]
     },
     "execution_count": 215,
     "metadata": {},
     "output_type": "execute_result"
    }
   ],
   "source": [
    "X = pd.concat([X, train[cat_features]], axis=1)\n",
    "X.head()"
   ]
  },
  {
   "cell_type": "code",
   "execution_count": 216,
   "id": "ca8ea7f6",
   "metadata": {
    "ExecuteTime": {
     "end_time": "2021-12-17T14:46:07.572849Z",
     "start_time": "2021-12-17T14:46:07.541634Z"
    }
   },
   "outputs": [
    {
     "data": {
      "text/plain": [
       "0    3735.1380\n",
       "1     443.4228\n",
       "2    2097.2700\n",
       "3     732.3800\n",
       "4     994.7052\n",
       "Name: Item_Outlet_Sales, dtype: float64"
      ]
     },
     "execution_count": 216,
     "metadata": {},
     "output_type": "execute_result"
    }
   ],
   "source": [
    "y = train.Item_Outlet_Sales\n",
    "y.head()"
   ]
  },
  {
   "cell_type": "code",
   "execution_count": 217,
   "id": "503df841",
   "metadata": {
    "ExecuteTime": {
     "end_time": "2021-12-17T14:46:07.666737Z",
     "start_time": "2021-12-17T14:46:07.579641Z"
    }
   },
   "outputs": [
    {
     "data": {
      "text/html": [
       "<div>\n",
       "<style scoped>\n",
       "    .dataframe tbody tr th:only-of-type {\n",
       "        vertical-align: middle;\n",
       "    }\n",
       "\n",
       "    .dataframe tbody tr th {\n",
       "        vertical-align: top;\n",
       "    }\n",
       "\n",
       "    .dataframe thead th {\n",
       "        text-align: right;\n",
       "    }\n",
       "</style>\n",
       "<table border=\"1\" class=\"dataframe\">\n",
       "  <thead>\n",
       "    <tr style=\"text-align: right;\">\n",
       "      <th></th>\n",
       "      <th>Item_Weight</th>\n",
       "      <th>Item_Visibility</th>\n",
       "      <th>Item_MRP</th>\n",
       "      <th>Item_Fat_Content</th>\n",
       "      <th>Outlet_Size</th>\n",
       "      <th>Outlet_Location_Type</th>\n",
       "      <th>Outlet_Type</th>\n",
       "      <th>Age</th>\n",
       "      <th>Baking Goods</th>\n",
       "      <th>Breads</th>\n",
       "      <th>...</th>\n",
       "      <th>Frozen Foods</th>\n",
       "      <th>Fruits and Vegetables</th>\n",
       "      <th>Hard Drinks</th>\n",
       "      <th>Health and Hygiene</th>\n",
       "      <th>Household</th>\n",
       "      <th>Meat</th>\n",
       "      <th>Others</th>\n",
       "      <th>Seafood</th>\n",
       "      <th>Snack Foods</th>\n",
       "      <th>Soft Drinks</th>\n",
       "    </tr>\n",
       "  </thead>\n",
       "  <tbody>\n",
       "    <tr>\n",
       "      <th>0</th>\n",
       "      <td>1.897460e+00</td>\n",
       "      <td>-1.134077</td>\n",
       "      <td>-0.536555</td>\n",
       "      <td>0</td>\n",
       "      <td>1</td>\n",
       "      <td>0</td>\n",
       "      <td>1</td>\n",
       "      <td>22</td>\n",
       "      <td>0</td>\n",
       "      <td>0</td>\n",
       "      <td>...</td>\n",
       "      <td>0</td>\n",
       "      <td>0</td>\n",
       "      <td>0</td>\n",
       "      <td>0</td>\n",
       "      <td>0</td>\n",
       "      <td>0</td>\n",
       "      <td>0</td>\n",
       "      <td>0</td>\n",
       "      <td>1</td>\n",
       "      <td>0</td>\n",
       "    </tr>\n",
       "    <tr>\n",
       "      <th>1</th>\n",
       "      <td>-1.035530e+00</td>\n",
       "      <td>-0.531850</td>\n",
       "      <td>-0.868937</td>\n",
       "      <td>1</td>\n",
       "      <td>1</td>\n",
       "      <td>1</td>\n",
       "      <td>1</td>\n",
       "      <td>14</td>\n",
       "      <td>0</td>\n",
       "      <td>0</td>\n",
       "      <td>...</td>\n",
       "      <td>0</td>\n",
       "      <td>0</td>\n",
       "      <td>0</td>\n",
       "      <td>0</td>\n",
       "      <td>0</td>\n",
       "      <td>0</td>\n",
       "      <td>0</td>\n",
       "      <td>0</td>\n",
       "      <td>0</td>\n",
       "      <td>0</td>\n",
       "    </tr>\n",
       "    <tr>\n",
       "      <th>2</th>\n",
       "      <td>4.486336e-01</td>\n",
       "      <td>0.661316</td>\n",
       "      <td>1.629848</td>\n",
       "      <td>0</td>\n",
       "      <td>1</td>\n",
       "      <td>2</td>\n",
       "      <td>0</td>\n",
       "      <td>23</td>\n",
       "      <td>0</td>\n",
       "      <td>0</td>\n",
       "      <td>...</td>\n",
       "      <td>0</td>\n",
       "      <td>0</td>\n",
       "      <td>0</td>\n",
       "      <td>0</td>\n",
       "      <td>0</td>\n",
       "      <td>0</td>\n",
       "      <td>1</td>\n",
       "      <td>0</td>\n",
       "      <td>0</td>\n",
       "      <td>0</td>\n",
       "    </tr>\n",
       "    <tr>\n",
       "      <th>3</th>\n",
       "      <td>-1.267578e+00</td>\n",
       "      <td>-0.981416</td>\n",
       "      <td>0.226697</td>\n",
       "      <td>0</td>\n",
       "      <td>1</td>\n",
       "      <td>1</td>\n",
       "      <td>1</td>\n",
       "      <td>14</td>\n",
       "      <td>0</td>\n",
       "      <td>0</td>\n",
       "      <td>...</td>\n",
       "      <td>0</td>\n",
       "      <td>0</td>\n",
       "      <td>0</td>\n",
       "      <td>0</td>\n",
       "      <td>0</td>\n",
       "      <td>0</td>\n",
       "      <td>0</td>\n",
       "      <td>0</td>\n",
       "      <td>1</td>\n",
       "      <td>0</td>\n",
       "    </tr>\n",
       "    <tr>\n",
       "      <th>4</th>\n",
       "      <td>-5.230960e-14</td>\n",
       "      <td>1.032540</td>\n",
       "      <td>1.508110</td>\n",
       "      <td>1</td>\n",
       "      <td>1</td>\n",
       "      <td>2</td>\n",
       "      <td>3</td>\n",
       "      <td>36</td>\n",
       "      <td>0</td>\n",
       "      <td>0</td>\n",
       "      <td>...</td>\n",
       "      <td>0</td>\n",
       "      <td>0</td>\n",
       "      <td>0</td>\n",
       "      <td>0</td>\n",
       "      <td>0</td>\n",
       "      <td>0</td>\n",
       "      <td>0</td>\n",
       "      <td>0</td>\n",
       "      <td>0</td>\n",
       "      <td>0</td>\n",
       "    </tr>\n",
       "  </tbody>\n",
       "</table>\n",
       "<p>5 rows × 23 columns</p>\n",
       "</div>"
      ],
      "text/plain": [
       "    Item_Weight  Item_Visibility  Item_MRP  Item_Fat_Content  Outlet_Size  \\\n",
       "0  1.897460e+00        -1.134077 -0.536555                 0            1   \n",
       "1 -1.035530e+00        -0.531850 -0.868937                 1            1   \n",
       "2  4.486336e-01         0.661316  1.629848                 0            1   \n",
       "3 -1.267578e+00        -0.981416  0.226697                 0            1   \n",
       "4 -5.230960e-14         1.032540  1.508110                 1            1   \n",
       "\n",
       "   Outlet_Location_Type  Outlet_Type  Age  Baking Goods  Breads  ...  \\\n",
       "0                     0            1   22             0       0  ...   \n",
       "1                     1            1   14             0       0  ...   \n",
       "2                     2            0   23             0       0  ...   \n",
       "3                     1            1   14             0       0  ...   \n",
       "4                     2            3   36             0       0  ...   \n",
       "\n",
       "   Frozen Foods  Fruits and Vegetables  Hard Drinks  Health and Hygiene  \\\n",
       "0             0                      0            0                   0   \n",
       "1             0                      0            0                   0   \n",
       "2             0                      0            0                   0   \n",
       "3             0                      0            0                   0   \n",
       "4             0                      0            0                   0   \n",
       "\n",
       "   Household  Meat  Others  Seafood  Snack Foods  Soft Drinks  \n",
       "0          0     0       0        0            1            0  \n",
       "1          0     0       0        0            0            0  \n",
       "2          0     0       1        0            0            0  \n",
       "3          0     0       0        0            1            0  \n",
       "4          0     0       0        0            0            0  \n",
       "\n",
       "[5 rows x 23 columns]"
      ]
     },
     "execution_count": 217,
     "metadata": {},
     "output_type": "execute_result"
    }
   ],
   "source": [
    "test2 = pd.concat([test2, test[cat_features]], axis=1)\n",
    "test2.head()"
   ]
  },
  {
   "cell_type": "code",
   "execution_count": 218,
   "id": "84999639",
   "metadata": {
    "ExecuteTime": {
     "end_time": "2021-12-17T14:46:07.690177Z",
     "start_time": "2021-12-17T14:46:07.674994Z"
    }
   },
   "outputs": [
    {
     "data": {
      "text/plain": [
       "(8523, 24)"
      ]
     },
     "execution_count": 218,
     "metadata": {},
     "output_type": "execute_result"
    }
   ],
   "source": [
    "train.shape"
   ]
  },
  {
   "cell_type": "code",
   "execution_count": 219,
   "id": "4e87d0ac",
   "metadata": {
    "ExecuteTime": {
     "end_time": "2021-12-17T14:46:07.719149Z",
     "start_time": "2021-12-17T14:46:07.695774Z"
    }
   },
   "outputs": [
    {
     "data": {
      "text/plain": [
       "(8523, 23)"
      ]
     },
     "execution_count": 219,
     "metadata": {},
     "output_type": "execute_result"
    }
   ],
   "source": [
    "X.shape"
   ]
  },
  {
   "cell_type": "code",
   "execution_count": 220,
   "id": "062c57b4",
   "metadata": {
    "ExecuteTime": {
     "end_time": "2021-12-17T14:46:07.750504Z",
     "start_time": "2021-12-17T14:46:07.727150Z"
    }
   },
   "outputs": [
    {
     "data": {
      "text/plain": [
       "(5681, 23)"
      ]
     },
     "execution_count": 220,
     "metadata": {},
     "output_type": "execute_result"
    }
   ],
   "source": [
    "test2.shape"
   ]
  },
  {
   "cell_type": "markdown",
   "id": "0eb04f39",
   "metadata": {},
   "source": [
    "<a href=\"#toc\" role=\"button\" aria-pressed=\"true\" >⬆️Back to Table of Contents ⬆️</a>"
   ]
  },
  {
   "cell_type": "markdown",
   "id": "eeae02c1",
   "metadata": {},
   "source": [
    "<a id='9'></a>\n",
    "# Spliting the data into Training and Testing data"
   ]
  },
  {
   "cell_type": "code",
   "execution_count": 221,
   "id": "1fe54de0",
   "metadata": {
    "ExecuteTime": {
     "end_time": "2021-12-17T14:46:07.783279Z",
     "start_time": "2021-12-17T14:46:07.758010Z"
    }
   },
   "outputs": [],
   "source": [
    "X_train, X_test, y_train, y_test = train_test_split(X,y, test_size=0.25, random_state = 0)"
   ]
  },
  {
   "cell_type": "markdown",
   "id": "cbae026a",
   "metadata": {},
   "source": [
    "<a href=\"#toc\" role=\"button\" aria-pressed=\"true\" >⬆️Back to Table of Contents ⬆️</a>"
   ]
  },
  {
   "cell_type": "markdown",
   "id": "03df5486",
   "metadata": {},
   "source": [
    "<a id='10'></a>\n",
    "# Modeling"
   ]
  },
  {
   "cell_type": "markdown",
   "id": "8312ab10",
   "metadata": {},
   "source": [
    "<a id='10.1'></a>\n",
    "***Random Forest Regressor Model***"
   ]
  },
  {
   "cell_type": "code",
   "execution_count": 222,
   "id": "67f19d57",
   "metadata": {
    "ExecuteTime": {
     "end_time": "2021-12-17T14:47:00.611356Z",
     "start_time": "2021-12-17T14:46:07.791730Z"
    }
   },
   "outputs": [
    {
     "name": "stdout",
     "output_type": "stream",
     "text": [
      "Random Forest Accuracy Cross validation: 0.5513674444799664\n"
     ]
    }
   ],
   "source": [
    "rf = RandomForestRegressor()\n",
    "rf = cross_val_score(rf, X, y, cv=10)\n",
    "rf_score = np.average(rf)\n",
    "print(f\"Random Forest Accuracy Cross validation: {rf_score}\")"
   ]
  },
  {
   "cell_type": "code",
   "execution_count": 223,
   "id": "d54d05ca",
   "metadata": {
    "ExecuteTime": {
     "end_time": "2021-12-17T14:47:04.377077Z",
     "start_time": "2021-12-17T14:47:00.613778Z"
    }
   },
   "outputs": [
    {
     "name": "stdout",
     "output_type": "stream",
     "text": [
      "Random Forest model score on Training data: 93.82055081332472%\n",
      "Random Forest model score on Testing data: 55.473024316742084%\n"
     ]
    }
   ],
   "source": [
    "rf_model = RandomForestRegressor()\n",
    "rf_model.fit(X_train, y_train)\n",
    "rf_model_train_score = rf_model.score(X_train, y_train)\n",
    "rf_model_test_score = rf_model.score(X_test, y_test)\n",
    "print(f\"Random Forest model score on Training data: {rf_model_train_score * 100}%\\nRandom Forest model score on Testing data: {rf_model_test_score * 100}%\")"
   ]
  },
  {
   "cell_type": "markdown",
   "id": "76de9fc9",
   "metadata": {},
   "source": [
    "<a id='9.2'></a>\n",
    "***Gradient Boosting Regressor Model***"
   ]
  },
  {
   "cell_type": "code",
   "execution_count": 224,
   "id": "c80a6cb8",
   "metadata": {
    "ExecuteTime": {
     "end_time": "2021-12-17T14:47:14.969699Z",
     "start_time": "2021-12-17T14:47:04.381203Z"
    }
   },
   "outputs": [
    {
     "name": "stdout",
     "output_type": "stream",
     "text": [
      "Gradient Boosting score on cross validation: 0.5954526118794166\n"
     ]
    }
   ],
   "source": [
    "gbr = GradientBoostingRegressor()\n",
    "gbr = cross_val_score(gbr, X,y, cv=10)\n",
    "gbr_score = np.average(gbr)\n",
    "print(f\"Gradient Boosting score on cross validation: {gbr_score}\")"
   ]
  },
  {
   "cell_type": "code",
   "execution_count": 242,
   "id": "e473c800",
   "metadata": {
    "ExecuteTime": {
     "end_time": "2021-12-17T14:53:55.718513Z",
     "start_time": "2021-12-17T14:53:54.419575Z"
    }
   },
   "outputs": [
    {
     "name": "stdout",
     "output_type": "stream",
     "text": [
      "Gradient Boosting model score on Training data: 63.97546179843361%\n",
      "Gradient Boosting model score on Testing data: 59.27113937598628%\n"
     ]
    }
   ],
   "source": [
    "gbr_model = GradientBoostingRegressor()\n",
    "gbr_model.fit(X_train, y_train)\n",
    "gbr_model_train_score = gbr_model.score(X_train, y_train)\n",
    "gbr_model_test_score = gbr_model.score(X_test, y_test)\n",
    "print(f\"Gradient Boosting model score on Training data: {gbr_model_train_score * 100}%\\nGradient Boosting model score on Testing data: {gbr_model_test_score * 100}%\")"
   ]
  },
  {
   "cell_type": "markdown",
   "id": "79f28055",
   "metadata": {},
   "source": [
    "<a id='9.3'></a>\n",
    "***Bagging Regressor Model***"
   ]
  },
  {
   "cell_type": "code",
   "execution_count": 226,
   "id": "c3f4703f",
   "metadata": {
    "ExecuteTime": {
     "end_time": "2021-12-17T14:47:20.161792Z",
     "start_time": "2021-12-17T14:47:15.935455Z"
    }
   },
   "outputs": [
    {
     "name": "stdout",
     "output_type": "stream",
     "text": [
      "Linear Regression score on cross validation: 0.5110465128428106\n"
     ]
    }
   ],
   "source": [
    "br = BaggingRegressor()\n",
    "br = cross_val_score(br, X,y, cv=10)\n",
    "br_score = np.average(br)\n",
    "print(f\"Linear Regression score on cross validation: {br_score}\")"
   ]
  },
  {
   "cell_type": "code",
   "execution_count": 227,
   "id": "63e3fdfe",
   "metadata": {
    "ExecuteTime": {
     "end_time": "2021-12-17T14:47:20.585989Z",
     "start_time": "2021-12-17T14:47:20.165945Z"
    }
   },
   "outputs": [
    {
     "name": "stdout",
     "output_type": "stream",
     "text": [
      "Bagging model score on Training data: 91.66145937520292%\n",
      "Bagging model score on Testing data: 52.58476824027532%\n"
     ]
    }
   ],
   "source": [
    "br_model = BaggingRegressor()\n",
    "br_model.fit(X_train, y_train)\n",
    "br_model_train_score = br_model.score(X_train, y_train)\n",
    "br_model_test_score = br_model.score(X_test, y_test)\n",
    "print(f\"Bagging model score on Training data: {br_model_train_score * 100}%\\nBagging model score on Testing data: {br_model_test_score * 100}%\")"
   ]
  },
  {
   "cell_type": "markdown",
   "id": "f5c47c04",
   "metadata": {},
   "source": [
    "<a id='9.4'></a>\n",
    "***Linear Regression model***"
   ]
  },
  {
   "cell_type": "code",
   "execution_count": 228,
   "id": "5fe649ce",
   "metadata": {
    "ExecuteTime": {
     "end_time": "2021-12-17T14:47:20.786093Z",
     "start_time": "2021-12-17T14:47:20.588775Z"
    }
   },
   "outputs": [
    {
     "name": "stdout",
     "output_type": "stream",
     "text": [
      "Linear Regression score on cross validation: 0.5031900826878359\n"
     ]
    }
   ],
   "source": [
    "lr = LinearRegression()\n",
    "lr = cross_val_score(lr, X,y, cv=10)\n",
    "lr_score = np.average(lr)\n",
    "print(f\"Linear Regression score on cross validation: {lr_score}\")"
   ]
  },
  {
   "cell_type": "code",
   "execution_count": 229,
   "id": "59c01dce",
   "metadata": {
    "ExecuteTime": {
     "end_time": "2021-12-17T14:47:20.832011Z",
     "start_time": "2021-12-17T14:47:20.791175Z"
    }
   },
   "outputs": [
    {
     "name": "stdout",
     "output_type": "stream",
     "text": [
      "Linear Regression model score on Training data: 50.89311130059562%\n",
      "Linear Regression model score on Testing data: 50.466335860479795%\n"
     ]
    }
   ],
   "source": [
    "lr_model = LinearRegression()\n",
    "lr_model.fit(X_train, y_train)\n",
    "lr_model_train_score = lr_model.score(X_train, y_train)\n",
    "lr_model_test_score = lr_model.score(X_test, y_test)\n",
    "print(f\"Linear Regression model score on Training data: {lr_model_train_score * 100}%\\nLinear Regression model score on Testing data: {lr_model_test_score * 100}%\")"
   ]
  },
  {
   "cell_type": "markdown",
   "id": "88a7164f",
   "metadata": {},
   "source": [
    "<a id='10.5'></a>\n",
    "***SVR Model***"
   ]
  },
  {
   "cell_type": "code",
   "execution_count": 230,
   "id": "e7fd01f7",
   "metadata": {
    "ExecuteTime": {
     "end_time": "2021-12-17T14:47:54.736424Z",
     "start_time": "2021-12-17T14:47:20.836713Z"
    }
   },
   "outputs": [
    {
     "name": "stdout",
     "output_type": "stream",
     "text": [
      "Support Vector Regressor model score on cross validation: 0.45861611882190323\n"
     ]
    }
   ],
   "source": [
    "svr = SVR(gamma='auto', kernel='linear')\n",
    "svr = cross_val_score(svr, X,y, cv=10)\n",
    "svr_score = np.average(svr)\n",
    "print(f\"Support Vector Regressor model score on cross validation: {svr_score}\")"
   ]
  },
  {
   "cell_type": "code",
   "execution_count": 231,
   "id": "dd10bbfd",
   "metadata": {
    "ExecuteTime": {
     "end_time": "2021-12-17T14:47:58.786231Z",
     "start_time": "2021-12-17T14:47:54.739829Z"
    }
   },
   "outputs": [
    {
     "name": "stdout",
     "output_type": "stream",
     "text": [
      "Support Vector Regressor model score on Training data: 45.17713300176429%\n",
      "Support Vector Regressor model score on Testing data: 44.639714739407076%\n"
     ]
    }
   ],
   "source": [
    "svr_model = SVR(gamma='auto', kernel='linear')\n",
    "svr_model.fit(X_train, y_train)\n",
    "svr_model_train_score = svr_model.score(X_train, y_train)\n",
    "svr_model_test_score = svr_model.score(X_test, y_test)\n",
    "print(f\"Support Vector Regressor model score on Training data: {svr_model_train_score * 100}%\\nSupport Vector Regressor model score on Testing data: {svr_model_test_score * 100}%\")"
   ]
  },
  {
   "cell_type": "markdown",
   "id": "e1ddcb83",
   "metadata": {},
   "source": [
    "<a id='10.6'></a>\n",
    "***Decision Tree Regressor Model***"
   ]
  },
  {
   "cell_type": "code",
   "execution_count": 232,
   "id": "33a18c46",
   "metadata": {
    "ExecuteTime": {
     "end_time": "2021-12-17T14:47:59.572077Z",
     "start_time": "2021-12-17T14:47:58.788981Z"
    },
    "scrolled": true
   },
   "outputs": [
    {
     "name": "stdout",
     "output_type": "stream",
     "text": [
      "Decision Tree Regressor model score on cross validation: 0.17551410732140504\n"
     ]
    }
   ],
   "source": [
    "dtr = DecisionTreeRegressor()\n",
    "dtr = cross_val_score(dtr, X,y, cv=10)\n",
    "dtr_score = np.average(dtr)\n",
    "print(f\"Decision Tree Regressor model score on cross validation: {dtr_score}\")"
   ]
  },
  {
   "cell_type": "code",
   "execution_count": 233,
   "id": "10248f49",
   "metadata": {
    "ExecuteTime": {
     "end_time": "2021-12-17T14:47:59.692682Z",
     "start_time": "2021-12-17T14:47:59.575244Z"
    }
   },
   "outputs": [
    {
     "name": "stdout",
     "output_type": "stream",
     "text": [
      "Decision Tree Regressor model score on Training data: 100.0%\n",
      "Decision Tree Regressor model score on Testing data: 20.258057614419243%\n"
     ]
    }
   ],
   "source": [
    "dtr_model = DecisionTreeRegressor()\n",
    "dtr_model.fit(X_train, y_train)\n",
    "dtr_model_train_score = dtr_model.score(X_train, y_train)\n",
    "dtr_model_test_score = dtr_model.score(X_test, y_test)\n",
    "print(f\"Decision Tree Regressor model score on Training data: {dtr_model_train_score * 100}%\\nDecision Tree Regressor model score on Testing data: {dtr_model_test_score * 100}%\")"
   ]
  },
  {
   "cell_type": "markdown",
   "id": "972dc995",
   "metadata": {},
   "source": [
    "Gradient Boosting is the best"
   ]
  },
  {
   "cell_type": "code",
   "execution_count": 234,
   "id": "73b31a7d",
   "metadata": {
    "ExecuteTime": {
     "end_time": "2021-12-17T14:48:01.206502Z",
     "start_time": "2021-12-17T14:47:59.697338Z"
    }
   },
   "outputs": [
    {
     "data": {
      "text/plain": [
       "GradientBoostingRegressor()"
      ]
     },
     "execution_count": 234,
     "metadata": {},
     "output_type": "execute_result"
    }
   ],
   "source": [
    "gbr_model.fit(X,y)"
   ]
  },
  {
   "cell_type": "markdown",
   "id": "37f1d9e1",
   "metadata": {},
   "source": [
    "<a href=\"#toc\" role=\"button\" aria-pressed=\"true\" >⬆️Back to Table of Contents ⬆️</a>"
   ]
  },
  {
   "cell_type": "markdown",
   "id": "05df7058",
   "metadata": {},
   "source": [
    "<a id='10'></a>\n",
    "# Sumbission File"
   ]
  },
  {
   "cell_type": "code",
   "execution_count": 235,
   "id": "e94e52fe",
   "metadata": {
    "ExecuteTime": {
     "end_time": "2021-12-17T14:48:01.261400Z",
     "start_time": "2021-12-17T14:48:01.209780Z"
    }
   },
   "outputs": [],
   "source": [
    "y_pred = gbr_model.predict(test2)"
   ]
  },
  {
   "cell_type": "code",
   "execution_count": 236,
   "id": "25837cf4",
   "metadata": {
    "ExecuteTime": {
     "end_time": "2021-12-17T14:48:01.332441Z",
     "start_time": "2021-12-17T14:48:01.265967Z"
    }
   },
   "outputs": [],
   "source": [
    "sumbission = pd.read_csv('Test.csv')"
   ]
  },
  {
   "cell_type": "code",
   "execution_count": 237,
   "id": "9269f4fe",
   "metadata": {
    "ExecuteTime": {
     "end_time": "2021-12-17T14:48:01.382560Z",
     "start_time": "2021-12-17T14:48:01.337945Z"
    }
   },
   "outputs": [
    {
     "data": {
      "text/html": [
       "<div>\n",
       "<style scoped>\n",
       "    .dataframe tbody tr th:only-of-type {\n",
       "        vertical-align: middle;\n",
       "    }\n",
       "\n",
       "    .dataframe tbody tr th {\n",
       "        vertical-align: top;\n",
       "    }\n",
       "\n",
       "    .dataframe thead th {\n",
       "        text-align: right;\n",
       "    }\n",
       "</style>\n",
       "<table border=\"1\" class=\"dataframe\">\n",
       "  <thead>\n",
       "    <tr style=\"text-align: right;\">\n",
       "      <th></th>\n",
       "      <th>Item_Identifier</th>\n",
       "      <th>Item_Weight</th>\n",
       "      <th>Item_Fat_Content</th>\n",
       "      <th>Item_Visibility</th>\n",
       "      <th>Item_Type</th>\n",
       "      <th>Item_MRP</th>\n",
       "      <th>Outlet_Identifier</th>\n",
       "      <th>Outlet_Establishment_Year</th>\n",
       "      <th>Outlet_Size</th>\n",
       "      <th>Outlet_Location_Type</th>\n",
       "      <th>Outlet_Type</th>\n",
       "    </tr>\n",
       "  </thead>\n",
       "  <tbody>\n",
       "    <tr>\n",
       "      <th>0</th>\n",
       "      <td>FDW58</td>\n",
       "      <td>20.750</td>\n",
       "      <td>Low Fat</td>\n",
       "      <td>0.007565</td>\n",
       "      <td>Snack Foods</td>\n",
       "      <td>107.8622</td>\n",
       "      <td>OUT049</td>\n",
       "      <td>1999</td>\n",
       "      <td>Medium</td>\n",
       "      <td>Tier 1</td>\n",
       "      <td>Supermarket Type1</td>\n",
       "    </tr>\n",
       "    <tr>\n",
       "      <th>1</th>\n",
       "      <td>FDW14</td>\n",
       "      <td>8.300</td>\n",
       "      <td>reg</td>\n",
       "      <td>0.038428</td>\n",
       "      <td>Dairy</td>\n",
       "      <td>87.3198</td>\n",
       "      <td>OUT017</td>\n",
       "      <td>2007</td>\n",
       "      <td>NaN</td>\n",
       "      <td>Tier 2</td>\n",
       "      <td>Supermarket Type1</td>\n",
       "    </tr>\n",
       "    <tr>\n",
       "      <th>2</th>\n",
       "      <td>NCN55</td>\n",
       "      <td>14.600</td>\n",
       "      <td>Low Fat</td>\n",
       "      <td>0.099575</td>\n",
       "      <td>Others</td>\n",
       "      <td>241.7538</td>\n",
       "      <td>OUT010</td>\n",
       "      <td>1998</td>\n",
       "      <td>NaN</td>\n",
       "      <td>Tier 3</td>\n",
       "      <td>Grocery Store</td>\n",
       "    </tr>\n",
       "    <tr>\n",
       "      <th>3</th>\n",
       "      <td>FDQ58</td>\n",
       "      <td>7.315</td>\n",
       "      <td>Low Fat</td>\n",
       "      <td>0.015388</td>\n",
       "      <td>Snack Foods</td>\n",
       "      <td>155.0340</td>\n",
       "      <td>OUT017</td>\n",
       "      <td>2007</td>\n",
       "      <td>NaN</td>\n",
       "      <td>Tier 2</td>\n",
       "      <td>Supermarket Type1</td>\n",
       "    </tr>\n",
       "    <tr>\n",
       "      <th>4</th>\n",
       "      <td>FDY38</td>\n",
       "      <td>NaN</td>\n",
       "      <td>Regular</td>\n",
       "      <td>0.118599</td>\n",
       "      <td>Dairy</td>\n",
       "      <td>234.2300</td>\n",
       "      <td>OUT027</td>\n",
       "      <td>1985</td>\n",
       "      <td>Medium</td>\n",
       "      <td>Tier 3</td>\n",
       "      <td>Supermarket Type3</td>\n",
       "    </tr>\n",
       "  </tbody>\n",
       "</table>\n",
       "</div>"
      ],
      "text/plain": [
       "  Item_Identifier  Item_Weight Item_Fat_Content  Item_Visibility    Item_Type  \\\n",
       "0           FDW58       20.750          Low Fat         0.007565  Snack Foods   \n",
       "1           FDW14        8.300              reg         0.038428        Dairy   \n",
       "2           NCN55       14.600          Low Fat         0.099575       Others   \n",
       "3           FDQ58        7.315          Low Fat         0.015388  Snack Foods   \n",
       "4           FDY38          NaN          Regular         0.118599        Dairy   \n",
       "\n",
       "   Item_MRP Outlet_Identifier  Outlet_Establishment_Year Outlet_Size  \\\n",
       "0  107.8622            OUT049                       1999      Medium   \n",
       "1   87.3198            OUT017                       2007         NaN   \n",
       "2  241.7538            OUT010                       1998         NaN   \n",
       "3  155.0340            OUT017                       2007         NaN   \n",
       "4  234.2300            OUT027                       1985      Medium   \n",
       "\n",
       "  Outlet_Location_Type        Outlet_Type  \n",
       "0               Tier 1  Supermarket Type1  \n",
       "1               Tier 2  Supermarket Type1  \n",
       "2               Tier 3      Grocery Store  \n",
       "3               Tier 2  Supermarket Type1  \n",
       "4               Tier 3  Supermarket Type3  "
      ]
     },
     "execution_count": 237,
     "metadata": {},
     "output_type": "execute_result"
    }
   ],
   "source": [
    "sumbission.head()"
   ]
  },
  {
   "cell_type": "code",
   "execution_count": 238,
   "id": "851bd084",
   "metadata": {
    "ExecuteTime": {
     "end_time": "2021-12-17T14:48:01.398150Z",
     "start_time": "2021-12-17T14:48:01.388740Z"
    }
   },
   "outputs": [],
   "source": [
    "sumbission['Item_Sales_Outlet'] = y_pred"
   ]
  },
  {
   "cell_type": "code",
   "execution_count": 239,
   "id": "a486da47",
   "metadata": {
    "ExecuteTime": {
     "end_time": "2021-12-17T14:48:01.453626Z",
     "start_time": "2021-12-17T14:48:01.404429Z"
    }
   },
   "outputs": [
    {
     "data": {
      "text/html": [
       "<div>\n",
       "<style scoped>\n",
       "    .dataframe tbody tr th:only-of-type {\n",
       "        vertical-align: middle;\n",
       "    }\n",
       "\n",
       "    .dataframe tbody tr th {\n",
       "        vertical-align: top;\n",
       "    }\n",
       "\n",
       "    .dataframe thead th {\n",
       "        text-align: right;\n",
       "    }\n",
       "</style>\n",
       "<table border=\"1\" class=\"dataframe\">\n",
       "  <thead>\n",
       "    <tr style=\"text-align: right;\">\n",
       "      <th></th>\n",
       "      <th>Item_Identifier</th>\n",
       "      <th>Item_Weight</th>\n",
       "      <th>Item_Fat_Content</th>\n",
       "      <th>Item_Visibility</th>\n",
       "      <th>Item_Type</th>\n",
       "      <th>Item_MRP</th>\n",
       "      <th>Outlet_Identifier</th>\n",
       "      <th>Outlet_Establishment_Year</th>\n",
       "      <th>Outlet_Size</th>\n",
       "      <th>Outlet_Location_Type</th>\n",
       "      <th>Outlet_Type</th>\n",
       "      <th>Item_Sales_Outlet</th>\n",
       "    </tr>\n",
       "  </thead>\n",
       "  <tbody>\n",
       "    <tr>\n",
       "      <th>0</th>\n",
       "      <td>FDW58</td>\n",
       "      <td>20.750</td>\n",
       "      <td>Low Fat</td>\n",
       "      <td>0.007565</td>\n",
       "      <td>Snack Foods</td>\n",
       "      <td>107.8622</td>\n",
       "      <td>OUT049</td>\n",
       "      <td>1999</td>\n",
       "      <td>Medium</td>\n",
       "      <td>Tier 1</td>\n",
       "      <td>Supermarket Type1</td>\n",
       "      <td>1499.512582</td>\n",
       "    </tr>\n",
       "    <tr>\n",
       "      <th>1</th>\n",
       "      <td>FDW14</td>\n",
       "      <td>8.300</td>\n",
       "      <td>reg</td>\n",
       "      <td>0.038428</td>\n",
       "      <td>Dairy</td>\n",
       "      <td>87.3198</td>\n",
       "      <td>OUT017</td>\n",
       "      <td>2007</td>\n",
       "      <td>NaN</td>\n",
       "      <td>Tier 2</td>\n",
       "      <td>Supermarket Type1</td>\n",
       "      <td>1411.725920</td>\n",
       "    </tr>\n",
       "    <tr>\n",
       "      <th>2</th>\n",
       "      <td>NCN55</td>\n",
       "      <td>14.600</td>\n",
       "      <td>Low Fat</td>\n",
       "      <td>0.099575</td>\n",
       "      <td>Others</td>\n",
       "      <td>241.7538</td>\n",
       "      <td>OUT010</td>\n",
       "      <td>1998</td>\n",
       "      <td>NaN</td>\n",
       "      <td>Tier 3</td>\n",
       "      <td>Grocery Store</td>\n",
       "      <td>545.043098</td>\n",
       "    </tr>\n",
       "    <tr>\n",
       "      <th>3</th>\n",
       "      <td>FDQ58</td>\n",
       "      <td>7.315</td>\n",
       "      <td>Low Fat</td>\n",
       "      <td>0.015388</td>\n",
       "      <td>Snack Foods</td>\n",
       "      <td>155.0340</td>\n",
       "      <td>OUT017</td>\n",
       "      <td>2007</td>\n",
       "      <td>NaN</td>\n",
       "      <td>Tier 2</td>\n",
       "      <td>Supermarket Type1</td>\n",
       "      <td>2553.440915</td>\n",
       "    </tr>\n",
       "    <tr>\n",
       "      <th>4</th>\n",
       "      <td>FDY38</td>\n",
       "      <td>NaN</td>\n",
       "      <td>Regular</td>\n",
       "      <td>0.118599</td>\n",
       "      <td>Dairy</td>\n",
       "      <td>234.2300</td>\n",
       "      <td>OUT027</td>\n",
       "      <td>1985</td>\n",
       "      <td>Medium</td>\n",
       "      <td>Tier 3</td>\n",
       "      <td>Supermarket Type3</td>\n",
       "      <td>6017.494760</td>\n",
       "    </tr>\n",
       "  </tbody>\n",
       "</table>\n",
       "</div>"
      ],
      "text/plain": [
       "  Item_Identifier  Item_Weight Item_Fat_Content  Item_Visibility    Item_Type  \\\n",
       "0           FDW58       20.750          Low Fat         0.007565  Snack Foods   \n",
       "1           FDW14        8.300              reg         0.038428        Dairy   \n",
       "2           NCN55       14.600          Low Fat         0.099575       Others   \n",
       "3           FDQ58        7.315          Low Fat         0.015388  Snack Foods   \n",
       "4           FDY38          NaN          Regular         0.118599        Dairy   \n",
       "\n",
       "   Item_MRP Outlet_Identifier  Outlet_Establishment_Year Outlet_Size  \\\n",
       "0  107.8622            OUT049                       1999      Medium   \n",
       "1   87.3198            OUT017                       2007         NaN   \n",
       "2  241.7538            OUT010                       1998         NaN   \n",
       "3  155.0340            OUT017                       2007         NaN   \n",
       "4  234.2300            OUT027                       1985      Medium   \n",
       "\n",
       "  Outlet_Location_Type        Outlet_Type  Item_Sales_Outlet  \n",
       "0               Tier 1  Supermarket Type1        1499.512582  \n",
       "1               Tier 2  Supermarket Type1        1411.725920  \n",
       "2               Tier 3      Grocery Store         545.043098  \n",
       "3               Tier 2  Supermarket Type1        2553.440915  \n",
       "4               Tier 3  Supermarket Type3        6017.494760  "
      ]
     },
     "execution_count": 239,
     "metadata": {},
     "output_type": "execute_result"
    }
   ],
   "source": [
    "sumbission.head()"
   ]
  },
  {
   "cell_type": "code",
   "execution_count": 240,
   "id": "aa378f6b",
   "metadata": {
    "ExecuteTime": {
     "end_time": "2021-12-17T14:48:01.478387Z",
     "start_time": "2021-12-17T14:48:01.459463Z"
    }
   },
   "outputs": [
    {
     "data": {
      "text/plain": [
       "(5681, 12)"
      ]
     },
     "execution_count": 240,
     "metadata": {},
     "output_type": "execute_result"
    }
   ],
   "source": [
    "sumbission.shape"
   ]
  },
  {
   "cell_type": "code",
   "execution_count": 243,
   "id": "5b9d98ee",
   "metadata": {
    "ExecuteTime": {
     "end_time": "2021-12-17T14:54:40.634422Z",
     "start_time": "2021-12-17T14:54:40.536214Z"
    }
   },
   "outputs": [],
   "source": [
    "sumbission.to_csv(\"sumbission.csv\")"
   ]
  },
  {
   "cell_type": "code",
   "execution_count": null,
   "id": "95b7e0a1",
   "metadata": {},
   "outputs": [],
   "source": []
  }
 ],
 "metadata": {
  "kernelspec": {
   "display_name": "Python 3",
   "language": "python",
   "name": "python3"
  },
  "language_info": {
   "codemirror_mode": {
    "name": "ipython",
    "version": 3
   },
   "file_extension": ".py",
   "mimetype": "text/x-python",
   "name": "python",
   "nbconvert_exporter": "python",
   "pygments_lexer": "ipython3",
   "version": "3.8.8"
  },
  "toc": {
   "base_numbering": 1,
   "nav_menu": {},
   "number_sections": true,
   "sideBar": true,
   "skip_h1_title": false,
   "title_cell": "Table of Contents",
   "title_sidebar": "Contents",
   "toc_cell": false,
   "toc_position": {},
   "toc_section_display": true,
   "toc_window_display": false
  }
 },
 "nbformat": 4,
 "nbformat_minor": 5
}
