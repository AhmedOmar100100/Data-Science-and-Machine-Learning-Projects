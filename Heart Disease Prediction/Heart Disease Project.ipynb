{
 "cells": [
  {
   "cell_type": "code",
   "execution_count": 355,
   "id": "4b2953de",
   "metadata": {
    "ExecuteTime": {
     "end_time": "2021-12-01T08:14:00.164572Z",
     "start_time": "2021-12-01T08:14:00.149834Z"
    }
   },
   "outputs": [],
   "source": [
    "import pandas as pd\n",
    "import numpy as np\n",
    "from matplotlib import pyplot as plt\n",
    "import seaborn as sns\n",
    "from sklearn.model_selection import train_test_split\n",
    "from sklearn.preprocessing import StandardScaler\n",
    "from sklearn.neighbors import KNeighborsClassifier\n",
    "import joblib"
   ]
  },
  {
   "cell_type": "code",
   "execution_count": 2,
   "id": "6aa16a35",
   "metadata": {
    "ExecuteTime": {
     "end_time": "2021-12-01T06:18:17.348805Z",
     "start_time": "2021-12-01T06:18:17.323559Z"
    }
   },
   "outputs": [],
   "source": [
    "df = pd.read_csv('heart.csv')"
   ]
  },
  {
   "cell_type": "code",
   "execution_count": 3,
   "id": "1a8b9a89",
   "metadata": {
    "ExecuteTime": {
     "end_time": "2021-12-01T06:18:20.160565Z",
     "start_time": "2021-12-01T06:18:20.107714Z"
    }
   },
   "outputs": [
    {
     "data": {
      "text/html": [
       "<div>\n",
       "<style scoped>\n",
       "    .dataframe tbody tr th:only-of-type {\n",
       "        vertical-align: middle;\n",
       "    }\n",
       "\n",
       "    .dataframe tbody tr th {\n",
       "        vertical-align: top;\n",
       "    }\n",
       "\n",
       "    .dataframe thead th {\n",
       "        text-align: right;\n",
       "    }\n",
       "</style>\n",
       "<table border=\"1\" class=\"dataframe\">\n",
       "  <thead>\n",
       "    <tr style=\"text-align: right;\">\n",
       "      <th></th>\n",
       "      <th>age</th>\n",
       "      <th>sex</th>\n",
       "      <th>cp</th>\n",
       "      <th>trestbps</th>\n",
       "      <th>chol</th>\n",
       "      <th>fbs</th>\n",
       "      <th>restecg</th>\n",
       "      <th>thalach</th>\n",
       "      <th>exang</th>\n",
       "      <th>oldpeak</th>\n",
       "      <th>slope</th>\n",
       "      <th>ca</th>\n",
       "      <th>thal</th>\n",
       "      <th>target</th>\n",
       "    </tr>\n",
       "  </thead>\n",
       "  <tbody>\n",
       "    <tr>\n",
       "      <th>0</th>\n",
       "      <td>63</td>\n",
       "      <td>1</td>\n",
       "      <td>3</td>\n",
       "      <td>145</td>\n",
       "      <td>233</td>\n",
       "      <td>1</td>\n",
       "      <td>0</td>\n",
       "      <td>150</td>\n",
       "      <td>0</td>\n",
       "      <td>2.3</td>\n",
       "      <td>0</td>\n",
       "      <td>0</td>\n",
       "      <td>1</td>\n",
       "      <td>1</td>\n",
       "    </tr>\n",
       "    <tr>\n",
       "      <th>1</th>\n",
       "      <td>37</td>\n",
       "      <td>1</td>\n",
       "      <td>2</td>\n",
       "      <td>130</td>\n",
       "      <td>250</td>\n",
       "      <td>0</td>\n",
       "      <td>1</td>\n",
       "      <td>187</td>\n",
       "      <td>0</td>\n",
       "      <td>3.5</td>\n",
       "      <td>0</td>\n",
       "      <td>0</td>\n",
       "      <td>2</td>\n",
       "      <td>1</td>\n",
       "    </tr>\n",
       "    <tr>\n",
       "      <th>2</th>\n",
       "      <td>41</td>\n",
       "      <td>0</td>\n",
       "      <td>1</td>\n",
       "      <td>130</td>\n",
       "      <td>204</td>\n",
       "      <td>0</td>\n",
       "      <td>0</td>\n",
       "      <td>172</td>\n",
       "      <td>0</td>\n",
       "      <td>1.4</td>\n",
       "      <td>2</td>\n",
       "      <td>0</td>\n",
       "      <td>2</td>\n",
       "      <td>1</td>\n",
       "    </tr>\n",
       "    <tr>\n",
       "      <th>3</th>\n",
       "      <td>56</td>\n",
       "      <td>1</td>\n",
       "      <td>1</td>\n",
       "      <td>120</td>\n",
       "      <td>236</td>\n",
       "      <td>0</td>\n",
       "      <td>1</td>\n",
       "      <td>178</td>\n",
       "      <td>0</td>\n",
       "      <td>0.8</td>\n",
       "      <td>2</td>\n",
       "      <td>0</td>\n",
       "      <td>2</td>\n",
       "      <td>1</td>\n",
       "    </tr>\n",
       "    <tr>\n",
       "      <th>4</th>\n",
       "      <td>57</td>\n",
       "      <td>0</td>\n",
       "      <td>0</td>\n",
       "      <td>120</td>\n",
       "      <td>354</td>\n",
       "      <td>0</td>\n",
       "      <td>1</td>\n",
       "      <td>163</td>\n",
       "      <td>1</td>\n",
       "      <td>0.6</td>\n",
       "      <td>2</td>\n",
       "      <td>0</td>\n",
       "      <td>2</td>\n",
       "      <td>1</td>\n",
       "    </tr>\n",
       "  </tbody>\n",
       "</table>\n",
       "</div>"
      ],
      "text/plain": [
       "   age  sex  cp  trestbps  chol  fbs  restecg  thalach  exang  oldpeak  slope  \\\n",
       "0   63    1   3       145   233    1        0      150      0      2.3      0   \n",
       "1   37    1   2       130   250    0        1      187      0      3.5      0   \n",
       "2   41    0   1       130   204    0        0      172      0      1.4      2   \n",
       "3   56    1   1       120   236    0        1      178      0      0.8      2   \n",
       "4   57    0   0       120   354    0        1      163      1      0.6      2   \n",
       "\n",
       "   ca  thal  target  \n",
       "0   0     1       1  \n",
       "1   0     2       1  \n",
       "2   0     2       1  \n",
       "3   0     2       1  \n",
       "4   0     2       1  "
      ]
     },
     "execution_count": 3,
     "metadata": {},
     "output_type": "execute_result"
    }
   ],
   "source": [
    "df.head()"
   ]
  },
  {
   "cell_type": "code",
   "execution_count": 4,
   "id": "ed0962a6",
   "metadata": {
    "ExecuteTime": {
     "end_time": "2021-12-01T06:18:33.998388Z",
     "start_time": "2021-12-01T06:18:33.961264Z"
    }
   },
   "outputs": [
    {
     "data": {
      "text/plain": [
       "(303, 14)"
      ]
     },
     "execution_count": 4,
     "metadata": {},
     "output_type": "execute_result"
    }
   ],
   "source": [
    "df.shape"
   ]
  },
  {
   "cell_type": "code",
   "execution_count": 5,
   "id": "ad5aebfb",
   "metadata": {
    "ExecuteTime": {
     "end_time": "2021-12-01T06:18:40.411308Z",
     "start_time": "2021-12-01T06:18:40.385670Z"
    }
   },
   "outputs": [
    {
     "data": {
      "text/html": [
       "<div>\n",
       "<style scoped>\n",
       "    .dataframe tbody tr th:only-of-type {\n",
       "        vertical-align: middle;\n",
       "    }\n",
       "\n",
       "    .dataframe tbody tr th {\n",
       "        vertical-align: top;\n",
       "    }\n",
       "\n",
       "    .dataframe thead th {\n",
       "        text-align: right;\n",
       "    }\n",
       "</style>\n",
       "<table border=\"1\" class=\"dataframe\">\n",
       "  <thead>\n",
       "    <tr style=\"text-align: right;\">\n",
       "      <th></th>\n",
       "      <th>age</th>\n",
       "      <th>sex</th>\n",
       "      <th>cp</th>\n",
       "      <th>trestbps</th>\n",
       "      <th>chol</th>\n",
       "      <th>fbs</th>\n",
       "      <th>restecg</th>\n",
       "      <th>thalach</th>\n",
       "      <th>exang</th>\n",
       "      <th>oldpeak</th>\n",
       "      <th>slope</th>\n",
       "      <th>ca</th>\n",
       "      <th>thal</th>\n",
       "      <th>target</th>\n",
       "    </tr>\n",
       "  </thead>\n",
       "  <tbody>\n",
       "    <tr>\n",
       "      <th>298</th>\n",
       "      <td>57</td>\n",
       "      <td>0</td>\n",
       "      <td>0</td>\n",
       "      <td>140</td>\n",
       "      <td>241</td>\n",
       "      <td>0</td>\n",
       "      <td>1</td>\n",
       "      <td>123</td>\n",
       "      <td>1</td>\n",
       "      <td>0.2</td>\n",
       "      <td>1</td>\n",
       "      <td>0</td>\n",
       "      <td>3</td>\n",
       "      <td>0</td>\n",
       "    </tr>\n",
       "    <tr>\n",
       "      <th>299</th>\n",
       "      <td>45</td>\n",
       "      <td>1</td>\n",
       "      <td>3</td>\n",
       "      <td>110</td>\n",
       "      <td>264</td>\n",
       "      <td>0</td>\n",
       "      <td>1</td>\n",
       "      <td>132</td>\n",
       "      <td>0</td>\n",
       "      <td>1.2</td>\n",
       "      <td>1</td>\n",
       "      <td>0</td>\n",
       "      <td>3</td>\n",
       "      <td>0</td>\n",
       "    </tr>\n",
       "    <tr>\n",
       "      <th>300</th>\n",
       "      <td>68</td>\n",
       "      <td>1</td>\n",
       "      <td>0</td>\n",
       "      <td>144</td>\n",
       "      <td>193</td>\n",
       "      <td>1</td>\n",
       "      <td>1</td>\n",
       "      <td>141</td>\n",
       "      <td>0</td>\n",
       "      <td>3.4</td>\n",
       "      <td>1</td>\n",
       "      <td>2</td>\n",
       "      <td>3</td>\n",
       "      <td>0</td>\n",
       "    </tr>\n",
       "    <tr>\n",
       "      <th>301</th>\n",
       "      <td>57</td>\n",
       "      <td>1</td>\n",
       "      <td>0</td>\n",
       "      <td>130</td>\n",
       "      <td>131</td>\n",
       "      <td>0</td>\n",
       "      <td>1</td>\n",
       "      <td>115</td>\n",
       "      <td>1</td>\n",
       "      <td>1.2</td>\n",
       "      <td>1</td>\n",
       "      <td>1</td>\n",
       "      <td>3</td>\n",
       "      <td>0</td>\n",
       "    </tr>\n",
       "    <tr>\n",
       "      <th>302</th>\n",
       "      <td>57</td>\n",
       "      <td>0</td>\n",
       "      <td>1</td>\n",
       "      <td>130</td>\n",
       "      <td>236</td>\n",
       "      <td>0</td>\n",
       "      <td>0</td>\n",
       "      <td>174</td>\n",
       "      <td>0</td>\n",
       "      <td>0.0</td>\n",
       "      <td>1</td>\n",
       "      <td>1</td>\n",
       "      <td>2</td>\n",
       "      <td>0</td>\n",
       "    </tr>\n",
       "  </tbody>\n",
       "</table>\n",
       "</div>"
      ],
      "text/plain": [
       "     age  sex  cp  trestbps  chol  fbs  restecg  thalach  exang  oldpeak  \\\n",
       "298   57    0   0       140   241    0        1      123      1      0.2   \n",
       "299   45    1   3       110   264    0        1      132      0      1.2   \n",
       "300   68    1   0       144   193    1        1      141      0      3.4   \n",
       "301   57    1   0       130   131    0        1      115      1      1.2   \n",
       "302   57    0   1       130   236    0        0      174      0      0.0   \n",
       "\n",
       "     slope  ca  thal  target  \n",
       "298      1   0     3       0  \n",
       "299      1   0     3       0  \n",
       "300      1   2     3       0  \n",
       "301      1   1     3       0  \n",
       "302      1   1     2       0  "
      ]
     },
     "execution_count": 5,
     "metadata": {},
     "output_type": "execute_result"
    }
   ],
   "source": [
    "df.tail()"
   ]
  },
  {
   "cell_type": "markdown",
   "id": "5da25b49",
   "metadata": {},
   "source": [
    "the meaning of some of the column headers are not obvious. Here's what they mean,\n",
    "\n",
    "age: The person's age in years<br>\n",
    "sex: The person's sex (1 = male, 0 = female)<br>\n",
    "cp: The chest pain experienced (Value 1: typical angina, Value 2: atypical angina, Value 3: non-anginal pain, Value 4: asymptomatic)<br>\n",
    "trestbps: The person's resting blood pressure (mm Hg on admission to the hospital)<br>\n",
    "chol: The person's cholesterol measurement in mg/dl<br>\n",
    "fbs: The person's fasting blood sugar (> 120 mg/dl, 1 = true; 0 = false)<br>\n",
    "restecg: Resting electrocardiographic measurement (0 = normal, 1 = having ST-T wave abnormality, 2 = showing probable or definite left ventricular hypertrophy by Estes' criteria)<br>\n",
    "thalach: The person's maximum heart rate achieved<br>\n",
    "exang: Exercise induced angina (1 = yes; 0 = no)<br>\n",
    "oldpeak: ST depression induced by exercise relative to rest ('ST' relates to positions on the ECG plot. See more here)<br>\n",
    "slope: the slope of the peak exercise ST segment (Value 1: upsloping, Value 2: flat, Value 3: downsloping)<br>\n",
    "ca: The number of major vessels (0-4)<br>\n",
    "thal: A blood disorder called thalassemia (3 = normal; 6 = fixed defect; 7 = reversable defect)<br>\n",
    "target: Heart disease (0 = no, 1 = yes)<br>\n"
   ]
  },
  {
   "cell_type": "markdown",
   "id": "3e6853aa",
   "metadata": {},
   "source": [
    "### Data Analysis"
   ]
  },
  {
   "cell_type": "code",
   "execution_count": 6,
   "id": "49829e88",
   "metadata": {
    "ExecuteTime": {
     "end_time": "2021-12-01T06:18:52.062775Z",
     "start_time": "2021-12-01T06:18:52.048768Z"
    }
   },
   "outputs": [],
   "source": [
    "df2 = df.copy()"
   ]
  },
  {
   "cell_type": "code",
   "execution_count": 12,
   "id": "4c82e8e8",
   "metadata": {
    "ExecuteTime": {
     "end_time": "2021-12-01T06:27:04.015959Z",
     "start_time": "2021-12-01T06:27:03.982544Z"
    }
   },
   "outputs": [
    {
     "data": {
      "text/html": [
       "<div>\n",
       "<style scoped>\n",
       "    .dataframe tbody tr th:only-of-type {\n",
       "        vertical-align: middle;\n",
       "    }\n",
       "\n",
       "    .dataframe tbody tr th {\n",
       "        vertical-align: top;\n",
       "    }\n",
       "\n",
       "    .dataframe thead th {\n",
       "        text-align: right;\n",
       "    }\n",
       "</style>\n",
       "<table border=\"1\" class=\"dataframe\">\n",
       "  <thead>\n",
       "    <tr style=\"text-align: right;\">\n",
       "      <th></th>\n",
       "      <th>age</th>\n",
       "      <th>sex</th>\n",
       "      <th>chest_pain_type</th>\n",
       "      <th>resisting_blood_pressure</th>\n",
       "      <th>cholesterol</th>\n",
       "      <th>fasting_blood_sugar</th>\n",
       "      <th>rest_ecg</th>\n",
       "      <th>max_heart_rate_achieved</th>\n",
       "      <th>exercise_induced_angina</th>\n",
       "      <th>st_depression</th>\n",
       "      <th>st_slope</th>\n",
       "      <th>num_major_vessels</th>\n",
       "      <th>thalassemia</th>\n",
       "      <th>target</th>\n",
       "    </tr>\n",
       "  </thead>\n",
       "  <tbody>\n",
       "    <tr>\n",
       "      <th>0</th>\n",
       "      <td>63</td>\n",
       "      <td>1</td>\n",
       "      <td>3</td>\n",
       "      <td>145</td>\n",
       "      <td>233</td>\n",
       "      <td>1</td>\n",
       "      <td>0</td>\n",
       "      <td>150</td>\n",
       "      <td>0</td>\n",
       "      <td>2.3</td>\n",
       "      <td>0</td>\n",
       "      <td>0</td>\n",
       "      <td>1</td>\n",
       "      <td>1</td>\n",
       "    </tr>\n",
       "    <tr>\n",
       "      <th>1</th>\n",
       "      <td>37</td>\n",
       "      <td>1</td>\n",
       "      <td>2</td>\n",
       "      <td>130</td>\n",
       "      <td>250</td>\n",
       "      <td>0</td>\n",
       "      <td>1</td>\n",
       "      <td>187</td>\n",
       "      <td>0</td>\n",
       "      <td>3.5</td>\n",
       "      <td>0</td>\n",
       "      <td>0</td>\n",
       "      <td>2</td>\n",
       "      <td>1</td>\n",
       "    </tr>\n",
       "    <tr>\n",
       "      <th>2</th>\n",
       "      <td>41</td>\n",
       "      <td>0</td>\n",
       "      <td>1</td>\n",
       "      <td>130</td>\n",
       "      <td>204</td>\n",
       "      <td>0</td>\n",
       "      <td>0</td>\n",
       "      <td>172</td>\n",
       "      <td>0</td>\n",
       "      <td>1.4</td>\n",
       "      <td>2</td>\n",
       "      <td>0</td>\n",
       "      <td>2</td>\n",
       "      <td>1</td>\n",
       "    </tr>\n",
       "    <tr>\n",
       "      <th>3</th>\n",
       "      <td>56</td>\n",
       "      <td>1</td>\n",
       "      <td>1</td>\n",
       "      <td>120</td>\n",
       "      <td>236</td>\n",
       "      <td>0</td>\n",
       "      <td>1</td>\n",
       "      <td>178</td>\n",
       "      <td>0</td>\n",
       "      <td>0.8</td>\n",
       "      <td>2</td>\n",
       "      <td>0</td>\n",
       "      <td>2</td>\n",
       "      <td>1</td>\n",
       "    </tr>\n",
       "    <tr>\n",
       "      <th>4</th>\n",
       "      <td>57</td>\n",
       "      <td>0</td>\n",
       "      <td>0</td>\n",
       "      <td>120</td>\n",
       "      <td>354</td>\n",
       "      <td>0</td>\n",
       "      <td>1</td>\n",
       "      <td>163</td>\n",
       "      <td>1</td>\n",
       "      <td>0.6</td>\n",
       "      <td>2</td>\n",
       "      <td>0</td>\n",
       "      <td>2</td>\n",
       "      <td>1</td>\n",
       "    </tr>\n",
       "    <tr>\n",
       "      <th>5</th>\n",
       "      <td>57</td>\n",
       "      <td>1</td>\n",
       "      <td>0</td>\n",
       "      <td>140</td>\n",
       "      <td>192</td>\n",
       "      <td>0</td>\n",
       "      <td>1</td>\n",
       "      <td>148</td>\n",
       "      <td>0</td>\n",
       "      <td>0.4</td>\n",
       "      <td>1</td>\n",
       "      <td>0</td>\n",
       "      <td>1</td>\n",
       "      <td>1</td>\n",
       "    </tr>\n",
       "    <tr>\n",
       "      <th>6</th>\n",
       "      <td>56</td>\n",
       "      <td>0</td>\n",
       "      <td>1</td>\n",
       "      <td>140</td>\n",
       "      <td>294</td>\n",
       "      <td>0</td>\n",
       "      <td>0</td>\n",
       "      <td>153</td>\n",
       "      <td>0</td>\n",
       "      <td>1.3</td>\n",
       "      <td>1</td>\n",
       "      <td>0</td>\n",
       "      <td>2</td>\n",
       "      <td>1</td>\n",
       "    </tr>\n",
       "    <tr>\n",
       "      <th>7</th>\n",
       "      <td>44</td>\n",
       "      <td>1</td>\n",
       "      <td>1</td>\n",
       "      <td>120</td>\n",
       "      <td>263</td>\n",
       "      <td>0</td>\n",
       "      <td>1</td>\n",
       "      <td>173</td>\n",
       "      <td>0</td>\n",
       "      <td>0.0</td>\n",
       "      <td>2</td>\n",
       "      <td>0</td>\n",
       "      <td>3</td>\n",
       "      <td>1</td>\n",
       "    </tr>\n",
       "    <tr>\n",
       "      <th>8</th>\n",
       "      <td>52</td>\n",
       "      <td>1</td>\n",
       "      <td>2</td>\n",
       "      <td>172</td>\n",
       "      <td>199</td>\n",
       "      <td>1</td>\n",
       "      <td>1</td>\n",
       "      <td>162</td>\n",
       "      <td>0</td>\n",
       "      <td>0.5</td>\n",
       "      <td>2</td>\n",
       "      <td>0</td>\n",
       "      <td>3</td>\n",
       "      <td>1</td>\n",
       "    </tr>\n",
       "    <tr>\n",
       "      <th>9</th>\n",
       "      <td>57</td>\n",
       "      <td>1</td>\n",
       "      <td>2</td>\n",
       "      <td>150</td>\n",
       "      <td>168</td>\n",
       "      <td>0</td>\n",
       "      <td>1</td>\n",
       "      <td>174</td>\n",
       "      <td>0</td>\n",
       "      <td>1.6</td>\n",
       "      <td>2</td>\n",
       "      <td>0</td>\n",
       "      <td>2</td>\n",
       "      <td>1</td>\n",
       "    </tr>\n",
       "  </tbody>\n",
       "</table>\n",
       "</div>"
      ],
      "text/plain": [
       "   age  sex  chest_pain_type  resisting_blood_pressure  cholesterol  \\\n",
       "0   63    1                3                       145          233   \n",
       "1   37    1                2                       130          250   \n",
       "2   41    0                1                       130          204   \n",
       "3   56    1                1                       120          236   \n",
       "4   57    0                0                       120          354   \n",
       "5   57    1                0                       140          192   \n",
       "6   56    0                1                       140          294   \n",
       "7   44    1                1                       120          263   \n",
       "8   52    1                2                       172          199   \n",
       "9   57    1                2                       150          168   \n",
       "\n",
       "   fasting_blood_sugar  rest_ecg  max_heart_rate_achieved  \\\n",
       "0                    1         0                      150   \n",
       "1                    0         1                      187   \n",
       "2                    0         0                      172   \n",
       "3                    0         1                      178   \n",
       "4                    0         1                      163   \n",
       "5                    0         1                      148   \n",
       "6                    0         0                      153   \n",
       "7                    0         1                      173   \n",
       "8                    1         1                      162   \n",
       "9                    0         1                      174   \n",
       "\n",
       "   exercise_induced_angina  st_depression  st_slope  num_major_vessels  \\\n",
       "0                        0            2.3         0                  0   \n",
       "1                        0            3.5         0                  0   \n",
       "2                        0            1.4         2                  0   \n",
       "3                        0            0.8         2                  0   \n",
       "4                        1            0.6         2                  0   \n",
       "5                        0            0.4         1                  0   \n",
       "6                        0            1.3         1                  0   \n",
       "7                        0            0.0         2                  0   \n",
       "8                        0            0.5         2                  0   \n",
       "9                        0            1.6         2                  0   \n",
       "\n",
       "   thalassemia  target  \n",
       "0            1       1  \n",
       "1            2       1  \n",
       "2            2       1  \n",
       "3            2       1  \n",
       "4            2       1  \n",
       "5            1       1  \n",
       "6            2       1  \n",
       "7            3       1  \n",
       "8            3       1  \n",
       "9            2       1  "
      ]
     },
     "execution_count": 12,
     "metadata": {},
     "output_type": "execute_result"
    }
   ],
   "source": [
    "df2.columns = ['age', 'sex', 'chest_pain_type', 'resisting_blood_pressure', 'cholesterol', 'fasting_blood_sugar', \n",
    "               'rest_ecg', 'max_heart_rate_achieved', 'exercise_induced_angina', 'st_depression', 'st_slope', \n",
    "               'num_major_vessels', 'thalassemia', 'target']\n",
    "df2.head(10)"
   ]
  },
  {
   "cell_type": "code",
   "execution_count": 13,
   "id": "3c80cab1",
   "metadata": {
    "ExecuteTime": {
     "end_time": "2021-12-01T06:35:26.368381Z",
     "start_time": "2021-12-01T06:35:26.323605Z"
    }
   },
   "outputs": [
    {
     "data": {
      "text/plain": [
       "age                          41\n",
       "sex                           2\n",
       "chest_pain_type               4\n",
       "resisting_blood_pressure     49\n",
       "cholesterol                 152\n",
       "fasting_blood_sugar           2\n",
       "rest_ecg                      3\n",
       "max_heart_rate_achieved      91\n",
       "exercise_induced_angina       2\n",
       "st_depression                40\n",
       "st_slope                      3\n",
       "num_major_vessels             5\n",
       "thalassemia                   4\n",
       "target                        2\n",
       "dtype: int64"
      ]
     },
     "execution_count": 13,
     "metadata": {},
     "output_type": "execute_result"
    }
   ],
   "source": [
    "df2.nunique()"
   ]
  },
  {
   "cell_type": "code",
   "execution_count": 15,
   "id": "53ba582f",
   "metadata": {
    "ExecuteTime": {
     "end_time": "2021-12-01T06:35:46.631569Z",
     "start_time": "2021-12-01T06:35:46.608921Z"
    }
   },
   "outputs": [
    {
     "data": {
      "text/plain": [
       "array([1, 0], dtype=int64)"
      ]
     },
     "execution_count": 15,
     "metadata": {},
     "output_type": "execute_result"
    }
   ],
   "source": [
    "df2.sex.unique()"
   ]
  },
  {
   "cell_type": "code",
   "execution_count": 16,
   "id": "59187dc3",
   "metadata": {
    "ExecuteTime": {
     "end_time": "2021-12-01T06:35:58.679700Z",
     "start_time": "2021-12-01T06:35:58.660268Z"
    }
   },
   "outputs": [
    {
     "data": {
      "text/plain": [
       "array([3, 2, 1, 0], dtype=int64)"
      ]
     },
     "execution_count": 16,
     "metadata": {},
     "output_type": "execute_result"
    }
   ],
   "source": [
    "df2.chest_pain_type.unique()"
   ]
  },
  {
   "cell_type": "code",
   "execution_count": 18,
   "id": "2ceea183",
   "metadata": {
    "ExecuteTime": {
     "end_time": "2021-12-01T06:36:24.914600Z",
     "start_time": "2021-12-01T06:36:24.900086Z"
    }
   },
   "outputs": [
    {
     "data": {
      "text/plain": [
       "array([1, 0], dtype=int64)"
      ]
     },
     "execution_count": 18,
     "metadata": {},
     "output_type": "execute_result"
    }
   ],
   "source": [
    "df2.fasting_blood_sugar.unique()"
   ]
  },
  {
   "cell_type": "code",
   "execution_count": 19,
   "id": "397c4553",
   "metadata": {
    "ExecuteTime": {
     "end_time": "2021-12-01T06:36:39.693626Z",
     "start_time": "2021-12-01T06:36:39.677312Z"
    }
   },
   "outputs": [
    {
     "data": {
      "text/plain": [
       "array([0, 1, 2], dtype=int64)"
      ]
     },
     "execution_count": 19,
     "metadata": {},
     "output_type": "execute_result"
    }
   ],
   "source": [
    "df2.rest_ecg.unique()"
   ]
  },
  {
   "cell_type": "code",
   "execution_count": 20,
   "id": "5227649b",
   "metadata": {
    "ExecuteTime": {
     "end_time": "2021-12-01T06:37:04.264412Z",
     "start_time": "2021-12-01T06:37:04.255539Z"
    }
   },
   "outputs": [
    {
     "data": {
      "text/plain": [
       "array([0, 1], dtype=int64)"
      ]
     },
     "execution_count": 20,
     "metadata": {},
     "output_type": "execute_result"
    }
   ],
   "source": [
    "df2.exercise_induced_angina.unique()"
   ]
  },
  {
   "cell_type": "code",
   "execution_count": 21,
   "id": "e4dfd75e",
   "metadata": {
    "ExecuteTime": {
     "end_time": "2021-12-01T06:37:23.290100Z",
     "start_time": "2021-12-01T06:37:23.272332Z"
    }
   },
   "outputs": [
    {
     "data": {
      "text/plain": [
       "array([0, 2, 1], dtype=int64)"
      ]
     },
     "execution_count": 21,
     "metadata": {},
     "output_type": "execute_result"
    }
   ],
   "source": [
    "df2.st_slope.unique()"
   ]
  },
  {
   "cell_type": "code",
   "execution_count": 22,
   "id": "638dcb86",
   "metadata": {
    "ExecuteTime": {
     "end_time": "2021-12-01T06:37:37.551407Z",
     "start_time": "2021-12-01T06:37:37.527604Z"
    }
   },
   "outputs": [
    {
     "data": {
      "text/plain": [
       "array([0, 2, 1, 3, 4], dtype=int64)"
      ]
     },
     "execution_count": 22,
     "metadata": {},
     "output_type": "execute_result"
    }
   ],
   "source": [
    "df2.num_major_vessels.unique()"
   ]
  },
  {
   "cell_type": "code",
   "execution_count": 23,
   "id": "177057a7",
   "metadata": {
    "ExecuteTime": {
     "end_time": "2021-12-01T06:37:54.806298Z",
     "start_time": "2021-12-01T06:37:54.793179Z"
    }
   },
   "outputs": [
    {
     "data": {
      "text/plain": [
       "array([1, 2, 3, 0], dtype=int64)"
      ]
     },
     "execution_count": 23,
     "metadata": {},
     "output_type": "execute_result"
    }
   ],
   "source": [
    "df2.thalassemia.unique()"
   ]
  },
  {
   "cell_type": "code",
   "execution_count": 25,
   "id": "9aad6643",
   "metadata": {
    "ExecuteTime": {
     "end_time": "2021-12-01T06:38:16.554811Z",
     "start_time": "2021-12-01T06:38:16.546041Z"
    }
   },
   "outputs": [
    {
     "data": {
      "text/plain": [
       "array([1, 0], dtype=int64)"
      ]
     },
     "execution_count": 25,
     "metadata": {},
     "output_type": "execute_result"
    }
   ],
   "source": [
    "df2.target.unique()"
   ]
  },
  {
   "cell_type": "code",
   "execution_count": 26,
   "id": "ad8b0cfa",
   "metadata": {
    "ExecuteTime": {
     "end_time": "2021-12-01T06:45:59.716565Z",
     "start_time": "2021-12-01T06:45:59.678712Z"
    }
   },
   "outputs": [],
   "source": [
    "#change column values for better analysis\n",
    "df2['sex'] = df2['sex'].replace(to_replace=[1,0], value=['male', 'female'])\n",
    "df2['chest_pain_type'] = df2['chest_pain_type'].replace(to_replace =[0,1,2,3], value=['typical angina','atypical angina','non-anginal pain','asymptomatic'])\n",
    "df2.fasting_blood_sugar = df2.fasting_blood_sugar.replace(to_replace=[0,1], value=['lower than 120mg/ml', 'higher than 120mg/ml'])\n",
    "df2.rest_ecg = df2.rest_ecg.replace(to_replace=[0,1,2], value=['normal', 'ST-T wave abnormality', 'left ventricular hypertrophy'])\n",
    "df2.exercise_induced_angina = df2.exercise_induced_angina.replace(to_replace=[0,1], value=['no', 'yes'])\n",
    "df2.st_slope = df2.st_slope.replace(to_replace=[0,1,2], value=['upsloping', 'flat', 'downsloping'])\n",
    "df2.thalassemia = df2.thalassemia.replace(to_replace=[1,2,3], value=['normal', 'fixed defect','reversable defect'])"
   ]
  },
  {
   "cell_type": "code",
   "execution_count": 27,
   "id": "8d1ecba4",
   "metadata": {
    "ExecuteTime": {
     "end_time": "2021-12-01T06:46:03.879397Z",
     "start_time": "2021-12-01T06:46:03.847046Z"
    }
   },
   "outputs": [
    {
     "data": {
      "text/html": [
       "<div>\n",
       "<style scoped>\n",
       "    .dataframe tbody tr th:only-of-type {\n",
       "        vertical-align: middle;\n",
       "    }\n",
       "\n",
       "    .dataframe tbody tr th {\n",
       "        vertical-align: top;\n",
       "    }\n",
       "\n",
       "    .dataframe thead th {\n",
       "        text-align: right;\n",
       "    }\n",
       "</style>\n",
       "<table border=\"1\" class=\"dataframe\">\n",
       "  <thead>\n",
       "    <tr style=\"text-align: right;\">\n",
       "      <th></th>\n",
       "      <th>age</th>\n",
       "      <th>sex</th>\n",
       "      <th>chest_pain_type</th>\n",
       "      <th>resisting_blood_pressure</th>\n",
       "      <th>cholesterol</th>\n",
       "      <th>fasting_blood_sugar</th>\n",
       "      <th>rest_ecg</th>\n",
       "      <th>max_heart_rate_achieved</th>\n",
       "      <th>exercise_induced_angina</th>\n",
       "      <th>st_depression</th>\n",
       "      <th>st_slope</th>\n",
       "      <th>num_major_vessels</th>\n",
       "      <th>thalassemia</th>\n",
       "      <th>target</th>\n",
       "    </tr>\n",
       "  </thead>\n",
       "  <tbody>\n",
       "    <tr>\n",
       "      <th>0</th>\n",
       "      <td>63</td>\n",
       "      <td>male</td>\n",
       "      <td>asymptomatic</td>\n",
       "      <td>145</td>\n",
       "      <td>233</td>\n",
       "      <td>higher than 120mg/ml</td>\n",
       "      <td>normal</td>\n",
       "      <td>150</td>\n",
       "      <td>no</td>\n",
       "      <td>2.3</td>\n",
       "      <td>upsloping</td>\n",
       "      <td>0</td>\n",
       "      <td>normal</td>\n",
       "      <td>1</td>\n",
       "    </tr>\n",
       "    <tr>\n",
       "      <th>1</th>\n",
       "      <td>37</td>\n",
       "      <td>male</td>\n",
       "      <td>non-anginal pain</td>\n",
       "      <td>130</td>\n",
       "      <td>250</td>\n",
       "      <td>lower than 120mg/ml</td>\n",
       "      <td>ST-T wave abnormality</td>\n",
       "      <td>187</td>\n",
       "      <td>no</td>\n",
       "      <td>3.5</td>\n",
       "      <td>upsloping</td>\n",
       "      <td>0</td>\n",
       "      <td>fixed defect</td>\n",
       "      <td>1</td>\n",
       "    </tr>\n",
       "    <tr>\n",
       "      <th>2</th>\n",
       "      <td>41</td>\n",
       "      <td>female</td>\n",
       "      <td>atypical angina</td>\n",
       "      <td>130</td>\n",
       "      <td>204</td>\n",
       "      <td>lower than 120mg/ml</td>\n",
       "      <td>normal</td>\n",
       "      <td>172</td>\n",
       "      <td>no</td>\n",
       "      <td>1.4</td>\n",
       "      <td>downsloping</td>\n",
       "      <td>0</td>\n",
       "      <td>fixed defect</td>\n",
       "      <td>1</td>\n",
       "    </tr>\n",
       "    <tr>\n",
       "      <th>3</th>\n",
       "      <td>56</td>\n",
       "      <td>male</td>\n",
       "      <td>atypical angina</td>\n",
       "      <td>120</td>\n",
       "      <td>236</td>\n",
       "      <td>lower than 120mg/ml</td>\n",
       "      <td>ST-T wave abnormality</td>\n",
       "      <td>178</td>\n",
       "      <td>no</td>\n",
       "      <td>0.8</td>\n",
       "      <td>downsloping</td>\n",
       "      <td>0</td>\n",
       "      <td>fixed defect</td>\n",
       "      <td>1</td>\n",
       "    </tr>\n",
       "    <tr>\n",
       "      <th>4</th>\n",
       "      <td>57</td>\n",
       "      <td>female</td>\n",
       "      <td>typical angina</td>\n",
       "      <td>120</td>\n",
       "      <td>354</td>\n",
       "      <td>lower than 120mg/ml</td>\n",
       "      <td>ST-T wave abnormality</td>\n",
       "      <td>163</td>\n",
       "      <td>yes</td>\n",
       "      <td>0.6</td>\n",
       "      <td>downsloping</td>\n",
       "      <td>0</td>\n",
       "      <td>fixed defect</td>\n",
       "      <td>1</td>\n",
       "    </tr>\n",
       "  </tbody>\n",
       "</table>\n",
       "</div>"
      ],
      "text/plain": [
       "   age     sex   chest_pain_type  resisting_blood_pressure  cholesterol  \\\n",
       "0   63    male      asymptomatic                       145          233   \n",
       "1   37    male  non-anginal pain                       130          250   \n",
       "2   41  female   atypical angina                       130          204   \n",
       "3   56    male   atypical angina                       120          236   \n",
       "4   57  female    typical angina                       120          354   \n",
       "\n",
       "    fasting_blood_sugar               rest_ecg  max_heart_rate_achieved  \\\n",
       "0  higher than 120mg/ml                 normal                      150   \n",
       "1   lower than 120mg/ml  ST-T wave abnormality                      187   \n",
       "2   lower than 120mg/ml                 normal                      172   \n",
       "3   lower than 120mg/ml  ST-T wave abnormality                      178   \n",
       "4   lower than 120mg/ml  ST-T wave abnormality                      163   \n",
       "\n",
       "  exercise_induced_angina  st_depression     st_slope  num_major_vessels  \\\n",
       "0                      no            2.3    upsloping                  0   \n",
       "1                      no            3.5    upsloping                  0   \n",
       "2                      no            1.4  downsloping                  0   \n",
       "3                      no            0.8  downsloping                  0   \n",
       "4                     yes            0.6  downsloping                  0   \n",
       "\n",
       "    thalassemia  target  \n",
       "0        normal       1  \n",
       "1  fixed defect       1  \n",
       "2  fixed defect       1  \n",
       "3  fixed defect       1  \n",
       "4  fixed defect       1  "
      ]
     },
     "execution_count": 27,
     "metadata": {},
     "output_type": "execute_result"
    }
   ],
   "source": [
    "df2.head()"
   ]
  },
  {
   "cell_type": "code",
   "execution_count": 28,
   "id": "45fee7db",
   "metadata": {
    "ExecuteTime": {
     "end_time": "2021-12-01T06:49:43.742740Z",
     "start_time": "2021-12-01T06:49:43.719125Z"
    }
   },
   "outputs": [
    {
     "data": {
      "text/plain": [
       "male      207\n",
       "female     96\n",
       "Name: sex, dtype: int64"
      ]
     },
     "execution_count": 28,
     "metadata": {},
     "output_type": "execute_result"
    }
   ],
   "source": [
    "df2.sex.value_counts()"
   ]
  },
  {
   "cell_type": "code",
   "execution_count": 30,
   "id": "f004eb1a",
   "metadata": {
    "ExecuteTime": {
     "end_time": "2021-12-01T06:51:25.342664Z",
     "start_time": "2021-12-01T06:51:25.325620Z"
    }
   },
   "outputs": [
    {
     "data": {
      "text/plain": [
       "typical angina      143\n",
       "non-anginal pain     87\n",
       "atypical angina      50\n",
       "asymptomatic         23\n",
       "Name: chest_pain_type, dtype: int64"
      ]
     },
     "execution_count": 30,
     "metadata": {},
     "output_type": "execute_result"
    }
   ],
   "source": [
    "df2.chest_pain_type.value_counts()"
   ]
  },
  {
   "cell_type": "code",
   "execution_count": 31,
   "id": "a4d3862e",
   "metadata": {
    "ExecuteTime": {
     "end_time": "2021-12-01T06:51:37.673533Z",
     "start_time": "2021-12-01T06:51:37.661144Z"
    }
   },
   "outputs": [
    {
     "data": {
      "text/plain": [
       "lower than 120mg/ml     258\n",
       "higher than 120mg/ml     45\n",
       "Name: fasting_blood_sugar, dtype: int64"
      ]
     },
     "execution_count": 31,
     "metadata": {},
     "output_type": "execute_result"
    }
   ],
   "source": [
    "df2.fasting_blood_sugar.value_counts()"
   ]
  },
  {
   "cell_type": "code",
   "execution_count": 32,
   "id": "48ad681b",
   "metadata": {
    "ExecuteTime": {
     "end_time": "2021-12-01T06:51:51.174394Z",
     "start_time": "2021-12-01T06:51:51.154297Z"
    }
   },
   "outputs": [
    {
     "data": {
      "text/plain": [
       "ST-T wave abnormality           152\n",
       "normal                          147\n",
       "left ventricular hypertrophy      4\n",
       "Name: rest_ecg, dtype: int64"
      ]
     },
     "execution_count": 32,
     "metadata": {},
     "output_type": "execute_result"
    }
   ],
   "source": [
    "df2.rest_ecg.value_counts()"
   ]
  },
  {
   "cell_type": "code",
   "execution_count": 35,
   "id": "90a5b9eb",
   "metadata": {
    "ExecuteTime": {
     "end_time": "2021-12-01T06:52:16.726442Z",
     "start_time": "2021-12-01T06:52:15.995752Z"
    }
   },
   "outputs": [
    {
     "data": {
      "image/png": "[encoded data removed]",
      "text/plain": [
       "<Figure size 1296x864 with 4 Axes>"
      ]
     },
     "metadata": {
      "needs_background": "light"
     },
     "output_type": "display_data"
    }
   ],
   "source": [
    "plt.figure(figsize=(18,12))\n",
    "\n",
    "plt.subplot(2,2,1)\n",
    "sns.countplot(x='sex', data=df2)\n",
    "\n",
    "plt.subplot(2,2,2)\n",
    "sns.countplot(x='chest_pain_type', data=df2)\n",
    "\n",
    "plt.subplot(2,2,3)\n",
    "sns.countplot(x='fasting_blood_sugar', data=df2)\n",
    "\n",
    "plt.subplot(2,2,4)\n",
    "sns.countplot(x='rest_ecg', data=df2)\n",
    "\n",
    "plt.show()"
   ]
  },
  {
   "cell_type": "markdown",
   "id": "a54a3648",
   "metadata": {},
   "source": [
    "- in sex column male has the majority in the data\n",
    "- typical angina is most popular in chest pain type in the data\n",
    "- most of the persons in the data has fasting blood sugar lower than 120mg/ml in the data\n",
    "- normal and ST-T wave abnormality have the majority in Resting electrocardiographic measurement in the data"
   ]
  },
  {
   "cell_type": "code",
   "execution_count": 37,
   "id": "f733de7e",
   "metadata": {
    "ExecuteTime": {
     "end_time": "2021-12-01T06:55:54.788412Z",
     "start_time": "2021-12-01T06:55:54.768655Z"
    }
   },
   "outputs": [
    {
     "data": {
      "text/plain": [
       "Index(['age', 'sex', 'chest_pain_type', 'resisting_blood_pressure',\n",
       "       'cholesterol', 'fasting_blood_sugar', 'rest_ecg',\n",
       "       'max_heart_rate_achieved', 'exercise_induced_angina', 'st_depression',\n",
       "       'st_slope', 'num_major_vessels', 'thalassemia', 'target'],\n",
       "      dtype='object')"
      ]
     },
     "execution_count": 37,
     "metadata": {},
     "output_type": "execute_result"
    }
   ],
   "source": [
    "df2.columns"
   ]
  },
  {
   "cell_type": "code",
   "execution_count": 38,
   "id": "65179dd2",
   "metadata": {
    "ExecuteTime": {
     "end_time": "2021-12-01T06:57:41.522544Z",
     "start_time": "2021-12-01T06:57:41.502283Z"
    }
   },
   "outputs": [
    {
     "data": {
      "text/plain": [
       "no     204\n",
       "yes     99\n",
       "Name: exercise_induced_angina, dtype: int64"
      ]
     },
     "execution_count": 38,
     "metadata": {},
     "output_type": "execute_result"
    }
   ],
   "source": [
    "df2.exercise_induced_angina.value_counts()"
   ]
  },
  {
   "cell_type": "code",
   "execution_count": 39,
   "id": "6c189235",
   "metadata": {
    "ExecuteTime": {
     "end_time": "2021-12-01T06:57:55.201355Z",
     "start_time": "2021-12-01T06:57:55.190434Z"
    }
   },
   "outputs": [
    {
     "data": {
      "text/plain": [
       "downsloping    142\n",
       "flat           140\n",
       "upsloping       21\n",
       "Name: st_slope, dtype: int64"
      ]
     },
     "execution_count": 39,
     "metadata": {},
     "output_type": "execute_result"
    }
   ],
   "source": [
    "df2.st_slope.value_counts()"
   ]
  },
  {
   "cell_type": "code",
   "execution_count": 40,
   "id": "a298456e",
   "metadata": {
    "ExecuteTime": {
     "end_time": "2021-12-01T06:58:08.235759Z",
     "start_time": "2021-12-01T06:58:08.210127Z"
    }
   },
   "outputs": [
    {
     "data": {
      "text/plain": [
       "0    175\n",
       "1     65\n",
       "2     38\n",
       "3     20\n",
       "4      5\n",
       "Name: num_major_vessels, dtype: int64"
      ]
     },
     "execution_count": 40,
     "metadata": {},
     "output_type": "execute_result"
    }
   ],
   "source": [
    "df2.num_major_vessels.value_counts()"
   ]
  },
  {
   "cell_type": "code",
   "execution_count": 41,
   "id": "f32df36e",
   "metadata": {
    "ExecuteTime": {
     "end_time": "2021-12-01T06:58:25.301558Z",
     "start_time": "2021-12-01T06:58:25.278258Z"
    }
   },
   "outputs": [
    {
     "data": {
      "text/plain": [
       "fixed defect         166\n",
       "reversable defect    117\n",
       "normal                18\n",
       "0                      2\n",
       "Name: thalassemia, dtype: int64"
      ]
     },
     "execution_count": 41,
     "metadata": {},
     "output_type": "execute_result"
    }
   ],
   "source": [
    "df2.thalassemia.value_counts()"
   ]
  },
  {
   "cell_type": "code",
   "execution_count": 42,
   "id": "05973877",
   "metadata": {
    "ExecuteTime": {
     "end_time": "2021-12-01T06:58:30.565035Z",
     "start_time": "2021-12-01T06:58:29.873391Z"
    }
   },
   "outputs": [
    {
     "data": {
      "image/png": "[encoded data removed]",
      "text/plain": [
       "<Figure size 1296x864 with 4 Axes>"
      ]
     },
     "metadata": {
      "needs_background": "light"
     },
     "output_type": "display_data"
    }
   ],
   "source": [
    "plt.figure(figsize=(18,12))\n",
    "\n",
    "plt.subplot(2,2,1)\n",
    "sns.countplot(x='exercise_induced_angina', data=df2)\n",
    "\n",
    "plt.subplot(2,2,2)\n",
    "sns.countplot(x='st_slope', data=df2)\n",
    "\n",
    "plt.subplot(2,2,3)\n",
    "sns.countplot(x='num_major_vessels', data=df2)\n",
    "\n",
    "plt.subplot(2,2,4)\n",
    "sns.countplot(x='thalassemia', data=df2)\n",
    "\n",
    "plt.show()"
   ]
  },
  {
   "cell_type": "markdown",
   "id": "4714dc0c",
   "metadata": {},
   "source": [
    "- no values in exercise_induced_angina is most popular in the data\n",
    "- downsloping and flat are the most popular in the st_slop in the data\n",
    "- 0 num_major_vessels has the majorityin the data\n",
    "- fixed defect and reversable defect are the most popular in the data"
   ]
  },
  {
   "cell_type": "code",
   "execution_count": 46,
   "id": "d2f4ff4c",
   "metadata": {
    "ExecuteTime": {
     "end_time": "2021-12-01T07:04:28.261374Z",
     "start_time": "2021-12-01T07:04:28.244362Z"
    }
   },
   "outputs": [],
   "source": [
    "df2.target = df2.target.replace(to_replace=[0,1], value=['no', 'yes'])"
   ]
  },
  {
   "cell_type": "code",
   "execution_count": 47,
   "id": "a576d532",
   "metadata": {
    "ExecuteTime": {
     "end_time": "2021-12-01T07:04:28.722845Z",
     "start_time": "2021-12-01T07:04:28.701972Z"
    },
    "scrolled": true
   },
   "outputs": [
    {
     "data": {
      "text/plain": [
       "yes    165\n",
       "no     138\n",
       "Name: target, dtype: int64"
      ]
     },
     "execution_count": 47,
     "metadata": {},
     "output_type": "execute_result"
    }
   ],
   "source": [
    "df2.target.value_counts()"
   ]
  },
  {
   "cell_type": "code",
   "execution_count": 52,
   "id": "b08b26fe",
   "metadata": {
    "ExecuteTime": {
     "end_time": "2021-12-01T07:07:35.633987Z",
     "start_time": "2021-12-01T07:07:35.352827Z"
    }
   },
   "outputs": [
    {
     "data": {
      "image/png": "[encoded data removed]",
      "text/plain": [
       "<Figure size 864x432 with 1 Axes>"
      ]
     },
     "metadata": {},
     "output_type": "display_data"
    }
   ],
   "source": [
    "plt.figure(figsize=(12,6))\n",
    "yes = df2.target[df2.target == 'yes'].count()\n",
    "no = df2.target[df2.target == 'no'].count()\n",
    "plt.title(\"Distrbuition of the heart disease in the data\")\n",
    "labels = ['yes', 'no']\n",
    "plt.pie([yes, no], labels=labels, autopct=\"%.2f%%\")\n",
    "plt.legend()\n",
    "plt.show()"
   ]
  },
  {
   "cell_type": "code",
   "execution_count": 55,
   "id": "e612b17f",
   "metadata": {
    "ExecuteTime": {
     "end_time": "2021-12-01T07:09:07.961969Z",
     "start_time": "2021-12-01T07:09:07.022343Z"
    }
   },
   "outputs": [
    {
     "data": {
      "image/png": "[encoded data removed]",
      "text/plain": [
       "<Figure size 1296x864 with 4 Axes>"
      ]
     },
     "metadata": {
      "needs_background": "light"
     },
     "output_type": "display_data"
    }
   ],
   "source": [
    "plt.figure(figsize=(18,12))\n",
    "plt.subplot(2,2,1)\n",
    "sns.countplot(x='exercise_induced_angina', hue='target', data=df2)\n",
    "\n",
    "plt.subplot(2,2,2)\n",
    "sns.countplot(x='st_slope', hue='target',data=df2)\n",
    "\n",
    "plt.subplot(2,2,3)\n",
    "sns.countplot(x='num_major_vessels', hue='target',data=df2)\n",
    "\n",
    "plt.subplot(2,2,4)\n",
    "sns.countplot(x='thalassemia', hue='target',data=df2)\n",
    "\n",
    "plt.show()"
   ]
  },
  {
   "cell_type": "markdown",
   "id": "8257e70b",
   "metadata": {},
   "source": [
    "- in the data  exercise_induced_angina when its value is No, then most people have heart disease, but exercise_induced_angina when its value is Yes, then most people do not have heart disease\n",
    "- in the data when St_slop is downsloping most pepole are at risk of heart disease otherwise when St_slop is flat most pepole are less likely to get heart disease\n",
    "- in the data if num_major_vessels = 0 pepole more likely to have heart disease \n",
    "- in the data if thalassemia = fixed defect pepole at risk of heart disease otherwise when thalassemia is reversable defect pepole are less likely to get heart disease"
   ]
  },
  {
   "cell_type": "code",
   "execution_count": 56,
   "id": "9906c326",
   "metadata": {
    "ExecuteTime": {
     "end_time": "2021-12-01T07:16:14.856779Z",
     "start_time": "2021-12-01T07:16:13.958740Z"
    }
   },
   "outputs": [
    {
     "data": {
      "image/png": "[encoded data removed]",
      "text/plain": [
       "<Figure size 1296x864 with 4 Axes>"
      ]
     },
     "metadata": {
      "needs_background": "light"
     },
     "output_type": "display_data"
    }
   ],
   "source": [
    "plt.figure(figsize=(18,12))\n",
    "\n",
    "plt.subplot(2,2,1)\n",
    "sns.countplot(x='sex', hue='target',data=df2)\n",
    "\n",
    "plt.subplot(2,2,2)\n",
    "sns.countplot(x='chest_pain_type', hue='target', data=df2)\n",
    "\n",
    "plt.subplot(2,2,3)\n",
    "sns.countplot(x='fasting_blood_sugar', hue='target',data=df2)\n",
    "\n",
    "plt.subplot(2,2,4)\n",
    "sns.countplot(x='rest_ecg', hue='target',data=df2)\n",
    "\n",
    "plt.show()"
   ]
  },
  {
   "cell_type": "markdown",
   "id": "7df52cce",
   "metadata": {},
   "source": [
    "- in the data There are men who do not have heart disease more than men who have heart disease, on the other hand there are women who have heart disease more than women who do not have heart disease <br>\n",
    "- in the data People who have typical angina as the chest pain type most likely do not have heart disease, Any other chest pain type, you most likely have heart disease\n",
    "- in the data You cannot clearly diagnose heart disease by fasting blood sugar\n",
    "- in the data resesting electromagnetic when  = ST-T wave abnormality Pepole are more likely to have heart disease"
   ]
  },
  {
   "cell_type": "code",
   "execution_count": 61,
   "id": "f2b18eb9",
   "metadata": {
    "ExecuteTime": {
     "end_time": "2021-12-01T07:37:21.849871Z",
     "start_time": "2021-12-01T07:37:19.786084Z"
    }
   },
   "outputs": [
    {
     "data": {
      "image/png": "[encoded data removed]",
      "text/plain": [
       "<Figure size 1440x432 with 1 Axes>"
      ]
     },
     "metadata": {
      "needs_background": "light"
     },
     "output_type": "display_data"
    }
   ],
   "source": [
    "pd.crosstab(df.age,df.target).plot(kind=\"bar\",figsize=(20,6))\n",
    "plt.title('Heart Disease Frequency for Ages')\n",
    "plt.xlabel('Age')\n",
    "plt.ylabel('Frequency')\n",
    "plt.show()"
   ]
  },
  {
   "cell_type": "code",
   "execution_count": 65,
   "id": "18b3830c",
   "metadata": {
    "ExecuteTime": {
     "end_time": "2021-12-01T07:42:59.308535Z",
     "start_time": "2021-12-01T07:42:58.979956Z"
    }
   },
   "outputs": [
    {
     "data": {
      "image/png": "[encoded data removed]",
      "text/plain": [
       "<Figure size 720x432 with 1 Axes>"
      ]
     },
     "metadata": {
      "needs_background": "light"
     },
     "output_type": "display_data"
    }
   ],
   "source": [
    "plt.figure(figsize=(10,6))\n",
    "age_1 = df2.age[df.target==1]\n",
    "age_0 = df2.age[df.target==0]\n",
    "max_heart_1 = df2.max_heart_rate_achieved[(df2.target=='yes')]\n",
    "max_heart_0 = df2.max_heart_rate_achieved[(df2.target=='no')]\n",
    "plt.scatter(x= age_1, y= max_heart_1, c=\"red\")\n",
    "plt.scatter(x= age_0, y= max_heart_0)\n",
    "plt.legend([\"Disease\", \"Not Disease\"])\n",
    "plt.xlabel(\"Age\")\n",
    "plt.ylabel(\"Maximum Heart Rate\")\n",
    "plt.show()"
   ]
  },
  {
   "cell_type": "code",
   "execution_count": 67,
   "id": "77fc7538",
   "metadata": {
    "ExecuteTime": {
     "end_time": "2021-12-01T07:47:52.180611Z",
     "start_time": "2021-12-01T07:47:49.264824Z"
    }
   },
   "outputs": [
    {
     "data": {
      "image/png": "[encoded data removed]",
      "text/plain": [
       "<Figure size 1008x720 with 2 Axes>"
      ]
     },
     "metadata": {
      "needs_background": "light"
     },
     "output_type": "display_data"
    }
   ],
   "source": [
    "plt.figure(figsize=(14,10))\n",
    "sns.heatmap(df.corr(), annot=True, fmt='.2f');"
   ]
  },
  {
   "cell_type": "markdown",
   "id": "a2b983f0",
   "metadata": {},
   "source": [
    "### Apply One Hot encoder"
   ]
  },
  {
   "cell_type": "code",
   "execution_count": 85,
   "id": "0f5f24f7",
   "metadata": {
    "ExecuteTime": {
     "end_time": "2021-12-01T07:58:10.856900Z",
     "start_time": "2021-12-01T07:58:10.797712Z"
    }
   },
   "outputs": [
    {
     "data": {
      "text/html": [
       "<div>\n",
       "<style scoped>\n",
       "    .dataframe tbody tr th:only-of-type {\n",
       "        vertical-align: middle;\n",
       "    }\n",
       "\n",
       "    .dataframe tbody tr th {\n",
       "        vertical-align: top;\n",
       "    }\n",
       "\n",
       "    .dataframe thead th {\n",
       "        text-align: right;\n",
       "    }\n",
       "</style>\n",
       "<table border=\"1\" class=\"dataframe\">\n",
       "  <thead>\n",
       "    <tr style=\"text-align: right;\">\n",
       "      <th></th>\n",
       "      <th>age</th>\n",
       "      <th>resisting_blood_pressure</th>\n",
       "      <th>cholesterol</th>\n",
       "      <th>max_heart_rate_achieved</th>\n",
       "      <th>st_depression</th>\n",
       "      <th>num_major_vessels</th>\n",
       "      <th>sex_male</th>\n",
       "      <th>chest_pain_type_atypical angina</th>\n",
       "      <th>chest_pain_type_non-anginal pain</th>\n",
       "      <th>chest_pain_type_typical angina</th>\n",
       "      <th>fasting_blood_sugar_lower than 120mg/ml</th>\n",
       "      <th>rest_ecg_left ventricular hypertrophy</th>\n",
       "      <th>rest_ecg_normal</th>\n",
       "      <th>exercise_induced_angina_yes</th>\n",
       "      <th>st_slope_flat</th>\n",
       "      <th>st_slope_upsloping</th>\n",
       "      <th>thalassemia_fixed defect</th>\n",
       "      <th>thalassemia_normal</th>\n",
       "      <th>thalassemia_reversable defect</th>\n",
       "      <th>target_yes</th>\n",
       "    </tr>\n",
       "  </thead>\n",
       "  <tbody>\n",
       "    <tr>\n",
       "      <th>0</th>\n",
       "      <td>63</td>\n",
       "      <td>145</td>\n",
       "      <td>233</td>\n",
       "      <td>150</td>\n",
       "      <td>2.3</td>\n",
       "      <td>0</td>\n",
       "      <td>1</td>\n",
       "      <td>0</td>\n",
       "      <td>0</td>\n",
       "      <td>0</td>\n",
       "      <td>0</td>\n",
       "      <td>0</td>\n",
       "      <td>1</td>\n",
       "      <td>0</td>\n",
       "      <td>0</td>\n",
       "      <td>1</td>\n",
       "      <td>0</td>\n",
       "      <td>1</td>\n",
       "      <td>0</td>\n",
       "      <td>1</td>\n",
       "    </tr>\n",
       "    <tr>\n",
       "      <th>1</th>\n",
       "      <td>37</td>\n",
       "      <td>130</td>\n",
       "      <td>250</td>\n",
       "      <td>187</td>\n",
       "      <td>3.5</td>\n",
       "      <td>0</td>\n",
       "      <td>1</td>\n",
       "      <td>0</td>\n",
       "      <td>1</td>\n",
       "      <td>0</td>\n",
       "      <td>1</td>\n",
       "      <td>0</td>\n",
       "      <td>0</td>\n",
       "      <td>0</td>\n",
       "      <td>0</td>\n",
       "      <td>1</td>\n",
       "      <td>1</td>\n",
       "      <td>0</td>\n",
       "      <td>0</td>\n",
       "      <td>1</td>\n",
       "    </tr>\n",
       "    <tr>\n",
       "      <th>2</th>\n",
       "      <td>41</td>\n",
       "      <td>130</td>\n",
       "      <td>204</td>\n",
       "      <td>172</td>\n",
       "      <td>1.4</td>\n",
       "      <td>0</td>\n",
       "      <td>0</td>\n",
       "      <td>1</td>\n",
       "      <td>0</td>\n",
       "      <td>0</td>\n",
       "      <td>1</td>\n",
       "      <td>0</td>\n",
       "      <td>1</td>\n",
       "      <td>0</td>\n",
       "      <td>0</td>\n",
       "      <td>0</td>\n",
       "      <td>1</td>\n",
       "      <td>0</td>\n",
       "      <td>0</td>\n",
       "      <td>1</td>\n",
       "    </tr>\n",
       "  </tbody>\n",
       "</table>\n",
       "</div>"
      ],
      "text/plain": [
       "   age  resisting_blood_pressure  cholesterol  max_heart_rate_achieved  \\\n",
       "0   63                       145          233                      150   \n",
       "1   37                       130          250                      187   \n",
       "2   41                       130          204                      172   \n",
       "\n",
       "   st_depression  num_major_vessels  sex_male  \\\n",
       "0            2.3                  0         1   \n",
       "1            3.5                  0         1   \n",
       "2            1.4                  0         0   \n",
       "\n",
       "   chest_pain_type_atypical angina  chest_pain_type_non-anginal pain  \\\n",
       "0                                0                                 0   \n",
       "1                                0                                 1   \n",
       "2                                1                                 0   \n",
       "\n",
       "   chest_pain_type_typical angina  fasting_blood_sugar_lower than 120mg/ml  \\\n",
       "0                               0                                        0   \n",
       "1                               0                                        1   \n",
       "2                               0                                        1   \n",
       "\n",
       "   rest_ecg_left ventricular hypertrophy  rest_ecg_normal  \\\n",
       "0                                      0                1   \n",
       "1                                      0                0   \n",
       "2                                      0                1   \n",
       "\n",
       "   exercise_induced_angina_yes  st_slope_flat  st_slope_upsloping  \\\n",
       "0                            0              0                   1   \n",
       "1                            0              0                   1   \n",
       "2                            0              0                   0   \n",
       "\n",
       "   thalassemia_fixed defect  thalassemia_normal  \\\n",
       "0                         0                   1   \n",
       "1                         1                   0   \n",
       "2                         1                   0   \n",
       "\n",
       "   thalassemia_reversable defect  target_yes  \n",
       "0                              0           1  \n",
       "1                              0           1  \n",
       "2                              0           1  "
      ]
     },
     "execution_count": 85,
     "metadata": {},
     "output_type": "execute_result"
    }
   ],
   "source": [
    "dummies = pd.get_dummies(df2, drop_first=True)\n",
    "dummies.head(3)"
   ]
  },
  {
   "cell_type": "code",
   "execution_count": 87,
   "id": "e428281f",
   "metadata": {
    "ExecuteTime": {
     "end_time": "2021-12-01T07:58:50.694570Z",
     "start_time": "2021-12-01T07:58:50.644497Z"
    }
   },
   "outputs": [
    {
     "data": {
      "text/html": [
       "<div>\n",
       "<style scoped>\n",
       "    .dataframe tbody tr th:only-of-type {\n",
       "        vertical-align: middle;\n",
       "    }\n",
       "\n",
       "    .dataframe tbody tr th {\n",
       "        vertical-align: top;\n",
       "    }\n",
       "\n",
       "    .dataframe thead th {\n",
       "        text-align: right;\n",
       "    }\n",
       "</style>\n",
       "<table border=\"1\" class=\"dataframe\">\n",
       "  <thead>\n",
       "    <tr style=\"text-align: right;\">\n",
       "      <th></th>\n",
       "      <th>age</th>\n",
       "      <th>resisting_blood_pressure</th>\n",
       "      <th>cholesterol</th>\n",
       "      <th>max_heart_rate_achieved</th>\n",
       "      <th>st_depression</th>\n",
       "      <th>num_major_vessels</th>\n",
       "      <th>sex_male</th>\n",
       "      <th>chest_pain_type_atypical angina</th>\n",
       "      <th>chest_pain_type_non-anginal pain</th>\n",
       "      <th>chest_pain_type_typical angina</th>\n",
       "      <th>fasting_blood_sugar_lower than 120mg/ml</th>\n",
       "      <th>rest_ecg_left ventricular hypertrophy</th>\n",
       "      <th>rest_ecg_normal</th>\n",
       "      <th>exercise_induced_angina_yes</th>\n",
       "      <th>st_slope_flat</th>\n",
       "      <th>st_slope_upsloping</th>\n",
       "      <th>thalassemia_fixed defect</th>\n",
       "      <th>thalassemia_normal</th>\n",
       "      <th>thalassemia_reversable defect</th>\n",
       "      <th>target_yes</th>\n",
       "    </tr>\n",
       "  </thead>\n",
       "  <tbody>\n",
       "    <tr>\n",
       "      <th>0</th>\n",
       "      <td>63</td>\n",
       "      <td>145</td>\n",
       "      <td>233</td>\n",
       "      <td>150</td>\n",
       "      <td>2.3</td>\n",
       "      <td>0</td>\n",
       "      <td>1</td>\n",
       "      <td>0</td>\n",
       "      <td>0</td>\n",
       "      <td>0</td>\n",
       "      <td>0</td>\n",
       "      <td>0</td>\n",
       "      <td>1</td>\n",
       "      <td>0</td>\n",
       "      <td>0</td>\n",
       "      <td>1</td>\n",
       "      <td>0</td>\n",
       "      <td>1</td>\n",
       "      <td>0</td>\n",
       "      <td>1</td>\n",
       "    </tr>\n",
       "    <tr>\n",
       "      <th>1</th>\n",
       "      <td>37</td>\n",
       "      <td>130</td>\n",
       "      <td>250</td>\n",
       "      <td>187</td>\n",
       "      <td>3.5</td>\n",
       "      <td>0</td>\n",
       "      <td>1</td>\n",
       "      <td>0</td>\n",
       "      <td>1</td>\n",
       "      <td>0</td>\n",
       "      <td>1</td>\n",
       "      <td>0</td>\n",
       "      <td>0</td>\n",
       "      <td>0</td>\n",
       "      <td>0</td>\n",
       "      <td>1</td>\n",
       "      <td>1</td>\n",
       "      <td>0</td>\n",
       "      <td>0</td>\n",
       "      <td>1</td>\n",
       "    </tr>\n",
       "    <tr>\n",
       "      <th>2</th>\n",
       "      <td>41</td>\n",
       "      <td>130</td>\n",
       "      <td>204</td>\n",
       "      <td>172</td>\n",
       "      <td>1.4</td>\n",
       "      <td>0</td>\n",
       "      <td>0</td>\n",
       "      <td>1</td>\n",
       "      <td>0</td>\n",
       "      <td>0</td>\n",
       "      <td>1</td>\n",
       "      <td>0</td>\n",
       "      <td>1</td>\n",
       "      <td>0</td>\n",
       "      <td>0</td>\n",
       "      <td>0</td>\n",
       "      <td>1</td>\n",
       "      <td>0</td>\n",
       "      <td>0</td>\n",
       "      <td>1</td>\n",
       "    </tr>\n",
       "    <tr>\n",
       "      <th>3</th>\n",
       "      <td>56</td>\n",
       "      <td>120</td>\n",
       "      <td>236</td>\n",
       "      <td>178</td>\n",
       "      <td>0.8</td>\n",
       "      <td>0</td>\n",
       "      <td>1</td>\n",
       "      <td>1</td>\n",
       "      <td>0</td>\n",
       "      <td>0</td>\n",
       "      <td>1</td>\n",
       "      <td>0</td>\n",
       "      <td>0</td>\n",
       "      <td>0</td>\n",
       "      <td>0</td>\n",
       "      <td>0</td>\n",
       "      <td>1</td>\n",
       "      <td>0</td>\n",
       "      <td>0</td>\n",
       "      <td>1</td>\n",
       "    </tr>\n",
       "    <tr>\n",
       "      <th>4</th>\n",
       "      <td>57</td>\n",
       "      <td>120</td>\n",
       "      <td>354</td>\n",
       "      <td>163</td>\n",
       "      <td>0.6</td>\n",
       "      <td>0</td>\n",
       "      <td>0</td>\n",
       "      <td>0</td>\n",
       "      <td>0</td>\n",
       "      <td>1</td>\n",
       "      <td>1</td>\n",
       "      <td>0</td>\n",
       "      <td>0</td>\n",
       "      <td>1</td>\n",
       "      <td>0</td>\n",
       "      <td>0</td>\n",
       "      <td>1</td>\n",
       "      <td>0</td>\n",
       "      <td>0</td>\n",
       "      <td>1</td>\n",
       "    </tr>\n",
       "    <tr>\n",
       "      <th>5</th>\n",
       "      <td>57</td>\n",
       "      <td>140</td>\n",
       "      <td>192</td>\n",
       "      <td>148</td>\n",
       "      <td>0.4</td>\n",
       "      <td>0</td>\n",
       "      <td>1</td>\n",
       "      <td>0</td>\n",
       "      <td>0</td>\n",
       "      <td>1</td>\n",
       "      <td>1</td>\n",
       "      <td>0</td>\n",
       "      <td>0</td>\n",
       "      <td>0</td>\n",
       "      <td>1</td>\n",
       "      <td>0</td>\n",
       "      <td>0</td>\n",
       "      <td>1</td>\n",
       "      <td>0</td>\n",
       "      <td>1</td>\n",
       "    </tr>\n",
       "    <tr>\n",
       "      <th>6</th>\n",
       "      <td>56</td>\n",
       "      <td>140</td>\n",
       "      <td>294</td>\n",
       "      <td>153</td>\n",
       "      <td>1.3</td>\n",
       "      <td>0</td>\n",
       "      <td>0</td>\n",
       "      <td>1</td>\n",
       "      <td>0</td>\n",
       "      <td>0</td>\n",
       "      <td>1</td>\n",
       "      <td>0</td>\n",
       "      <td>1</td>\n",
       "      <td>0</td>\n",
       "      <td>1</td>\n",
       "      <td>0</td>\n",
       "      <td>1</td>\n",
       "      <td>0</td>\n",
       "      <td>0</td>\n",
       "      <td>1</td>\n",
       "    </tr>\n",
       "    <tr>\n",
       "      <th>7</th>\n",
       "      <td>44</td>\n",
       "      <td>120</td>\n",
       "      <td>263</td>\n",
       "      <td>173</td>\n",
       "      <td>0.0</td>\n",
       "      <td>0</td>\n",
       "      <td>1</td>\n",
       "      <td>1</td>\n",
       "      <td>0</td>\n",
       "      <td>0</td>\n",
       "      <td>1</td>\n",
       "      <td>0</td>\n",
       "      <td>0</td>\n",
       "      <td>0</td>\n",
       "      <td>0</td>\n",
       "      <td>0</td>\n",
       "      <td>0</td>\n",
       "      <td>0</td>\n",
       "      <td>1</td>\n",
       "      <td>1</td>\n",
       "    </tr>\n",
       "    <tr>\n",
       "      <th>8</th>\n",
       "      <td>52</td>\n",
       "      <td>172</td>\n",
       "      <td>199</td>\n",
       "      <td>162</td>\n",
       "      <td>0.5</td>\n",
       "      <td>0</td>\n",
       "      <td>1</td>\n",
       "      <td>0</td>\n",
       "      <td>1</td>\n",
       "      <td>0</td>\n",
       "      <td>0</td>\n",
       "      <td>0</td>\n",
       "      <td>0</td>\n",
       "      <td>0</td>\n",
       "      <td>0</td>\n",
       "      <td>0</td>\n",
       "      <td>0</td>\n",
       "      <td>0</td>\n",
       "      <td>1</td>\n",
       "      <td>1</td>\n",
       "    </tr>\n",
       "    <tr>\n",
       "      <th>9</th>\n",
       "      <td>57</td>\n",
       "      <td>150</td>\n",
       "      <td>168</td>\n",
       "      <td>174</td>\n",
       "      <td>1.6</td>\n",
       "      <td>0</td>\n",
       "      <td>1</td>\n",
       "      <td>0</td>\n",
       "      <td>1</td>\n",
       "      <td>0</td>\n",
       "      <td>1</td>\n",
       "      <td>0</td>\n",
       "      <td>0</td>\n",
       "      <td>0</td>\n",
       "      <td>0</td>\n",
       "      <td>0</td>\n",
       "      <td>1</td>\n",
       "      <td>0</td>\n",
       "      <td>0</td>\n",
       "      <td>1</td>\n",
       "    </tr>\n",
       "  </tbody>\n",
       "</table>\n",
       "</div>"
      ],
      "text/plain": [
       "   age  resisting_blood_pressure  cholesterol  max_heart_rate_achieved  \\\n",
       "0   63                       145          233                      150   \n",
       "1   37                       130          250                      187   \n",
       "2   41                       130          204                      172   \n",
       "3   56                       120          236                      178   \n",
       "4   57                       120          354                      163   \n",
       "5   57                       140          192                      148   \n",
       "6   56                       140          294                      153   \n",
       "7   44                       120          263                      173   \n",
       "8   52                       172          199                      162   \n",
       "9   57                       150          168                      174   \n",
       "\n",
       "   st_depression  num_major_vessels  sex_male  \\\n",
       "0            2.3                  0         1   \n",
       "1            3.5                  0         1   \n",
       "2            1.4                  0         0   \n",
       "3            0.8                  0         1   \n",
       "4            0.6                  0         0   \n",
       "5            0.4                  0         1   \n",
       "6            1.3                  0         0   \n",
       "7            0.0                  0         1   \n",
       "8            0.5                  0         1   \n",
       "9            1.6                  0         1   \n",
       "\n",
       "   chest_pain_type_atypical angina  chest_pain_type_non-anginal pain  \\\n",
       "0                                0                                 0   \n",
       "1                                0                                 1   \n",
       "2                                1                                 0   \n",
       "3                                1                                 0   \n",
       "4                                0                                 0   \n",
       "5                                0                                 0   \n",
       "6                                1                                 0   \n",
       "7                                1                                 0   \n",
       "8                                0                                 1   \n",
       "9                                0                                 1   \n",
       "\n",
       "   chest_pain_type_typical angina  fasting_blood_sugar_lower than 120mg/ml  \\\n",
       "0                               0                                        0   \n",
       "1                               0                                        1   \n",
       "2                               0                                        1   \n",
       "3                               0                                        1   \n",
       "4                               1                                        1   \n",
       "5                               1                                        1   \n",
       "6                               0                                        1   \n",
       "7                               0                                        1   \n",
       "8                               0                                        0   \n",
       "9                               0                                        1   \n",
       "\n",
       "   rest_ecg_left ventricular hypertrophy  rest_ecg_normal  \\\n",
       "0                                      0                1   \n",
       "1                                      0                0   \n",
       "2                                      0                1   \n",
       "3                                      0                0   \n",
       "4                                      0                0   \n",
       "5                                      0                0   \n",
       "6                                      0                1   \n",
       "7                                      0                0   \n",
       "8                                      0                0   \n",
       "9                                      0                0   \n",
       "\n",
       "   exercise_induced_angina_yes  st_slope_flat  st_slope_upsloping  \\\n",
       "0                            0              0                   1   \n",
       "1                            0              0                   1   \n",
       "2                            0              0                   0   \n",
       "3                            0              0                   0   \n",
       "4                            1              0                   0   \n",
       "5                            0              1                   0   \n",
       "6                            0              1                   0   \n",
       "7                            0              0                   0   \n",
       "8                            0              0                   0   \n",
       "9                            0              0                   0   \n",
       "\n",
       "   thalassemia_fixed defect  thalassemia_normal  \\\n",
       "0                         0                   1   \n",
       "1                         1                   0   \n",
       "2                         1                   0   \n",
       "3                         1                   0   \n",
       "4                         1                   0   \n",
       "5                         0                   1   \n",
       "6                         1                   0   \n",
       "7                         0                   0   \n",
       "8                         0                   0   \n",
       "9                         1                   0   \n",
       "\n",
       "   thalassemia_reversable defect  target_yes  \n",
       "0                              0           1  \n",
       "1                              0           1  \n",
       "2                              0           1  \n",
       "3                              0           1  \n",
       "4                              0           1  \n",
       "5                              0           1  \n",
       "6                              0           1  \n",
       "7                              1           1  \n",
       "8                              1           1  \n",
       "9                              0           1  "
      ]
     },
     "execution_count": 87,
     "metadata": {},
     "output_type": "execute_result"
    }
   ],
   "source": [
    "df3 = dummies\n",
    "df3.head(10)"
   ]
  },
  {
   "cell_type": "markdown",
   "id": "90c08a4d",
   "metadata": {},
   "source": [
    "### Assign Feature and target Variables"
   ]
  },
  {
   "cell_type": "code",
   "execution_count": 88,
   "id": "05b86e72",
   "metadata": {
    "ExecuteTime": {
     "end_time": "2021-12-01T07:59:10.399384Z",
     "start_time": "2021-12-01T07:59:10.391172Z"
    }
   },
   "outputs": [],
   "source": [
    "X = df3.drop('target_yes', axis=1)\n",
    "y = df3.target_yes"
   ]
  },
  {
   "cell_type": "markdown",
   "id": "22e33732",
   "metadata": {},
   "source": [
    "### Apply Scaling"
   ]
  },
  {
   "cell_type": "code",
   "execution_count": 252,
   "id": "fef170d2",
   "metadata": {
    "ExecuteTime": {
     "end_time": "2021-12-01T08:09:12.927963Z",
     "start_time": "2021-12-01T08:09:12.913824Z"
    }
   },
   "outputs": [],
   "source": [
    "scaler = StandardScaler()\n",
    "X_scale = scaler.fit_transform(X)"
   ]
  },
  {
   "cell_type": "markdown",
   "id": "11103202",
   "metadata": {},
   "source": [
    "### Split the data into training and testing data"
   ]
  },
  {
   "cell_type": "code",
   "execution_count": 352,
   "id": "622df729",
   "metadata": {
    "ExecuteTime": {
     "end_time": "2021-12-01T08:12:19.478170Z",
     "start_time": "2021-12-01T08:12:19.466113Z"
    }
   },
   "outputs": [],
   "source": [
    "X_train, X_test, y_train, y_test = train_test_split(X_scale,y, test_size=0.25, random_state=60)"
   ]
  },
  {
   "cell_type": "markdown",
   "id": "3fa4f4b2",
   "metadata": {},
   "source": [
    "### Bulding and training the model"
   ]
  },
  {
   "cell_type": "code",
   "execution_count": 353,
   "id": "560c1846",
   "metadata": {
    "ExecuteTime": {
     "end_time": "2021-12-01T08:12:20.102999Z",
     "start_time": "2021-12-01T08:12:20.087818Z"
    }
   },
   "outputs": [
    {
     "data": {
      "text/plain": [
       "KNeighborsClassifier(n_neighbors=3)"
      ]
     },
     "execution_count": 353,
     "metadata": {},
     "output_type": "execute_result"
    }
   ],
   "source": [
    "model = KNeighborsClassifier(n_neighbors=3)\n",
    "model.fit(X_train, y_train)"
   ]
  },
  {
   "cell_type": "markdown",
   "id": "ee679c92",
   "metadata": {},
   "source": [
    "### Accuracy of the model"
   ]
  },
  {
   "cell_type": "code",
   "execution_count": 354,
   "id": "9c374ea6",
   "metadata": {
    "ExecuteTime": {
     "end_time": "2021-12-01T08:12:20.390715Z",
     "start_time": "2021-12-01T08:12:20.363174Z"
    }
   },
   "outputs": [
    {
     "data": {
      "text/plain": [
       "0.881578947368421"
      ]
     },
     "execution_count": 354,
     "metadata": {},
     "output_type": "execute_result"
    }
   ],
   "source": [
    "model.score(X_test, y_test)"
   ]
  },
  {
   "cell_type": "markdown",
   "id": "3e66a586",
   "metadata": {},
   "source": [
    "### Save the model"
   ]
  },
  {
   "cell_type": "code",
   "execution_count": 356,
   "id": "c24bb8df",
   "metadata": {
    "ExecuteTime": {
     "end_time": "2021-12-01T08:14:24.868643Z",
     "start_time": "2021-12-01T08:14:24.853790Z"
    }
   },
   "outputs": [
    {
     "data": {
      "text/plain": [
       "['Hear Disease Model']"
      ]
     },
     "execution_count": 356,
     "metadata": {},
     "output_type": "execute_result"
    }
   ],
   "source": [
    "joblib.dump(model, 'Hear Disease Model')"
   ]
  },
  {
   "cell_type": "code",
   "execution_count": null,
   "id": "8de6ab55",
   "metadata": {},
   "outputs": [],
   "source": []
  }
 ],
 "metadata": {
  "kernelspec": {
   "display_name": "Python 3",
   "language": "python",
   "name": "python3"
  },
  "language_info": {
   "codemirror_mode": {
    "name": "ipython",
    "version": 3
   },
   "file_extension": ".py",
   "mimetype": "text/x-python",
   "name": "python",
   "nbconvert_exporter": "python",
   "pygments_lexer": "ipython3",
   "version": "3.8.8"
  },
  "toc": {
   "base_numbering": 1,
   "nav_menu": {},
   "number_sections": true,
   "sideBar": true,
   "skip_h1_title": false,
   "title_cell": "Table of Contents",
   "title_sidebar": "Contents",
   "toc_cell": false,
   "toc_position": {},
   "toc_section_display": true,
   "toc_window_display": false
  }
 },
 "nbformat": 4,
 "nbformat_minor": 5
}
